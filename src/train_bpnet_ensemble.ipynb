{
 "cells": [
  {
   "cell_type": "markdown",
   "metadata": {
    "colab_type": "text",
    "id": "YRuPISG391E3"
   },
   "source": [
    "### Install dependencies"
   ]
  },
  {
   "cell_type": "code",
   "execution_count": 1,
   "metadata": {
    "colab": {
     "base_uri": "https://localhost:8080/",
     "height": 972
    },
    "colab_type": "code",
    "id": "u_5mSHbhNCVk",
    "outputId": "4aafeefc-1d31-4a75-9c3a-284ff5ba5a63"
   },
   "outputs": [
    {
     "name": "stdout",
     "output_type": "stream",
     "text": [
      "env: HDF5_USE_FILE_LOCKING=FALSE\n",
      "env: WANDB_NOTEBOOK_NAME=deepmr\n"
     ]
    }
   ],
   "source": [
    "%env HDF5_USE_FILE_LOCKING=FALSE\n",
    "# %env WANDB_MODE=dryrun\n",
    "%env WANDB_NOTEBOOK_NAME=deepmr"
   ]
  },
  {
   "cell_type": "code",
   "execution_count": 3,
   "metadata": {
    "colab": {
     "base_uri": "https://localhost:8080/",
     "height": 228
    },
    "colab_type": "code",
    "id": "75gZh6kYpZ01",
    "outputId": "683594b8-3633-4622-a26c-aae5c1699525"
   },
   "outputs": [],
   "source": [
    "import bpnet\n",
    "from bpnet.cli.contrib import ContribFile\n",
    "from bpnet.plot.tracks import plot_tracks, to_neg\n",
    "\n",
    "import os\n",
    "import uuid\n",
    "from datetime import datetime\n",
    "import seaborn as sns\n",
    "import matplotlib.pyplot as plt\n",
    "from IPython.display import clear_output, HTML\n",
    "from pathlib import Path\n",
    "import pandas as pd\n",
    "import numpy as np\n",
    "clear_output()"
   ]
  },
  {
   "cell_type": "markdown",
   "metadata": {
    "colab_type": "text",
    "id": "BUMU-vxK7Qqr"
   },
   "source": [
    "#### Optional: Setup wandb"
   ]
  },
  {
   "cell_type": "code",
   "execution_count": 4,
   "metadata": {
    "colab": {},
    "colab_type": "code",
    "id": "Pay9JFgR3YNi"
   },
   "outputs": [
    {
     "name": "stderr",
     "output_type": "stream",
     "text": [
      "\u001b[34m\u001b[1mwandb\u001b[0m: Currently logged in as: \u001b[33man1lam\u001b[0m (use `wandb login --relogin` to force relogin)\n",
      "\u001b[34m\u001b[1mwandb\u001b[0m: wandb version 0.12.20 is available!  To upgrade, please run:\n",
      "\u001b[34m\u001b[1mwandb\u001b[0m:  $ pip install wandb --upgrade\n"
     ]
    },
    {
     "data": {
      "text/html": [
       "\n",
       "                Tracking run with wandb version 0.10.12<br/>\n",
       "                Syncing run <strong style=\"color:#cdcd00\">still-grass-8</strong> to <a href=\"https://wandb.ai\" target=\"_blank\">Weights & Biases</a> <a href=\"https://docs.wandb.com/integrations/jupyter.html\" target=\"_blank\">(Documentation)</a>.<br/>\n",
       "                Project page: <a href=\"https://wandb.ai/an1lam/deepmr\" target=\"_blank\">https://wandb.ai/an1lam/deepmr</a><br/>\n",
       "                Run page: <a href=\"https://wandb.ai/an1lam/deepmr/runs/3nfu91e0\" target=\"_blank\">https://wandb.ai/an1lam/deepmr/runs/3nfu91e0</a><br/>\n",
       "                Run data is saved locally in <code>/home/ubuntu/dev/an1lam/deepmr/src/wandb/run-20220704_184655-3nfu91e0</code><br/><br/>\n",
       "            "
      ],
      "text/plain": [
       "<IPython.core.display.HTML object>"
      ]
     },
     "metadata": {},
     "output_type": "display_data"
    },
    {
     "data": {
      "text/html": [
       "<h1>Run(3nfu91e0)</h1><p></p><iframe src=\"https://wandb.ai/an1lam/deepmr/runs/3nfu91e0\" style=\"border:none;width:100%;height:400px\"></iframe>"
      ],
      "text/plain": [
       "<wandb.sdk.wandb_run.Run at 0x7feffe60d048>"
      ]
     },
     "execution_count": 4,
     "metadata": {},
     "output_type": "execute_result"
    }
   ],
   "source": [
    "import wandb\n",
    "\n",
    "wandb.init(project=\"deepmr\", entity=\"an1lam\")"
   ]
  },
  {
   "cell_type": "code",
   "execution_count": 5,
   "metadata": {
    "colab": {
     "base_uri": "https://localhost:8080/",
     "height": 680
    },
    "colab_type": "code",
    "id": "4LnaqSM_LM-M",
    "outputId": "aa784c6f-bc70-450d-db7e-3b5e5a677f8b"
   },
   "outputs": [
    {
     "data": {
      "text/plain": [
       "'/home/ubuntu/dev/an1lam/deepmr/dat/res-bpnet-training-2022-06-18-14-11-05'"
      ]
     },
     "execution_count": 5,
     "metadata": {},
     "output_type": "execute_result"
    }
   ],
   "source": [
    "# config variables\n",
    "n_reps = 5\n",
    "\n",
    "# file paths\n",
    "config_dir = Path('./bpnet/') \n",
    "\n",
    "model_config_fname = 'ChIP-nexus-default.gin'\n",
    "data_config_fname = 'ChIP-nexus.dataspec.yml'\n",
    "\n",
    "timestamp = datetime.now().strftime('%Y-%m-%d-%H-%M-%S')\n",
    "project_dir = '/home/ubuntu/dev/an1lam/deepmr/'\n",
    "data_dir = os.path.join(project_dir, 'dat')\n",
    "output_dir = \"/home/ubuntu/dev/an1lam/deepmr/dat/res-bpnet-training-2022-06-18-14-11-05\"\n",
    "# output_dir = os.path.join(data_dir, f'res-bpnet-training-{timestamp}')\n",
    "output_dir"
   ]
  },
  {
   "cell_type": "code",
   "execution_count": 6,
   "metadata": {},
   "outputs": [],
   "source": [
    "os.makedirs(output_dir, exist_ok=True)\n",
    "os.makedirs(os.path.join(output_dir, 'output_ensemble'), exist_ok=True)"
   ]
  },
  {
   "cell_type": "code",
   "execution_count": 7,
   "metadata": {},
   "outputs": [
    {
     "name": "stdout",
     "output_type": "stream",
     "text": [
      "task_specs:\r\n",
      "  Oct4:\r\n",
      "    tracks:\r\n",
      "    - /home/ubuntu/dev/an1lam/deepmr/dat/bpnet-manuscript-data/data/chip-nexus/Oct4/counts.pos.bw\r\n",
      "    - /home/ubuntu/dev/an1lam/deepmr/dat/bpnet-manuscript-data/data/chip-nexus/Oct4/counts.neg.bw\r\n",
      "    peaks: /home/ubuntu/dev/an1lam/deepmr/dat/bpnet-manuscript-data/data/chip-nexus/Oct4/idr-optimal-set.summit.bed.gz\r\n",
      "  Sox2:\r\n",
      "    tracks:\r\n",
      "    - /home/ubuntu/dev/an1lam/deepmr/dat/bpnet-manuscript-data/data/chip-nexus/Sox2/counts.pos.bw\r\n",
      "    - /home/ubuntu/dev/an1lam/deepmr/dat/bpnet-manuscript-data/data/chip-nexus/Sox2/counts.neg.bw\r\n",
      "    peaks: /home/ubuntu/dev/an1lam/deepmr/dat/bpnet-manuscript-data/data/chip-nexus/Sox2/idr-optimal-set.summit.bed.gz\r\n",
      "  Nanog:\r\n",
      "    tracks:\r\n",
      "    - /home/ubuntu/dev/an1lam/deepmr/dat/bpnet-manuscript-data/data/chip-nexus/Nanog/counts.pos.bw\r\n",
      "    - /home/ubuntu/dev/an1lam/deepmr/dat/bpnet-manuscript-data/data/chip-nexus/Nanog/counts.neg.bw\r\n",
      "    peaks: /home/ubuntu/dev/an1lam/deepmr/dat/bpnet-manuscript-data/data/chip-nexus/Nanog/idr-optimal-set.summit.bed.gz\r\n",
      "  Klf4:\r\n",
      "    tracks:\r\n",
      "    - /home/ubuntu/dev/an1lam/deepmr/dat/bpnet-manuscript-data/data/chip-nexus/Klf4/counts.pos.bw\r\n",
      "    - /home/ubuntu/dev/an1lam/deepmr/dat/bpnet-manuscript-data/data/chip-nexus/Klf4/counts.neg.bw\r\n",
      "    peaks: /home/ubuntu/dev/an1lam/deepmr/dat/bpnet-manuscript-data/data/chip-nexus/Klf4/idr-optimal-set.summit.bed.gz\r\n",
      "\r\n",
      "bias_specs:\r\n",
      "  input:\r\n",
      "    tracks:\r\n",
      "    - /home/ubuntu/dev/an1lam/deepmr/dat/bpnet-manuscript-data/data/chip-nexus/patchcap/counts.pos.bw\r\n",
      "    - /home/ubuntu/dev/an1lam/deepmr/dat/bpnet-manuscript-data/data/chip-nexus/patchcap/counts.neg.bw\r\n",
      "    tasks:\r\n",
      "      - Oct4\r\n",
      "      - Sox2\r\n",
      "      - Nanog\r\n",
      "      - Klf4\r\n",
      "\r\n",
      "fasta_file: /home/ubuntu/dev/an1lam/deepmr/dat/bpnet-manuscript-data/data/mm10_no_alt_analysis_set_ENCODE.fasta\r\n"
     ]
    }
   ],
   "source": [
    "!cat {config_dir}/{data_config_fname}"
   ]
  },
  {
   "cell_type": "markdown",
   "metadata": {
    "colab_type": "text",
    "id": "YIOVdXQ9_M2q"
   },
   "source": [
    "### Data stats"
   ]
  },
  {
   "cell_type": "code",
   "execution_count": 8,
   "metadata": {
    "colab": {
     "base_uri": "https://localhost:8080/",
     "height": 102
    },
    "colab_type": "code",
    "id": "iB2duLzl9LcR",
    "outputId": "c19db79d-1137-49e2-ef16-d06246d771c4"
   },
   "outputs": [
    {
     "name": "stdout",
     "output_type": "stream",
     "text": [
      "chr1\r\n",
      "chr10\r\n",
      "chr11\r\n",
      "chr12\r\n",
      "chr13\r\n",
      "chr14\r\n",
      "chr15\r\n",
      "chr16\r\n",
      "chr17\r\n",
      "chr18\r\n",
      "chr19\r\n",
      "chr2\r\n",
      "chr3\r\n",
      "chr4\r\n",
      "chr5\r\n",
      "chr6\r\n",
      "chr7\r\n",
      "chr8\r\n",
      "chr9\r\n",
      "chrX\r\n",
      "chrY\r\n"
     ]
    }
   ],
   "source": [
    "# chromsomome names of differnet peaks\n",
    "!zcat {project_dir}dat/bpnet-manuscript-data/data/chip-nexus/Sox2/idr-optimal-set.summit.bed.gz \\\n",
    "    | cut -f 1 | sort -u"
   ]
  },
  {
   "cell_type": "markdown",
   "metadata": {
    "colab_type": "text",
    "id": "Ok51Hx8C9rJ2"
   },
   "source": [
    "Each task (or TF) can specify a set of peaks associated with it. Here are the number of peaks per TF we will use in this tutorial:"
   ]
  },
  {
   "cell_type": "code",
   "execution_count": 9,
   "metadata": {
    "colab": {
     "base_uri": "https://localhost:8080/",
     "height": 119
    },
    "colab_type": "code",
    "id": "WU5wXNcS-BNn",
    "outputId": "db69a716-852b-4f31-8fcd-75f59e36eda2"
   },
   "outputs": [
    {
     "name": "stdout",
     "output_type": "stream",
     "text": [
      "Oct4\n",
      "25849\n",
      "Sox2\n",
      "10999\n",
      "Nanog\n",
      "56459\n",
      "Klf4\n",
      "57601\n"
     ]
    }
   ],
   "source": [
    "tasks = ['Oct4', 'Sox2', 'Nanog', 'Klf4']\n",
    "\n",
    "# number of peaks per task\n",
    "for task in tasks:\n",
    "    print(task)\n",
    "    !zcat {data_dir}/bpnet-manuscript-data/data/chip-nexus/{task}/idr-optimal-set.summit.bed.gz | wc -l"
   ]
  },
  {
   "cell_type": "markdown",
   "metadata": {
    "colab_type": "text",
    "id": "zphiFpBT1-5G"
   },
   "source": [
    "## 2. Train the model"
   ]
  },
  {
   "cell_type": "markdown",
   "metadata": {
    "colab_type": "text",
    "id": "ojWuf4Jg1_pM"
   },
   "source": [
    "Having specified `dataspec.yml`, we are now ready to train the model with \n",
    "\n",
    "```\n",
    "bpnet train <dataspec.yml> <output dir> [optional flags]`\n",
    "```"
   ]
  },
  {
   "cell_type": "code",
   "execution_count": 10,
   "metadata": {
    "colab": {
     "base_uri": "https://localhost:8080/",
     "height": 170
    },
    "colab_type": "code",
    "id": "3xFw1K-gLncD",
    "outputId": "884c5cbf-72b7-4bfc-c389-33d17ed9c07c"
   },
   "outputs": [
    {
     "name": "stdout",
     "output_type": "stream",
     "text": [
      "b_loss_weight = 0\r\n",
      "c_loss_weight = 10\r\n",
      "p_loss_weight = 1\r\n",
      "filters = 64\r\n",
      "tconv_kernel_size = 25\r\n",
      "lr = 0.004\r\n",
      "n_dil_layers = 9\r\n",
      "train.batch_size = 128\r\n",
      "merge_profile_reg = False\r\n",
      "dataspec = 'ChIP-nexus.dataspec.yml'\r\n",
      "\r\n",
      "batchnorm = False\r\n",
      "\r\n",
      "padding = 'same'\r\n",
      "seq_width = 1000\r\n",
      "\r\n",
      "tasks = ['Oct4', 'Sox2', 'Nanog', 'Klf4']\r\n"
     ]
    }
   ],
   "source": [
    "!cat {config_dir}/{model_config_fname} \n",
    "# NOTE: test_chr will be also excluded similar to 'exclude_chr'"
   ]
  },
  {
   "cell_type": "markdown",
   "metadata": {
    "colab_type": "text",
    "id": "IR51oX6LAwW9"
   },
   "source": [
    "Have a look at the original gin file of bpnet9 here: https://github.com/kundajelab/bpnet/blob/master/bpnet/premade/bpnet9-ginspec.gin. For more information on using gin files see <https://github.com/google/gin-config>. "
   ]
  },
  {
   "cell_type": "markdown",
   "metadata": {
    "colab_type": "text",
    "id": "FoTI8PJKLMZ9"
   },
   "source": [
    "To track model training and evaluation, we will use [wandb](http://wandb.com/) by adding `--wandb=avsec/bpnet-demo` to `bpnet train`. You can navigate to https://app.wandb.ai/avsec/bpnet-demo to see the training progress."
   ]
  },
  {
   "cell_type": "markdown",
   "metadata": {
    "colab_type": "text",
    "id": "EcS0857OAIoy"
   },
   "source": [
    "Let's train!"
   ]
  },
  {
   "cell_type": "code",
   "execution_count": 11,
   "metadata": {
    "colab": {},
    "colab_type": "code",
    "id": "PyaAb_VqCWt0"
   },
   "outputs": [],
   "source": [
    "# setup all the file paths\n",
    "example_model_dir = os.path.join(output_dir, 'output_ensemble', '0')"
   ]
  },
  {
   "cell_type": "code",
   "execution_count": 12,
   "metadata": {
    "colab": {
     "base_uri": "https://localhost:8080/",
     "height": 1000
    },
    "colab_type": "code",
    "id": "yglTmu3FrtpB",
    "outputId": "234b17b8-0e5d-4dbe-aa7e-177ef15efad5",
    "scrolled": true
   },
   "outputs": [
    {
     "name": "stdout",
     "output_type": "stream",
     "text": [
      "Using TensorFlow backend.\n",
      "WARNING:tensorflow:From /home/ubuntu/anaconda3/envs/deepmr-bpnet3/lib/python3.6/site-packages/keras/optimizers.py:790: The name tf.train.Optimizer is deprecated. Please use tf.compat.v1.train.Optimizer instead.\n",
      "\n",
      "2022-07-04 18:47:02,067 [WARNING] From /home/ubuntu/anaconda3/envs/deepmr-bpnet3/lib/python3.6/site-packages/keras/optimizers.py:790: The name tf.train.Optimizer is deprecated. Please use tf.compat.v1.train.Optimizer instead.\n",
      "\n",
      "2022-07-04 18:47:02,794 [INFO] NumExpr defaulting to 4 threads.\n",
      "/home/ubuntu/src/bpnet/bpnet/plot/heatmaps.py:6: MatplotlibDeprecationWarning: \n",
      "The mpl_toolkits.axes_grid1.colorbar module was deprecated in Matplotlib 3.2 and will be removed two minor releases later. Use matplotlib.colorbar instead.\n",
      "  from mpl_toolkits.axes_grid1.colorbar import colorbar\n",
      "\u001b[32mINFO\u001b[0m \u001b[44m[07-04 18:47:04]\u001b[0m Using gpu: 0, memory fraction: 0.45\u001b[0m\n",
      "2022-07-04 18:47:04.551078: I tensorflow/core/platform/cpu_feature_guard.cc:142] Your CPU supports instructions that this TensorFlow binary was not compiled to use: AVX2 FMA\n",
      "2022-07-04 18:47:04.680091: I tensorflow/core/platform/profile_utils/cpu_utils.cc:94] CPU Frequency: 2300000000 Hz\n",
      "2022-07-04 18:47:04.682003: I tensorflow/compiler/xla/service/service.cc:168] XLA service 0x560c80152450 initialized for platform Host (this does not guarantee that XLA will be used). Devices:\n",
      "2022-07-04 18:47:04.682043: I tensorflow/compiler/xla/service/service.cc:176]   StreamExecutor device (0): Host, Default Version\n",
      "2022-07-04 18:47:05.044256: I tensorflow/stream_executor/platform/default/dso_loader.cc:44] Successfully opened dynamic library libcuda.so.1\n",
      "2022-07-04 18:47:06.002558: I tensorflow/stream_executor/cuda/cuda_gpu_executor.cc:983] successful NUMA node read from SysFS had negative value (-1), but there must be at least one NUMA node, so returning NUMA node zero\n",
      "2022-07-04 18:47:06.003510: I tensorflow/compiler/xla/service/service.cc:168] XLA service 0x560c801549e0 initialized for platform CUDA (this does not guarantee that XLA will be used). Devices:\n",
      "2022-07-04 18:47:06.003555: I tensorflow/compiler/xla/service/service.cc:176]   StreamExecutor device (0): Tesla K80, Compute Capability 3.7\n",
      "2022-07-04 18:47:06.003891: I tensorflow/stream_executor/cuda/cuda_gpu_executor.cc:983] successful NUMA node read from SysFS had negative value (-1), but there must be at least one NUMA node, so returning NUMA node zero\n",
      "2022-07-04 18:47:06.004648: I tensorflow/core/common_runtime/gpu/gpu_device.cc:1618] Found device 0 with properties: \n",
      "name: Tesla K80 major: 3 minor: 7 memoryClockRate(GHz): 0.8235\n",
      "pciBusID: 0000:00:1e.0\n",
      "2022-07-04 18:47:06.120105: I tensorflow/stream_executor/platform/default/dso_loader.cc:44] Successfully opened dynamic library libcudart.so.10.0\n",
      "2022-07-04 18:47:06.510724: I tensorflow/stream_executor/platform/default/dso_loader.cc:44] Successfully opened dynamic library libcublas.so.10.0\n",
      "2022-07-04 18:47:07.074102: I tensorflow/stream_executor/platform/default/dso_loader.cc:44] Successfully opened dynamic library libcufft.so.10.0\n",
      "2022-07-04 18:47:07.298609: I tensorflow/stream_executor/platform/default/dso_loader.cc:44] Successfully opened dynamic library libcurand.so.10.0\n",
      "2022-07-04 18:47:08.086740: I tensorflow/stream_executor/platform/default/dso_loader.cc:44] Successfully opened dynamic library libcusolver.so.10.0\n",
      "2022-07-04 18:47:08.636350: I tensorflow/stream_executor/platform/default/dso_loader.cc:44] Successfully opened dynamic library libcusparse.so.10.0\n",
      "2022-07-04 18:47:10.783444: I tensorflow/stream_executor/platform/default/dso_loader.cc:44] Successfully opened dynamic library libcudnn.so.7\n",
      "2022-07-04 18:47:10.783820: I tensorflow/stream_executor/cuda/cuda_gpu_executor.cc:983] successful NUMA node read from SysFS had negative value (-1), but there must be at least one NUMA node, so returning NUMA node zero\n",
      "2022-07-04 18:47:10.784719: I tensorflow/stream_executor/cuda/cuda_gpu_executor.cc:983] successful NUMA node read from SysFS had negative value (-1), but there must be at least one NUMA node, so returning NUMA node zero\n",
      "2022-07-04 18:47:10.785444: I tensorflow/core/common_runtime/gpu/gpu_device.cc:1746] Adding visible gpu devices: 0\n",
      "2022-07-04 18:47:10.786744: I tensorflow/stream_executor/platform/default/dso_loader.cc:44] Successfully opened dynamic library libcudart.so.10.0\n",
      "2022-07-04 18:47:10.789605: I tensorflow/core/common_runtime/gpu/gpu_device.cc:1159] Device interconnect StreamExecutor with strength 1 edge matrix:\n",
      "2022-07-04 18:47:10.789639: I tensorflow/core/common_runtime/gpu/gpu_device.cc:1165]      0 \n",
      "2022-07-04 18:47:10.789662: I tensorflow/core/common_runtime/gpu/gpu_device.cc:1178] 0:   N \n",
      "2022-07-04 18:47:10.790980: I tensorflow/stream_executor/cuda/cuda_gpu_executor.cc:983] successful NUMA node read from SysFS had negative value (-1), but there must be at least one NUMA node, so returning NUMA node zero\n",
      "2022-07-04 18:47:10.791815: I tensorflow/stream_executor/cuda/cuda_gpu_executor.cc:983] successful NUMA node read from SysFS had negative value (-1), but there must be at least one NUMA node, so returning NUMA node zero\n",
      "2022-07-04 18:47:10.792573: I tensorflow/core/common_runtime/gpu/gpu_device.cc:1304] Created TensorFlow device (/job:localhost/replica:0/task:0/device:GPU:0 with 5148 MB memory) -> physical GPU (device: 0, name: Tesla K80, pci bus id: 0000:00:1e.0, compute capability: 3.7)\n",
      "\u001b[32mINFO\u001b[0m \u001b[44m[07-04 18:47:10]\u001b[0m Using the following premade configuration: bpnet9\u001b[0m\n",
      "\u001b[32mINFO\u001b[0m \u001b[44m[07-04 18:47:10]\u001b[0m Using the following config.gin files: ChIP-nexus-default.gin\u001b[0m\n",
      "TF-MoDISco is using the TensorFlow backend.\n",
      "Used config: ----------------------------------------\n",
      "import bpnet\n",
      "import bpnet.configurables as bpnet2\n",
      "import bpnet.datasets as bpnet3\n",
      "import bpnet.heads as bpnet4\n",
      "import bpnet.layers as bpnet5\n",
      "import bpnet.losses as bpnet6\n",
      "import bpnet.metrics as bpnet7\n",
      "import bpnet.models as bpnet8\n",
      "import bpnet.seqmodel as bpnet9\n",
      "import bpnet.trainers as bpnet10\n",
      "\n",
      "# Macros:\n",
      "# ==============================================================================\n",
      "augment_interval = True\n",
      "batchnorm = False\n",
      "dataspec = 'ChIP-nexus.dataspec.yml'\n",
      "exclude_chr = ['chrX', 'chrY']\n",
      "filters = 64\n",
      "lambda = 10\n",
      "lr = 0.004\n",
      "n_bias_tracks = 2\n",
      "n_dil_layers = 9\n",
      "seq_width = 1000\n",
      "tasks = ['Oct4', 'Sox2', 'Nanog', 'Klf4']\n",
      "tconv_kernel_size = 25\n",
      "test_chr = ['chr1', 'chr8', 'chr9']\n",
      "tracks_per_task = 2\n",
      "use_bias = True\n",
      "valid_chr = ['chr2', 'chr3', 'chr4']\n",
      "\n",
      "# Parameters for Adam:\n",
      "# ==============================================================================\n",
      "Adam.amsgrad = False\n",
      "Adam.beta_1 = 0.9\n",
      "Adam.beta_2 = 0.999\n",
      "Adam.decay = 0.0\n",
      "Adam.epsilon = None\n",
      "Adam.lr = %lr\n",
      "\n",
      "# Parameters for bpnet_data:\n",
      "# ==============================================================================\n",
      "bpnet_data.augment_interval = %augment_interval\n",
      "bpnet_data.dataspec = %dataspec\n",
      "bpnet_data.exclude_chr = %exclude_chr\n",
      "bpnet_data.include_metadata = False\n",
      "bpnet_data.interval_augmentation_shift = 200\n",
      "bpnet_data.intervals_file = None\n",
      "bpnet_data.intervals_format = 'bed'\n",
      "bpnet_data.peak_width = %seq_width\n",
      "bpnet_data.seq_width = %seq_width\n",
      "bpnet_data.shuffle = True\n",
      "bpnet_data.tasks = %tasks\n",
      "bpnet_data.test_chr = %test_chr\n",
      "bpnet_data.track_transform = None\n",
      "bpnet_data.valid_chr = %valid_chr\n",
      "\n",
      "# Parameters for ClassificationMetrics:\n",
      "# ==============================================================================\n",
      "# None.\n",
      "\n",
      "# Parameters for DeConv1D:\n",
      "# ==============================================================================\n",
      "DeConv1D.batchnorm = %batchnorm\n",
      "DeConv1D.filters = %filters\n",
      "DeConv1D.n_hidden = 0\n",
      "DeConv1D.n_tasks = %tracks_per_task\n",
      "DeConv1D.padding = 'same'\n",
      "DeConv1D.tconv_kernel_size = %tconv_kernel_size\n",
      "\n",
      "# Parameters for DilatedConv1D:\n",
      "# ==============================================================================\n",
      "DilatedConv1D.add_pointwise = False\n",
      "DilatedConv1D.batchnorm = %batchnorm\n",
      "DilatedConv1D.conv1_kernel_size = 25\n",
      "DilatedConv1D.filters = %filters\n",
      "DilatedConv1D.n_dil_layers = %n_dil_layers\n",
      "DilatedConv1D.padding = 'same'\n",
      "DilatedConv1D.skip_type = 'residual'\n",
      "\n",
      "# Parameters for GlobalAvgPoolFCN:\n",
      "# ==============================================================================\n",
      "GlobalAvgPoolFCN.batchnorm = %batchnorm\n",
      "GlobalAvgPoolFCN.dropout = 0\n",
      "GlobalAvgPoolFCN.dropout_hidden = 0\n",
      "GlobalAvgPoolFCN.hidden = None\n",
      "GlobalAvgPoolFCN.n_splines = 0\n",
      "GlobalAvgPoolFCN.n_tasks = %tracks_per_task\n",
      "\n",
      "# Parameters for IntervalAugmentor:\n",
      "# ==============================================================================\n",
      "# None.\n",
      "\n",
      "# Parameters for MetricsOrderedDict:\n",
      "# ==============================================================================\n",
      "# None.\n",
      "\n",
      "# Parameters for MovingAverages:\n",
      "# ==============================================================================\n",
      "MovingAverages.window_sizes = [1, 50]\n",
      "\n",
      "# Parameters for multinomial_nll:\n",
      "# ==============================================================================\n",
      "# None.\n",
      "\n",
      "# Parameters for PeakPredictionProfileMetric:\n",
      "# ==============================================================================\n",
      "PeakPredictionProfileMetric.binsizes = [1, 10]\n",
      "PeakPredictionProfileMetric.neg_max_threshold = 0.005\n",
      "PeakPredictionProfileMetric.pos_min_threshold = 0.015\n",
      "PeakPredictionProfileMetric.required_min_pos_counts = 2.5\n",
      "\n",
      "# Parameters for ProfileHead:\n",
      "# ==============================================================================\n",
      "ProfileHead.activation = None\n",
      "ProfileHead.bias_input = 'bias/{task}/profile'\n",
      "ProfileHead.bias_net = @MovingAverages()\n",
      "ProfileHead.bias_shape = (None, %n_bias_tracks)\n",
      "ProfileHead.loss = @multinomial_nll\n",
      "ProfileHead.loss_weight = 1\n",
      "ProfileHead.metric = @PeakPredictionProfileMetric()\n",
      "ProfileHead.net = @DeConv1D()\n",
      "ProfileHead.postproc_fn = @softmax\n",
      "ProfileHead.target_name = '{task}/profile'\n",
      "ProfileHead.use_bias = %use_bias\n",
      "\n",
      "# Parameters for RegressionMetrics:\n",
      "# ==============================================================================\n",
      "# None.\n",
      "\n",
      "# Parameters for report_template:\n",
      "# ==============================================================================\n",
      "report_template.name = 'evaluate.ipynb'\n",
      "report_template.raise_error = True\n",
      "\n",
      "# Parameters for ScalarHead:\n",
      "# ==============================================================================\n",
      "ScalarHead.activation = None\n",
      "ScalarHead.bias_input = 'bias/{task}/counts'\n",
      "ScalarHead.bias_net = None\n",
      "ScalarHead.bias_shape = (%n_bias_tracks,)\n",
      "ScalarHead.loss = 'mse'\n",
      "ScalarHead.loss_weight = %lambda\n",
      "ScalarHead.metric = @RegressionMetrics()\n",
      "ScalarHead.net = @GlobalAvgPoolFCN()\n",
      "ScalarHead.postproc_fn = None\n",
      "ScalarHead.target_name = '{task}/counts'\n",
      "ScalarHead.use_bias = %use_bias\n",
      "\n",
      "# Parameters for SeqModel:\n",
      "# ==============================================================================\n",
      "SeqModel.body = @DilatedConv1D()\n",
      "SeqModel.heads = [@ProfileHead(), @ScalarHead()]\n",
      "SeqModel.input_name = 'seq'\n",
      "SeqModel.input_shape = None\n",
      "SeqModel.optimizer = @keras.optimizers.Adam()\n",
      "SeqModel.seqlen = %seq_width\n",
      "SeqModel.tasks = %tasks\n",
      "\n",
      "# Parameters for StrandedProfile:\n",
      "# ==============================================================================\n",
      "StrandedProfile.excl_chromosomes = None\n",
      "StrandedProfile.include_classes = False\n",
      "\n",
      "# Parameters for train:\n",
      "# ==============================================================================\n",
      "train.batch_size = 128\n",
      "train.data = @bpnet_data()\n",
      "train.early_stop_patience = 5\n",
      "train.epochs = 20\n",
      "train.eval_metric = None\n",
      "train.eval_report = @report_template()\n",
      "train.eval_skip = []\n",
      "train.eval_train = False\n",
      "train.model = @SeqModel()\n",
      "train.seed = 4\n",
      "train.stratified_sampler_p = None\n",
      "train.tensorboard = True\n",
      "train.train_batch_sampler = None\n",
      "train.train_epoch_frac = 1.0\n",
      "train.train_samples_per_epoch = None\n",
      "train.valid_epoch_frac = 1.0\n",
      "train.validation_samples = None\n",
      "\n",
      "----------------------------------------------------\n",
      "/home/ubuntu/src/bpnet/bpnet/cli/train.py:195: YAMLLoadWarning: calling yaml.load() without Loader=... is deprecated, as the default Loader is unsafe. Please read https://msg.pyyaml.org/load for full details.\n",
      "  gin_macro_dict = yaml.load(\"\\n\".join(macros).replace(\"@\", \"\").replace(\" = %\", \": \").replace(\" = \", \": \"))\n",
      "/home/ubuntu/src/bpnet/bpnet/cli/train.py:208: YAMLLoadWarning: calling yaml.load() without Loader=... is deprecated, as the default Loader is unsafe. Please read https://msg.pyyaml.org/load for full details.\n",
      "  .replace(\" = \", \": \"))\n"
     ]
    },
    {
     "name": "stdout",
     "output_type": "stream",
     "text": [
      "Epoch 1/20\n",
      "2022-07-04 18:48:31.855315: I tensorflow/stream_executor/platform/default/dso_loader.cc:44] Successfully opened dynamic library libcublas.so.10.0\n",
      "2022-07-04 18:48:37.980994: I tensorflow/stream_executor/platform/default/dso_loader.cc:44] Successfully opened dynamic library libcudnn.so.7\n",
      "710/710 [==============================] - 308s 434ms/step - loss: 3452.2575 - Oct4/profile_loss: 855.8514 - Oct4/counts_loss: 1.0633 - Sox2/profile_loss: 467.3366 - Sox2/counts_loss: 0.3965 - Nanog/profile_loss: 1146.4181 - Nanog/counts_loss: 1.3698 - Klf4/profile_loss: 946.3728 - Klf4/counts_loss: 0.7983 - val_loss: 3343.9874 - val_Oct4/profile_loss: 830.7074 - val_Oct4/counts_loss: 0.7245 - val_Sox2/profile_loss: 465.3239 - val_Sox2/counts_loss: 0.2875 - val_Nanog/profile_loss: 1105.5917 - val_Nanog/counts_loss: 0.9673 - val_Klf4/profile_loss: 916.5757 - val_Klf4/counts_loss: 0.5995\n",
      "Epoch 2/20\n",
      "710/710 [==============================] - 272s 383ms/step - loss: 3268.9073 - Oct4/profile_loss: 821.9162 - Oct4/counts_loss: 0.5167 - Sox2/profile_loss: 456.0798 - Sox2/counts_loss: 0.2790 - Nanog/profile_loss: 1057.4255 - Nanog/counts_loss: 0.8337 - Klf4/profile_loss: 911.6424 - Klf4/counts_loss: 0.5549 - val_loss: 3278.2799 - val_Oct4/profile_loss: 823.0530 - val_Oct4/counts_loss: 0.4066 - val_Sox2/profile_loss: 462.1220 - val_Sox2/counts_loss: 0.2477 - val_Nanog/profile_loss: 1070.5459 - val_Nanog/counts_loss: 0.7196 - val_Klf4/profile_loss: 903.7810 - val_Klf4/counts_loss: 0.5040\n",
      "Epoch 3/20\n",
      "710/710 [==============================] - 272s 383ms/step - loss: 3221.1246 - Oct4/profile_loss: 817.2460 - Oct4/counts_loss: 0.3866 - Sox2/profile_loss: 453.8135 - Sox2/counts_loss: 0.2503 - Nanog/profile_loss: 1034.1169 - Nanog/counts_loss: 0.7233 - Klf4/profile_loss: 897.3636 - Klf4/counts_loss: 0.4982 - val_loss: 3237.0601 - val_Oct4/profile_loss: 818.7214 - val_Oct4/counts_loss: 0.3451 - val_Sox2/profile_loss: 460.1333 - val_Sox2/counts_loss: 0.2306 - val_Nanog/profile_loss: 1051.7154 - val_Nanog/counts_loss: 0.6857 - val_Klf4/profile_loss: 889.3738 - val_Klf4/counts_loss: 0.4502\n",
      "Epoch 4/20\n",
      "710/710 [==============================] - 272s 383ms/step - loss: 3191.1095 - Oct4/profile_loss: 812.4364 - Oct4/counts_loss: 0.3477 - Sox2/profile_loss: 452.1277 - Sox2/counts_loss: 0.2385 - Nanog/profile_loss: 1019.8019 - Nanog/counts_loss: 0.6821 - Klf4/profile_loss: 889.3467 - Klf4/counts_loss: 0.4713 - val_loss: 3226.5582 - val_Oct4/profile_loss: 816.4613 - val_Oct4/counts_loss: 0.3333 - val_Sox2/profile_loss: 459.5312 - val_Sox2/counts_loss: 0.2559 - val_Nanog/profile_loss: 1045.9840 - val_Nanog/counts_loss: 0.6545 - val_Klf4/profile_loss: 887.6254 - val_Klf4/counts_loss: 0.4520\n",
      "Epoch 5/20\n",
      "710/710 [==============================] - 275s 387ms/step - loss: 3176.0004 - Oct4/profile_loss: 808.8508 - Oct4/counts_loss: 0.3322 - Sox2/profile_loss: 451.1989 - Sox2/counts_loss: 0.2308 - Nanog/profile_loss: 1012.3675 - Nanog/counts_loss: 0.6590 - Klf4/profile_loss: 886.8753 - Klf4/counts_loss: 0.4488 - val_loss: 3214.0076 - val_Oct4/profile_loss: 814.1318 - val_Oct4/counts_loss: 0.3295 - val_Sox2/profile_loss: 458.7350 - val_Sox2/counts_loss: 0.2396 - val_Nanog/profile_loss: 1037.6553 - val_Nanog/counts_loss: 0.7415 - val_Klf4/profile_loss: 886.1656 - val_Klf4/counts_loss: 0.4214\n",
      "Epoch 6/20\n",
      "710/710 [==============================] - 273s 384ms/step - loss: 3163.9527 - Oct4/profile_loss: 807.1273 - Oct4/counts_loss: 0.3215 - Sox2/profile_loss: 450.6181 - Sox2/counts_loss: 0.2241 - Nanog/profile_loss: 1005.3094 - Nanog/counts_loss: 0.6331 - Klf4/profile_loss: 884.6154 - Klf4/counts_loss: 0.4495 - val_loss: 3205.7252 - val_Oct4/profile_loss: 813.4511 - val_Oct4/counts_loss: 0.2987 - val_Sox2/profile_loss: 457.9927 - val_Sox2/counts_loss: 0.2142 - val_Nanog/profile_loss: 1034.6968 - val_Nanog/counts_loss: 0.6107 - val_Klf4/profile_loss: 883.7012 - val_Klf4/counts_loss: 0.4648\n",
      "Epoch 7/20\n",
      "710/710 [==============================] - 275s 387ms/step - loss: 3157.8123 - Oct4/profile_loss: 805.7599 - Oct4/counts_loss: 0.3126 - Sox2/profile_loss: 450.3258 - Sox2/counts_loss: 0.2208 - Nanog/profile_loss: 1001.6116 - Nanog/counts_loss: 0.6233 - Klf4/profile_loss: 884.1646 - Klf4/counts_loss: 0.4382 - val_loss: 3203.1408 - val_Oct4/profile_loss: 813.0343 - val_Oct4/counts_loss: 0.2908 - val_Sox2/profile_loss: 458.5056 - val_Sox2/counts_loss: 0.2040 - val_Nanog/profile_loss: 1030.7466 - val_Nanog/counts_loss: 0.5935 - val_Klf4/profile_loss: 884.8852 - val_Klf4/counts_loss: 0.5086\n",
      "Epoch 8/20\n",
      "710/710 [==============================] - 275s 388ms/step - loss: 3146.6695 - Oct4/profile_loss: 802.4204 - Oct4/counts_loss: 0.3023 - Sox2/profile_loss: 449.7456 - Sox2/counts_loss: 0.2180 - Nanog/profile_loss: 996.1544 - Nanog/counts_loss: 0.6174 - Klf4/profile_loss: 882.6664 - Klf4/counts_loss: 0.4306 - val_loss: 3189.8583 - val_Oct4/profile_loss: 809.6409 - val_Oct4/counts_loss: 0.2857 - val_Sox2/profile_loss: 457.8057 - val_Sox2/counts_loss: 0.2099 - val_Nanog/profile_loss: 1023.4553 - val_Nanog/counts_loss: 0.6423 - val_Klf4/profile_loss: 883.3337 - val_Klf4/counts_loss: 0.4243ounts_loss: 0.3029 - Sox2/profile_loss: 449.8658 - Sox2/counts_loss: 0.2185 - Nanog/profile_loss: 996\n",
      "Epoch 9/20\n",
      "710/710 [==============================] - 274s 385ms/step - loss: 3142.2816 - Oct4/profile_loss: 801.0516 - Oct4/counts_loss: 0.2928 - Sox2/profile_loss: 449.6490 - Sox2/counts_loss: 0.2142 - Nanog/profile_loss: 994.2028 - Nanog/counts_loss: 0.6064 - Klf4/profile_loss: 882.0134 - Klf4/counts_loss: 0.4231 - val_loss: 3189.2709 - val_Oct4/profile_loss: 810.6413 - val_Oct4/counts_loss: 0.3084 - val_Sox2/profile_loss: 457.7686 - val_Sox2/counts_loss: 0.2282 - val_Nanog/profile_loss: 1022.8162 - val_Nanog/counts_loss: 0.6090 - val_Klf4/profile_loss: 882.3316 - val_Klf4/counts_loss: 0.4258\n",
      "Epoch 10/20\n",
      "710/710 [==============================] - 274s 386ms/step - loss: 3139.7583 - Oct4/profile_loss: 800.1691 - Oct4/counts_loss: 0.2878 - Sox2/profile_loss: 449.5858 - Sox2/counts_loss: 0.2119 - Nanog/profile_loss: 992.9640 - Nanog/counts_loss: 0.5954 - Klf4/profile_loss: 881.8668 - Klf4/counts_loss: 0.4223 - val_loss: 3183.9942 - val_Oct4/profile_loss: 808.3220 - val_Oct4/counts_loss: 0.2867 - val_Sox2/profile_loss: 457.3866 - val_Sox2/counts_loss: 0.2123 - val_Nanog/profile_loss: 1021.1236 - val_Nanog/counts_loss: 0.5734 - val_Klf4/profile_loss: 882.4231 - val_Klf4/counts_loss: 0.4015\n",
      "Epoch 11/20\n",
      "710/710 [==============================] - 272s 384ms/step - loss: 3134.6930 - Oct4/profile_loss: 799.4810 - Oct4/counts_loss: 0.2812 - Sox2/profile_loss: 449.3355 - Sox2/counts_loss: 0.2091 - Nanog/profile_loss: 990.7066 - Nanog/counts_loss: 0.5821 - Klf4/profile_loss: 880.3329 - Klf4/counts_loss: 0.4113 - val_loss: 3182.9334 - val_Oct4/profile_loss: 808.6397 - val_Oct4/counts_loss: 0.3291 - val_Sox2/profile_loss: 457.4038 - val_Sox2/counts_loss: 0.2244 - val_Nanog/profile_loss: 1019.2330 - val_Nanog/counts_loss: 0.5817 - val_Klf4/profile_loss: 881.7357 - val_Klf4/counts_loss: 0.4570 Sox2/counts_loss: 0.2094 - Nanog/profile_loss: 992.3123 - - ETA: 42s - loss: 3137.4860 - Oct4/profile_loss: 800.5083 - Oct4/counts_loss: 0.2813 - Sox2/profile_loss: 449.5818 - Sox2/counts_loss: 0.2084 - Nanog/profile_loss: 991.8147 - Nanog/counts_loss: 0.5829 - Klf4/profile_loss: 880.7346 - ETA: 34s - loss: 3137.5869 - Oct4/profile_loss: 800.2818 - Oct4/counts_loss: 0.2811 - Sox2/profile_loss: 449\n",
      "Epoch 12/20\n",
      "710/710 [==============================] - 273s 384ms/step - loss: 3131.4734 - Oct4/profile_loss: 799.0537 - Oct4/counts_loss: 0.2788 - Sox2/profile_loss: 449.1099 - Sox2/counts_loss: 0.2094 - Nanog/profile_loss: 987.8335 - Nanog/counts_loss: 0.5836 - Klf4/profile_loss: 880.6317 - Klf4/counts_loss: 0.4127 - val_loss: 3185.7294 - val_Oct4/profile_loss: 810.0856 - val_Oct4/counts_loss: 0.2682 - val_Sox2/profile_loss: 457.1259 - val_Sox2/counts_loss: 0.1944 - val_Nanog/profile_loss: 1021.7941 - val_Nanog/counts_loss: 0.5541 - val_Klf4/profile_loss: 882.7020 - val_Klf4/counts_loss: 0.3855\n",
      "Epoch 13/20\n"
     ]
    },
    {
     "name": "stdout",
     "output_type": "stream",
     "text": [
      "710/710 [==============================] - 276s 388ms/step - loss: 3129.7291 - Oct4/profile_loss: 798.6716 - Oct4/counts_loss: 0.2724 - Sox2/profile_loss: 449.2429 - Sox2/counts_loss: 0.2061 - Nanog/profile_loss: 987.3892 - Nanog/counts_loss: 0.5743 - Klf4/profile_loss: 879.8261 - Klf4/counts_loss: 0.4070 - val_loss: 3186.4389 - val_Oct4/profile_loss: 809.9766 - val_Oct4/counts_loss: 0.2697 - val_Sox2/profile_loss: 458.2980 - val_Sox2/counts_loss: 0.1960 - val_Nanog/profile_loss: 1021.5029 - val_Nanog/counts_loss: 0.5532 - val_Klf4/profile_loss: 882.5261 - val_Klf4/counts_loss: 0.3946_loss: 793. - ETA: 50s - loss: 3129.8267 - Oct4/profile_loss: 799.0984\n",
      "Epoch 14/20\n",
      "710/710 [==============================] - 276s 388ms/step - loss: 3124.6255 - Oct4/profile_loss: 797.7637 - Oct4/counts_loss: 0.2650 - Sox2/profile_loss: 448.8865 - Sox2/counts_loss: 0.2017 - Nanog/profile_loss: 984.5245 - Nanog/counts_loss: 0.5550 - Klf4/profile_loss: 879.2332 - Klf4/counts_loss: 0.4000 - val_loss: 3180.0741 - val_Oct4/profile_loss: 810.9778 - val_Oct4/counts_loss: 0.2667 - val_Sox2/profile_loss: 456.8836 - val_Sox2/counts_loss: 0.1969 - val_Nanog/profile_loss: 1017.3360 - val_Nanog/counts_loss: 0.5495 - val_Klf4/profile_loss: 880.5972 - val_Klf4/counts_loss: 0.4149\n",
      "Epoch 15/20\n",
      "710/710 [==============================] - 277s 390ms/step - loss: 3124.8508 - Oct4/profile_loss: 798.1026 - Oct4/counts_loss: 0.2705 - Sox2/profile_loss: 448.8098 - Sox2/counts_loss: 0.2068 - Nanog/profile_loss: 983.8815 - Nanog/counts_loss: 0.5681 - Klf4/profile_loss: 879.5999 - Klf4/counts_loss: 0.4003 - val_loss: 3176.9686 - val_Oct4/profile_loss: 807.4878 - val_Oct4/counts_loss: 0.2557 - val_Sox2/profile_loss: 456.6959 - val_Sox2/counts_loss: 0.1937 - val_Nanog/profile_loss: 1018.5298 - val_Nanog/counts_loss: 0.5515 - val_Klf4/profile_loss: 880.2912 - val_Klf4/counts_loss: 0.3955\n",
      "Epoch 16/20\n",
      "710/710 [==============================] - 276s 389ms/step - loss: 3122.4935 - Oct4/profile_loss: 797.5662 - Oct4/counts_loss: 0.2622 - Sox2/profile_loss: 448.8002 - Sox2/counts_loss: 0.1994 - Nanog/profile_loss: 983.1118 - Nanog/counts_loss: 0.5464 - Klf4/profile_loss: 878.9415 - Klf4/counts_loss: 0.3994 - val_loss: 3178.3823 - val_Oct4/profile_loss: 807.9798 - val_Oct4/counts_loss: 0.2591 - val_Sox2/profile_loss: 457.2689 - val_Sox2/counts_loss: 0.2068 - val_Nanog/profile_loss: 1016.4186 - val_Nanog/counts_loss: 0.6346 - val_Klf4/profile_loss: 881.6718 - val_Klf4/counts_loss: 0.4038\n",
      "Epoch 17/20\n",
      "710/710 [==============================] - 278s 391ms/step - loss: 3121.9804 - Oct4/profile_loss: 797.2309 - Oct4/counts_loss: 0.2641 - Sox2/profile_loss: 448.7995 - Sox2/counts_loss: 0.2002 - Nanog/profile_loss: 983.2749 - Nanog/counts_loss: 0.5433 - Klf4/profile_loss: 878.6602 - Klf4/counts_loss: 0.3940 - val_loss: 3177.8749 - val_Oct4/profile_loss: 807.7255 - val_Oct4/counts_loss: 0.2965 - val_Sox2/profile_loss: 457.0371 - val_Sox2/counts_loss: 0.2236 - val_Nanog/profile_loss: 1017.3680 - val_Nanog/counts_loss: 0.5518 - val_Klf4/profile_loss: 880.5034 - val_Klf4/counts_loss: 0.4522\n",
      "Epoch 18/20\n",
      "710/710 [==============================] - 276s 389ms/step - loss: 3119.9240 - Oct4/profile_loss: 796.9750 - Oct4/counts_loss: 0.2605 - Sox2/profile_loss: 448.5153 - Sox2/counts_loss: 0.1993 - Nanog/profile_loss: 981.6204 - Nanog/counts_loss: 0.5500 - Klf4/profile_loss: 878.8116 - Klf4/counts_loss: 0.3903 - val_loss: 3173.6599 - val_Oct4/profile_loss: 805.6044 - val_Oct4/counts_loss: 0.2545 - val_Sox2/profile_loss: 456.3771 - val_Sox2/counts_loss: 0.1918 - val_Nanog/profile_loss: 1018.7714 - val_Nanog/counts_loss: 0.5624 - val_Klf4/profile_loss: 879.0674 - val_Klf4/counts_loss: 0.3752- Oct4/counts_loss: 0.2598 - Sox2/profile_loss: 448.1130 - Sox2/counts_loss: 0.1986 - Nanog/profile_loss: 980.5323 - Nanog/counts_loss: 0.5491  - ETA: 46s - loss: 3116.4447 - Oct4/profile_loss: 796.3964 - Oct4/coun\n",
      "Epoch 19/20\n",
      "710/710 [==============================] - 276s 389ms/step - loss: 3121.6327 - Oct4/profile_loss: 797.4319 - Oct4/counts_loss: 0.2615 - Sox2/profile_loss: 448.6799 - Sox2/counts_loss: 0.1998 - Nanog/profile_loss: 983.4384 - Nanog/counts_loss: 0.5428 - Klf4/profile_loss: 878.1637 - Klf4/counts_loss: 0.3878 - val_loss: 3181.2886 - val_Oct4/profile_loss: 808.6570 - val_Oct4/counts_loss: 0.2548 - val_Sox2/profile_loss: 457.2061 - val_Sox2/counts_loss: 0.1926 - val_Nanog/profile_loss: 1020.5952 - val_Nanog/counts_loss: 0.5509 - val_Klf4/profile_loss: 880.7462 - val_Klf4/counts_loss: 0.4102\n",
      "Epoch 20/20\n",
      "710/710 [==============================] - 277s 390ms/step - loss: 3119.3174 - Oct4/profile_loss: 796.8867 - Oct4/counts_loss: 0.2634 - Sox2/profile_loss: 448.6695 - Sox2/counts_loss: 0.1991 - Nanog/profile_loss: 980.5325 - Nanog/counts_loss: 0.5419 - Klf4/profile_loss: 879.2278 - Klf4/counts_loss: 0.3958 - val_loss: 3173.8249 - val_Oct4/profile_loss: 805.5007 - val_Oct4/counts_loss: 0.2536 - val_Sox2/profile_loss: 456.4709 - val_Sox2/counts_loss: 0.1942 - val_Nanog/profile_loss: 1019.5408 - val_Nanog/counts_loss: 0.5947 - val_Klf4/profile_loss: 878.0687 - val_Klf4/counts_loss: 0.3818ounts_loss: 0.1980 - Nanog/profile_loss: 980.3596 - Nanog/counts_loss: 0.5392 - Klf4/p\n",
      "\u001b[32mINFO\u001b[0m \u001b[44m[07-04 20:20:38]\u001b[0m Evaluating dataset: valid-peaks\u001b[0m\n",
      "229it [01:08,  3.34it/s]                                                        \n",
      "/home/ubuntu/src/bpnet/bpnet/metrics.py:108: RuntimeWarning: invalid value encountered in true_divide\n",
      "  fracs = yt / yt.sum(axis=1, keepdims=True)\n",
      "\u001b[32mINFO\u001b[0m \u001b[44m[07-04 20:23:19]\u001b[0m Evaluating dataset: train-peaks\u001b[0m\n",
      "711it [03:29,  3.40it/s]                                                        \n",
      "\u001b[32mINFO\u001b[0m \u001b[44m[07-04 20:31:52]\u001b[0m Saved metrics to /home/ubuntu/dev/an1lam/deepmr/dat/res-bpnet-training-2022-06-18-14-11-05/2022-07-04_18-46-57_ccce845d-c698-40bd-8b90-0ea6347cacef/evaluation.valid.json\u001b[0m\n",
      "\u001b[32mINFO\u001b[0m \u001b[44m[07-04 20:31:52]\u001b[0m Done!\u001b[0m\n",
      "----------------------------------------\n",
      "Final metrics: \n",
      "{\n",
      "  \"valid-peaks\": {\n",
      "    \"Oct4/profile/binsize=1/auprc\": 0.1853009320009196,\n",
      "    \"Oct4/profile/binsize=1/random_auprc\": 0.002949389563394497,\n",
      "    \"Oct4/profile/binsize=1/n_positives\": 49302,\n",
      "    \"Oct4/profile/binsize=1/frac_ambigous\": 0.07199577850877192,\n",
      "    \"Oct4/profile/binsize=1/imbalance\": 0.0029126597311942715,\n",
      "    \"Oct4/profile/binsize=10/auprc\": 0.4941284165689292,\n",
      "    \"Oct4/profile/binsize=10/random_auprc\": 0.034718772250377616,\n",
      "    \"Oct4/profile/binsize=10/n_positives\": 39303,\n",
      "    \"Oct4/profile/binsize=10/frac_ambigous\": 0.36042434210526314,\n",
      "    \"Oct4/profile/binsize=10/imbalance\": 0.03369061517967814,\n",
      "    \"Oct4/counts/mse\": 0.25504499673843384,\n",
      "    \"Oct4/counts/var_explained\": 0.40242189168930054,\n",
      "    \"Oct4/counts/pearsonr\": 0.6393157157926486,\n",
      "    \"Oct4/counts/spearmanr\": 0.6092235618059824,\n",
      "    \"Oct4/counts/mad\": 0.3884005844593048,\n",
      "    \"Sox2/profile/binsize=1/auprc\": 0.3798440757456043,\n",
      "    \"Sox2/profile/binsize=1/random_auprc\": 0.005889230480350826,\n",
      "    \"Sox2/profile/binsize=1/n_positives\": 17628,\n",
      "    \"Sox2/profile/binsize=1/frac_ambigous\": 0.07240479115479115,\n",
      "    \"Sox2/profile/binsize=1/imbalance\": 0.0058366029302210085,\n",
      "    \"Sox2/profile/binsize=10/auprc\": 0.7411308194947744,\n",
      "    \"Sox2/profile/binsize=10/random_auprc\": 0.055217862703586425,\n",
      "    \"Sox2/profile/binsize=10/n_positives\": 11823,\n",
      "    \"Sox2/profile/binsize=10/frac_ambigous\": 0.33028562653562654,\n",
      "    \"Sox2/profile/binsize=10/imbalance\": 0.05421927093126172,\n",
      "    \"Sox2/counts/mse\": 0.1947726160287857,\n",
      "    \"Sox2/counts/var_explained\": 0.3721257448196411,\n",
      "    \"Sox2/counts/pearsonr\": 0.6203517121640973,\n",
      "    \"Sox2/counts/spearmanr\": 0.5843774009992759,\n",
      "    \"Sox2/counts/mad\": 0.32643425464630127,\n",
      "    \"Nanog/profile/binsize=1/auprc\": 0.4293539776522292,\n",
      "    \"Nanog/profile/binsize=1/random_auprc\": 0.005316093567503382,\n",
      "    \"Nanog/profile/binsize=1/n_positives\": 131615,\n",
      "    \"Nanog/profile/binsize=1/frac_ambigous\": 0.05869920754716981,\n",
      "    \"Nanog/profile/binsize=1/imbalance\": 0.005276319549931526,\n",
      "    \"Nanog/profile/binsize=10/auprc\": 0.712242211059967,\n",
      "    \"Nanog/profile/binsize=10/random_auprc\": 0.04027295871539633,\n",
      "    \"Nanog/profile/binsize=10/n_positives\": 79430,\n",
      "    \"Nanog/profile/binsize=10/frac_ambigous\": 0.24535849056603773,\n",
      "    \"Nanog/profile/binsize=10/imbalance\": 0.03971897189718972,\n",
      "    \"Nanog/counts/mse\": 0.5993571877479553,\n",
      "    \"Nanog/counts/var_explained\": 0.36088114976882935,\n",
      "    \"Nanog/counts/pearsonr\": 0.6174685522823569,\n",
      "    \"Nanog/counts/spearmanr\": 0.6295157615733514,\n",
      "    \"Nanog/counts/mad\": 0.5728422403335571,\n",
      "    \"Klf4/profile/binsize=1/auprc\": 0.14097130055544935,\n",
      "    \"Klf4/profile/binsize=1/random_auprc\": 0.002551540275400337,\n",
      "    \"Klf4/profile/binsize=1/n_positives\": 59906,\n",
      "    \"Klf4/profile/binsize=1/frac_ambigous\": 0.06367351342710997,\n",
      "    \"Klf4/profile/binsize=1/imbalance\": 0.0025567383281220645,\n",
      "    \"Klf4/profile/binsize=10/auprc\": 0.48942320533785305,\n",
      "    \"Klf4/profile/binsize=10/random_auprc\": 0.02738327972008172,\n",
      "    \"Klf4/profile/binsize=10/n_positives\": 46864,\n",
      "    \"Klf4/profile/binsize=10/frac_ambigous\": 0.31567095588235294,\n",
      "    \"Klf4/profile/binsize=10/imbalance\": 0.027366398729317096,\n",
      "    \"Klf4/counts/mse\": 0.3831535279750824,\n",
      "    \"Klf4/counts/var_explained\": 0.4073445200920105,\n",
      "    \"Klf4/counts/pearsonr\": 0.6465862701204927,\n",
      "    \"Klf4/counts/spearmanr\": 0.642692986372808,\n",
      "    \"Klf4/counts/mad\": 0.4953896701335907,\n",
      "    \"avg/profile/binsize=1/auprc\": 0.28386757148855063,\n",
      "    \"avg/profile/binsize=1/random_auprc\": 0.00417656347166226,\n",
      "    \"avg/profile/binsize=1/n_positives\": 64612.75,\n",
      "    \"avg/profile/binsize=1/frac_ambigous\": 0.06669332265946071,\n",
      "    \"avg/profile/binsize=1/imbalance\": 0.0041455801348672175,\n",
      "    \"avg/profile/binsize=10/auprc\": 0.6092311631153808,\n",
      "    \"avg/profile/binsize=10/random_auprc\": 0.03939821834736052,\n",
      "    \"avg/profile/binsize=10/n_positives\": 44355.0,\n",
      "    \"avg/profile/binsize=10/frac_ambigous\": 0.3129348537723201,\n",
      "    \"avg/profile/binsize=10/imbalance\": 0.038748814184361664,\n",
      "    \"avg/counts/mse\": 0.3580820821225643,\n",
      "    \"avg/counts/var_explained\": 0.3856933265924454,\n",
      "    \"avg/counts/pearsonr\": 0.6309305625898989,\n",
      "    \"avg/counts/spearmanr\": 0.6164524276878545,\n",
      "    \"avg/counts/mad\": 0.4457666873931885\n",
      "  },\n",
      "  \"train-peaks\": {\n",
      "    \"Oct4/profile/binsize=1/auprc\": 0.22305975984609244,\n",
      "    \"Oct4/profile/binsize=1/random_auprc\": 0.003010893919210075,\n",
      "    \"Oct4/profile/binsize=1/n_positives\": 154785,\n",
      "    \"Oct4/profile/binsize=1/frac_ambigous\": 0.0725862427787147,\n",
      "    \"Oct4/profile/binsize=1/imbalance\": 0.002994359611939816,\n",
      "    \"Oct4/profile/binsize=10/auprc\": 0.5346294565037468,\n",
      "    \"Oct4/profile/binsize=10/random_auprc\": 0.034140202949630556,\n",
      "    \"Oct4/profile/binsize=10/n_positives\": 121130,\n",
      "    \"Oct4/profile/binsize=10/frac_ambigous\": 0.36294269618572605,\n",
      "    \"Oct4/profile/binsize=10/imbalance\": 0.03411315100976391,\n",
      "    \"Oct4/counts/mse\": 0.24436719715595245,\n",
      "    \"Oct4/counts/var_explained\": 0.42781710624694824,\n",
      "    \"Oct4/counts/pearsonr\": 0.6593989364772437,\n",
      "    \"Oct4/counts/spearmanr\": 0.6125338342850712,\n",
      "    \"Oct4/counts/mad\": 0.3820642828941345,\n",
      "    \"Sox2/profile/binsize=1/auprc\": 0.4537307087509706,\n",
      "    \"Sox2/profile/binsize=1/random_auprc\": 0.006264322059543703,\n",
      "    \"Sox2/profile/binsize=1/n_positives\": 55487,\n",
      "    \"Sox2/profile/binsize=1/frac_ambigous\": 0.07045657276995305,\n",
      "    \"Sox2/profile/binsize=1/imbalance\": 0.006369264439320035,\n",
      "    \"Sox2/profile/binsize=10/auprc\": 0.8064883709590575,\n",
      "    \"Sox2/profile/binsize=10/random_auprc\": 0.054576994486491726,\n",
      "    \"Sox2/profile/binsize=10/n_positives\": 35699,\n",
      "    \"Sox2/profile/binsize=10/frac_ambigous\": 0.31896073410157916,\n",
      "    \"Sox2/profile/binsize=10/imbalance\": 0.05593087564823664,\n",
      "    \"Sox2/counts/mse\": 0.19055290520191193,\n",
      "    \"Sox2/counts/var_explained\": 0.3792365789413452,\n",
      "    \"Sox2/counts/pearsonr\": 0.6259592889912048,\n",
      "    \"Sox2/counts/spearmanr\": 0.5929221141388933,\n",
      "    \"Sox2/counts/mad\": 0.32229694724082947,\n",
      "    \"Nanog/profile/binsize=1/auprc\": 0.47821200718431295,\n",
      "    \"Nanog/profile/binsize=1/random_auprc\": 0.005458398810829833,\n",
      "    \"Nanog/profile/binsize=1/n_positives\": 411170,\n",
      "    \"Nanog/profile/binsize=1/frac_ambigous\": 0.05802848844395007,\n",
      "    \"Nanog/profile/binsize=1/imbalance\": 0.00539487579301243,\n",
      "    \"Nanog/profile/binsize=10/auprc\": 0.755012212691633,\n",
      "    \"Nanog/profile/binsize=10/random_auprc\": 0.04043179244654559,\n",
      "    \"Nanog/profile/binsize=10/n_positives\": 247322,\n",
      "    \"Nanog/profile/binsize=10/frac_ambigous\": 0.24006711160548758,\n",
      "    \"Nanog/profile/binsize=10/imbalance\": 0.04022400484531725,\n",
      "    \"Nanog/counts/mse\": 0.5708174109458923,\n",
      "    \"Nanog/counts/var_explained\": 0.3935052752494812,\n",
      "    \"Nanog/counts/pearsonr\": 0.6506459371648396,\n",
      "    \"Nanog/counts/spearmanr\": 0.6432558400114877,\n",
      "    \"Nanog/counts/mad\": 0.5658701658248901,\n",
      "    \"Klf4/profile/binsize=1/auprc\": 0.16878411100447294,\n",
      "    \"Klf4/profile/binsize=1/random_auprc\": 0.0026211740437359593,\n",
      "    \"Klf4/profile/binsize=1/n_positives\": 192169,\n",
      "    \"Klf4/profile/binsize=1/frac_ambigous\": 0.06421084260812115,\n",
      "    \"Klf4/profile/binsize=1/imbalance\": 0.002609074284575061,\n",
      "    \"Klf4/profile/binsize=10/auprc\": 0.5346845126356445,\n",
      "    \"Klf4/profile/binsize=10/random_auprc\": 0.02799431819748954,\n",
      "    \"Klf4/profile/binsize=10/n_positives\": 149678,\n",
      "    \"Klf4/profile/binsize=10/frac_ambigous\": 0.31788992224424456,\n",
      "    \"Klf4/profile/binsize=10/imbalance\": 0.0278794773906487,\n",
      "    \"Klf4/counts/mse\": 0.3717449903488159,\n",
      "    \"Klf4/counts/var_explained\": 0.4204398989677429,\n",
      "    \"Klf4/counts/pearsonr\": 0.6572270148979565,\n",
      "    \"Klf4/counts/spearmanr\": 0.6482620860362905,\n",
      "    \"Klf4/counts/mad\": 0.4873475134372711,\n",
      "    \"avg/profile/binsize=1/auprc\": 0.33094664669646223,\n",
      "    \"avg/profile/binsize=1/random_auprc\": 0.004338697208329893,\n",
      "    \"avg/profile/binsize=1/n_positives\": 203402.75,\n",
      "    \"avg/profile/binsize=1/frac_ambigous\": 0.06632053665018475,\n",
      "    \"avg/profile/binsize=1/imbalance\": 0.004341893532211836,\n",
      "    \"avg/profile/binsize=10/auprc\": 0.6577036381975204,\n",
      "    \"avg/profile/binsize=10/random_auprc\": 0.039285827020039354,\n",
      "    \"avg/profile/binsize=10/n_positives\": 138457.25,\n",
      "    \"avg/profile/binsize=10/frac_ambigous\": 0.30996511603425936,\n",
      "    \"avg/profile/binsize=10/imbalance\": 0.039536877223491626,\n",
      "    \"avg/counts/mse\": 0.34437062591314316,\n",
      "    \"avg/counts/var_explained\": 0.4052497148513794,\n",
      "    \"avg/counts/pearsonr\": 0.6483077943828112,\n",
      "    \"avg/counts/spearmanr\": 0.6242434686179357,\n",
      "    \"avg/counts/mad\": 0.4393947273492813\n",
      "  }\n",
      "}\n",
      "\u001b[32mINFO\u001b[0m \u001b[44m[07-04 20:31:52]\u001b[0m Running the evaluation report\u001b[0m\n"
     ]
    },
    {
     "name": "stdout",
     "output_type": "stream",
     "text": [
      "Executing:  10%|███▏                           | 3/29 [00:04<00:42,  1.65s/cell]2022-07-04 20:31:57.661432: I tensorflow/core/platform/cpu_feature_guard.cc:142] Your CPU supports instructions that this TensorFlow binary was not compiled to use: AVX2 FMA\n",
      "2022-07-04 20:31:57.674443: I tensorflow/core/platform/profile_utils/cpu_utils.cc:94] CPU Frequency: 2300000000 Hz\n",
      "2022-07-04 20:31:57.674869: I tensorflow/compiler/xla/service/service.cc:168] XLA service 0x55c9f4b188a0 initialized for platform Host (this does not guarantee that XLA will be used). Devices:\n",
      "2022-07-04 20:31:57.674911: I tensorflow/compiler/xla/service/service.cc:176]   StreamExecutor device (0): Host, Default Version\n",
      "2022-07-04 20:31:57.678061: I tensorflow/stream_executor/platform/default/dso_loader.cc:44] Successfully opened dynamic library libcuda.so.1\n",
      "2022-07-04 20:31:57.771231: I tensorflow/stream_executor/cuda/cuda_gpu_executor.cc:983] successful NUMA node read from SysFS had negative value (-1), but there must be at least one NUMA node, so returning NUMA node zero\n",
      "2022-07-04 20:31:57.771946: I tensorflow/compiler/xla/service/service.cc:168] XLA service 0x55c9f4b1a9e0 initialized for platform CUDA (this does not guarantee that XLA will be used). Devices:\n",
      "2022-07-04 20:31:57.772008: I tensorflow/compiler/xla/service/service.cc:176]   StreamExecutor device (0): Tesla K80, Compute Capability 3.7\n",
      "2022-07-04 20:31:57.772437: I tensorflow/stream_executor/cuda/cuda_gpu_executor.cc:983] successful NUMA node read from SysFS had negative value (-1), but there must be at least one NUMA node, so returning NUMA node zero\n",
      "2022-07-04 20:31:57.773217: I tensorflow/core/common_runtime/gpu/gpu_device.cc:1618] Found device 0 with properties: \n",
      "name: Tesla K80 major: 3 minor: 7 memoryClockRate(GHz): 0.8235\n",
      "pciBusID: 0000:00:1e.0\n",
      "2022-07-04 20:31:57.773869: I tensorflow/stream_executor/platform/default/dso_loader.cc:44] Successfully opened dynamic library libcudart.so.10.0\n",
      "2022-07-04 20:31:57.776715: I tensorflow/stream_executor/platform/default/dso_loader.cc:44] Successfully opened dynamic library libcublas.so.10.0\n",
      "2022-07-04 20:31:57.779092: I tensorflow/stream_executor/platform/default/dso_loader.cc:44] Successfully opened dynamic library libcufft.so.10.0\n",
      "2022-07-04 20:31:57.779730: I tensorflow/stream_executor/platform/default/dso_loader.cc:44] Successfully opened dynamic library libcurand.so.10.0\n",
      "2022-07-04 20:31:57.781722: I tensorflow/stream_executor/platform/default/dso_loader.cc:44] Successfully opened dynamic library libcusolver.so.10.0\n",
      "2022-07-04 20:31:57.783287: I tensorflow/stream_executor/platform/default/dso_loader.cc:44] Successfully opened dynamic library libcusparse.so.10.0\n",
      "2022-07-04 20:31:57.788341: I tensorflow/stream_executor/platform/default/dso_loader.cc:44] Successfully opened dynamic library libcudnn.so.7\n",
      "2022-07-04 20:31:57.788539: I tensorflow/stream_executor/cuda/cuda_gpu_executor.cc:983] successful NUMA node read from SysFS had negative value (-1), but there must be at least one NUMA node, so returning NUMA node zero\n",
      "2022-07-04 20:31:57.789385: I tensorflow/stream_executor/cuda/cuda_gpu_executor.cc:983] successful NUMA node read from SysFS had negative value (-1), but there must be at least one NUMA node, so returning NUMA node zero\n",
      "2022-07-04 20:31:57.790072: I tensorflow/core/common_runtime/gpu/gpu_device.cc:1746] Adding visible gpu devices: 0\n",
      "2022-07-04 20:31:57.790190: I tensorflow/stream_executor/platform/default/dso_loader.cc:44] Successfully opened dynamic library libcudart.so.10.0\n",
      "2022-07-04 20:31:57.792180: I tensorflow/core/common_runtime/gpu/gpu_device.cc:1159] Device interconnect StreamExecutor with strength 1 edge matrix:\n",
      "2022-07-04 20:31:57.792236: I tensorflow/core/common_runtime/gpu/gpu_device.cc:1165]      0 \n",
      "2022-07-04 20:31:57.792269: I tensorflow/core/common_runtime/gpu/gpu_device.cc:1178] 0:   N \n",
      "2022-07-04 20:31:57.792528: I tensorflow/stream_executor/cuda/cuda_gpu_executor.cc:983] successful NUMA node read from SysFS had negative value (-1), but there must be at least one NUMA node, so returning NUMA node zero\n",
      "2022-07-04 20:31:57.793392: I tensorflow/stream_executor/cuda/cuda_gpu_executor.cc:983] successful NUMA node read from SysFS had negative value (-1), but there must be at least one NUMA node, so returning NUMA node zero\n",
      "2022-07-04 20:31:57.794174: I tensorflow/core/common_runtime/gpu/gpu_device.cc:1304] Created TensorFlow device (/job:localhost/replica:0/task:0/device:GPU:0 with 5148 MB memory) -> physical GPU (device: 0, name: Tesla K80, pci bus id: 0000:00:1e.0, compute capability: 3.7)\n",
      "Executing:  62%|██████████████████▌           | 18/29 [01:04<02:04, 11.30s/cell]2022-07-04 20:32:58.087879: I tensorflow/stream_executor/platform/default/dso_loader.cc:44] Successfully opened dynamic library libcublas.so.10.0\n",
      "2022-07-04 20:32:58.222892: I tensorflow/stream_executor/platform/default/dso_loader.cc:44] Successfully opened dynamic library libcudnn.so.7\n",
      "Executing: 100%|██████████████████████████████| 29/29 [02:10<00:00,  4.50s/cell]\n",
      "[NbConvertApp] Converting notebook evaluate.ipynb to html\n",
      "[NbConvertApp] Writing 4859941 bytes to evaluate.html\n",
      "\u001b[32mINFO\u001b[0m \u001b[44m[07-04 20:34:05]\u001b[0m Done training and evaluating the model. Model and metrics can be found in: /home/ubuntu/dev/an1lam/deepmr/dat/res-bpnet-training-2022-06-18-14-11-05/2022-07-04_18-46-57_ccce845d-c698-40bd-8b90-0ea6347cacef\u001b[0m\n",
      "OrderedDict([('valid-peaks', {'Oct4/profile/binsize=1/auprc': 0.1853009320009196, 'Oct4/profile/binsize=1/random_auprc': 0.002949389563394497, 'Oct4/profile/binsize=1/n_positives': 49302, 'Oct4/profile/binsize=1/frac_ambigous': 0.07199577850877192, 'Oct4/profile/binsize=1/imbalance': 0.0029126597311942715, 'Oct4/profile/binsize=10/auprc': 0.4941284165689292, 'Oct4/profile/binsize=10/random_auprc': 0.034718772250377616, 'Oct4/profile/binsize=10/n_positives': 39303, 'Oct4/profile/binsize=10/frac_ambigous': 0.36042434210526314, 'Oct4/profile/binsize=10/imbalance': 0.03369061517967814, 'Oct4/counts/mse': 0.255045, 'Oct4/counts/var_explained': 0.40242189168930054, 'Oct4/counts/pearsonr': 0.6393157157926486, 'Oct4/counts/spearmanr': 0.6092235618059824, 'Oct4/counts/mad': 0.38840058, 'Sox2/profile/binsize=1/auprc': 0.3798440757456043, 'Sox2/profile/binsize=1/random_auprc': 0.005889230480350826, 'Sox2/profile/binsize=1/n_positives': 17628, 'Sox2/profile/binsize=1/frac_ambigous': 0.07240479115479115, 'Sox2/profile/binsize=1/imbalance': 0.0058366029302210085, 'Sox2/profile/binsize=10/auprc': 0.7411308194947744, 'Sox2/profile/binsize=10/random_auprc': 0.055217862703586425, 'Sox2/profile/binsize=10/n_positives': 11823, 'Sox2/profile/binsize=10/frac_ambigous': 0.33028562653562654, 'Sox2/profile/binsize=10/imbalance': 0.05421927093126172, 'Sox2/counts/mse': 0.19477262, 'Sox2/counts/var_explained': 0.3721257448196411, 'Sox2/counts/pearsonr': 0.6203517121640973, 'Sox2/counts/spearmanr': 0.5843774009992759, 'Sox2/counts/mad': 0.32643425, 'Nanog/profile/binsize=1/auprc': 0.4293539776522292, 'Nanog/profile/binsize=1/random_auprc': 0.005316093567503382, 'Nanog/profile/binsize=1/n_positives': 131615, 'Nanog/profile/binsize=1/frac_ambigous': 0.05869920754716981, 'Nanog/profile/binsize=1/imbalance': 0.005276319549931526, 'Nanog/profile/binsize=10/auprc': 0.712242211059967, 'Nanog/profile/binsize=10/random_auprc': 0.04027295871539633, 'Nanog/profile/binsize=10/n_positives': 79430, 'Nanog/profile/binsize=10/frac_ambigous': 0.24535849056603773, 'Nanog/profile/binsize=10/imbalance': 0.03971897189718972, 'Nanog/counts/mse': 0.5993572, 'Nanog/counts/var_explained': 0.36088114976882935, 'Nanog/counts/pearsonr': 0.6174685522823569, 'Nanog/counts/spearmanr': 0.6295157615733514, 'Nanog/counts/mad': 0.57284224, 'Klf4/profile/binsize=1/auprc': 0.14097130055544935, 'Klf4/profile/binsize=1/random_auprc': 0.002551540275400337, 'Klf4/profile/binsize=1/n_positives': 59906, 'Klf4/profile/binsize=1/frac_ambigous': 0.06367351342710997, 'Klf4/profile/binsize=1/imbalance': 0.0025567383281220645, 'Klf4/profile/binsize=10/auprc': 0.48942320533785305, 'Klf4/profile/binsize=10/random_auprc': 0.02738327972008172, 'Klf4/profile/binsize=10/n_positives': 46864, 'Klf4/profile/binsize=10/frac_ambigous': 0.31567095588235294, 'Klf4/profile/binsize=10/imbalance': 0.027366398729317096, 'Klf4/counts/mse': 0.38315353, 'Klf4/counts/var_explained': 0.4073445200920105, 'Klf4/counts/pearsonr': 0.6465862701204927, 'Klf4/counts/spearmanr': 0.642692986372808, 'Klf4/counts/mad': 0.49538967, 'avg/profile/binsize=1/auprc': 0.28386757148855063, 'avg/profile/binsize=1/random_auprc': 0.00417656347166226, 'avg/profile/binsize=1/n_positives': 64612.75, 'avg/profile/binsize=1/frac_ambigous': 0.06669332265946071, 'avg/profile/binsize=1/imbalance': 0.0041455801348672175, 'avg/profile/binsize=10/auprc': 0.6092311631153808, 'avg/profile/binsize=10/random_auprc': 0.03939821834736052, 'avg/profile/binsize=10/n_positives': 44355.0, 'avg/profile/binsize=10/frac_ambigous': 0.3129348537723201, 'avg/profile/binsize=10/imbalance': 0.038748814184361664, 'avg/counts/mse': 0.3580820821225643, 'avg/counts/var_explained': 0.3856933265924454, 'avg/counts/pearsonr': 0.6309305625898989, 'avg/counts/spearmanr': 0.6164524276878545, 'avg/counts/mad': 0.4457666873931885}), ('train-peaks', {'Oct4/profile/binsize=1/auprc': 0.22305975984609244, 'Oct4/profile/binsize=1/random_auprc': 0.003010893919210075, 'Oct4/profile/binsize=1/n_positives': 154785, 'Oct4/profile/binsize=1/frac_ambigous': 0.0725862427787147, 'Oct4/profile/binsize=1/imbalance': 0.002994359611939816, 'Oct4/profile/binsize=10/auprc': 0.5346294565037468, 'Oct4/profile/binsize=10/random_auprc': 0.034140202949630556, 'Oct4/profile/binsize=10/n_positives': 121130, 'Oct4/profile/binsize=10/frac_ambigous': 0.36294269618572605, 'Oct4/profile/binsize=10/imbalance': 0.03411315100976391, 'Oct4/counts/mse': 0.2443672, 'Oct4/counts/var_explained': 0.42781710624694824, 'Oct4/counts/pearsonr': 0.6593989364772437, 'Oct4/counts/spearmanr': 0.6125338342850712, 'Oct4/counts/mad': 0.38206428, 'Sox2/profile/binsize=1/auprc': 0.4537307087509706, 'Sox2/profile/binsize=1/random_auprc': 0.006264322059543703, 'Sox2/profile/binsize=1/n_positives': 55487, 'Sox2/profile/binsize=1/frac_ambigous': 0.07045657276995305, 'Sox2/profile/binsize=1/imbalance': 0.006369264439320035, 'Sox2/profile/binsize=10/auprc': 0.8064883709590575, 'Sox2/profile/binsize=10/random_auprc': 0.054576994486491726, 'Sox2/profile/binsize=10/n_positives': 35699, 'Sox2/profile/binsize=10/frac_ambigous': 0.31896073410157916, 'Sox2/profile/binsize=10/imbalance': 0.05593087564823664, 'Sox2/counts/mse': 0.1905529, 'Sox2/counts/var_explained': 0.3792365789413452, 'Sox2/counts/pearsonr': 0.6259592889912048, 'Sox2/counts/spearmanr': 0.5929221141388933, 'Sox2/counts/mad': 0.32229695, 'Nanog/profile/binsize=1/auprc': 0.47821200718431295, 'Nanog/profile/binsize=1/random_auprc': 0.005458398810829833, 'Nanog/profile/binsize=1/n_positives': 411170, 'Nanog/profile/binsize=1/frac_ambigous': 0.05802848844395007, 'Nanog/profile/binsize=1/imbalance': 0.00539487579301243, 'Nanog/profile/binsize=10/auprc': 0.755012212691633, 'Nanog/profile/binsize=10/random_auprc': 0.04043179244654559, 'Nanog/profile/binsize=10/n_positives': 247322, 'Nanog/profile/binsize=10/frac_ambigous': 0.24006711160548758, 'Nanog/profile/binsize=10/imbalance': 0.04022400484531725, 'Nanog/counts/mse': 0.5708174, 'Nanog/counts/var_explained': 0.3935052752494812, 'Nanog/counts/pearsonr': 0.6506459371648396, 'Nanog/counts/spearmanr': 0.6432558400114877, 'Nanog/counts/mad': 0.56587017, 'Klf4/profile/binsize=1/auprc': 0.16878411100447294, 'Klf4/profile/binsize=1/random_auprc': 0.0026211740437359593, 'Klf4/profile/binsize=1/n_positives': 192169, 'Klf4/profile/binsize=1/frac_ambigous': 0.06421084260812115, 'Klf4/profile/binsize=1/imbalance': 0.002609074284575061, 'Klf4/profile/binsize=10/auprc': 0.5346845126356445, 'Klf4/profile/binsize=10/random_auprc': 0.02799431819748954, 'Klf4/profile/binsize=10/n_positives': 149678, 'Klf4/profile/binsize=10/frac_ambigous': 0.31788992224424456, 'Klf4/profile/binsize=10/imbalance': 0.0278794773906487, 'Klf4/counts/mse': 0.371745, 'Klf4/counts/var_explained': 0.4204398989677429, 'Klf4/counts/pearsonr': 0.6572270148979565, 'Klf4/counts/spearmanr': 0.6482620860362905, 'Klf4/counts/mad': 0.4873475, 'avg/profile/binsize=1/auprc': 0.33094664669646223, 'avg/profile/binsize=1/random_auprc': 0.004338697208329893, 'avg/profile/binsize=1/n_positives': 203402.75, 'avg/profile/binsize=1/frac_ambigous': 0.06632053665018475, 'avg/profile/binsize=1/imbalance': 0.004341893532211836, 'avg/profile/binsize=10/auprc': 0.6577036381975204, 'avg/profile/binsize=10/random_auprc': 0.039285827020039354, 'avg/profile/binsize=10/n_positives': 138457.25, 'avg/profile/binsize=10/frac_ambigous': 0.30996511603425936, 'avg/profile/binsize=10/imbalance': 0.039536877223491626, 'avg/counts/mse': 0.34437062591314316, 'avg/counts/var_explained': 0.4052497148513794, 'avg/counts/pearsonr': 0.6483077943828112, 'avg/counts/spearmanr': 0.6242434686179357, 'avg/counts/mad': 0.4393947273492813})])\n"
     ]
    }
   ],
   "source": [
    "# Train for at most 10 epochs\n",
    "for i in range(4, 5):\n",
    "    # setup a new run_id (could be done automatically, but then the output directory would change)\n",
    "    run_id = datetime.now().strftime(\"%Y-%m-%d_%H-%M-%S\") + \"_\" + str(uuid.uuid4())\n",
    "    !cd {config_dir} && bpnet train {data_config_fname} --premade=bpnet9 \\\n",
    "        --config={model_config_fname} {output_dir} \\\n",
    "        --run-id '{run_id}' \\\n",
    "        --override='train.epochs=20; train.seed={i}'\n",
    "    # softlink the new output directory\n",
    "    !rm -rf {output_dir}/output_ensemble/{i} && ln -srf {output_dir}/{run_id} {output_dir}/output_ensemble/{i}"
   ]
  },
  {
   "cell_type": "code",
   "execution_count": 13,
   "metadata": {},
   "outputs": [
    {
     "name": "stdout",
     "output_type": "stream",
     "text": [
      "/home/ubuntu/dev/an1lam/deepmr/dat/res-bpnet-training-2022-06-18-14-11-05\n",
      "\n",
      "bpnet-train.kwargs.json  events.out.tfevents.1655561487.ip-172-31-61-149\n",
      "config.gin\t\t history.csv\n",
      "config.gin.json\t\t input-config.gin\n",
      "dataspec.yml\t\t log\n",
      "evaluate.html\t\t model.h5\n",
      "evaluate.ipynb\t\t note_params.json\n",
      "evaluation.valid.json\t seq_model.pkl\n"
     ]
    }
   ],
   "source": [
    "! echo {output_dir}\n",
    "! echo\n",
    "! ls {output_dir}/output_ensemble/0"
   ]
  },
  {
   "cell_type": "code",
   "execution_count": 14,
   "metadata": {
    "colab": {
     "base_uri": "https://localhost:8080/",
     "height": 34
    },
    "colab_type": "code",
    "id": "3o_U-Fu2C0fU",
    "outputId": "0be96454-bb19-48e5-ae1c-44bea6d5b271"
   },
   "outputs": [
    {
     "name": "stdout",
     "output_type": "stream",
     "text": [
      "total 14976\r\n",
      "-rw-rw-r-- 1 ubuntu ubuntu       2 Jun 18 14:11 note_params.json\r\n",
      "drwxrwxr-x 2 ubuntu ubuntu    4096 Jun 18 14:11 log\r\n",
      "-rw-rw-r-- 1 ubuntu ubuntu     302 Jun 18 14:11 input-config.gin\r\n",
      "-rw-rw-r-- 1 ubuntu ubuntu     561 Jun 18 14:11 bpnet-train.kwargs.json\r\n",
      "-rw-rw-r-- 1 ubuntu ubuntu    1601 Jun 18 14:11 dataspec.yml\r\n",
      "-rw-rw-r-- 1 ubuntu ubuntu    6034 Jun 18 14:11 config.gin\r\n",
      "-rw-rw-r-- 1 ubuntu ubuntu    4191 Jun 18 14:11 config.gin.json\r\n",
      "-rw-rw-r-- 1 ubuntu ubuntu    6448 Jun 18 15:36 history.csv\r\n",
      "-rw-rw-r-- 1 ubuntu ubuntu 1741169 Jun 18 15:36 events.out.tfevents.1655561487.ip-172-31-61-149\r\n",
      "-rw-rw-r-- 1 ubuntu ubuntu 1815880 Jun 18 15:36 model.h5\r\n",
      "-rw-rw-r-- 1 ubuntu ubuntu 2318226 Jun 18 15:36 seq_model.pkl\r\n",
      "-rw-rw-r-- 1 ubuntu ubuntu    8408 Jun 18 15:49 evaluation.valid.json\r\n",
      "-rw-rw-r-- 1 ubuntu ubuntu 4572422 Jun 18 15:52 evaluate.ipynb\r\n",
      "drwxrwxr-x 3 ubuntu ubuntu    4096 Jun 18 15:52 .\r\n",
      "-rw-rw-r-- 1 ubuntu ubuntu 4811637 Jun 18 15:52 evaluate.html\r\n",
      "drwxrwxr-x 9 ubuntu ubuntu    4096 Jul  4 18:47 ..\r\n"
     ]
    }
   ],
   "source": [
    "!ls -latr {example_model_dir}/"
   ]
  }
 ],
 "metadata": {
  "accelerator": "GPU",
  "colab": {
   "collapsed_sections": [],
   "name": "bpnet",
   "provenance": []
  },
  "kernelspec": {
   "display_name": "deepmr",
   "language": "python",
   "name": "deepmr"
  },
  "language_info": {
   "codemirror_mode": {
    "name": "ipython",
    "version": 3
   },
   "file_extension": ".py",
   "mimetype": "text/x-python",
   "name": "python",
   "nbconvert_exporter": "python",
   "pygments_lexer": "ipython3",
   "version": "3.6.12"
  }
 },
 "nbformat": 4,
 "nbformat_minor": 1
}
