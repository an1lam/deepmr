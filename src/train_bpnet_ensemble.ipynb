{
 "cells": [
  {
   "cell_type": "markdown",
   "metadata": {
    "colab_type": "text",
    "id": "YRuPISG391E3"
   },
   "source": [
    "### Install dependencies"
   ]
  },
  {
   "cell_type": "code",
   "execution_count": 1,
   "metadata": {
    "colab": {
     "base_uri": "https://localhost:8080/",
     "height": 972
    },
    "colab_type": "code",
    "id": "u_5mSHbhNCVk",
    "outputId": "4aafeefc-1d31-4a75-9c3a-284ff5ba5a63"
   },
   "outputs": [],
   "source": [
    "%env HDF5_USE_FILE_LOCKING=FALSE\n",
    "%env WANDB_MODE=dryrun\n",
    "%env WANDB_NOTEBOOK_NAME=deepmr"
   ]
  },
  {
   "cell_type": "code",
   "execution_count": 2,
   "metadata": {
    "colab": {
     "base_uri": "https://localhost:8080/",
     "height": 228
    },
    "colab_type": "code",
    "id": "75gZh6kYpZ01",
    "outputId": "683594b8-3633-4622-a26c-aae5c1699525"
   },
   "outputs": [],
   "source": [
    "import bpnet\n",
    "from bpnet.cli.contrib import ContribFile\n",
    "from bpnet.plot.tracks import plot_tracks, to_neg\n",
    "\n",
    "import os\n",
    "import uuid\n",
    "from datetime import datetime\n",
    "import seaborn as sns\n",
    "import matplotlib.pyplot as plt\n",
    "from IPython.display import clear_output, HTML\n",
    "from pathlib import Path\n",
    "import pandas as pd\n",
    "import numpy as np\n",
    "clear_output()"
   ]
  },
  {
   "cell_type": "markdown",
   "metadata": {
    "colab_type": "text",
    "id": "BUMU-vxK7Qqr"
   },
   "source": [
    "#### Optional: Setup wandb"
   ]
  },
  {
   "cell_type": "code",
   "execution_count": 3,
   "metadata": {
    "colab": {},
    "colab_type": "code",
    "id": "Pay9JFgR3YNi"
   },
   "outputs": [
    {
     "data": {
      "text/plain": []
     },
     "execution_count": 3,
     "metadata": {},
     "output_type": "execute_result"
    }
   ],
   "source": [
    "import wandb\n",
    "\n",
    "wandb.init(project='deepmr', entity='an1lam', mode='disabled')"
   ]
  },
  {
   "cell_type": "code",
   "execution_count": 4,
   "metadata": {
    "colab": {
     "base_uri": "https://localhost:8080/",
     "height": 680
    },
    "colab_type": "code",
    "id": "4LnaqSM_LM-M",
    "outputId": "aa784c6f-bc70-450d-db7e-3b5e5a677f8b"
   },
   "outputs": [
    {
     "data": {
      "text/plain": [
       "'/home/ubuntu/dev/an1lam/deepmr/dat/res-bpnet-training-2021-01-02-04-48-48'"
      ]
     },
     "execution_count": 4,
     "metadata": {},
     "output_type": "execute_result"
    }
   ],
   "source": [
    "# config variables\n",
    "n_reps = 5\n",
    "\n",
    "# file paths\n",
    "config_dir = Path('./bpnet/') \n",
    "\n",
    "model_config_fname = 'ChIP-nexus-default.gin'\n",
    "data_config_fname = 'ChIP-nexus.dataspec.yml'\n",
    "\n",
    "timestamp = datetime.now().strftime('%Y-%m-%d-%H-%M-%S')\n",
    "project_dir = '/home/ubuntu/dev/an1lam/deepmr/'\n",
    "data_dir = os.path.join(project_dir, 'dat')\n",
    "output_dir = os.path.join(data_dir, f'res-bpnet-training-{timestamp}')\n",
    "output_dir"
   ]
  },
  {
   "cell_type": "code",
   "execution_count": 5,
   "metadata": {},
   "outputs": [],
   "source": [
    "os.makedirs(output_dir, exist_ok=True)\n",
    "os.makedirs(os.path.join(output_dir, 'output_ensemble'), exist_ok=True)"
   ]
  },
  {
   "cell_type": "code",
   "execution_count": 6,
   "metadata": {},
   "outputs": [
    {
     "name": "stdout",
     "output_type": "stream",
     "text": [
      "task_specs:\r\n",
      "  Oct4:\r\n",
      "    pos_counts: /home/stephenmalina/project/dat/bpnet-manuscript-data/data/chip-nexus/Oct4/counts.pos.bw\r\n",
      "    neg_counts: /home/stephenmalina/project/dat/bpnet-manuscript-data/data/chip-nexus/Oct4/counts.neg.bw\r\n",
      "    peaks: /home/stephenmalina/project/dat/bpnet-manuscript-data/data/chip-nexus/Oct4/idr-optimal-set.summit.bed.gz\r\n",
      "  Sox2:\r\n",
      "    pos_counts: /home/stephenmalina/project/dat/bpnet-manuscript-data/data/chip-nexus/Sox2/counts.pos.bw\r\n",
      "    neg_counts: /home/stephenmalina/project/dat/bpnet-manuscript-data/data/chip-nexus/Sox2/counts.neg.bw\r\n",
      "    peaks: /home/stephenmalina/project/dat/bpnet-manuscript-data/data/chip-nexus/Sox2/idr-optimal-set.summit.bed.gz\r\n",
      "  Nanog:\r\n",
      "    pos_counts: /home/stephenmalina/project/dat/bpnet-manuscript-data/data/chip-nexus/Nanog/counts.pos.bw\r\n",
      "    neg_counts: /home/stephenmalina/project/dat/bpnet-manuscript-data/data/chip-nexus/Nanog/counts.neg.bw\r\n",
      "    peaks: /home/stephenmalina/project/dat/bpnet-manuscript-data/data/chip-nexus/Nanog/idr-optimal-set.summit.bed.gz\r\n",
      "  Klf4:\r\n",
      "    pos_counts: /home/stephenmalina/project/dat/bpnet-manuscript-data/data/chip-nexus/Klf4/counts.pos.bw\r\n",
      "    neg_counts: /home/stephenmalina/project/dat/bpnet-manuscript-data/data/chip-nexus/Klf4/counts.neg.bw\r\n",
      "    peaks: /home/stephenmalina/project/dat/bpnet-manuscript-data/data/chip-nexus/Klf4/idr-optimal-set.summit.bed.gz\r\n",
      "\r\n",
      "bias_specs:\r\n",
      "  input:\r\n",
      "    pos_counts: /home/stephenmalina/project/dat/bpnet-manuscript-data/data/chip-nexus/patchcap/counts.pos.bw\r\n",
      "    neg_counts: /home/stephenmalina/project/dat/bpnet-manuscript-data/data/chip-nexus/patchcap/counts.neg.bw\r\n",
      "    tasks:\r\n",
      "      - Oct4\r\n",
      "      - Sox2\r\n",
      "      - Nanog\r\n",
      "      - Klf4\r\n",
      "\r\n",
      "fasta_file: /home/stephenmalina/project/dat/bpnet-manuscript-data/data/mm10_no_alt_analysis_set_ENCODE.fasta\r\n"
     ]
    }
   ],
   "source": [
    "!cat {config_dir}/{data_config_fname}"
   ]
  },
  {
   "cell_type": "markdown",
   "metadata": {
    "colab_type": "text",
    "id": "YIOVdXQ9_M2q"
   },
   "source": [
    "### Data stats"
   ]
  },
  {
   "cell_type": "code",
   "execution_count": 7,
   "metadata": {
    "colab": {
     "base_uri": "https://localhost:8080/",
     "height": 102
    },
    "colab_type": "code",
    "id": "iB2duLzl9LcR",
    "outputId": "c19db79d-1137-49e2-ef16-d06246d771c4"
   },
   "outputs": [
    {
     "name": "stdout",
     "output_type": "stream",
     "text": [
      "chr1\r\n",
      "chr10\r\n",
      "chr11\r\n",
      "chr12\r\n",
      "chr13\r\n",
      "chr14\r\n",
      "chr15\r\n",
      "chr16\r\n",
      "chr17\r\n",
      "chr18\r\n",
      "chr19\r\n",
      "chr2\r\n",
      "chr3\r\n",
      "chr4\r\n",
      "chr5\r\n",
      "chr6\r\n",
      "chr7\r\n",
      "chr8\r\n",
      "chr9\r\n",
      "chrX\r\n",
      "chrY\r\n"
     ]
    }
   ],
   "source": [
    "# chromsomome names of differnet peaks\n",
    "!zcat {project_dir}dat/bpnet-manuscript-data/data/chip-nexus/Sox2/idr-optimal-set.summit.bed.gz \\\n",
    "    | cut -f 1 | sort -u"
   ]
  },
  {
   "cell_type": "markdown",
   "metadata": {
    "colab_type": "text",
    "id": "Ok51Hx8C9rJ2"
   },
   "source": [
    "Each task (or TF) can specify a set of peaks associated with it. Here are the number of peaks per TF we will use in this tutorial:"
   ]
  },
  {
   "cell_type": "code",
   "execution_count": 8,
   "metadata": {
    "colab": {
     "base_uri": "https://localhost:8080/",
     "height": 119
    },
    "colab_type": "code",
    "id": "WU5wXNcS-BNn",
    "outputId": "db69a716-852b-4f31-8fcd-75f59e36eda2"
   },
   "outputs": [
    {
     "name": "stdout",
     "output_type": "stream",
     "text": [
      "Oct4\n",
      "25849\n",
      "Sox2\n",
      "10999\n",
      "Nanog\n",
      "56459\n",
      "Klf4\n",
      "57601\n"
     ]
    }
   ],
   "source": [
    "tasks = ['Oct4', 'Sox2', 'Nanog', 'Klf4']\n",
    "\n",
    "# number of peaks per task\n",
    "for task in tasks:\n",
    "    print(task)\n",
    "    !zcat {data_dir}/bpnet-manuscript-data/data/chip-nexus/{task}/idr-optimal-set.summit.bed.gz | wc -l"
   ]
  },
  {
   "cell_type": "markdown",
   "metadata": {
    "colab_type": "text",
    "id": "zphiFpBT1-5G"
   },
   "source": [
    "## 2. Train the model"
   ]
  },
  {
   "cell_type": "markdown",
   "metadata": {
    "colab_type": "text",
    "id": "ojWuf4Jg1_pM"
   },
   "source": [
    "Having specified `dataspec.yml`, we are now ready to train the model with \n",
    "\n",
    "```\n",
    "bpnet train <dataspec.yml> <output dir> [optional flags]`\n",
    "```\n",
    "\n",
    "\n",
    "We will use a pre-made model [bpnet9](../bpnet/premade/bpnet9.gin) as a starting point and modify a few parameters specified in the config.gin file. Specifically, we will \n",
    "- train the model only on chromosomes 16-19\n",
    "- evaluate the model on chromosome 2\n",
    "- use only 3 layers of dilated convolutions \n",
    "- use an input sequence length of 200 bp and accordingly lower the augmentation shift to 100 bp"
   ]
  },
  {
   "cell_type": "code",
   "execution_count": 9,
   "metadata": {
    "colab": {
     "base_uri": "https://localhost:8080/",
     "height": 170
    },
    "colab_type": "code",
    "id": "3xFw1K-gLncD",
    "outputId": "884c5cbf-72b7-4bfc-c389-33d17ed9c07c"
   },
   "outputs": [
    {
     "name": "stdout",
     "output_type": "stream",
     "text": [
      "task_specs:\r\n",
      "  Oct4:\r\n",
      "    tracks:\r\n",
      "    - /home/stephenmalina/project/dat/bpnet-manuscript-data/data/chip-nexus/Oct4/counts.pos.bw\r\n",
      "    - /home/stephenmalina/project/dat/bpnet-manuscript-data/data/chip-nexus/Oct4/counts.neg.bw\r\n",
      "    peaks: /home/stephenmalina/project/dat/bpnet-manuscript-data/data/chip-nexus/Oct4/idr-optimal-set.summit.bed.gz\r\n",
      "  Sox2:\r\n",
      "    tracks:\r\n",
      "    - /home/stephenmalina/project/dat/bpnet-manuscript-data/data/chip-nexus/Sox2/counts.pos.bw\r\n",
      "    - /home/stephenmalina/project/dat/bpnet-manuscript-data/data/chip-nexus/Sox2/counts.neg.bw\r\n",
      "    peaks: /home/stephenmalina/project/dat/bpnet-manuscript-data/data/chip-nexus/Sox2/idr-optimal-set.summit.bed.gz\r\n",
      "  Nanog:\r\n",
      "    tracks:\r\n",
      "    - /home/stephenmalina/project/dat/bpnet-manuscript-data/data/chip-nexus/Nanog/counts.pos.bw\r\n",
      "    - /home/stephenmalina/project/dat/bpnet-manuscript-data/data/chip-nexus/Nanog/counts.neg.bw\r\n",
      "    peaks: /home/stephenmalina/project/dat/bpnet-manuscript-data/data/chip-nexus/Nanog/idr-optimal-set.summit.bed.gz\r\n",
      "  Klf4:\r\n",
      "    tracks:\r\n",
      "    - /home/stephenmalina/project/dat/bpnet-manuscript-data/data/chip-nexus/Klf4/counts.pos.bw\r\n",
      "    - /home/stephenmalina/project/dat/bpnet-manuscript-data/data/chip-nexus/Klf4/counts.neg.bw\r\n",
      "    peaks: /home/stephenmalina/project/dat/bpnet-manuscript-data/data/chip-nexus/Klf4/idr-optimal-set.summit.bed.gz\r\n",
      "\r\n",
      "bias_specs:\r\n",
      "  input:\r\n",
      "    tracks:\r\n",
      "    - /home/stephenmalina/project/dat/bpnet-manuscript-data/data/chip-nexus/patchcap/counts.pos.bw\r\n",
      "    - /home/stephenmalina/project/dat/bpnet-manuscript-data/data/chip-nexus/patchcap/counts.neg.bw\r\n",
      "    tasks:\r\n",
      "      - Oct4\r\n",
      "      - Sox2\r\n",
      "      - Nanog\r\n",
      "      - Klf4\r\n",
      "\r\n",
      "fasta_file: /home/stephenmalina/project/dat/bpnet-manuscript-data/data/mm10_no_alt_analysis_set_ENCODE.fasta\r\n"
     ]
    }
   ],
   "source": [
    "!cat {config_dir}/{model_config_fname} \n",
    "# NOTE: test_chr will be also excluded similar to 'exclude_chr'"
   ]
  },
  {
   "cell_type": "markdown",
   "metadata": {
    "colab_type": "text",
    "id": "IR51oX6LAwW9"
   },
   "source": [
    "Have a look at the original gin file of bpnet9 here: https://github.com/kundajelab/bpnet/blob/master/bpnet/premade/bpnet9-ginspec.gin. For more information on using gin files see <https://github.com/google/gin-config>. "
   ]
  },
  {
   "cell_type": "markdown",
   "metadata": {
    "colab_type": "text",
    "id": "FoTI8PJKLMZ9"
   },
   "source": [
    "To track model training and evaluation, we will use [wandb](http://wandb.com/) by adding `--wandb=avsec/bpnet-demo` to `bpnet train`. You can navigate to https://app.wandb.ai/avsec/bpnet-demo to see the training progress."
   ]
  },
  {
   "cell_type": "markdown",
   "metadata": {
    "colab_type": "text",
    "id": "EcS0857OAIoy"
   },
   "source": [
    "Let's train!"
   ]
  },
  {
   "cell_type": "code",
   "execution_count": 10,
   "metadata": {
    "colab": {},
    "colab_type": "code",
    "id": "PyaAb_VqCWt0"
   },
   "outputs": [],
   "source": [
    "# setup all the file paths\n",
    "example_model_dir = os.path.join(output_dir, 'output_ensemble', '0')"
   ]
  },
  {
   "cell_type": "code",
   "execution_count": 18,
   "metadata": {
    "colab": {
     "base_uri": "https://localhost:8080/",
     "height": 1000
    },
    "colab_type": "code",
    "id": "yglTmu3FrtpB",
    "outputId": "234b17b8-0e5d-4dbe-aa7e-177ef15efad5",
    "scrolled": false
   },
   "outputs": [
    {
     "name": "stdout",
     "output_type": "stream",
     "text": [
      "Using TensorFlow backend.\n",
      "WARNING:tensorflow:From /home/ubuntu/anaconda3/envs/deepmr/lib/python3.6/site-packages/keras/optimizers.py:790: The name tf.train.Optimizer is deprecated. Please use tf.compat.v1.train.Optimizer instead.\n",
      "\n",
      "2021-01-02 05:13:16,856 [WARNING] From /home/ubuntu/anaconda3/envs/deepmr/lib/python3.6/site-packages/keras/optimizers.py:790: The name tf.train.Optimizer is deprecated. Please use tf.compat.v1.train.Optimizer instead.\n",
      "\n",
      "2021-01-02 05:13:17,519 [INFO] NumExpr defaulting to 4 threads.\n",
      "/home/ubuntu/anaconda3/envs/deepmr/lib/python3.6/site-packages/bpnet/plot/heatmaps.py:6: MatplotlibDeprecationWarning: \n",
      "The mpl_toolkits.axes_grid1.colorbar module was deprecated in Matplotlib 3.2 and will be removed two minor releases later. Use matplotlib.colorbar instead.\n",
      "  from mpl_toolkits.axes_grid1.colorbar import colorbar\n",
      "\u001b[32mINFO\u001b[0m \u001b[44m[01-02 05:13:19]\u001b[0m Using gpu: 0, memory fraction: 0.45\u001b[0m\n",
      "2021-01-02 05:13:19.325018: I tensorflow/core/platform/cpu_feature_guard.cc:142] Your CPU supports instructions that this TensorFlow binary was not compiled to use: AVX2 FMA\n",
      "2021-01-02 05:13:19.333201: I tensorflow/core/platform/profile_utils/cpu_utils.cc:94] CPU Frequency: 2299995000 Hz\n",
      "2021-01-02 05:13:19.333557: I tensorflow/compiler/xla/service/service.cc:168] XLA service 0x5605e42378c0 initialized for platform Host (this does not guarantee that XLA will be used). Devices:\n",
      "2021-01-02 05:13:19.333600: I tensorflow/compiler/xla/service/service.cc:176]   StreamExecutor device (0): Host, Default Version\n",
      "2021-01-02 05:13:19.336495: I tensorflow/stream_executor/platform/default/dso_loader.cc:44] Successfully opened dynamic library libcuda.so.1\n",
      "2021-01-02 05:13:19.421805: I tensorflow/stream_executor/cuda/cuda_gpu_executor.cc:983] successful NUMA node read from SysFS had negative value (-1), but there must be at least one NUMA node, so returning NUMA node zero\n",
      "2021-01-02 05:13:19.422672: I tensorflow/compiler/xla/service/service.cc:168] XLA service 0x5605e4239a80 initialized for platform CUDA (this does not guarantee that XLA will be used). Devices:\n",
      "2021-01-02 05:13:19.422712: I tensorflow/compiler/xla/service/service.cc:176]   StreamExecutor device (0): Tesla K80, Compute Capability 3.7\n",
      "2021-01-02 05:13:19.423029: I tensorflow/stream_executor/cuda/cuda_gpu_executor.cc:983] successful NUMA node read from SysFS had negative value (-1), but there must be at least one NUMA node, so returning NUMA node zero\n",
      "2021-01-02 05:13:19.423791: I tensorflow/core/common_runtime/gpu/gpu_device.cc:1639] Found device 0 with properties: \n",
      "name: Tesla K80 major: 3 minor: 7 memoryClockRate(GHz): 0.8235\n",
      "pciBusID: 0000:00:1e.0\n",
      "2021-01-02 05:13:19.424108: I tensorflow/stream_executor/platform/default/dso_loader.cc:44] Successfully opened dynamic library libcudart.so.10.0\n",
      "2021-01-02 05:13:19.425667: I tensorflow/stream_executor/platform/default/dso_loader.cc:44] Successfully opened dynamic library libcublas.so.10.0\n",
      "2021-01-02 05:13:19.427037: I tensorflow/stream_executor/platform/default/dso_loader.cc:44] Successfully opened dynamic library libcufft.so.10.0\n",
      "2021-01-02 05:13:19.427388: I tensorflow/stream_executor/platform/default/dso_loader.cc:44] Successfully opened dynamic library libcurand.so.10.0\n",
      "2021-01-02 05:13:19.429190: I tensorflow/stream_executor/platform/default/dso_loader.cc:44] Successfully opened dynamic library libcusolver.so.10.0\n",
      "2021-01-02 05:13:19.430577: I tensorflow/stream_executor/platform/default/dso_loader.cc:44] Successfully opened dynamic library libcusparse.so.10.0\n",
      "2021-01-02 05:13:19.434699: I tensorflow/stream_executor/platform/default/dso_loader.cc:44] Successfully opened dynamic library libcudnn.so.7\n",
      "2021-01-02 05:13:19.434899: I tensorflow/stream_executor/cuda/cuda_gpu_executor.cc:983] successful NUMA node read from SysFS had negative value (-1), but there must be at least one NUMA node, so returning NUMA node zero\n",
      "2021-01-02 05:13:19.435784: I tensorflow/stream_executor/cuda/cuda_gpu_executor.cc:983] successful NUMA node read from SysFS had negative value (-1), but there must be at least one NUMA node, so returning NUMA node zero\n",
      "2021-01-02 05:13:19.436518: I tensorflow/core/common_runtime/gpu/gpu_device.cc:1767] Adding visible gpu devices: 0\n",
      "2021-01-02 05:13:19.436603: I tensorflow/stream_executor/platform/default/dso_loader.cc:44] Successfully opened dynamic library libcudart.so.10.0\n",
      "2021-01-02 05:13:19.438561: I tensorflow/core/common_runtime/gpu/gpu_device.cc:1180] Device interconnect StreamExecutor with strength 1 edge matrix:\n",
      "2021-01-02 05:13:19.438596: I tensorflow/core/common_runtime/gpu/gpu_device.cc:1186]      0 \n",
      "2021-01-02 05:13:19.438618: I tensorflow/core/common_runtime/gpu/gpu_device.cc:1199] 0:   N \n",
      "2021-01-02 05:13:19.438802: I tensorflow/stream_executor/cuda/cuda_gpu_executor.cc:983] successful NUMA node read from SysFS had negative value (-1), but there must be at least one NUMA node, so returning NUMA node zero\n",
      "2021-01-02 05:13:19.439672: I tensorflow/stream_executor/cuda/cuda_gpu_executor.cc:983] successful NUMA node read from SysFS had negative value (-1), but there must be at least one NUMA node, so returning NUMA node zero\n",
      "2021-01-02 05:13:19.440449: I tensorflow/core/common_runtime/gpu/gpu_device.cc:1325] Created TensorFlow device (/job:localhost/replica:0/task:0/device:GPU:0 with 5148 MB memory) -> physical GPU (device: 0, name: Tesla K80, pci bus id: 0000:00:1e.0, compute capability: 3.7)\n",
      "\u001b[32mINFO\u001b[0m \u001b[44m[01-02 05:13:19]\u001b[0m Using the following premade configuration: bpnet9\u001b[0m\n",
      "\u001b[32mINFO\u001b[0m \u001b[44m[01-02 05:13:19]\u001b[0m Using the following config.gin files: ChIP-nexus-default.gin\u001b[0m\n",
      "TF-MoDISco is using the TensorFlow backend.\n",
      "/home/ubuntu/anaconda3/envs/deepmr/lib/python3.6/site-packages/sklearn/utils/deprecation.py:144: FutureWarning: The sklearn.neighbors.kde module is  deprecated in version 0.22 and will be removed in version 0.24. The corresponding classes / functions should instead be imported from sklearn.neighbors. Anything that cannot be imported from sklearn.neighbors is now part of the private API.\n",
      "  warnings.warn(message, FutureWarning)\n",
      "Used config: ----------------------------------------\n",
      "import bpnet\n",
      "import bpnet.configurables\n",
      "import bpnet.datasets\n",
      "import bpnet.heads\n",
      "import bpnet.layers\n",
      "import bpnet.losses\n",
      "import bpnet.metrics\n",
      "import bpnet.models\n",
      "import bpnet.seqmodel\n",
      "import bpnet.trainers\n",
      "\n",
      "# Macros:\n",
      "# ==============================================================================\n",
      "augment_interval = True\n",
      "batchnorm = False\n",
      "dataspec = 'ChIP-nexus.dataspec.yml'\n",
      "exclude_chr = ['chrX', 'chrY']\n",
      "filters = 64\n",
      "lambda = 10\n",
      "lr = 0.004\n",
      "n_bias_tracks = 2\n",
      "n_dil_layers = 9\n",
      "seq_width = 1000\n",
      "tasks = ['Oct4', 'Sox2', 'Nanog', 'Klf4']\n",
      "tconv_kernel_size = 25\n",
      "test_chr = ['chr1', 'chr8', 'chr9']\n",
      "tracks_per_task = 2\n",
      "use_bias = True\n",
      "valid_chr = ['chr2', 'chr3', 'chr4']\n",
      "\n",
      "# Parameters for Adam:\n",
      "# ==============================================================================\n",
      "Adam.amsgrad = False\n",
      "Adam.beta_1 = 0.9\n",
      "Adam.beta_2 = 0.999\n",
      "Adam.decay = 0.0\n",
      "Adam.epsilon = None\n",
      "Adam.lr = %lr\n",
      "\n",
      "# Parameters for bpnet_data:\n",
      "# ==============================================================================\n",
      "bpnet_data.augment_interval = %augment_interval\n",
      "bpnet_data.dataspec = %dataspec\n",
      "bpnet_data.exclude_chr = %exclude_chr\n",
      "bpnet_data.include_metadata = False\n",
      "bpnet_data.interval_augmentation_shift = 200\n",
      "bpnet_data.intervals_file = None\n",
      "bpnet_data.intervals_format = 'bed'\n",
      "bpnet_data.peak_width = %seq_width\n",
      "bpnet_data.seq_width = %seq_width\n",
      "bpnet_data.shuffle = True\n",
      "bpnet_data.tasks = %tasks\n",
      "bpnet_data.test_chr = %test_chr\n",
      "bpnet_data.track_transform = None\n",
      "bpnet_data.valid_chr = %valid_chr\n",
      "\n",
      "# Parameters for ClassificationMetrics:\n",
      "# ==============================================================================\n",
      "# None.\n",
      "\n",
      "# Parameters for DeConv1D:\n",
      "# ==============================================================================\n",
      "DeConv1D.batchnorm = %batchnorm\n",
      "DeConv1D.filters = %filters\n",
      "DeConv1D.n_hidden = 0\n",
      "DeConv1D.n_tasks = %tracks_per_task\n",
      "DeConv1D.padding = 'same'\n",
      "DeConv1D.tconv_kernel_size = %tconv_kernel_size\n",
      "\n",
      "# Parameters for DilatedConv1D:\n",
      "# ==============================================================================\n",
      "DilatedConv1D.add_pointwise = False\n",
      "DilatedConv1D.batchnorm = %batchnorm\n",
      "DilatedConv1D.conv1_kernel_size = 25\n",
      "DilatedConv1D.filters = %filters\n",
      "DilatedConv1D.n_dil_layers = %n_dil_layers\n",
      "DilatedConv1D.padding = 'same'\n",
      "DilatedConv1D.skip_type = 'residual'\n",
      "\n",
      "# Parameters for GlobalAvgPoolFCN:\n",
      "# ==============================================================================\n",
      "GlobalAvgPoolFCN.batchnorm = %batchnorm\n",
      "GlobalAvgPoolFCN.dropout = 0\n",
      "GlobalAvgPoolFCN.dropout_hidden = 0\n",
      "GlobalAvgPoolFCN.hidden = None\n",
      "GlobalAvgPoolFCN.n_splines = 0\n",
      "GlobalAvgPoolFCN.n_tasks = %tracks_per_task\n",
      "\n",
      "# Parameters for IntervalAugmentor:\n",
      "# ==============================================================================\n",
      "# None.\n",
      "\n",
      "# Parameters for MetricsOrderedDict:\n",
      "# ==============================================================================\n",
      "# None.\n",
      "\n",
      "# Parameters for MovingAverages:\n",
      "# ==============================================================================\n",
      "MovingAverages.window_sizes = [1, 50]\n",
      "\n",
      "# Parameters for multinomial_nll:\n",
      "# ==============================================================================\n",
      "# None.\n",
      "\n",
      "# Parameters for PeakPredictionProfileMetric:\n",
      "# ==============================================================================\n",
      "PeakPredictionProfileMetric.binsizes = [1, 10]\n",
      "PeakPredictionProfileMetric.neg_max_threshold = 0.005\n",
      "PeakPredictionProfileMetric.pos_min_threshold = 0.015\n",
      "PeakPredictionProfileMetric.required_min_pos_counts = 2.5\n",
      "\n",
      "# Parameters for ProfileHead:\n",
      "# ==============================================================================\n",
      "ProfileHead.activation = None\n",
      "ProfileHead.bias_input = 'bias/{task}/profile'\n",
      "ProfileHead.bias_net = @MovingAverages()\n",
      "ProfileHead.bias_shape = (None, %n_bias_tracks)\n",
      "ProfileHead.loss = @multinomial_nll\n",
      "ProfileHead.loss_weight = 1\n",
      "ProfileHead.metric = @PeakPredictionProfileMetric()\n",
      "ProfileHead.net = @DeConv1D()\n",
      "ProfileHead.postproc_fn = @softmax\n",
      "ProfileHead.target_name = '{task}/profile'\n",
      "ProfileHead.use_bias = %use_bias\n",
      "\n",
      "# Parameters for RegressionMetrics:\n",
      "# ==============================================================================\n",
      "# None.\n",
      "\n",
      "# Parameters for report_template:\n",
      "# ==============================================================================\n",
      "report_template.name = 'evaluate.ipynb'\n",
      "report_template.raise_error = True\n",
      "\n",
      "# Parameters for ScalarHead:\n",
      "# ==============================================================================\n",
      "ScalarHead.activation = None\n",
      "ScalarHead.bias_input = 'bias/{task}/counts'\n",
      "ScalarHead.bias_net = None\n",
      "ScalarHead.bias_shape = (%n_bias_tracks,)\n",
      "ScalarHead.loss = 'mse'\n",
      "ScalarHead.loss_weight = %lambda\n",
      "ScalarHead.metric = @RegressionMetrics()\n",
      "ScalarHead.net = @GlobalAvgPoolFCN()\n",
      "ScalarHead.postproc_fn = None\n",
      "ScalarHead.target_name = '{task}/counts'\n",
      "ScalarHead.use_bias = %use_bias\n",
      "\n",
      "# Parameters for SeqModel:\n",
      "# ==============================================================================\n",
      "SeqModel.body = @DilatedConv1D()\n",
      "SeqModel.heads = [@ProfileHead(), @ScalarHead()]\n",
      "SeqModel.input_name = 'seq'\n",
      "SeqModel.input_shape = None\n",
      "SeqModel.optimizer = @keras.optimizers.Adam()\n",
      "SeqModel.seqlen = %seq_width\n",
      "SeqModel.tasks = %tasks\n",
      "\n",
      "# Parameters for StrandedProfile:\n",
      "# ==============================================================================\n",
      "StrandedProfile.excl_chromosomes = None\n",
      "StrandedProfile.include_classes = False\n",
      "\n",
      "# Parameters for train:\n",
      "# ==============================================================================\n",
      "train.batch_size = 128\n",
      "train.data = @bpnet_data()\n",
      "train.early_stop_patience = 5\n",
      "train.epochs = 10\n",
      "train.eval_metric = None\n",
      "train.eval_report = @report_template()\n",
      "train.eval_skip = []\n",
      "train.eval_train = False\n",
      "train.model = @SeqModel()\n",
      "train.seed = 0\n",
      "train.stratified_sampler_p = None\n",
      "train.tensorboard = True\n",
      "train.train_batch_sampler = None\n",
      "train.train_epoch_frac = 1.0\n",
      "train.train_samples_per_epoch = None\n",
      "train.valid_epoch_frac = 1.0\n",
      "train.validation_samples = None\n",
      "\n",
      "----------------------------------------------------\n",
      "/home/ubuntu/anaconda3/envs/deepmr/lib/python3.6/site-packages/bpnet/cli/train.py:195: YAMLLoadWarning: calling yaml.load() without Loader=... is deprecated, as the default Loader is unsafe. Please read https://msg.pyyaml.org/load for full details.\n",
      "  gin_macro_dict = yaml.load(\"\\n\".join(macros).replace(\"@\", \"\").replace(\" = %\", \": \").replace(\" = \", \": \"))\n"
     ]
    },
    {
     "name": "stdout",
     "output_type": "stream",
     "text": [
      "/home/ubuntu/anaconda3/envs/deepmr/lib/python3.6/site-packages/bpnet/cli/train.py:208: YAMLLoadWarning: calling yaml.load() without Loader=... is deprecated, as the default Loader is unsafe. Please read https://msg.pyyaml.org/load for full details.\n",
      "  .replace(\" = \", \": \"))\n",
      "Epoch 1/10\n",
      "2021-01-02 05:13:37.962050: I tensorflow/stream_executor/platform/default/dso_loader.cc:44] Successfully opened dynamic library libcublas.so.10.0\n",
      "2021-01-02 05:13:38.137972: I tensorflow/stream_executor/platform/default/dso_loader.cc:44] Successfully opened dynamic library libcudnn.so.7\n",
      "2021-01-02 05:13:38.659704: E tensorflow/stream_executor/cuda/cuda_dnn.cc:319] Loaded runtime CuDNN library: 7.5.1 but source was compiled with: 7.6.0.  CuDNN library major and minor version needs to match or have higher minor version in case of CuDNN 7.0 or later version. If using a binary install, upgrade your CuDNN library.  If building from sources, make sure the library loaded at runtime is compatible with the version specified during compile configuration.\n",
      "2021-01-02 05:13:38.660717: E tensorflow/stream_executor/cuda/cuda_dnn.cc:319] Loaded runtime CuDNN library: 7.5.1 but source was compiled with: 7.6.0.  CuDNN library major and minor version needs to match or have higher minor version in case of CuDNN 7.0 or later version. If using a binary install, upgrade your CuDNN library.  If building from sources, make sure the library loaded at runtime is compatible with the version specified during compile configuration.\n",
      "2021-01-02 05:13:38.662526: E tensorflow/stream_executor/cuda/cuda_dnn.cc:319] Loaded runtime CuDNN library: 7.5.1 but source was compiled with: 7.6.0.  CuDNN library major and minor version needs to match or have higher minor version in case of CuDNN 7.0 or later version. If using a binary install, upgrade your CuDNN library.  If building from sources, make sure the library loaded at runtime is compatible with the version specified during compile configuration.\n",
      "2021-01-02 05:13:38.663486: E tensorflow/stream_executor/cuda/cuda_dnn.cc:319] Loaded runtime CuDNN library: 7.5.1 but source was compiled with: 7.6.0.  CuDNN library major and minor version needs to match or have higher minor version in case of CuDNN 7.0 or later version. If using a binary install, upgrade your CuDNN library.  If building from sources, make sure the library loaded at runtime is compatible with the version specified during compile configuration.\n",
      "2021-01-02 05:13:38.664583: E tensorflow/stream_executor/cuda/cuda_dnn.cc:319] Loaded runtime CuDNN library: 7.5.1 but source was compiled with: 7.6.0.  CuDNN library major and minor version needs to match or have higher minor version in case of CuDNN 7.0 or later version. If using a binary install, upgrade your CuDNN library.  If building from sources, make sure the library loaded at runtime is compatible with the version specified during compile configuration.\n",
      "2021-01-02 05:13:38.665504: E tensorflow/stream_executor/cuda/cuda_dnn.cc:319] Loaded runtime CuDNN library: 7.5.1 but source was compiled with: 7.6.0.  CuDNN library major and minor version needs to match or have higher minor version in case of CuDNN 7.0 or later version. If using a binary install, upgrade your CuDNN library.  If building from sources, make sure the library loaded at runtime is compatible with the version specified during compile configuration.\n",
      "2021-01-02 05:13:38.666465: E tensorflow/stream_executor/cuda/cuda_dnn.cc:319] Loaded runtime CuDNN library: 7.5.1 but source was compiled with: 7.6.0.  CuDNN library major and minor version needs to match or have higher minor version in case of CuDNN 7.0 or later version. If using a binary install, upgrade your CuDNN library.  If building from sources, make sure the library loaded at runtime is compatible with the version specified during compile configuration.\n",
      "2021-01-02 05:13:38.667400: E tensorflow/stream_executor/cuda/cuda_dnn.cc:319] Loaded runtime CuDNN library: 7.5.1 but source was compiled with: 7.6.0.  CuDNN library major and minor version needs to match or have higher minor version in case of CuDNN 7.0 or later version. If using a binary install, upgrade your CuDNN library.  If building from sources, make sure the library loaded at runtime is compatible with the version specified during compile configuration.\n",
      "2021-01-02 05:13:38.668361: E tensorflow/stream_executor/cuda/cuda_dnn.cc:319] Loaded runtime CuDNN library: 7.5.1 but source was compiled with: 7.6.0.  CuDNN library major and minor version needs to match or have higher minor version in case of CuDNN 7.0 or later version. If using a binary install, upgrade your CuDNN library.  If building from sources, make sure the library loaded at runtime is compatible with the version specified during compile configuration.\n",
      "2021-01-02 05:13:38.669323: E tensorflow/stream_executor/cuda/cuda_dnn.cc:319] Loaded runtime CuDNN library: 7.5.1 but source was compiled with: 7.6.0.  CuDNN library major and minor version needs to match or have higher minor version in case of CuDNN 7.0 or later version. If using a binary install, upgrade your CuDNN library.  If building from sources, make sure the library loaded at runtime is compatible with the version specified during compile configuration.\n",
      "Traceback (most recent call last):\n",
      "  File \"/home/ubuntu/anaconda3/envs/deepmr/bin/bpnet\", line 8, in <module>\n",
      "    sys.exit(main())\n",
      "  File \"/home/ubuntu/anaconda3/envs/deepmr/lib/python3.6/site-packages/bpnet/__main__.py\", line 38, in main\n",
      "    argh.dispatch(parser)\n",
      "  File \"/home/ubuntu/anaconda3/envs/deepmr/lib/python3.6/site-packages/argh/dispatching.py\", line 174, in dispatch\n",
      "    for line in lines:\n",
      "  File \"/home/ubuntu/anaconda3/envs/deepmr/lib/python3.6/site-packages/argh/dispatching.py\", line 277, in _execute_command\n",
      "    for line in result:\n",
      "  File \"/home/ubuntu/anaconda3/envs/deepmr/lib/python3.6/site-packages/argh/dispatching.py\", line 260, in _call\n",
      "    result = function(*positional, **keywords)\n",
      "  File \"/home/ubuntu/anaconda3/envs/deepmr/lib/python3.6/site-packages/bpnet/cli/train.py\", line 697, in bpnet_train\n",
      "    gpu=gpu)\n",
      "  File \"/home/ubuntu/anaconda3/envs/deepmr/lib/python3.6/site-packages/gin/config.py\", line 1069, in gin_wrapper\n",
      "    utils.augment_exception_message_and_reraise(e, err_str)\n",
      "  File \"/home/ubuntu/anaconda3/envs/deepmr/lib/python3.6/site-packages/gin/utils.py\", line 41, in augment_exception_message_and_reraise\n",
      "    raise proxy.with_traceback(exception.__traceback__) from None\n",
      "  File \"/home/ubuntu/anaconda3/envs/deepmr/lib/python3.6/site-packages/gin/config.py\", line 1046, in gin_wrapper\n",
      "    return fn(*new_args, **new_kwargs)\n",
      "  File \"/home/ubuntu/anaconda3/envs/deepmr/lib/python3.6/site-packages/bpnet/cli/train.py\", line 440, in train\n",
      "    tensorboard=tensorboard)\n",
      "  File \"/home/ubuntu/anaconda3/envs/deepmr/lib/python3.6/site-packages/bpnet/trainers.py\", line 128, in train\n",
      "    ] + tb + wcp\n",
      "  File \"/home/ubuntu/anaconda3/envs/deepmr/lib/python3.6/site-packages/keras/legacy/interfaces.py\", line 91, in wrapper\n",
      "    return func(*args, **kwargs)\n",
      "  File \"/home/ubuntu/anaconda3/envs/deepmr/lib/python3.6/site-packages/keras/engine/training.py\", line 1418, in fit_generator\n",
      "    initial_epoch=initial_epoch)\n",
      "  File \"/home/ubuntu/anaconda3/envs/deepmr/lib/python3.6/site-packages/keras/engine/training_generator.py\", line 217, in fit_generator\n",
      "    class_weight=class_weight)\n",
      "  File \"/home/ubuntu/anaconda3/envs/deepmr/lib/python3.6/site-packages/keras/engine/training.py\", line 1217, in train_on_batch\n",
      "    outputs = self.train_function(ins)\n",
      "  File \"/home/ubuntu/anaconda3/envs/deepmr/lib/python3.6/site-packages/keras/backend/tensorflow_backend.py\", line 2715, in __call__\n",
      "    return self._call(inputs)\n",
      "  File \"/home/ubuntu/anaconda3/envs/deepmr/lib/python3.6/site-packages/keras/backend/tensorflow_backend.py\", line 2675, in _call\n",
      "    fetched = self._callable_fn(*array_vals)\n",
      "  File \"/home/ubuntu/anaconda3/envs/deepmr/lib/python3.6/site-packages/tensorflow_core/python/client/session.py\", line 1472, in __call__\n",
      "    run_metadata_ptr)\n",
      "tensorflow.python.framework.errors_impl.UnknownError: 2 root error(s) found.\n",
      "  (0) Unknown: Failed to get convolution algorithm. This is probably because cuDNN failed to initialize, so try looking to see if a warning log message was printed above.\n",
      "\t [[{{node conv1d_1/convolution}}]]\n",
      "\t [[loss/Sox2/counts_loss/Mean_3/_599]]\n",
      "  (1) Unknown: Failed to get convolution algorithm. This is probably because cuDNN failed to initialize, so try looking to see if a warning log message was printed above.\n",
      "\t [[{{node conv1d_1/convolution}}]]\n",
      "0 successful operations.\n",
      "0 derived errors ignored.\n",
      "  In call to configurable 'train' (<function train at 0x7f72836c57b8>)\n"
     ]
    }
   ],
   "source": [
    "# Train for at most 10 epochs\n",
    "for i in range(1):\n",
    "    # setup a new run_id (could be done automatically, but then the output directory would change)\n",
    "    run_id = datetime.now().strftime(\"%Y-%m-%d_%H-%M-%S\") + \"_\" + str(uuid.uuid4())\n",
    "    !cd {config_dir} && bpnet train {data_config_fname} --premade=bpnet9 \\\n",
    "        --config={model_config_fname} {output_dir} \\\n",
    "        --run-id '{run_id}' \\\n",
    "        --override='train.epochs=10; train.seed={i}'\n",
    "    # softlink the new output directory\n",
    "    !rm -rf {output_dir}/output_ensemble/{i} && ln -srf {output_dir}/{run_id} {output_dir}/output_ensemble/{i}"
   ]
  },
  {
   "cell_type": "code",
   "execution_count": 93,
   "metadata": {},
   "outputs": [
    {
     "name": "stdout",
     "output_type": "stream",
     "text": [
      "/home/stephenmalina/project/dat/res-bpnet-training-2020-09-02-16-18-50\n",
      "\n",
      "bpnet-train.kwargs.json\t\t\t    history.csv\n",
      "config.gin\t\t\t\t    input-config.gin\n",
      "config.gin.json\t\t\t\t    log\n",
      "dataspec.yml\t\t\t\t    model.h5\n",
      "evaluate.html\t\t\t\t    note_params.json\n",
      "evaluate.ipynb\t\t\t\t    seq_model.pkl\n",
      "evaluation.valid.json\t\t\t    wandb.json\n",
      "events.out.tfevents.1599063546.gregor-3-vm\n"
     ]
    }
   ],
   "source": [
    "! echo {output_dir}\n",
    "! echo\n",
    "! ls {output_dir}/output_ensemble/0"
   ]
  },
  {
   "cell_type": "code",
   "execution_count": 94,
   "metadata": {
    "colab": {
     "base_uri": "https://localhost:8080/",
     "height": 34
    },
    "colab_type": "code",
    "id": "3o_U-Fu2C0fU",
    "outputId": "0be96454-bb19-48e5-ae1c-44bea6d5b271"
   },
   "outputs": [
    {
     "name": "stdout",
     "output_type": "stream",
     "text": [
      "total 14976\r\n",
      "-rw-r--r--  1 stephenmalina stephenmalina       2 Sep  2 16:18 note_params.json\r\n",
      "drwxr-xr-x  2 stephenmalina stephenmalina    4096 Sep  2 16:18 log\r\n",
      "-rw-r--r--  1 stephenmalina stephenmalina     328 Sep  2 16:18 wandb.json\r\n",
      "-rw-r--r--  1 stephenmalina stephenmalina     302 Sep  2 16:18 input-config.gin\r\n",
      "-rw-r--r--  1 stephenmalina stephenmalina     579 Sep  2 16:18 bpnet-train.kwargs.json\r\n",
      "-rw-r--r--  1 stephenmalina stephenmalina    1562 Sep  2 16:18 dataspec.yml\r\n",
      "-rw-r--r--  1 stephenmalina stephenmalina    5943 Sep  2 16:18 config.gin\r\n",
      "-rw-r--r--  1 stephenmalina stephenmalina    4191 Sep  2 16:18 config.gin.json\r\n",
      "-rw-r--r--  1 stephenmalina stephenmalina    3743 Sep  2 16:51 history.csv\r\n",
      "-rw-r--r--  1 stephenmalina stephenmalina 1733204 Sep  2 16:51 events.out.tfevents.1599063546.gregor-3-vm\r\n",
      "-rw-r--r--  1 stephenmalina stephenmalina 1810128 Sep  2 16:52 model.h5\r\n",
      "-rw-r--r--  1 stephenmalina stephenmalina 2401402 Sep  2 16:52 seq_model.pkl\r\n",
      "-rw-r--r--  1 stephenmalina stephenmalina    8418 Sep  2 17:01 evaluation.valid.json\r\n",
      "-rw-r--r--  1 stephenmalina stephenmalina 4523787 Sep  2 17:02 evaluate.ipynb\r\n",
      "drwxr-xr-x  3 stephenmalina stephenmalina    4096 Sep  2 17:02 .\r\n",
      "-rw-r--r--  1 stephenmalina stephenmalina 4789196 Sep  2 17:02 evaluate.html\r\n",
      "drwxr-xr-x 14 stephenmalina stephenmalina    4096 Sep  2 19:15 ..\r\n"
     ]
    }
   ],
   "source": [
    "!ls -latr {example_model_dir}/"
   ]
  }
 ],
 "metadata": {
  "accelerator": "GPU",
  "colab": {
   "collapsed_sections": [],
   "name": "bpnet",
   "provenance": []
  },
  "kernelspec": {
   "display_name": "deepmr",
   "language": "python",
   "name": "deepmr"
  },
  "language_info": {
   "codemirror_mode": {
    "name": "ipython",
    "version": 3
   },
   "file_extension": ".py",
   "mimetype": "text/x-python",
   "name": "python",
   "nbconvert_exporter": "python",
   "pygments_lexer": "ipython3",
   "version": "3.6.12"
  }
 },
 "nbformat": 4,
 "nbformat_minor": 1
}
