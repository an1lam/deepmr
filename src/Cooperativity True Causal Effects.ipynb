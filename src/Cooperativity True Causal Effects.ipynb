{
 "cells": [
  {
   "cell_type": "code",
   "execution_count": 3,
   "metadata": {},
   "outputs": [
    {
     "name": "stderr",
     "output_type": "stream",
     "text": [
      "/home/stephen/anaconda3/envs/deepmr/lib/python3.6/site-packages/dask/dataframe/utils.py:13: FutureWarning: pandas.util.testing is deprecated. Use the functions in the public API at pandas.testing instead.\n",
      "  import pandas.util.testing as tm\n"
     ]
    }
   ],
   "source": [
    "%load_ext autoreload\n",
    "%autoreload 2\n",
    "\n",
    "import os\n",
    "import sys\n",
    "\n",
    "module_path = os.path.abspath(os.path.join('..'))\n",
    "if module_path not in sys.path:\n",
    "    sys.path.append(module_path)\n",
    "\n",
    "from matplotlib import pyplot as plt\n",
    "from IPython.display import clear_output\n",
    "import numpy as np\n",
    "import pandas as pd\n",
    "import seaborn as sns\n",
    "import simdna\n",
    "from simdna import synthetic\n",
    "import statsmodels.api as sm\n",
    "import torch\n",
    "from tqdm.auto import tqdm\n",
    "\n",
    "from utils import one_hot_decode\n",
    "from in_silico_mutagenesis import compute_summary_statistics, generate_wt_mut_batches, write_results\n",
    "from pyx.one_hot import one_hot\n",
    "from tf_coop_model import CountsRegressor, IterablePandasDataset\n",
    "from tf_coop_model import anscombe_transform, run_one_epoch, spearman_rho, pearson_r\n",
    "from tf_coop_simulation import background_frequency\n",
    "from tf_coop_simulation import simulate_counts, simulate_oracle_predictions"
   ]
  },
  {
   "cell_type": "code",
   "execution_count": 4,
   "metadata": {},
   "outputs": [],
   "source": [
    "np.random.seed(42)"
   ]
  },
  {
   "cell_type": "code",
   "execution_count": 5,
   "metadata": {},
   "outputs": [],
   "source": [
    "sequence_length = 100\n",
    "includes_confounder = False\n",
    "\n",
    "data_dir = '../dat/sim'\n",
    "test_data_fpath = os.path.join(data_dir, 'test_labels.csv')\n",
    "raw_simulation_data_fpath = os.path.join(data_dir, 'test_sequences.simdata')\n",
    "\n",
    "sequences_col = \"sequences\"\n",
    "label_cols = [\"labels_exp\", \"labels_out\"]\n",
    "batch_size = 1000\n",
    "n_samples = 10\n",
    "\n",
    "exposure_motif = \"GATA_disc1\"\n",
    "outcome_motif = \"TAL1_known1\"\n",
    "confounder_motif = \"SOX2_1\" if includes_confounder else None"
   ]
  },
  {
   "cell_type": "code",
   "execution_count": 6,
   "metadata": {},
   "outputs": [
    {
     "data": {
      "text/plain": [
       "<torch.autograd.grad_mode.set_grad_enabled at 0x7fad7636bcc0>"
      ]
     },
     "execution_count": 6,
     "metadata": {},
     "output_type": "execute_result"
    }
   ],
   "source": [
    "torch.set_grad_enabled(False)"
   ]
  },
  {
   "cell_type": "markdown",
   "metadata": {},
   "source": [
    "# Load Test Data & Generate Predictions\n",
    "Now we're going to load test data to get some basic metrics about how well our model performs."
   ]
  },
  {
   "cell_type": "code",
   "execution_count": 7,
   "metadata": {},
   "outputs": [
    {
     "data": {
      "text/html": [
       "<div>\n",
       "<style scoped>\n",
       "    .dataframe tbody tr th:only-of-type {\n",
       "        vertical-align: middle;\n",
       "    }\n",
       "\n",
       "    .dataframe tbody tr th {\n",
       "        vertical-align: top;\n",
       "    }\n",
       "\n",
       "    .dataframe thead th {\n",
       "        text-align: right;\n",
       "    }\n",
       "</style>\n",
       "<table border=\"1\" class=\"dataframe\">\n",
       "  <thead>\n",
       "    <tr style=\"text-align: right;\">\n",
       "      <th></th>\n",
       "      <th>sequences</th>\n",
       "      <th>labels_exp</th>\n",
       "      <th>labels_out</th>\n",
       "      <th>has_exposure</th>\n",
       "      <th>has_outcome</th>\n",
       "      <th>has_both</th>\n",
       "      <th>has_confounder</th>\n",
       "    </tr>\n",
       "  </thead>\n",
       "  <tbody>\n",
       "    <tr>\n",
       "      <th>0</th>\n",
       "      <td>ATCCTGTATACCGTGTCTCACCAGATGGTACGTGTTGCATTTTCTT...</td>\n",
       "      <td>0</td>\n",
       "      <td>0</td>\n",
       "      <td>0</td>\n",
       "      <td>1</td>\n",
       "      <td>0</td>\n",
       "      <td>0</td>\n",
       "    </tr>\n",
       "    <tr>\n",
       "      <th>1</th>\n",
       "      <td>GGAGCTCTAGTGGCATTGGTGATAAGCACGCTGAGGAACGAGTAAG...</td>\n",
       "      <td>108</td>\n",
       "      <td>0</td>\n",
       "      <td>1</td>\n",
       "      <td>0</td>\n",
       "      <td>0</td>\n",
       "      <td>0</td>\n",
       "    </tr>\n",
       "    <tr>\n",
       "      <th>2</th>\n",
       "      <td>AGTAGAGTGAACCGGAGTACCAGATGTTAAGACGTCATCCTGGTCT...</td>\n",
       "      <td>1</td>\n",
       "      <td>5</td>\n",
       "      <td>0</td>\n",
       "      <td>1</td>\n",
       "      <td>0</td>\n",
       "      <td>0</td>\n",
       "    </tr>\n",
       "    <tr>\n",
       "      <th>3</th>\n",
       "      <td>AGAGTATCAAGCAACTACGATAACAATGCGGCATCCCTATATTGCT...</td>\n",
       "      <td>80</td>\n",
       "      <td>96</td>\n",
       "      <td>0</td>\n",
       "      <td>1</td>\n",
       "      <td>0</td>\n",
       "      <td>0</td>\n",
       "    </tr>\n",
       "    <tr>\n",
       "      <th>4</th>\n",
       "      <td>GCGAGATTAGGCGTGGATGTAACGCCGATACTTGGAATTGTCCTGA...</td>\n",
       "      <td>97</td>\n",
       "      <td>118</td>\n",
       "      <td>1</td>\n",
       "      <td>1</td>\n",
       "      <td>1</td>\n",
       "      <td>0</td>\n",
       "    </tr>\n",
       "  </tbody>\n",
       "</table>\n",
       "</div>"
      ],
      "text/plain": [
       "                                           sequences  labels_exp  labels_out  \\\n",
       "0  ATCCTGTATACCGTGTCTCACCAGATGGTACGTGTTGCATTTTCTT...           0           0   \n",
       "1  GGAGCTCTAGTGGCATTGGTGATAAGCACGCTGAGGAACGAGTAAG...         108           0   \n",
       "2  AGTAGAGTGAACCGGAGTACCAGATGTTAAGACGTCATCCTGGTCT...           1           5   \n",
       "3  AGAGTATCAAGCAACTACGATAACAATGCGGCATCCCTATATTGCT...          80          96   \n",
       "4  GCGAGATTAGGCGTGGATGTAACGCCGATACTTGGAATTGTCCTGA...          97         118   \n",
       "\n",
       "   has_exposure  has_outcome  has_both  has_confounder  \n",
       "0             0            1         0               0  \n",
       "1             1            0         0               0  \n",
       "2             0            1         0               0  \n",
       "3             0            1         0               0  \n",
       "4             1            1         1               0  "
      ]
     },
     "execution_count": 7,
     "metadata": {},
     "output_type": "execute_result"
    }
   ],
   "source": [
    "test_df = pd.read_csv(test_data_fpath)\n",
    "test_dataset = IterablePandasDataset(\n",
    "    test_df, x_cols=sequences_col, y_cols=label_cols, x_transform=one_hot,\n",
    ")\n",
    "test_data_loader = torch.utils.data.DataLoader(\n",
    "    test_dataset, batch_size=batch_size, num_workers=0\n",
    ")\n",
    "\n",
    "test_df.head()"
   ]
  },
  {
   "cell_type": "code",
   "execution_count": 8,
   "metadata": {},
   "outputs": [],
   "source": [
    "both_motifs_df = test_df[(test_df['has_both'] == 1)]\n",
    "exposure_motif_df = test_df[(test_df['has_exposure'] == 1) & (test_df['has_outcome'] == 0)]\n",
    "outcome_motif_df = test_df[(test_df['has_exposure'] == 0) & (test_df['has_outcome'] == 1)]\n",
    "neither_motif_df = test_df[\n",
    "    (test_df['has_exposure'] == 0) & (test_df['has_outcome'] == 0)\n",
    "]"
   ]
  },
  {
   "cell_type": "code",
   "execution_count": 9,
   "metadata": {},
   "outputs": [
    {
     "data": {
      "text/plain": [
       "(2499, 2514, 2460, 2527)"
      ]
     },
     "execution_count": 9,
     "metadata": {},
     "output_type": "execute_result"
    }
   ],
   "source": [
    "len(both_motifs_df), len(exposure_motif_df), len(outcome_motif_df), len(neither_motif_df)"
   ]
  },
  {
   "cell_type": "code",
   "execution_count": 45,
   "metadata": {},
   "outputs": [],
   "source": [
    "both_motifs_dataset = IterablePandasDataset(\n",
    "    both_motifs_df, x_cols=sequences_col, y_cols=label_cols, x_transform=one_hot,\n",
    "    y_transform=anscombe_transform,\n",
    ")\n",
    "exposure_motif_dataset = IterablePandasDataset(\n",
    "    exposure_motif_df, x_cols=sequences_col, y_cols=label_cols, x_transform=one_hot,\n",
    "    y_transform=anscombe_transform\n",
    ")"
   ]
  },
  {
   "cell_type": "code",
   "execution_count": 46,
   "metadata": {},
   "outputs": [],
   "source": [
    "def mutate(seqs):\n",
    "    preds = {}\n",
    "    all_muts = []\n",
    "    for seq in tqdm(seqs):\n",
    "        muts = generate_wt_mut_batches(seq, seq.shape[0] * seq.shape[1]).squeeze()\n",
    "        muts = muts.transpose(0, 1, 2)\n",
    "        all_muts.append(muts)\n",
    "        \n",
    "    return np.array(all_muts)"
   ]
  },
  {
   "cell_type": "code",
   "execution_count": 47,
   "metadata": {},
   "outputs": [],
   "source": [
    "both_motifs_sample_seqs = [x for x, y in both_motifs_dataset]"
   ]
  },
  {
   "cell_type": "code",
   "execution_count": 48,
   "metadata": {},
   "outputs": [],
   "source": [
    "exposure_motif_sample_seqs = [x for x, y in exposure_motif_dataset]"
   ]
  },
  {
   "cell_type": "code",
   "execution_count": 49,
   "metadata": {},
   "outputs": [
    {
     "data": {
      "application/vnd.jupyter.widget-view+json": {
       "model_id": "082ef2600b564bda80d45f94ca954e29",
       "version_major": 2,
       "version_minor": 0
      },
      "text/plain": [
       "HBox(children=(HTML(value=''), FloatProgress(value=0.0, max=2499.0), HTML(value='')))"
      ]
     },
     "metadata": {},
     "output_type": "display_data"
    },
    {
     "name": "stdout",
     "output_type": "stream",
     "text": [
      "\n"
     ]
    }
   ],
   "source": [
    "sample_seqs = np.array([seq for seq, label in both_motifs_dataset])\n",
    "sample_labels = np.array([label for _, label in both_motifs_dataset])\n",
    "sample_muts = mutate(sample_seqs)"
   ]
  },
  {
   "cell_type": "code",
   "execution_count": 50,
   "metadata": {},
   "outputs": [],
   "source": [
    "motifs = synthetic.LoadedEncodeMotifs(\n",
    "    simdna.ENCODE_MOTIFS_PATH, pseudocountProb=0.001\n",
    ")\n",
    "exposure_pwm = motifs.loadedMotifs[exposure_motif].getRows()\n",
    "outcome_pwm = motifs.loadedMotifs[outcome_motif].getRows()\n",
    "confounder_pwm = None if confounder_motif is None else motifs.loadedMotifs[confounder_motif].getRows()\n",
    "confounder_pwm"
   ]
  },
  {
   "cell_type": "code",
   "execution_count": 51,
   "metadata": {},
   "outputs": [
    {
     "data": {
      "application/vnd.jupyter.widget-view+json": {
       "model_id": "bff44ec376c5418a8d4e42811bcc0b1e",
       "version_major": 2,
       "version_minor": 0
      },
      "text/plain": [
       "HBox(children=(HTML(value=''), FloatProgress(value=0.0, max=2499.0), HTML(value='')))"
      ]
     },
     "metadata": {},
     "output_type": "display_data"
    },
    {
     "name": "stdout",
     "output_type": "stream",
     "text": [
      "\n"
     ]
    }
   ],
   "source": [
    "adjusted_labels_ism = []\n",
    "for i, muts in enumerate(tqdm(sample_muts)):\n",
    "    adjusted_labels_ = simulate_oracle_predictions(\n",
    "        [one_hot_decode(mut) for mut in muts],\n",
    "        exposure_pwm,\n",
    "        outcome_pwm,\n",
    "        confounder_pwm=confounder_pwm,\n",
    "    )\n",
    "    adjusted_labels_ism.append(adjusted_labels_)"
   ]
  },
  {
   "cell_type": "code",
   "execution_count": 52,
   "metadata": {},
   "outputs": [
    {
     "data": {
      "text/plain": [
       "(2499, 6, 400)"
      ]
     },
     "execution_count": 52,
     "metadata": {},
     "output_type": "execute_result"
    }
   ],
   "source": [
    "np.array(adjusted_labels_ism).shape"
   ]
  },
  {
   "cell_type": "code",
   "execution_count": 53,
   "metadata": {},
   "outputs": [],
   "source": [
    "adjusted_labels_ism_no_conf = []\n",
    "if includes_confounder:\n",
    "    for i, muts in enumerate(tqdm(sample_muts)):\n",
    "        adjusted_labels_ = simulate_oracle_predictions(\n",
    "            [one_hot_decode(mut) for mut in muts],\n",
    "            exposure_pwm,\n",
    "            outcome_pwm,\n",
    "        )\n",
    "        adjusted_labels_ism_no_conf.append(adjusted_labels_)"
   ]
  },
  {
   "cell_type": "code",
   "execution_count": 54,
   "metadata": {},
   "outputs": [],
   "source": [
    "adjusted_labels_ism = np.array(adjusted_labels_ism)\n",
    "adjusted_labels_ism = adjusted_labels_ism.transpose((0, 2, 1))\n",
    "adjusted_labels_ism = np.array(adjusted_labels_ism).reshape(len(sample_seqs), 4, 100, -1)\n",
    "adjusted_labels_ism_anscombe = anscombe_transform(adjusted_labels_ism)"
   ]
  },
  {
   "cell_type": "code",
   "execution_count": 57,
   "metadata": {},
   "outputs": [],
   "source": [
    "if includes_confounder:\n",
    "    adjusted_labels_ism_no_conf = np.array(adjusted_labels_ism_no_conf)\n",
    "    adjusted_labels_ism_no_conf = adjusted_labels_ism_no_conf.transpose((0, 2, 1))\n",
    "    adjusted_labels_ism_no_conf = np.array(adjusted_labels_ism_no_conf).reshape(len(sample_seqs), 4, 100, -1)\n",
    "    adjusted_labels_ism_no_conf_anscombe = anscombe_transform(adjusted_labels_ism_no_conf)"
   ]
  },
  {
   "cell_type": "code",
   "execution_count": 58,
   "metadata": {},
   "outputs": [],
   "source": [
    "seq_idxs = np.array(sample_seqs).astype(np.bool)\n",
    "adjusted_ref_labels_ism = adjusted_labels_ism_anscombe[seq_idxs].reshape(len(sample_seqs), 1, 100, -1)\n",
    "adjusted_mut_labels_ism = adjusted_labels_ism_anscombe[~seq_idxs].reshape(len(sample_seqs), 3, 100, -1)\n",
    "adjusted_diffs = adjusted_mut_labels_ism - adjusted_ref_labels_ism"
   ]
  },
  {
   "cell_type": "code",
   "execution_count": 60,
   "metadata": {},
   "outputs": [],
   "source": [
    "if includes_confounder:\n",
    "    seq_idxs = np.array(sample_seqs).astype(np.bool)\n",
    "    adjusted_ref_labels_ism_no_conf = adjusted_labels_ism_no_conf_anscombe[seq_idxs].reshape(len(sample_seqs), 1, 100, -1)\n",
    "    adjusted_mut_labels_ism_no_conf = adjusted_labels_ism_no_conf_anscombe[~seq_idxs].reshape(len(sample_seqs), 3, 100, -1)\n",
    "    adjusted_diffs_no_conf = adjusted_mut_labels_ism_no_conf - adjusted_ref_labels_ism_no_conf"
   ]
  },
  {
   "cell_type": "code",
   "execution_count": 61,
   "metadata": {},
   "outputs": [],
   "source": [
    "from filter_instrument_candidates import filter_variants_by_score\n",
    "sig_var_idxs = filter_variants_by_score(adjusted_diffs[:, :, :, 0])\n",
    "if includes_confounder:\n",
    "    sig_var_idxs_no_conf = filter_variants_by_score(adjusted_diffs_no_conf[:, :, :, 0])"
   ]
  },
  {
   "cell_type": "code",
   "execution_count": 68,
   "metadata": {},
   "outputs": [],
   "source": [
    "ols_results = []\n",
    "for i in range(len(sample_seqs)):\n",
    "    if adjusted_diffs[i, sig_var_idxs[i, :, :], 0].shape[0] > 0:\n",
    "        x = adjusted_diffs[i, sig_var_idxs[i, :, :], 2].flatten()\n",
    "        y = adjusted_diffs[i, sig_var_idxs[i, :, :], 3].flatten()\n",
    "        ols_res = sm.OLS(y, x).fit()\n",
    "        ols_results.append(ols_res)"
   ]
  },
  {
   "cell_type": "code",
   "execution_count": 69,
   "metadata": {},
   "outputs": [],
   "source": [
    "if includes_confounder:\n",
    "    ols_results_no_conf = []\n",
    "    for i in range(len(sample_seqs)):\n",
    "        if adjusted_diffs_no_conf[i, sig_var_idxs_no_conf[i, :, :], 0].shape[0] > 0:\n",
    "            x = adjusted_diffs_no_conf[i, sig_var_idxs_no_conf[i, :, :], 0].flatten()\n",
    "            y = adjusted_diffs_no_conf[i, sig_var_idxs_no_conf[i, :, :], 1].flatten()\n",
    "            ols_res = sm.OLS(y, x).fit()\n",
    "            ols_results_no_conf.append(ols_res)"
   ]
  },
  {
   "cell_type": "code",
   "execution_count": 75,
   "metadata": {},
   "outputs": [
    {
     "data": {
      "text/plain": [
       "[0.999981657760233,\n",
       " 0.9913468104265909,\n",
       " 0.9997510531244138,\n",
       " 0.9999881540757292,\n",
       " 0.9999952532431164,\n",
       " -7577.198617061457,\n",
       " 0.999977127651656,\n",
       " 0.999993372499877,\n",
       " 0.9999963886535287,\n",
       " 0.9999692654337796,\n",
       " 0.9998141693544155,\n",
       " 0.9999671569889301,\n",
       " 0.9999666962268571,\n",
       " 1.0000068089589662,\n",
       " -261749.92363344991,\n",
       " 0.999973625752935,\n",
       " 0.9795702228424961,\n",
       " 0.9999698558683636,\n",
       " 0.9999194007261905,\n",
       " 0.9999002490707861,\n",
       " 0.9999961541222263,\n",
       " 0.9995840062997193,\n",
       " 0.9491382533153454,\n",
       " 0.9999805187003428,\n",
       " 0.9999970409423684,\n",
       " 0.999979810435171,\n",
       " 0.9738930508992156,\n",
       " 0.9999986095615261,\n",
       " 0.9995833583728855,\n",
       " 0.9999994276219046,\n",
       " 0.9999927809341198,\n",
       " 0.9835916849948548,\n",
       " 0.9996981445997805,\n",
       " 0.0,\n",
       " 0.9996450802167314,\n",
       " 0.9999986903393736,\n",
       " 0.9795854918685362,\n",
       " 0.999988549568039,\n",
       " 0.9911338087979895,\n",
       " 0.9999775219996736,\n",
       " 0.9999970265030595,\n",
       " 0.999943581337738,\n",
       " 0.999995201325554,\n",
       " 0.9999931397760269,\n",
       " 0.9687410712512987,\n",
       " 0.9999059201243792,\n",
       " 0.999789649712325,\n",
       " 0.9999987861964702,\n",
       " 0.9999905791313651,\n",
       " 0.9999951925486623,\n",
       " 1.0004008707877798,\n",
       " 0.882193766871775,\n",
       " 0.9999979151572637,\n",
       " 1.0009873503082771,\n",
       " 1.0000038061416903,\n",
       " -1.6190560286124427,\n",
       " 0.999992134832296,\n",
       " 0.999987454241912,\n",
       " 0.9995279445283011,\n",
       " 0.9999987180789127,\n",
       " 0.9999969860468322,\n",
       " -85313232.62499999,\n",
       " 0.9999975844069713,\n",
       " 0.9999958189908007,\n",
       " 0.9999886389540757,\n",
       " 0.9999982521854297,\n",
       " 0.9999799142652579,\n",
       " 0.9999988258912207,\n",
       " 0.999956152281798,\n",
       " 0.3540755061179369,\n",
       " 0.9871048756394982,\n",
       " 0.9906763885554564,\n",
       " 0.9980349196083478,\n",
       " 0.9999787557817015,\n",
       " 0.9999373272234148,\n",
       " -1772.9653657287033,\n",
       " 0.9996176600550539,\n",
       " 0.9999701735603108,\n",
       " 0.9999793306683358,\n",
       " 1385305825.3423579,\n",
       " 0.9999854261440195,\n",
       " 0.9999945765048037,\n",
       " 0.9999858642052525,\n",
       " 0.9999994329810697,\n",
       " 0.9999931794264498,\n",
       " 0.9999846010117301,\n",
       " 0.9999431430795882,\n",
       " 0.9999866254118721,\n",
       " 0.8684766845238496,\n",
       " 0.9999881477693451,\n",
       " 0.9999861130338167,\n",
       " 2.269357096240179,\n",
       " 0.9993454354673325,\n",
       " 0.9999963508769018,\n",
       " 461.11366278439937,\n",
       " 0.9998578194131624,\n",
       " 0.9995957579201633,\n",
       " 0.9999969468747398,\n",
       " 0.9999990186261001,\n",
       " 0.9998999340048884]"
      ]
     },
     "execution_count": 75,
     "metadata": {},
     "output_type": "execute_result"
    }
   ],
   "source": [
    "ism_cis = [ols_res.params[0] for ols_res in ols_results]\n",
    "if includes_confounder:\n",
    "    ism_cis_no_conf = [ols_res.params[0] for ols_res in ols_results_no_conf]\n",
    "ism_cis[:100]"
   ]
  },
  {
   "cell_type": "code",
   "execution_count": 72,
   "metadata": {},
   "outputs": [
    {
     "name": "stderr",
     "output_type": "stream",
     "text": [
      "/home/stephen/anaconda3/envs/deepmr/lib/python3.6/site-packages/ipykernel_launcher.py:5: RuntimeWarning: divide by zero encountered in true_divide\n",
      "  \"\"\"\n",
      "/home/stephen/anaconda3/envs/deepmr/lib/python3.6/site-packages/ipykernel_launcher.py:5: RuntimeWarning: invalid value encountered in true_divide\n",
      "  \"\"\"\n"
     ]
    }
   ],
   "source": [
    "wald_results = []\n",
    "for i in range(len(sample_seqs)):\n",
    "    if adjusted_diffs[i, sig_var_idxs[i, :, :], 2].shape[0] > 0:\n",
    "        wald_results.append(\n",
    "            np.mean(adjusted_diffs[i, sig_var_idxs[i, :, :], 3] / adjusted_diffs[i, sig_var_idxs[i, :, :], 2])\n",
    "        )"
   ]
  },
  {
   "cell_type": "code",
   "execution_count": 73,
   "metadata": {},
   "outputs": [
    {
     "data": {
      "text/plain": [
       "2499"
      ]
     },
     "execution_count": 73,
     "metadata": {},
     "output_type": "execute_result"
    }
   ],
   "source": [
    "len(sample_seqs)"
   ]
  },
  {
   "cell_type": "code",
   "execution_count": 74,
   "metadata": {},
   "outputs": [
    {
     "data": {
      "text/plain": [
       "<matplotlib.axes._subplots.AxesSubplot at 0x7fad729ecef0>"
      ]
     },
     "execution_count": 74,
     "metadata": {},
     "output_type": "execute_result"
    },
    {
     "data": {
      "image/png": "[encoded data removed]",
      "text/plain": [
       "<Figure size 432x288 with 1 Axes>"
      ]
     },
     "metadata": {
      "needs_background": "light"
     },
     "output_type": "display_data"
    }
   ],
   "source": [
    "sns.distplot(ism_cis, kde=False)"
   ]
  },
  {
   "cell_type": "code",
   "execution_count": 77,
   "metadata": {},
   "outputs": [
    {
     "name": "stdout",
     "output_type": "stream",
     "text": [
      "../dat/sim/res\n"
     ]
    }
   ],
   "source": [
    "output_dir = os.path.join(data_dir, 'res')\n",
    "print(output_dir)\n",
    "os.makedirs(output_dir, exist_ok=True)\n",
    "with open(os.path.join(output_dir, 'GATA_TAL1_true_ces_no_noise.csv'), 'w') as f:\n",
    "    f.write('seq, CI\\n')\n",
    "    for i, ci in enumerate(ism_cis):\n",
    "        f.write(f'{i}, {ci}\\n')"
   ]
  },
  {
   "cell_type": "code",
   "execution_count": null,
   "metadata": {},
   "outputs": [],
   "source": [
    "output_dir = os.path.join(data_dir, 'res')\n",
    "print(output_dir)\n",
    "os.makedirs(output_dir, exist_ok=True)\n",
    "with open(os.path.join(output_dir, 'GATA_TAL1_true_ces_no_conf.csv'), 'w') as f:\n",
    "    f.write('seq, CI\\n')\n",
    "    for i, ci in enumerate(ism_cis_no_conf):\n",
    "        f.write(f'{i}, {ci}\\n')"
   ]
  },
  {
   "cell_type": "code",
   "execution_count": null,
   "metadata": {},
   "outputs": [],
   "source": [
    "output_dir = os.path.join(data_dir, 'res')\n",
    "print(output_dir)\n",
    "os.makedirs(output_dir, exist_ok=True)\n",
    "with open(os.path.join(output_dir, 'GATA_TAL1_true_ces_wald.csv'), 'w') as f:\n",
    "    f.write('seq, CI\\n')\n",
    "    for i, ci in enumerate(wald_results):\n",
    "        f.write(f'{i}, {ci}\\n')"
   ]
  }
 ],
 "metadata": {
  "kernelspec": {
   "display_name": "Python 3",
   "language": "python",
   "name": "python3"
  },
  "language_info": {
   "codemirror_mode": {
    "name": "ipython",
    "version": 3
   },
   "file_extension": ".py",
   "mimetype": "text/x-python",
   "name": "python",
   "nbconvert_exporter": "python",
   "pygments_lexer": "ipython3",
   "version": "3.6.10"
  }
 },
 "nbformat": 4,
 "nbformat_minor": 4
}
