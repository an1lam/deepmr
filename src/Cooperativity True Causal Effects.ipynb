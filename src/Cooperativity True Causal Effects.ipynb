{
 "cells": [
  {
   "cell_type": "code",
   "execution_count": 1,
   "metadata": {},
   "outputs": [
    {
     "name": "stderr",
     "output_type": "stream",
     "text": [
      "/home/stephen/anaconda3/envs/deepmr/lib/python3.6/site-packages/dask/dataframe/utils.py:13: FutureWarning: pandas.util.testing is deprecated. Use the functions in the public API at pandas.testing instead.\n",
      "  import pandas.util.testing as tm\n"
     ]
    }
   ],
   "source": [
    "%load_ext autoreload\n",
    "%autoreload 2\n",
    "\n",
    "import os\n",
    "import sys\n",
    "\n",
    "module_path = os.path.abspath(os.path.join('..'))\n",
    "if module_path not in sys.path:\n",
    "    sys.path.append(module_path)\n",
    "\n",
    "from matplotlib import pyplot as plt\n",
    "from IPython.display import clear_output\n",
    "import numpy as np\n",
    "import pandas as pd\n",
    "import seaborn as sns\n",
    "import simdna\n",
    "from simdna import synthetic\n",
    "import statsmodels.api as sm\n",
    "import torch\n",
    "from tqdm.auto import tqdm\n",
    "\n",
    "from utils import one_hot_decode\n",
    "from in_silico_mutagenesis import compute_summary_statistics, generate_wt_mut_batches, write_results\n",
    "from pyx.one_hot import one_hot\n",
    "from tf_coop_model import CountsRegressor, IterablePandasDataset\n",
    "from tf_coop_model import anscombe_transform, run_one_epoch, spearman_rho, pearson_r\n",
    "from tf_coop_simulation import background_frequency\n",
    "from tf_coop_simulation import simulate_counts, simulate_oracle_predictions"
   ]
  },
  {
   "cell_type": "code",
   "execution_count": 2,
   "metadata": {},
   "outputs": [],
   "source": [
    "np.random.seed(42)"
   ]
  },
  {
   "cell_type": "code",
   "execution_count": 3,
   "metadata": {},
   "outputs": [],
   "source": [
    "sequence_length = 100\n",
    "includes_confounder = True\n",
    "\n",
    "data_dir = '../dat/sim_conf/'\n",
    "test_data_fpath = os.path.join(data_dir, 'test_labels.csv')\n",
    "raw_simulation_data_fpath = os.path.join(data_dir, 'test_sequences.simdata')\n",
    "\n",
    "sequences_col = \"sequences\"\n",
    "label_cols = [\"labels_exp\", \"labels_out\"]\n",
    "batch_size = 1000\n",
    "n_samples = 10\n",
    "\n",
    "exposure_motif = \"GATA_disc1\"\n",
    "outcome_motif = \"TAL1_known1\"\n",
    "confounder_motif = \"SOX2_1\" if includes_confounder else None"
   ]
  },
  {
   "cell_type": "code",
   "execution_count": 4,
   "metadata": {},
   "outputs": [
    {
     "data": {
      "text/plain": [
       "<torch.autograd.grad_mode.set_grad_enabled at 0x7f6fd3233c88>"
      ]
     },
     "execution_count": 4,
     "metadata": {},
     "output_type": "execute_result"
    }
   ],
   "source": [
    "torch.set_grad_enabled(False)"
   ]
  },
  {
   "cell_type": "markdown",
   "metadata": {},
   "source": [
    "# Load Test Data & Generate Predictions\n",
    "Now we're going to load test data to get some basic metrics about how well our model performs."
   ]
  },
  {
   "cell_type": "code",
   "execution_count": 10,
   "metadata": {},
   "outputs": [
    {
     "data": {
      "text/html": [
       "<div>\n",
       "<style scoped>\n",
       "    .dataframe tbody tr th:only-of-type {\n",
       "        vertical-align: middle;\n",
       "    }\n",
       "\n",
       "    .dataframe tbody tr th {\n",
       "        vertical-align: top;\n",
       "    }\n",
       "\n",
       "    .dataframe thead th {\n",
       "        text-align: right;\n",
       "    }\n",
       "</style>\n",
       "<table border=\"1\" class=\"dataframe\">\n",
       "  <thead>\n",
       "    <tr style=\"text-align: right;\">\n",
       "      <th></th>\n",
       "      <th>sequences</th>\n",
       "      <th>labels_exp</th>\n",
       "      <th>labels_out</th>\n",
       "      <th>has_exposure</th>\n",
       "      <th>has_outcome</th>\n",
       "      <th>has_both</th>\n",
       "      <th>has_confounder</th>\n",
       "    </tr>\n",
       "  </thead>\n",
       "  <tbody>\n",
       "    <tr>\n",
       "      <th>0</th>\n",
       "      <td>GAAAGGGATCAAGCTCCAGATAAGGGGTTAGAGGGTAGCCTGACGG...</td>\n",
       "      <td>113</td>\n",
       "      <td>111</td>\n",
       "      <td>1</td>\n",
       "      <td>1</td>\n",
       "      <td>1</td>\n",
       "      <td>0</td>\n",
       "    </tr>\n",
       "    <tr>\n",
       "      <th>1</th>\n",
       "      <td>TAATCCCATCGGTGAGCCTTCGTGGGTGCTCAGTCCTAAACAGTAT...</td>\n",
       "      <td>18</td>\n",
       "      <td>39</td>\n",
       "      <td>0</td>\n",
       "      <td>1</td>\n",
       "      <td>0</td>\n",
       "      <td>1</td>\n",
       "    </tr>\n",
       "    <tr>\n",
       "      <th>2</th>\n",
       "      <td>GATCTCTTCATGTCGAGCCGGTCCGTATGCGATAAGAACCATTTAG...</td>\n",
       "      <td>123</td>\n",
       "      <td>27</td>\n",
       "      <td>1</td>\n",
       "      <td>0</td>\n",
       "      <td>0</td>\n",
       "      <td>1</td>\n",
       "    </tr>\n",
       "    <tr>\n",
       "      <th>3</th>\n",
       "      <td>TGTAACTGTCAATATGATTTGTCACTCTAATCCTGAAAAATCCCAT...</td>\n",
       "      <td>103</td>\n",
       "      <td>37</td>\n",
       "      <td>1</td>\n",
       "      <td>0</td>\n",
       "      <td>0</td>\n",
       "      <td>0</td>\n",
       "    </tr>\n",
       "    <tr>\n",
       "      <th>4</th>\n",
       "      <td>CAGGTATTTGATACTAGAACGAGAGCATGCAGTCCCTTATACCATT...</td>\n",
       "      <td>17</td>\n",
       "      <td>32</td>\n",
       "      <td>0</td>\n",
       "      <td>0</td>\n",
       "      <td>0</td>\n",
       "      <td>1</td>\n",
       "    </tr>\n",
       "  </tbody>\n",
       "</table>\n",
       "</div>"
      ],
      "text/plain": [
       "                                           sequences  labels_exp  labels_out  \\\n",
       "0  GAAAGGGATCAAGCTCCAGATAAGGGGTTAGAGGGTAGCCTGACGG...         113         111   \n",
       "1  TAATCCCATCGGTGAGCCTTCGTGGGTGCTCAGTCCTAAACAGTAT...          18          39   \n",
       "2  GATCTCTTCATGTCGAGCCGGTCCGTATGCGATAAGAACCATTTAG...         123          27   \n",
       "3  TGTAACTGTCAATATGATTTGTCACTCTAATCCTGAAAAATCCCAT...         103          37   \n",
       "4  CAGGTATTTGATACTAGAACGAGAGCATGCAGTCCCTTATACCATT...          17          32   \n",
       "\n",
       "   has_exposure  has_outcome  has_both  has_confounder  \n",
       "0             1            1         1               0  \n",
       "1             0            1         0               1  \n",
       "2             1            0         0               1  \n",
       "3             1            0         0               0  \n",
       "4             0            0         0               1  "
      ]
     },
     "execution_count": 10,
     "metadata": {},
     "output_type": "execute_result"
    }
   ],
   "source": [
    "test_df = pd.read_csv(test_data_fpath)\n",
    "test_dataset = IterablePandasDataset(\n",
    "    test_df, x_cols=sequences_col, y_cols=label_cols, x_transform=one_hot,\n",
    ")\n",
    "test_data_loader = torch.utils.data.DataLoader(\n",
    "    test_dataset, batch_size=batch_size, num_workers=0\n",
    ")\n",
    "\n",
    "test_df.head()"
   ]
  },
  {
   "cell_type": "code",
   "execution_count": 11,
   "metadata": {},
   "outputs": [],
   "source": [
    "both_motifs_df = test_df[(test_df['has_both'] == 1)]\n",
    "exposure_motif_df = test_df[(test_df['has_exposure'] == 1) & (test_df['has_outcome'] == 0)]\n",
    "outcome_motif_df = test_df[(test_df['has_exposure'] == 0) & (test_df['has_outcome'] == 1)]\n",
    "neither_motif_df = test_df[\n",
    "    (test_df['has_exposure'] == 0) & (test_df['has_outcome'] == 0)\n",
    "]"
   ]
  },
  {
   "cell_type": "code",
   "execution_count": 12,
   "metadata": {},
   "outputs": [
    {
     "data": {
      "text/plain": [
       "(2405, 2573, 2569, 2453)"
      ]
     },
     "execution_count": 12,
     "metadata": {},
     "output_type": "execute_result"
    }
   ],
   "source": [
    "len(both_motifs_df), len(exposure_motif_df), len(outcome_motif_df), len(neither_motif_df)"
   ]
  },
  {
   "cell_type": "code",
   "execution_count": 13,
   "metadata": {},
   "outputs": [],
   "source": [
    "both_motifs_dataset = IterablePandasDataset(\n",
    "    both_motifs_df, x_cols=sequences_col, y_cols=label_cols, x_transform=one_hot,\n",
    ")\n",
    "exposure_motif_dataset = IterablePandasDataset(\n",
    "    exposure_motif_df, x_cols=sequences_col, y_cols=label_cols, x_transform=one_hot,\n",
    ")"
   ]
  },
  {
   "cell_type": "code",
   "execution_count": 14,
   "metadata": {},
   "outputs": [],
   "source": [
    "def mutate(seqs):\n",
    "    preds = {}\n",
    "    all_muts = []\n",
    "    for seq in tqdm(seqs):\n",
    "        muts = generate_wt_mut_batches(seq, seq.shape[0] * seq.shape[1]).squeeze()\n",
    "        muts = muts.transpose(0, 1, 2)\n",
    "        all_muts.append(muts)\n",
    "    return np.array(all_muts)"
   ]
  },
  {
   "cell_type": "code",
   "execution_count": 15,
   "metadata": {},
   "outputs": [],
   "source": [
    "both_motifs_sample_seqs = [x for x, y in both_motifs_dataset]"
   ]
  },
  {
   "cell_type": "code",
   "execution_count": 16,
   "metadata": {},
   "outputs": [],
   "source": [
    "exposure_motif_sample_seqs = [x for x, y in exposure_motif_dataset]"
   ]
  },
  {
   "cell_type": "code",
   "execution_count": 17,
   "metadata": {},
   "outputs": [
    {
     "data": {
      "application/vnd.jupyter.widget-view+json": {
       "model_id": "f0b3f352013b46eca37aa548182f8276",
       "version_major": 2,
       "version_minor": 0
      },
      "text/plain": [
       "HBox(children=(FloatProgress(value=0.0, max=2405.0), HTML(value='')))"
      ]
     },
     "metadata": {},
     "output_type": "display_data"
    },
    {
     "name": "stdout",
     "output_type": "stream",
     "text": [
      "\n"
     ]
    }
   ],
   "source": [
    "sample_seqs = np.array([seq for seq, label in both_motifs_dataset])\n",
    "sample_labels = np.array([label for _, label in both_motifs_dataset])\n",
    "sample_muts = mutate(sample_seqs)"
   ]
  },
  {
   "cell_type": "code",
   "execution_count": 18,
   "metadata": {},
   "outputs": [
    {
     "data": {
      "text/plain": [
       "array([[0.04068952, 0.66525133, 0.13354957, 0.16050958],\n",
       "       [0.03011511, 0.67670287, 0.03310211, 0.26007991],\n",
       "       [0.48855021, 0.01070254, 0.00622302, 0.49452323],\n",
       "       [0.00323701, 0.01518305, 0.01070254, 0.9708774 ],\n",
       "       [0.02115607, 0.00174351, 0.00921003, 0.96789139],\n",
       "       [0.0569942 , 0.12419193, 0.79019127, 0.0286226 ],\n",
       "       [0.12736875, 0.00623201, 0.01370953, 0.85268971],\n",
       "       [0.09596219, 0.29037858, 0.11540373, 0.4982545 ],\n",
       "       [0.61225039, 0.18624981, 0.05724994, 0.14424986],\n",
       "       [0.03924996, 0.05875044, 0.03924996, 0.86274964],\n",
       "       [0.0408114 , 0.11592321, 0.66725133, 0.17601406],\n",
       "       [0.04832188, 0.63420141, 0.12643968, 0.19103602],\n",
       "       [0.64117443, 0.06193525, 0.05441278, 0.24247753],\n",
       "       [0.55090379, 0.1010531 , 0.23645955, 0.11158455],\n",
       "       [0.72994158, 0.09052064, 0.09202513, 0.08751165]])"
      ]
     },
     "execution_count": 18,
     "metadata": {},
     "output_type": "execute_result"
    }
   ],
   "source": [
    "motifs = synthetic.LoadedEncodeMotifs(\n",
    "    simdna.ENCODE_MOTIFS_PATH, pseudocountProb=0.001\n",
    ")\n",
    "exposure_pwm = motifs.loadedMotifs[exposure_motif].getRows()\n",
    "outcome_pwm = motifs.loadedMotifs[outcome_motif].getRows()\n",
    "confounder_pwm = None if confounder_motif is None else motifs.loadedMotifs[confounder_motif].getRows()\n",
    "confounder_pwm"
   ]
  },
  {
   "cell_type": "code",
   "execution_count": 19,
   "metadata": {},
   "outputs": [
    {
     "data": {
      "application/vnd.jupyter.widget-view+json": {
       "model_id": "31f4f56fd8174c3cb282e848af1c5a7b",
       "version_major": 2,
       "version_minor": 0
      },
      "text/plain": [
       "HBox(children=(FloatProgress(value=0.0, max=2405.0), HTML(value='')))"
      ]
     },
     "metadata": {},
     "output_type": "display_data"
    },
    {
     "name": "stdout",
     "output_type": "stream",
     "text": [
      "\n"
     ]
    }
   ],
   "source": [
    "adjusted_labels_ism = []\n",
    "for i, muts in enumerate(tqdm(sample_muts)):\n",
    "    adjusted_labels_ = simulate_oracle_predictions(\n",
    "        [one_hot_decode(mut) for mut in muts],\n",
    "        exposure_pwm,\n",
    "        outcome_pwm,\n",
    "        confounder_pwm=confounder_pwm,\n",
    "    )\n",
    "    adjusted_labels_ism.append(adjusted_labels_)"
   ]
  },
  {
   "cell_type": "code",
   "execution_count": 20,
   "metadata": {},
   "outputs": [
    {
     "data": {
      "application/vnd.jupyter.widget-view+json": {
       "model_id": "0f57f2d1a9464b2e943934ea91ff251a",
       "version_major": 2,
       "version_minor": 0
      },
      "text/plain": [
       "HBox(children=(FloatProgress(value=0.0, max=2405.0), HTML(value='')))"
      ]
     },
     "metadata": {},
     "output_type": "display_data"
    },
    {
     "name": "stdout",
     "output_type": "stream",
     "text": [
      "\n"
     ]
    }
   ],
   "source": [
    "adjusted_labels_ism_no_conf = []\n",
    "if includes_confounder:\n",
    "    for i, muts in enumerate(tqdm(sample_muts)):\n",
    "        adjusted_labels_ = simulate_oracle_predictions(\n",
    "            [one_hot_decode(mut) for mut in muts],\n",
    "            exposure_pwm,\n",
    "            outcome_pwm,\n",
    "        )\n",
    "        adjusted_labels_ism_no_conf.append(adjusted_labels_)"
   ]
  },
  {
   "cell_type": "code",
   "execution_count": 21,
   "metadata": {},
   "outputs": [],
   "source": [
    "adjusted_labels_ism = np.array(adjusted_labels_ism)\n",
    "adjusted_labels_ism = adjusted_labels_ism.transpose((0, 2, 1))\n",
    "adjusted_labels_ism = np.array(adjusted_labels_ism).reshape(len(sample_seqs), 4, 100, -1)\n",
    "adjusted_labels_ism_anscombe = anscombe_transform(adjusted_labels_ism)"
   ]
  },
  {
   "cell_type": "code",
   "execution_count": 22,
   "metadata": {},
   "outputs": [],
   "source": [
    "adjusted_labels_ism_no_conf = np.array(adjusted_labels_ism_no_conf)\n",
    "adjusted_labels_ism_no_conf = adjusted_labels_ism_no_conf.transpose((0, 2, 1))\n",
    "adjusted_labels_ism_no_conf = np.array(adjusted_labels_ism_no_conf).reshape(len(sample_seqs), 4, 100, -1)\n",
    "adjusted_labels_ism_no_conf_anscombe = anscombe_transform(adjusted_labels_ism_no_conf)"
   ]
  },
  {
   "cell_type": "code",
   "execution_count": 25,
   "metadata": {},
   "outputs": [],
   "source": [
    "seq_idxs = np.array(sample_seqs).astype(np.bool)\n",
    "adjusted_ref_labels_ism = adjusted_labels_ism_anscombe[seq_idxs].reshape(len(sample_seqs), 1, 100, -1)\n",
    "adjusted_mut_labels_ism = adjusted_labels_ism_anscombe[~seq_idxs].reshape(len(sample_seqs), 3, 100, -1)\n",
    "adjusted_diffs = adjusted_mut_labels_ism - adjusted_ref_labels_ism"
   ]
  },
  {
   "cell_type": "code",
   "execution_count": 26,
   "metadata": {},
   "outputs": [],
   "source": [
    "seq_idxs = np.array(sample_seqs).astype(np.bool)\n",
    "adjusted_ref_labels_ism_no_conf = adjusted_labels_ism_no_conf_anscombe[seq_idxs].reshape(len(sample_seqs), 1, 100, -1)\n",
    "adjusted_mut_labels_ism_no_conf = adjusted_labels_ism_no_conf_anscombe[~seq_idxs].reshape(len(sample_seqs), 3, 100, -1)\n",
    "adjusted_diffs_no_conf = adjusted_mut_labels_ism_no_conf - adjusted_ref_labels_ism_no_conf"
   ]
  },
  {
   "cell_type": "code",
   "execution_count": 27,
   "metadata": {},
   "outputs": [],
   "source": [
    "from filter_instrument_candidates import filter_variants_by_score\n",
    "sig_var_idxs = filter_variants_by_score(adjusted_diffs[:, :, :, 0])\n",
    "sig_var_idxs_no_conf = filter_variants_by_score(adjusted_diffs_no_conf[:, :, :, 0])"
   ]
  },
  {
   "cell_type": "code",
   "execution_count": 28,
   "metadata": {},
   "outputs": [],
   "source": [
    "ols_results = []\n",
    "for i in range(len(sample_seqs)):\n",
    "    if adjusted_diffs[i, sig_var_idxs[i, :, :], 0].shape[0] > 0:\n",
    "        x = adjusted_diffs[i, sig_var_idxs[i, :, :], 0].flatten()\n",
    "        y = adjusted_diffs[i, sig_var_idxs[i, :, :], 1].flatten()\n",
    "        ols_res = sm.OLS(y, x).fit()\n",
    "        ols_results.append(ols_res)"
   ]
  },
  {
   "cell_type": "code",
   "execution_count": 29,
   "metadata": {},
   "outputs": [],
   "source": [
    "ols_results_no_conf = []\n",
    "for i in range(len(sample_seqs)):\n",
    "    if adjusted_diffs_no_conf[i, sig_var_idxs_no_conf[i, :, :], 0].shape[0] > 0:\n",
    "        x = adjusted_diffs_no_conf[i, sig_var_idxs_no_conf[i, :, :], 0].flatten()\n",
    "        y = adjusted_diffs_no_conf[i, sig_var_idxs_no_conf[i, :, :], 1].flatten()\n",
    "        ols_res = sm.OLS(y, x).fit()\n",
    "        ols_results_no_conf.append(ols_res)"
   ]
  },
  {
   "cell_type": "code",
   "execution_count": 30,
   "metadata": {},
   "outputs": [
    {
     "data": {
      "text/plain": [
       "([-0.2655093290648858,\n",
       "  0.4964853733018583,\n",
       "  0.5802494380989565,\n",
       "  0.5571266990576756,\n",
       "  0.7756769381167032,\n",
       "  0.5869291038673135,\n",
       "  0.7678002337644397,\n",
       "  0.08471587946308295,\n",
       "  0.8361671869733878,\n",
       "  0.6801398626793922],\n",
       " [0.6647231664148179,\n",
       "  -0.07317999884519363,\n",
       "  0.4361841126795202,\n",
       "  0.9946875636373229,\n",
       "  0.8302481118440905,\n",
       "  0.8045705939825488,\n",
       "  -0.047022975077662475,\n",
       "  0.5987288777550359,\n",
       "  0.6680382923953441,\n",
       "  0.39102479113925365])"
      ]
     },
     "execution_count": 30,
     "metadata": {},
     "output_type": "execute_result"
    }
   ],
   "source": [
    "ism_cis = [ols_res.params[0] for ols_res in ols_results]\n",
    "ism_cis_no_conf = [ols_res.params[0] for ols_res in ols_results_no_conf]\n",
    "ism_cis[:10], ism_cis_no_conf[:10]"
   ]
  },
  {
   "cell_type": "code",
   "execution_count": 34,
   "metadata": {},
   "outputs": [],
   "source": [
    "wald_results = []\n",
    "for i in range(len(sample_seqs)):\n",
    "    if adjusted_diffs[i, sig_var_idxs[i, :, :], 0].shape[0] > 0:\n",
    "        wald_results.append(\n",
    "            np.mean(adjusted_diffs[i, sig_var_idxs[i, :, :], 1] / adjusted_diffs[i, sig_var_idxs[i, :, :], 0])\n",
    "        )"
   ]
  },
  {
   "cell_type": "code",
   "execution_count": null,
   "metadata": {},
   "outputs": [],
   "source": [
    "len(sample_seqs)"
   ]
  },
  {
   "cell_type": "code",
   "execution_count": null,
   "metadata": {},
   "outputs": [],
   "source": [
    "sns.distplot(ism_cis, kde=False)"
   ]
  },
  {
   "cell_type": "code",
   "execution_count": 31,
   "metadata": {},
   "outputs": [
    {
     "name": "stdout",
     "output_type": "stream",
     "text": [
      "../dat/sim_conf/res\n"
     ]
    }
   ],
   "source": [
    "output_dir = os.path.join(data_dir, 'res')\n",
    "print(output_dir)\n",
    "os.makedirs(output_dir, exist_ok=True)\n",
    "with open(os.path.join(output_dir, 'GATA_TAL1_true_ces.csv'), 'w') as f:\n",
    "    f.write('seq, CI\\n')\n",
    "    for i, ci in enumerate(ism_cis):\n",
    "        f.write(f'{i}, {ci}\\n')"
   ]
  },
  {
   "cell_type": "code",
   "execution_count": 36,
   "metadata": {},
   "outputs": [
    {
     "name": "stdout",
     "output_type": "stream",
     "text": [
      "../dat/sim_conf/res\n"
     ]
    }
   ],
   "source": [
    "output_dir = os.path.join(data_dir, 'res')\n",
    "print(output_dir)\n",
    "os.makedirs(output_dir, exist_ok=True)\n",
    "with open(os.path.join(output_dir, 'GATA_TAL1_true_ces_no_conf.csv'), 'w') as f:\n",
    "    f.write('seq, CI\\n')\n",
    "    for i, ci in enumerate(ism_cis_no_conf):\n",
    "        f.write(f'{i}, {ci}\\n')"
   ]
  },
  {
   "cell_type": "code",
   "execution_count": 35,
   "metadata": {},
   "outputs": [
    {
     "name": "stdout",
     "output_type": "stream",
     "text": [
      "../dat/sim_conf/res\n"
     ]
    }
   ],
   "source": [
    "output_dir = os.path.join(data_dir, 'res')\n",
    "print(output_dir)\n",
    "os.makedirs(output_dir, exist_ok=True)\n",
    "with open(os.path.join(output_dir, 'GATA_TAL1_true_ces_wald.csv'), 'w') as f:\n",
    "    f.write('seq, CI\\n')\n",
    "    for i, ci in enumerate(wald_results):\n",
    "        f.write(f'{i}, {ci}\\n')"
   ]
  }
 ],
 "metadata": {
  "kernelspec": {
   "display_name": "Python 3",
   "language": "python",
   "name": "python3"
  },
  "language_info": {
   "codemirror_mode": {
    "name": "ipython",
    "version": 3
   },
   "file_extension": ".py",
   "mimetype": "text/x-python",
   "name": "python",
   "nbconvert_exporter": "python",
   "pygments_lexer": "ipython3",
   "version": "3.6.10"
  }
 },
 "nbformat": 4,
 "nbformat_minor": 4
}
