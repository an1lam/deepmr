{
 "cells": [
  {
   "cell_type": "code",
   "execution_count": 1,
   "metadata": {},
   "outputs": [
    {
     "name": "stderr",
     "output_type": "stream",
     "text": [
      "/home/stephen/anaconda3/envs/deepmr/lib/python3.6/site-packages/dask/dataframe/utils.py:13: FutureWarning: pandas.util.testing is deprecated. Use the functions in the public API at pandas.testing instead.\n",
      "  import pandas.util.testing as tm\n"
     ]
    }
   ],
   "source": [
    "%load_ext autoreload\n",
    "%autoreload 2\n",
    "\n",
    "import os\n",
    "import sys\n",
    "\n",
    "module_path = os.path.abspath(os.path.join('..'))\n",
    "if module_path not in sys.path:\n",
    "    sys.path.append(module_path)\n",
    "\n",
    "from matplotlib import pyplot as plt\n",
    "from IPython.display import clear_output\n",
    "import numpy as np\n",
    "import pandas as pd\n",
    "import seaborn as sns\n",
    "import simdna\n",
    "from simdna import synthetic\n",
    "import statsmodels.api as sm\n",
    "import torch\n",
    "from tqdm.auto import tqdm\n",
    "\n",
    "from utils import one_hot_decode\n",
    "from in_silico_mutagenesis import compute_summary_statistics, generate_wt_mut_batches, write_results\n",
    "from pyx.one_hot import one_hot\n",
    "from tf_coop_model import CountsRegressor, IterablePandasDataset\n",
    "from tf_coop_model import anscombe_transform, run_one_epoch, spearman_rho, pearson_r\n",
    "from tf_coop_simulation import background_frequency\n",
    "from tf_coop_simulation import simulate_counts, simulate_oracle_predictions"
   ]
  },
  {
   "cell_type": "code",
   "execution_count": 2,
   "metadata": {},
   "outputs": [],
   "source": [
    "np.random.seed(42)"
   ]
  },
  {
   "cell_type": "code",
   "execution_count": 4,
   "metadata": {},
   "outputs": [],
   "source": [
    "sequence_length = 100\n",
    "includes_confounder = False\n",
    "\n",
    "data_dir = '../dat/sim_e2e_exp'\n",
    "test_data_fpath = os.path.join(data_dir, 'test_labels.csv')\n",
    "raw_simulation_data_fpath = os.path.join(data_dir, 'test_sequences.simdata')\n",
    "\n",
    "sequences_col = \"sequences\"\n",
    "label_cols = [\"labels_exp\", \"labels_out\"]\n",
    "batch_size = 1000\n",
    "n_samples = 10\n",
    "\n",
    "exposure_col = 1\n",
    "outcome_col = 0\n",
    "exposure_name = \"GATA\"\n",
    "outcome_name = \"TAL1\"\n",
    "exposure_motif = \"GATA_disc1\"\n",
    "outcome_motif = \"TAL1_known1\"\n",
    "confounder_motif = \"SOX2_1\" if includes_confounder else None"
   ]
  },
  {
   "cell_type": "code",
   "execution_count": 5,
   "metadata": {},
   "outputs": [
    {
     "data": {
      "text/plain": [
       "<torch.autograd.grad_mode.set_grad_enabled at 0x7f8320529710>"
      ]
     },
     "execution_count": 5,
     "metadata": {},
     "output_type": "execute_result"
    }
   ],
   "source": [
    "torch.set_grad_enabled(False)"
   ]
  },
  {
   "cell_type": "markdown",
   "metadata": {},
   "source": [
    "# Load Test Data & Generate Predictions\n",
    "Now we're going to load test data to get some basic metrics about how well our model performs."
   ]
  },
  {
   "cell_type": "code",
   "execution_count": 6,
   "metadata": {},
   "outputs": [
    {
     "data": {
      "text/html": [
       "<div>\n",
       "<style scoped>\n",
       "    .dataframe tbody tr th:only-of-type {\n",
       "        vertical-align: middle;\n",
       "    }\n",
       "\n",
       "    .dataframe tbody tr th {\n",
       "        vertical-align: top;\n",
       "    }\n",
       "\n",
       "    .dataframe thead th {\n",
       "        text-align: right;\n",
       "    }\n",
       "</style>\n",
       "<table border=\"1\" class=\"dataframe\">\n",
       "  <thead>\n",
       "    <tr style=\"text-align: right;\">\n",
       "      <th></th>\n",
       "      <th>sequences</th>\n",
       "      <th>labels_exp</th>\n",
       "      <th>labels_out</th>\n",
       "      <th>has_exposure</th>\n",
       "      <th>has_outcome</th>\n",
       "      <th>has_both</th>\n",
       "      <th>has_confounder</th>\n",
       "    </tr>\n",
       "  </thead>\n",
       "  <tbody>\n",
       "    <tr>\n",
       "      <th>0</th>\n",
       "      <td>ATCCTGTATACCGTGTCTCACCAGATGGTACGTGTTGCATTTTCTT...</td>\n",
       "      <td>0</td>\n",
       "      <td>0</td>\n",
       "      <td>0</td>\n",
       "      <td>1</td>\n",
       "      <td>0</td>\n",
       "      <td>0</td>\n",
       "    </tr>\n",
       "    <tr>\n",
       "      <th>1</th>\n",
       "      <td>GGAGCTCTAGTGGCATTGGTGATAAGCACGCTGAGGAACGAGTAAG...</td>\n",
       "      <td>108</td>\n",
       "      <td>0</td>\n",
       "      <td>1</td>\n",
       "      <td>0</td>\n",
       "      <td>0</td>\n",
       "      <td>0</td>\n",
       "    </tr>\n",
       "    <tr>\n",
       "      <th>2</th>\n",
       "      <td>AGTAGAGTGAACCGGAGTACCAGATGTTAAGACGTCATCCTGGTCT...</td>\n",
       "      <td>1</td>\n",
       "      <td>5</td>\n",
       "      <td>0</td>\n",
       "      <td>1</td>\n",
       "      <td>0</td>\n",
       "      <td>0</td>\n",
       "    </tr>\n",
       "    <tr>\n",
       "      <th>3</th>\n",
       "      <td>AGAGTATCAAGCAACTACGATAACAATGCGGCATCCCTATATTGCT...</td>\n",
       "      <td>80</td>\n",
       "      <td>96</td>\n",
       "      <td>0</td>\n",
       "      <td>1</td>\n",
       "      <td>0</td>\n",
       "      <td>0</td>\n",
       "    </tr>\n",
       "    <tr>\n",
       "      <th>4</th>\n",
       "      <td>GCGAGATTAGGCGTGGATGTAACGCCGATACTTGGAATTGTCCTGA...</td>\n",
       "      <td>97</td>\n",
       "      <td>118</td>\n",
       "      <td>1</td>\n",
       "      <td>1</td>\n",
       "      <td>1</td>\n",
       "      <td>0</td>\n",
       "    </tr>\n",
       "  </tbody>\n",
       "</table>\n",
       "</div>"
      ],
      "text/plain": [
       "                                           sequences  labels_exp  labels_out  \\\n",
       "0  ATCCTGTATACCGTGTCTCACCAGATGGTACGTGTTGCATTTTCTT...           0           0   \n",
       "1  GGAGCTCTAGTGGCATTGGTGATAAGCACGCTGAGGAACGAGTAAG...         108           0   \n",
       "2  AGTAGAGTGAACCGGAGTACCAGATGTTAAGACGTCATCCTGGTCT...           1           5   \n",
       "3  AGAGTATCAAGCAACTACGATAACAATGCGGCATCCCTATATTGCT...          80          96   \n",
       "4  GCGAGATTAGGCGTGGATGTAACGCCGATACTTGGAATTGTCCTGA...          97         118   \n",
       "\n",
       "   has_exposure  has_outcome  has_both  has_confounder  \n",
       "0             0            1         0               0  \n",
       "1             1            0         0               0  \n",
       "2             0            1         0               0  \n",
       "3             0            1         0               0  \n",
       "4             1            1         1               0  "
      ]
     },
     "execution_count": 6,
     "metadata": {},
     "output_type": "execute_result"
    }
   ],
   "source": [
    "test_df = pd.read_csv(test_data_fpath)\n",
    "test_dataset = IterablePandasDataset(\n",
    "    test_df, x_cols=sequences_col, y_cols=label_cols, x_transform=one_hot,\n",
    ")\n",
    "test_data_loader = torch.utils.data.DataLoader(\n",
    "    test_dataset, batch_size=batch_size, num_workers=0\n",
    ")\n",
    "\n",
    "test_df.head()"
   ]
  },
  {
   "cell_type": "code",
   "execution_count": 17,
   "metadata": {},
   "outputs": [
    {
     "data": {
      "text/plain": [
       "simdna.util.enum.<locals>.Enum"
      ]
     },
     "execution_count": 17,
     "metadata": {},
     "output_type": "execute_result"
    }
   ],
   "source": [
    "simdata = synthetic.read_simdata_file(raw_simulation_data_fpath)\n"
   ]
  },
  {
   "cell_type": "code",
   "execution_count": 55,
   "metadata": {},
   "outputs": [
    {
     "data": {
      "text/plain": [
       "10000"
      ]
     },
     "execution_count": 55,
     "metadata": {},
     "output_type": "execute_result"
    }
   ],
   "source": [
    "len(simdata.embeddings)"
   ]
  },
  {
   "cell_type": "code",
   "execution_count": 62,
   "metadata": {},
   "outputs": [
    {
     "name": "stdout",
     "output_type": "stream",
     "text": [
      "10000\n"
     ]
    }
   ],
   "source": [
    "def simdata_to_start_pos_df(simdata, exposure_motif, outcome_motif):\n",
    "    sequences = simdata.sequences\n",
    "    embeddings = simdata.embeddings\n",
    "    print(len(embeddings))\n",
    "    name_to_type = {exposure_motif: 'exposure_start_pos', outcome_motif: 'outcome_start_pos'}\n",
    "    start_pos_by_type = {\n",
    "        'sequences': simdata.sequences,\n",
    "        'exposure_start_pos': np.zeros(len(embeddings)),\n",
    "        'outcome_start_pos': np.zeros(len(embeddings))\n",
    "    }\n",
    "    for i, seq_embeds in enumerate(embeddings):\n",
    "        if len(seq_embeds) == 1:\n",
    "            start_pos_by_type[name_to_type[seq_embeds[0].what.getDescription()]][i] = int(seq_embeds[0].startPos)\n",
    "        \n",
    "        elif len(seq_embeds) == 4:\n",
    "            start_pos_by_type[name_to_type[seq_embeds[0].what.getDescription()]][i] = int(seq_embeds[0].startPos)\n",
    "            start_pos_by_type[name_to_type[seq_embeds[1].what.getDescription()]][i] = int(seq_embeds[1].startPos)\n",
    "        else:\n",
    "            assert len(seq_embeds) == 0\n",
    "    return pd.DataFrame(start_pos_by_type)\n",
    "\n",
    "start_pos_df = simdata_to_start_pos_df(simdata, exposure_motif, outcome_motif).head(20)"
   ]
  },
  {
   "cell_type": "code",
   "execution_count": 64,
   "metadata": {},
   "outputs": [
    {
     "ename": "NameError",
     "evalue": "name 'test_fd' is not defined",
     "output_type": "error",
     "traceback": [
      "\u001b[0;31m---------------------------------------------------------------------------\u001b[0m",
      "\u001b[0;31mNameError\u001b[0m                                 Traceback (most recent call last)",
      "\u001b[0;32m<ipython-input-64-528e67b498e2>\u001b[0m in \u001b[0;36m<module>\u001b[0;34m\u001b[0m\n\u001b[1;32m      1\u001b[0m \u001b[0mtest_df\u001b[0m \u001b[0;34m=\u001b[0m \u001b[0mpd\u001b[0m\u001b[0;34m.\u001b[0m\u001b[0mconcat\u001b[0m\u001b[0;34m(\u001b[0m\u001b[0;34m[\u001b[0m\u001b[0mtest_df\u001b[0m\u001b[0;34m,\u001b[0m \u001b[0mstart_pos_df\u001b[0m\u001b[0;34m]\u001b[0m\u001b[0;34m,\u001b[0m \u001b[0maxis\u001b[0m\u001b[0;34m=\u001b[0m\u001b[0;36m1\u001b[0m\u001b[0;34m)\u001b[0m\u001b[0;34m\u001b[0m\u001b[0;34m\u001b[0m\u001b[0m\n\u001b[0;32m----> 2\u001b[0;31m \u001b[0mtest_fd\u001b[0m\u001b[0;34m\u001b[0m\u001b[0;34m\u001b[0m\u001b[0m\n\u001b[0m",
      "\u001b[0;31mNameError\u001b[0m: name 'test_fd' is not defined"
     ]
    }
   ],
   "source": [
    "test_df = pd.concat([test_df, start_pos_df], axis=1)\n",
    "test_fd"
   ]
  },
  {
   "cell_type": "code",
   "execution_count": 7,
   "metadata": {},
   "outputs": [],
   "source": [
    "both_motifs_df = test_df[(test_df['has_both'] == 1)]\n",
    "exposure_motif_df = test_df[(test_df['has_exposure'] == 1)]\n",
    "outcome_motif_df = test_df[(test_df['has_exposure'] == 0) & (test_df['has_outcome'] == 1)]\n",
    "neither_motif_df = test_df[\n",
    "    (test_df['has_exposure'] == 0) & (test_df['has_outcome'] == 0)\n",
    "]"
   ]
  },
  {
   "cell_type": "code",
   "execution_count": 8,
   "metadata": {},
   "outputs": [
    {
     "data": {
      "text/plain": [
       "(2499, 5013, 2460, 2527)"
      ]
     },
     "execution_count": 8,
     "metadata": {},
     "output_type": "execute_result"
    }
   ],
   "source": [
    "len(both_motifs_df), len(exposure_motif_df), len(outcome_motif_df), len(neither_motif_df)"
   ]
  },
  {
   "cell_type": "code",
   "execution_count": 9,
   "metadata": {},
   "outputs": [],
   "source": [
    "both_motifs_dataset = IterablePandasDataset(\n",
    "    both_motifs_df, x_cols=sequences_col, y_cols=label_cols, x_transform=one_hot,\n",
    "    y_transform=anscombe_transform,\n",
    ")\n",
    "exposure_motif_dataset = IterablePandasDataset(\n",
    "    exposure_motif_df, x_cols=sequences_col, y_cols=label_cols, x_transform=one_hot,\n",
    "    y_transform=anscombe_transform\n",
    ")"
   ]
  },
  {
   "cell_type": "code",
   "execution_count": 10,
   "metadata": {},
   "outputs": [],
   "source": [
    "def mutate(seqs):\n",
    "    preds = {}\n",
    "    all_muts = []\n",
    "    for seq in tqdm(seqs):\n",
    "        muts = generate_wt_mut_batches(seq, seq.shape[0] * seq.shape[1]).squeeze()\n",
    "        muts = muts.transpose(0, 1, 2)\n",
    "        all_muts.append(muts)\n",
    "        \n",
    "    return np.array(all_muts)"
   ]
  },
  {
   "cell_type": "code",
   "execution_count": 11,
   "metadata": {},
   "outputs": [],
   "source": [
    "both_motifs_sample_seqs = [x for x, y in both_motifs_dataset]"
   ]
  },
  {
   "cell_type": "code",
   "execution_count": 12,
   "metadata": {},
   "outputs": [],
   "source": [
    "exposure_motif_sample_seqs = [x for x, y in exposure_motif_dataset]"
   ]
  },
  {
   "cell_type": "code",
   "execution_count": 13,
   "metadata": {},
   "outputs": [
    {
     "data": {
      "application/vnd.jupyter.widget-view+json": {
       "model_id": "a152429f572041cb8449522eabc8bf8c",
       "version_major": 2,
       "version_minor": 0
      },
      "text/plain": [
       "HBox(children=(HTML(value=''), FloatProgress(value=0.0, max=5013.0), HTML(value='')))"
      ]
     },
     "metadata": {},
     "output_type": "display_data"
    },
    {
     "name": "stdout",
     "output_type": "stream",
     "text": [
      "\n"
     ]
    }
   ],
   "source": [
    "sample_seqs = np.array([seq for seq, label in exposure_motif_dataset])\n",
    "sample_labels = np.array([label for _, label in exposure_motif_dataset])\n",
    "sample_muts = mutate(sample_seqs)"
   ]
  },
  {
   "cell_type": "code",
   "execution_count": 14,
   "metadata": {},
   "outputs": [],
   "source": [
    "motifs = synthetic.LoadedEncodeMotifs(\n",
    "    simdna.ENCODE_MOTIFS_PATH, pseudocountProb=0.001\n",
    ")\n",
    "exposure_pwm = motifs.loadedMotifs[exposure_motif].getRows()\n",
    "outcome_pwm = motifs.loadedMotifs[outcome_motif].getRows()\n",
    "confounder_pwm = None if confounder_motif is None else motifs.loadedMotifs[confounder_motif].getRows()\n",
    "confounder_pwm"
   ]
  },
  {
   "cell_type": "code",
   "execution_count": 15,
   "metadata": {},
   "outputs": [
    {
     "data": {
      "application/vnd.jupyter.widget-view+json": {
       "model_id": "6d49b9b02ff34b2b8063714ca7b93740",
       "version_major": 2,
       "version_minor": 0
      },
      "text/plain": [
       "HBox(children=(HTML(value=''), FloatProgress(value=0.0, max=5013.0), HTML(value='')))"
      ]
     },
     "metadata": {},
     "output_type": "display_data"
    },
    {
     "name": "stdout",
     "output_type": "stream",
     "text": [
      "\n"
     ]
    },
    {
     "ename": "KeyboardInterrupt",
     "evalue": "",
     "output_type": "error",
     "traceback": [
      "\u001b[0;31m---------------------------------------------------------------------------\u001b[0m",
      "\u001b[0;31mKeyboardInterrupt\u001b[0m                         Traceback (most recent call last)",
      "\u001b[0;32m<ipython-input-15-19ca96b8fbff>\u001b[0m in \u001b[0;36m<module>\u001b[0;34m\u001b[0m\n\u001b[1;32m      5\u001b[0m         \u001b[0mexposure_pwm\u001b[0m\u001b[0;34m,\u001b[0m\u001b[0;34m\u001b[0m\u001b[0;34m\u001b[0m\u001b[0m\n\u001b[1;32m      6\u001b[0m         \u001b[0moutcome_pwm\u001b[0m\u001b[0;34m,\u001b[0m\u001b[0;34m\u001b[0m\u001b[0;34m\u001b[0m\u001b[0m\n\u001b[0;32m----> 7\u001b[0;31m         \u001b[0mconfounder_pwm\u001b[0m\u001b[0;34m=\u001b[0m\u001b[0mconfounder_pwm\u001b[0m\u001b[0;34m,\u001b[0m\u001b[0;34m\u001b[0m\u001b[0;34m\u001b[0m\u001b[0m\n\u001b[0m\u001b[1;32m      8\u001b[0m     )\n\u001b[1;32m      9\u001b[0m     \u001b[0madjusted_labels_ism\u001b[0m\u001b[0;34m.\u001b[0m\u001b[0mappend\u001b[0m\u001b[0;34m(\u001b[0m\u001b[0madjusted_labels_\u001b[0m\u001b[0;34m)\u001b[0m\u001b[0;34m\u001b[0m\u001b[0;34m\u001b[0m\u001b[0m\n",
      "\u001b[0;32m~/dev/an1lam/deepmr/src/tf_coop_simulation.py\u001b[0m in \u001b[0;36msimulate_oracle_predictions\u001b[0;34m(sequences, exposure_pwm, outcome_pwm, confounder_pwm, alpha, beta, eta, nu, tau, exp_bias, out_bias, confounder_prob)\u001b[0m\n\u001b[1;32m    183\u001b[0m     \"\"\"\n\u001b[1;32m    184\u001b[0m     q_exp, q_out, q_conf = simulate_counts(\n\u001b[0;32m--> 185\u001b[0;31m         \u001b[0msequences\u001b[0m\u001b[0;34m,\u001b[0m \u001b[0mexposure_pwm\u001b[0m\u001b[0;34m,\u001b[0m \u001b[0moutcome_pwm\u001b[0m\u001b[0;34m,\u001b[0m \u001b[0mconfounder_pwm\u001b[0m\u001b[0;34m=\u001b[0m\u001b[0mconfounder_pwm\u001b[0m\u001b[0;34m\u001b[0m\u001b[0;34m\u001b[0m\u001b[0m\n\u001b[0m\u001b[1;32m    186\u001b[0m     )\n\u001b[1;32m    187\u001b[0m     \u001b[0mb_conf\u001b[0m \u001b[0;34m=\u001b[0m \u001b[0mnp\u001b[0m\u001b[0;34m.\u001b[0m\u001b[0mzeros\u001b[0m\u001b[0;34m(\u001b[0m\u001b[0mlen\u001b[0m\u001b[0;34m(\u001b[0m\u001b[0msequences\u001b[0m\u001b[0;34m)\u001b[0m\u001b[0;34m)\u001b[0m\u001b[0;34m\u001b[0m\u001b[0;34m\u001b[0m\u001b[0m\n",
      "\u001b[0;32m~/dev/an1lam/deepmr/src/tf_coop_simulation.py\u001b[0m in \u001b[0;36msimulate_counts\u001b[0;34m(sequences, exposure_pwm, outcome_pwm, confounder_pwm)\u001b[0m\n\u001b[1;32m    152\u001b[0m             \u001b[0;36m1\u001b[0m \u001b[0;34m-\u001b[0m \u001b[0mddg_pwm_score\u001b[0m\u001b[0;34m(\u001b[0m\u001b[0mone_hot_sequences\u001b[0m\u001b[0;34m,\u001b[0m \u001b[0mconfounder_pwm\u001b[0m\u001b[0;34m)\u001b[0m\u001b[0;34m,\u001b[0m \u001b[0maxis\u001b[0m\u001b[0;34m=\u001b[0m\u001b[0;34m-\u001b[0m\u001b[0;36m1\u001b[0m\u001b[0;34m\u001b[0m\u001b[0;34m\u001b[0m\u001b[0m\n\u001b[1;32m    153\u001b[0m         )\n\u001b[0;32m--> 154\u001b[0;31m     \u001b[0mq_exp\u001b[0m \u001b[0;34m=\u001b[0m \u001b[0;36m1\u001b[0m \u001b[0;34m-\u001b[0m \u001b[0mnp\u001b[0m\u001b[0;34m.\u001b[0m\u001b[0mprod\u001b[0m\u001b[0;34m(\u001b[0m\u001b[0;36m1\u001b[0m \u001b[0;34m-\u001b[0m \u001b[0mddg_pwm_score\u001b[0m\u001b[0;34m(\u001b[0m\u001b[0mone_hot_sequences\u001b[0m\u001b[0;34m,\u001b[0m \u001b[0mexposure_pwm\u001b[0m\u001b[0;34m)\u001b[0m\u001b[0;34m,\u001b[0m \u001b[0maxis\u001b[0m\u001b[0;34m=\u001b[0m\u001b[0;34m-\u001b[0m\u001b[0;36m1\u001b[0m\u001b[0;34m)\u001b[0m\u001b[0;34m\u001b[0m\u001b[0;34m\u001b[0m\u001b[0m\n\u001b[0m\u001b[1;32m    155\u001b[0m     \u001b[0mq_out\u001b[0m \u001b[0;34m=\u001b[0m \u001b[0;36m1\u001b[0m \u001b[0;34m-\u001b[0m \u001b[0mnp\u001b[0m\u001b[0;34m.\u001b[0m\u001b[0mprod\u001b[0m\u001b[0;34m(\u001b[0m\u001b[0;36m1\u001b[0m \u001b[0;34m-\u001b[0m \u001b[0mddg_pwm_score\u001b[0m\u001b[0;34m(\u001b[0m\u001b[0mone_hot_sequences\u001b[0m\u001b[0;34m,\u001b[0m \u001b[0moutcome_pwm\u001b[0m\u001b[0;34m)\u001b[0m\u001b[0;34m,\u001b[0m \u001b[0maxis\u001b[0m\u001b[0;34m=\u001b[0m\u001b[0;34m-\u001b[0m\u001b[0;36m1\u001b[0m\u001b[0;34m)\u001b[0m\u001b[0;34m\u001b[0m\u001b[0;34m\u001b[0m\u001b[0m\n\u001b[1;32m    156\u001b[0m     \u001b[0;32mreturn\u001b[0m \u001b[0mq_exp\u001b[0m\u001b[0;34m,\u001b[0m \u001b[0mq_out\u001b[0m\u001b[0;34m,\u001b[0m \u001b[0mq_conf\u001b[0m\u001b[0;34m\u001b[0m\u001b[0;34m\u001b[0m\u001b[0m\n",
      "\u001b[0;32m~/dev/an1lam/deepmr/src/tf_coop_simulation.py\u001b[0m in \u001b[0;36mddg_pwm_score\u001b[0;34m(one_hot_sequences, pwm, mu)\u001b[0m\n\u001b[1;32m    130\u001b[0m     \u001b[0mbackground_pwm\u001b[0m \u001b[0;34m=\u001b[0m \u001b[0mnp\u001b[0m\u001b[0;34m.\u001b[0m\u001b[0marray\u001b[0m\u001b[0;34m(\u001b[0m\u001b[0;34m[\u001b[0m\u001b[0mbackground_frequency\u001b[0m\u001b[0;34m[\u001b[0m\u001b[0mnt\u001b[0m\u001b[0;34m]\u001b[0m \u001b[0;32mfor\u001b[0m \u001b[0mnt\u001b[0m \u001b[0;32min\u001b[0m \u001b[0;34m\"ACTG\"\u001b[0m\u001b[0;34m]\u001b[0m\u001b[0;34m)\u001b[0m\u001b[0;34m\u001b[0m\u001b[0;34m\u001b[0m\u001b[0m\n\u001b[1;32m    131\u001b[0m     \u001b[0mnll_pwm\u001b[0m \u001b[0;34m=\u001b[0m \u001b[0;34m-\u001b[0m\u001b[0mnp\u001b[0m\u001b[0;34m.\u001b[0m\u001b[0mlog\u001b[0m\u001b[0;34m(\u001b[0m\u001b[0mpwm\u001b[0m \u001b[0;34m/\u001b[0m \u001b[0mbackground_pwm\u001b[0m\u001b[0;34m)\u001b[0m\u001b[0;34m\u001b[0m\u001b[0;34m\u001b[0m\u001b[0m\n\u001b[0;32m--> 132\u001b[0;31m     \u001b[0mnll_scores\u001b[0m \u001b[0;34m=\u001b[0m \u001b[0mconvolve_1d\u001b[0m\u001b[0;34m(\u001b[0m\u001b[0mone_hot_sequences\u001b[0m\u001b[0;34m,\u001b[0m \u001b[0mnll_pwm\u001b[0m\u001b[0;34m.\u001b[0m\u001b[0mT\u001b[0m\u001b[0;34m)\u001b[0m\u001b[0;34m\u001b[0m\u001b[0;34m\u001b[0m\u001b[0m\n\u001b[0m\u001b[1;32m    133\u001b[0m     \u001b[0;31m# Convert back to probability space\u001b[0m\u001b[0;34m\u001b[0m\u001b[0;34m\u001b[0m\u001b[0;34m\u001b[0m\u001b[0m\n\u001b[1;32m    134\u001b[0m     \u001b[0;32mreturn\u001b[0m \u001b[0;36m1\u001b[0m \u001b[0;34m/\u001b[0m \u001b[0;34m(\u001b[0m\u001b[0;36m1\u001b[0m \u001b[0;34m+\u001b[0m \u001b[0mnp\u001b[0m\u001b[0;34m.\u001b[0m\u001b[0mexp\u001b[0m\u001b[0;34m(\u001b[0m\u001b[0mnll_scores\u001b[0m \u001b[0;34m-\u001b[0m \u001b[0mmu\u001b[0m\u001b[0;34m)\u001b[0m\u001b[0;34m)\u001b[0m\u001b[0;34m\u001b[0m\u001b[0;34m\u001b[0m\u001b[0m\n",
      "\u001b[0;32m~/dev/an1lam/deepmr/src/np_utils.py\u001b[0m in \u001b[0;36mconvolve_1d\u001b[0;34m(a, kernel)\u001b[0m\n\u001b[1;32m     41\u001b[0m     \u001b[0mstrided_a\u001b[0m \u001b[0;34m=\u001b[0m \u001b[0mrolling_window\u001b[0m\u001b[0;34m(\u001b[0m\u001b[0ma\u001b[0m\u001b[0;34m,\u001b[0m \u001b[0mkernel\u001b[0m\u001b[0;34m.\u001b[0m\u001b[0mshape\u001b[0m\u001b[0;34m[\u001b[0m\u001b[0;34m-\u001b[0m\u001b[0;36m1\u001b[0m\u001b[0;34m]\u001b[0m\u001b[0;34m)\u001b[0m\u001b[0;34m\u001b[0m\u001b[0;34m\u001b[0m\u001b[0m\n\u001b[1;32m     42\u001b[0m     \u001b[0;31m# Add dummy dimensions to kernel for broadcasting\u001b[0m\u001b[0;34m\u001b[0m\u001b[0;34m\u001b[0m\u001b[0;34m\u001b[0m\u001b[0m\n\u001b[0;32m---> 43\u001b[0;31m     \u001b[0;32mreturn\u001b[0m \u001b[0mnp\u001b[0m\u001b[0;34m.\u001b[0m\u001b[0msum\u001b[0m\u001b[0;34m(\u001b[0m\u001b[0mstrided_a\u001b[0m \u001b[0;34m*\u001b[0m \u001b[0mkernel\u001b[0m\u001b[0;34m[\u001b[0m\u001b[0;32mNone\u001b[0m\u001b[0;34m,\u001b[0m \u001b[0;34m:\u001b[0m\u001b[0;34m,\u001b[0m \u001b[0;32mNone\u001b[0m\u001b[0;34m,\u001b[0m \u001b[0;34m:\u001b[0m\u001b[0;34m]\u001b[0m\u001b[0;34m,\u001b[0m \u001b[0maxis\u001b[0m\u001b[0;34m=\u001b[0m\u001b[0;34m(\u001b[0m\u001b[0;36m1\u001b[0m\u001b[0;34m,\u001b[0m \u001b[0;36m3\u001b[0m\u001b[0;34m)\u001b[0m\u001b[0;34m)\u001b[0m\u001b[0;34m\u001b[0m\u001b[0;34m\u001b[0m\u001b[0m\n\u001b[0m",
      "\u001b[0;32m<__array_function__ internals>\u001b[0m in \u001b[0;36msum\u001b[0;34m(*args, **kwargs)\u001b[0m\n",
      "\u001b[0;32m~/anaconda3/envs/deepmr/lib/python3.6/site-packages/numpy/core/fromnumeric.py\u001b[0m in \u001b[0;36msum\u001b[0;34m(a, axis, dtype, out, keepdims, initial, where)\u001b[0m\n\u001b[1;32m   2240\u001b[0m \u001b[0;34m\u001b[0m\u001b[0m\n\u001b[1;32m   2241\u001b[0m     return _wrapreduction(a, np.add, 'sum', axis, dtype, out, keepdims=keepdims,\n\u001b[0;32m-> 2242\u001b[0;31m                           initial=initial, where=where)\n\u001b[0m\u001b[1;32m   2243\u001b[0m \u001b[0;34m\u001b[0m\u001b[0m\n\u001b[1;32m   2244\u001b[0m \u001b[0;34m\u001b[0m\u001b[0m\n",
      "\u001b[0;32m~/anaconda3/envs/deepmr/lib/python3.6/site-packages/numpy/core/fromnumeric.py\u001b[0m in \u001b[0;36m_wrapreduction\u001b[0;34m(obj, ufunc, method, axis, dtype, out, **kwargs)\u001b[0m\n\u001b[1;32m     85\u001b[0m                 \u001b[0;32mreturn\u001b[0m \u001b[0mreduction\u001b[0m\u001b[0;34m(\u001b[0m\u001b[0maxis\u001b[0m\u001b[0;34m=\u001b[0m\u001b[0maxis\u001b[0m\u001b[0;34m,\u001b[0m \u001b[0mout\u001b[0m\u001b[0;34m=\u001b[0m\u001b[0mout\u001b[0m\u001b[0;34m,\u001b[0m \u001b[0;34m**\u001b[0m\u001b[0mpasskwargs\u001b[0m\u001b[0;34m)\u001b[0m\u001b[0;34m\u001b[0m\u001b[0;34m\u001b[0m\u001b[0m\n\u001b[1;32m     86\u001b[0m \u001b[0;34m\u001b[0m\u001b[0m\n\u001b[0;32m---> 87\u001b[0;31m     \u001b[0;32mreturn\u001b[0m \u001b[0mufunc\u001b[0m\u001b[0;34m.\u001b[0m\u001b[0mreduce\u001b[0m\u001b[0;34m(\u001b[0m\u001b[0mobj\u001b[0m\u001b[0;34m,\u001b[0m \u001b[0maxis\u001b[0m\u001b[0;34m,\u001b[0m \u001b[0mdtype\u001b[0m\u001b[0;34m,\u001b[0m \u001b[0mout\u001b[0m\u001b[0;34m,\u001b[0m \u001b[0;34m**\u001b[0m\u001b[0mpasskwargs\u001b[0m\u001b[0;34m)\u001b[0m\u001b[0;34m\u001b[0m\u001b[0;34m\u001b[0m\u001b[0m\n\u001b[0m\u001b[1;32m     88\u001b[0m \u001b[0;34m\u001b[0m\u001b[0m\n\u001b[1;32m     89\u001b[0m \u001b[0;34m\u001b[0m\u001b[0m\n",
      "\u001b[0;31mKeyboardInterrupt\u001b[0m: "
     ]
    }
   ],
   "source": [
    "adjusted_labels_ism = []\n",
    "for i, muts in enumerate(tqdm(sample_muts)):\n",
    "    adjusted_labels_ = simulate_oracle_predictions(\n",
    "        [one_hot_decode(mut) for mut in muts],\n",
    "        exposure_pwm,\n",
    "        outcome_pwm,\n",
    "        confounder_pwm=confounder_pwm,\n",
    "    )\n",
    "    adjusted_labels_ism.append(adjusted_labels_)"
   ]
  },
  {
   "cell_type": "code",
   "execution_count": null,
   "metadata": {},
   "outputs": [],
   "source": [
    "np.array(adjusted_labels_ism).shape"
   ]
  },
  {
   "cell_type": "code",
   "execution_count": null,
   "metadata": {},
   "outputs": [],
   "source": [
    "adjusted_labels_ism_no_conf = []\n",
    "if includes_confounder:\n",
    "    for i, muts in enumerate(tqdm(sample_muts)):\n",
    "        adjusted_labels_ = simulate_oracle_predictions(\n",
    "            [one_hot_decode(mut) for mut in muts],\n",
    "            exposure_pwm,\n",
    "            outcome_pwm,\n",
    "        )\n",
    "        adjusted_labels_ism_no_conf.append(adjusted_labels_)"
   ]
  },
  {
   "cell_type": "code",
   "execution_count": null,
   "metadata": {},
   "outputs": [],
   "source": [
    "adjusted_labels_ism = np.array(adjusted_labels_ism)\n",
    "adjusted_labels_ism = adjusted_labels_ism.transpose((0, 2, 1))\n",
    "adjusted_labels_ism = np.array(adjusted_labels_ism).reshape(len(sample_seqs), 4, 100, -1)\n",
    "adjusted_labels_ism_anscombe = anscombe_transform(adjusted_labels_ism)"
   ]
  },
  {
   "cell_type": "code",
   "execution_count": null,
   "metadata": {},
   "outputs": [],
   "source": [
    "if includes_confounder:\n",
    "    adjusted_labels_ism_no_conf = np.array(adjusted_labels_ism_no_conf)\n",
    "    adjusted_labels_ism_no_conf = adjusted_labels_ism_no_conf.transpose((0, 2, 1))\n",
    "    adjusted_labels_ism_no_conf = np.array(adjusted_labels_ism_no_conf).reshape(len(sample_seqs), 4, 100, -1)\n",
    "    adjusted_labels_ism_no_conf_anscombe = anscombe_transform(adjusted_labels_ism_no_conf)"
   ]
  },
  {
   "cell_type": "code",
   "execution_count": null,
   "metadata": {},
   "outputs": [],
   "source": [
    "seq_idxs = np.array(sample_seqs).astype(np.bool)\n",
    "adjusted_ref_labels_ism = adjusted_labels_ism_anscombe[seq_idxs].reshape(len(sample_seqs), 1, 100, -1)\n",
    "adjusted_mut_labels_ism = adjusted_labels_ism_anscombe[~seq_idxs].reshape(len(sample_seqs), 3, 100, -1)\n",
    "adjusted_diffs = adjusted_mut_labels_ism - adjusted_ref_labels_ism"
   ]
  },
  {
   "cell_type": "code",
   "execution_count": null,
   "metadata": {},
   "outputs": [],
   "source": [
    "if includes_confounder:\n",
    "    seq_idxs = np.array(sample_seqs).astype(np.bool)\n",
    "    adjusted_ref_labels_ism_no_conf = adjusted_labels_ism_no_conf_anscombe[seq_idxs].reshape(len(sample_seqs), 1, 100, -1)\n",
    "    adjusted_mut_labels_ism_no_conf = adjusted_labels_ism_no_conf_anscombe[~seq_idxs].reshape(len(sample_seqs), 3, 100, -1)\n",
    "    adjusted_diffs_no_conf = adjusted_mut_labels_ism_no_conf - adjusted_ref_labels_ism_no_conf"
   ]
  },
  {
   "cell_type": "code",
   "execution_count": null,
   "metadata": {},
   "outputs": [],
   "source": [
    "ols_results_no_filter = []\n",
    "for i in range(len(sample_seqs)):\n",
    "    x = adjusted_diffs[i, :, exposure_col + 2].flatten()\n",
    "    y = adjusted_diffs[i, :, outcome_col + 2].flatten()\n",
    "    ols_res = sm.OLS(y, x).fit()\n",
    "    ols_results_no_filter.append(ols_res)\n",
    "sns.distplot([ols_res.params[0] for ols_res in ols_results_no_filter])"
   ]
  },
  {
   "cell_type": "code",
   "execution_count": null,
   "metadata": {},
   "outputs": [],
   "source": [
    "from filter_instrument_candidates import filter_variants_by_score\n",
    "sig_var_idxs = filter_variants_by_score(adjusted_diffs[:, :, :, exposure_col])\n",
    "if includes_confounder:\n",
    "    sig_var_idxs_no_conf = filter_variants_by_score(adjusted_diffs_no_conf[:, :, :, exposure_col])"
   ]
  },
  {
   "cell_type": "code",
   "execution_count": null,
   "metadata": {},
   "outputs": [],
   "source": [
    "ols_results = []\n",
    "for i in range(len(sample_seqs)):\n",
    "    if adjusted_diffs[i, sig_var_idxs[i, :, :], exposure_col].shape[0] > 0:\n",
    "        x = adjusted_diffs[i, sig_var_idxs[i, :, :], exposure_col + 2].flatten()\n",
    "        y = adjusted_diffs[i, sig_var_idxs[i, :, :], outcome_col + 2].flatten()\n",
    "        ols_res = sm.OLS(y, x).fit()\n",
    "        ols_results.append(ols_res)\n",
    "sns.distplot([ols_res.params[0] for ols_res in ols_results])"
   ]
  },
  {
   "cell_type": "code",
   "execution_count": null,
   "metadata": {},
   "outputs": [],
   "source": [
    "if includes_confounder:\n",
    "    ols_results_no_conf = []\n",
    "    for i in range(len(sample_seqs)):\n",
    "        if adjusted_diffs_no_conf[i, sig_var_idxs_no_conf[i, :, :], exposure_col ].shape[0] > 0:\n",
    "            x = adjusted_diffs_no_conf[i, sig_var_idxs_no_conf[i, :, :], exposure_col + 2].flatten()\n",
    "            y = adjusted_diffs_no_conf[i, sig_var_idxs_no_conf[i, :, :], outcome_col + 2].flatten()\n",
    "            ols_res = sm.OLS(y, x).fit()\n",
    "            ols_results_no_conf.append(ols_res)"
   ]
  },
  {
   "cell_type": "code",
   "execution_count": 49,
   "metadata": {},
   "outputs": [
    {
     "data": {
      "text/plain": [
       "[1.3536810449123219e-08,\n",
       " 0.9992300925198795,\n",
       " -0.008513135891941482,\n",
       " 1.0015939446655782,\n",
       " 0.935114928524619,\n",
       " 1.0007448128823775,\n",
       " 1.0017129495197352,\n",
       " 1.0189466731072638,\n",
       " -1.2994577290094913e-06,\n",
       " -1.4715019126390047e-08,\n",
       " 1.014460583259809,\n",
       " 1.0000614780814443,\n",
       " 2.817455490867985e-06,\n",
       " 1.0749882638126036e-08,\n",
       " 1.0183389373778742,\n",
       " 1.000000391074579,\n",
       " 1.0003746438703858,\n",
       " 1.0000134698265029,\n",
       " 0.7057978240112366,\n",
       " 0.8724239268266949,\n",
       " 1.0001015394547634,\n",
       " 6.568652108112324e-09,\n",
       " 0.9811014188815366,\n",
       " 1.1014560567854998,\n",
       " 1.011080584317086,\n",
       " -0.01722340141248934,\n",
       " -1.8977858544724735e-06,\n",
       " 0.9999943622769877,\n",
       " 1.0001126934160818,\n",
       " 1.0000019901501673,\n",
       " -2.1856688902660746e-05,\n",
       " 1.000033088399482,\n",
       " 1.0049976071518445,\n",
       " 3.3645221202681493e-08,\n",
       " 0.921879638672864,\n",
       " 5.988417926871561e-10,\n",
       " -1.946299073788451e-10,\n",
       " 8.963980275479389e-08,\n",
       " -8.711325101779851e-12,\n",
       " 3.367233102785044e-10,\n",
       " 0.9999912704721747,\n",
       " 1.0000279650139499,\n",
       " -4.5849892498617765e-09,\n",
       " 1.0348679353732755,\n",
       " -0.0004379290763215156,\n",
       " -1.496088044965446e-08,\n",
       " 1.000146627961786,\n",
       " 0.5605254992549162,\n",
       " 1.0001477263419711,\n",
       " 1.050939996759365,\n",
       " -1.2642204193797568e-11,\n",
       " -0.014477886578959459,\n",
       " 1.022053168030744,\n",
       " 0.9844538403061682,\n",
       " 1.0000056379928703,\n",
       " 1.003187145053401,\n",
       " 0.78891967958241,\n",
       " -2.0466112221440204e-11,\n",
       " 1.0062585479184734,\n",
       " -0.009205453857458044,\n",
       " 0.0006005137860096259,\n",
       " -0.009455774437979554,\n",
       " 1.0004065045119508,\n",
       " -2.0354464718788623e-05,\n",
       " 1.109003939969641,\n",
       " 1.0000213598226608,\n",
       " 0.12715136406428143,\n",
       " 0.9988281023276173,\n",
       " 1.00046135238901,\n",
       " -1.0386496135006436e-08,\n",
       " -8.776802467889351e-06,\n",
       " 1.0899666461544346,\n",
       " 1.0000450633618212,\n",
       " -0.02686332302898793,\n",
       " 0.7180929175405799,\n",
       " 1.0001215415614544,\n",
       " 0.9990098794135005,\n",
       " 3.450081493615564e-09,\n",
       " -1.428731936882031e-07,\n",
       " 5.744392680361741e-09,\n",
       " 1.0000697009323098,\n",
       " 1.000108950951577,\n",
       " 1.000142009504888,\n",
       " 1.0382168701351056e-07,\n",
       " 0.9961949605870777,\n",
       " 1.0002473656537902,\n",
       " 1.000372021125976,\n",
       " -2.645546914306523e-07,\n",
       " 0.08005624931527634,\n",
       " 1.0042134702193746,\n",
       " 0.5724153313712887,\n",
       " 1.0360405698911217e-09,\n",
       " -1.7084102664740903e-05,\n",
       " 1.027564760363927,\n",
       " 1.0000995555374272,\n",
       " 1.0000237585858316,\n",
       " 1.5417359523141928e-05,\n",
       " 1.0019309705378523,\n",
       " -1.0061608498623998e-06,\n",
       " 1.0006402079170518]"
      ]
     },
     "execution_count": 49,
     "metadata": {},
     "output_type": "execute_result"
    }
   ],
   "source": [
    "ism_cis = [ols_res.params[0] for ols_res in ols_results]\n",
    "if includes_confounder:\n",
    "    ism_cis_no_conf = [ols_res.params[0] for ols_res in ols_results_no_conf]\n",
    "ism_cis[:100]"
   ]
  },
  {
   "cell_type": "code",
   "execution_count": null,
   "metadata": {},
   "outputs": [],
   "source": [
    "min(ism_cis)"
   ]
  },
  {
   "cell_type": "code",
   "execution_count": 46,
   "metadata": {},
   "outputs": [
    {
     "name": "stderr",
     "output_type": "stream",
     "text": [
      "/home/stephen/anaconda3/envs/deepmr/lib/python3.6/site-packages/ipykernel_launcher.py:5: RuntimeWarning: divide by zero encountered in true_divide\n",
      "  \"\"\"\n",
      "/home/stephen/anaconda3/envs/deepmr/lib/python3.6/site-packages/ipykernel_launcher.py:5: RuntimeWarning: invalid value encountered in true_divide\n",
      "  \"\"\"\n",
      "/home/stephen/anaconda3/envs/deepmr/lib/python3.6/site-packages/numpy/core/_methods.py:160: RuntimeWarning: invalid value encountered in reduce\n",
      "  ret = umr_sum(arr, axis, dtype, out, keepdims)\n"
     ]
    }
   ],
   "source": [
    "wald_results = []\n",
    "for i in range(len(sample_seqs)):\n",
    "    if adjusted_diffs[i, sig_var_idxs[i, :, :], 2].shape[0] > 0:\n",
    "        wald_results.append(\n",
    "            np.mean(adjusted_diffs[i, sig_var_idxs[i, :, :], 3] / adjusted_diffs[i, sig_var_idxs[i, :, :], 2])\n",
    "        )"
   ]
  },
  {
   "cell_type": "code",
   "execution_count": 47,
   "metadata": {},
   "outputs": [
    {
     "data": {
      "text/plain": [
       "5013"
      ]
     },
     "execution_count": 47,
     "metadata": {},
     "output_type": "execute_result"
    }
   ],
   "source": [
    "len(sample_seqs)"
   ]
  },
  {
   "cell_type": "code",
   "execution_count": 48,
   "metadata": {},
   "outputs": [
    {
     "data": {
      "text/plain": [
       "<matplotlib.axes._subplots.AxesSubplot at 0x7f7e8b3da940>"
      ]
     },
     "execution_count": 48,
     "metadata": {},
     "output_type": "execute_result"
    },
    {
     "data": {
      "image/png": "[encoded data removed]",
      "text/plain": [
       "<Figure size 432x288 with 1 Axes>"
      ]
     },
     "metadata": {
      "needs_background": "light"
     },
     "output_type": "display_data"
    }
   ],
   "source": [
    "sns.distplot(ism_cis, kde=False)"
   ]
  },
  {
   "cell_type": "code",
   "execution_count": 42,
   "metadata": {},
   "outputs": [
    {
     "name": "stdout",
     "output_type": "stream",
     "text": [
      "../dat/sim/res\n"
     ]
    }
   ],
   "source": [
    "output_dir = os.path.join(data_dir, 'res')\n",
    "print(output_dir)\n",
    "os.makedirs(output_dir, exist_ok=True)\n",
    "with open(os.path.join(output_dir, f'{exposure_name}_{outcome_name}_true_ces_no_noise.csv'), 'w') as f:\n",
    "    f.write('seq, CI\\n')\n",
    "    for i, ci in enumerate(ism_cis):\n",
    "        f.write(f'{i}, {ci}\\n')"
   ]
  },
  {
   "cell_type": "code",
   "execution_count": null,
   "metadata": {},
   "outputs": [],
   "source": [
    "output_dir = os.path.join(data_dir, 'res')\n",
    "print(output_dir)\n",
    "os.makedirs(output_dir, exist_ok=True)\n",
    "with open(os.path.join(output_dir, 'GATA_TAL1_true_ces_no_conf.csv'), 'w') as f:\n",
    "    f.write('seq, CI\\n')\n",
    "    for i, ci in enumerate(ism_cis_no_conf):\n",
    "        f.write(f'{i}, {ci}\\n')"
   ]
  },
  {
   "cell_type": "code",
   "execution_count": null,
   "metadata": {},
   "outputs": [],
   "source": [
    "output_dir = os.path.join(data_dir, 'res')\n",
    "print(output_dir)\n",
    "os.makedirs(output_dir, exist_ok=True)\n",
    "with open(os.path.join(output_dir, 'GATA_TAL1_true_ces_wald.csv'), 'w') as f:\n",
    "    f.write('seq, CI\\n')\n",
    "    for i, ci in enumerate(wald_results):\n",
    "        f.write(f'{i}, {ci}\\n')"
   ]
  }
 ],
 "metadata": {
  "kernelspec": {
   "display_name": "Python 3",
   "language": "python",
   "name": "python3"
  },
  "language_info": {
   "codemirror_mode": {
    "name": "ipython",
    "version": 3
   },
   "file_extension": ".py",
   "mimetype": "text/x-python",
   "name": "python",
   "nbconvert_exporter": "python",
   "pygments_lexer": "ipython3",
   "version": "3.6.10"
  }
 },
 "nbformat": 4,
 "nbformat_minor": 4
}
