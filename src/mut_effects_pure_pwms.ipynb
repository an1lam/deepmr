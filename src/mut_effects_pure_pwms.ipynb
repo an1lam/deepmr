{
 "cells": [
  {
   "cell_type": "markdown",
   "metadata": {},
   "source": [
    "# Imports and model initialization"
   ]
  },
  {
   "cell_type": "code",
   "execution_count": 3,
   "metadata": {},
   "outputs": [
    {
     "name": "stderr",
     "output_type": "stream",
     "text": [
      "/home/stephenmalina/project/src/motif_scores.py:2: TqdmExperimentalWarning: Using `tqdm.autonotebook.tqdm` in notebook mode. Use `tqdm.tqdm` instead to force console mode (e.g. in jupyter console)\n",
      "  from tqdm.autonotebook import tqdm\n"
     ]
    }
   ],
   "source": [
    "# !pip install kipoi\n",
    "# !pip install kipoiseq\n",
    "# !pip install pybedtools\n",
    "# !pip uninstall -y kipoi_veff\n",
    "# !pip install git+https://github.com/an1lam/kipoi-veff\n",
    "# !pip install pyvcf\n",
    "import csv\n",
    "import math\n",
    "import pickle\n",
    "\n",
    "from Bio.motifs import pfm\n",
    "from Bio.motifs.jaspar import calculate_pseudocounts\n",
    "import kipoi\n",
    "from kipoi_interpret.importance_scores.ism import Mutation\n",
    "from kipoiseq.dataloaders import SeqIntervalDl\n",
    "from logomaker import Logo\n",
    "from matplotlib import pyplot as plt\n",
    "from matplotlib import patches\n",
    "from matplotlib import cm\n",
    "import matplotlib.lines as mlines\n",
    "import matplotlib.transforms as mtransforms\n",
    "import numpy as np\n",
    "import pandas\n",
    "from tqdm import tqdm\n",
    "\n",
    "from align import prob_sw\n",
    "from motif_scores import build_impact_maps\n",
    "from motif_scores import kmer_mut_scores\n",
    "from motif_scores import kmer_pwm_scores\n",
    "from motif_scores import pwm_scores\n",
    "from motif_scores import top_n_kmer_mut_scores\n",
    "from motif_scores import top_n_kmer_pwm_scores\n",
    "from np_utils import abs_max\n",
    "from pyx.one_hot import one_hot\n",
    "from utils import BASES\n",
    "from utils import INT_TO_BASES\n",
    "from utils import one_hot_decode"
   ]
  },
  {
   "cell_type": "code",
   "execution_count": 4,
   "metadata": {},
   "outputs": [
    {
     "name": "stdout",
     "output_type": "stream",
     "text": [
      "TF version: 1.15.0\n",
      "torch version: 1.3.1\n"
     ]
    }
   ],
   "source": [
    "import tensorflow as tf\n",
    "print(\"TF version:\", tf.__version__)\n",
    "import torch\n",
    "print(\"torch version:\", torch.__version__)\n",
    "from torch import nn\n",
    "from torch.nn import functional as F"
   ]
  },
  {
   "cell_type": "code",
   "execution_count": 5,
   "metadata": {},
   "outputs": [
    {
     "name": "stdout",
     "output_type": "stream",
     "text": [
      "/home/stephenmalina/project/src\r\n"
     ]
    }
   ],
   "source": [
    "!pwd"
   ]
  },
  {
   "cell_type": "code",
   "execution_count": 93,
   "metadata": {},
   "outputs": [],
   "source": [
    "%config InlineBackend.figure_format = 'retina'"
   ]
  },
  {
   "cell_type": "markdown",
   "metadata": {},
   "source": [
    "# Loading DNA sequence data"
   ]
  },
  {
   "cell_type": "code",
   "execution_count": 6,
   "metadata": {},
   "outputs": [
    {
     "name": "stderr",
     "output_type": "stream",
     "text": [
      "100%|██████████| 2/2 [00:00<00:00,  3.10it/s]\n"
     ]
    }
   ],
   "source": [
    "dl = SeqIntervalDl(\"../dat/50_random_seqs_2.bed\", \"../dat/hg19.fa\", auto_resize_len=1000)\n",
    "data = dl.load_all()"
   ]
  },
  {
   "cell_type": "code",
   "execution_count": 7,
   "metadata": {},
   "outputs": [
    {
     "data": {
      "text/plain": [
       "(50, 4, 1, 1000)"
      ]
     },
     "execution_count": 7,
     "metadata": {},
     "output_type": "execute_result"
    }
   ],
   "source": [
    "seqs = np.expand_dims(data['inputs'].transpose(0, 2, 1), 2).astype(np.float32)\n",
    "seqs.shape"
   ]
  },
  {
   "cell_type": "code",
   "execution_count": 8,
   "metadata": {},
   "outputs": [
    {
     "name": "stdout",
     "output_type": "stream",
     "text": [
      "Using downloaded and verified file: /home/stephenmalina/.kipoi/models/DeepSEA/predict/downloaded/model_files/weights/89e640bf6bdbe1ff165f484d9796efc7\n"
     ]
    },
    {
     "data": {
      "text/plain": [
       "Sequential(\n",
       "  (0): ReCodeAlphabet()\n",
       "  (1): ConcatenateRC()\n",
       "  (2): Sequential(\n",
       "    (0): Conv2d(4, 320, kernel_size=(1, 8), stride=(1, 1))\n",
       "    (1): Threshold(threshold=0, value=1e-06)\n",
       "    (2): MaxPool2d(kernel_size=(1, 4), stride=(1, 4), padding=0, dilation=1, ceil_mode=False)\n",
       "    (3): Dropout(p=0.2, inplace=False)\n",
       "    (4): Conv2d(320, 480, kernel_size=(1, 8), stride=(1, 1))\n",
       "    (5): Threshold(threshold=0, value=1e-06)\n",
       "    (6): MaxPool2d(kernel_size=(1, 4), stride=(1, 4), padding=0, dilation=1, ceil_mode=False)\n",
       "    (7): Dropout(p=0.2, inplace=False)\n",
       "    (8): Conv2d(480, 960, kernel_size=(1, 8), stride=(1, 1))\n",
       "    (9): Threshold(threshold=0, value=1e-06)\n",
       "    (10): Dropout(p=0.5, inplace=False)\n",
       "    (11): Lambda()\n",
       "    (12): Sequential(\n",
       "      (0): Lambda()\n",
       "      (1): Linear(in_features=50880, out_features=925, bias=True)\n",
       "    )\n",
       "    (13): Threshold(threshold=0, value=1e-06)\n",
       "    (14): Sequential(\n",
       "      (0): Lambda()\n",
       "      (1): Linear(in_features=925, out_features=919, bias=True)\n",
       "    )\n",
       "    (15): Sigmoid()\n",
       "  )\n",
       "  (3): AverageRC()\n",
       ")"
      ]
     },
     "execution_count": 8,
     "metadata": {},
     "output_type": "execute_result"
    }
   ],
   "source": [
    "deepsea = kipoi.get_model(\"DeepSEA/predict\", source=\"kipoi\")\n",
    "deepsea.model"
   ]
  },
  {
   "cell_type": "code",
   "execution_count": 9,
   "metadata": {},
   "outputs": [],
   "source": [
    "CHROM_ACC_COL = 'HepG2_DNase_None'\n",
    "# TF_COL = 'A549_CTCF_None'\n",
    "TF_COL = 'HepG2_FOXA1_None'\n",
    "relevant_cols = sorted([(i, label)\n",
    "                        for i, label in enumerate(deepsea.schema.targets.column_labels)\n",
    "                        if label in [CHROM_ACC_COL, TF_COL]])"
   ]
  },
  {
   "cell_type": "code",
   "execution_count": 10,
   "metadata": {},
   "outputs": [
    {
     "name": "stderr",
     "output_type": "stream",
     "text": [
      "100%|██████████| 1/1 [00:00<00:00,  1.29it/s]\n"
     ]
    },
    {
     "data": {
      "text/plain": [
       "(10, 919)"
      ]
     },
     "execution_count": 10,
     "metadata": {},
     "output_type": "execute_result"
    }
   ],
   "source": [
    "deepsea.pipeline.predict_example().shape"
   ]
  },
  {
   "cell_type": "markdown",
   "metadata": {},
   "source": [
    "# Loading Predictions"
   ]
  },
  {
   "cell_type": "code",
   "execution_count": 54,
   "metadata": {},
   "outputs": [],
   "source": [
    "import pickle\n",
    "# pickle_file = \"../dat/most_recent_sat_mut_results__drop_channel.pickle\"\n",
    "pickle_file = \"../dat/most_recent_sat_mut_results__original_mc_dropout.pickle\""
   ]
  },
  {
   "cell_type": "code",
   "execution_count": 55,
   "metadata": {},
   "outputs": [
    {
     "name": "stdout",
     "output_type": "stream",
     "text": [
      "(50, 50, 10, 301, 3)\n"
     ]
    },
    {
     "data": {
      "text/plain": [
       "(50, 25, 10, 301, 3)"
      ]
     },
     "execution_count": 55,
     "metadata": {},
     "output_type": "execute_result"
    }
   ],
   "source": [
    "with open(pickle_file, 'rb') as f: preds = pickle.load(f)\n",
    "print(preds.shape)\n",
    "n_seqs = 25\n",
    "epochs, _, n_batches, batch_size, _ = preds.shape\n",
    "preds = preds[:, :n_seqs, :, :, :]\n",
    "preds.shape"
   ]
  },
  {
   "cell_type": "code",
   "execution_count": 262,
   "metadata": {},
   "outputs": [],
   "source": [
    "all_zeros = np.zeros((4,))\n",
    "\n",
    "def batches_needed(seq_len, batch_size, alpha_size=4):\n",
    "    assert (seq_len * alpha_size) % (batch_size) == 0, seq_len * 3\n",
    "    # alpha_size - 1 mutations per nt and then account for ref in each batch\n",
    "    return (seq_len * alpha_size) // batch_size\n",
    "\n",
    "def generate_wt_mut_batches(seq, batch_size=None, context_size=None):\n",
    "    \"\"\"\n",
    "    For a given sequence, generate all possible point-mutated versions of the sequence\n",
    "    in batches of size `param:batch_size`.\n",
    "    \n",
    "    Args:\n",
    "        seq (numpy.ndarray [number of base pairs, sequence length]): \n",
    "            wild type sequence.\n",
    "        batch_size (int): size of returned batches. Note that each batch will have the\n",
    "            wild type sequence as its first row since we need to compute wild type / mut\n",
    "            prediction diffs using predictions generated by the same dropout mask.\n",
    "    \"\"\"\n",
    "    num_nts, seq_len = seq.shape\n",
    "    if batch_size is None: batch_size = num_nts * seq_len\n",
    "    n_batches = batches_needed(seq_len, batch_size, alpha_size=num_nts)\n",
    "    new_seq_len = context_size * 2 + 1 if context_size is not None else seq_len\n",
    "    seq_batches = np.zeros((n_batches, batch_size, num_nts, new_seq_len))    \n",
    "\n",
    "    i = 0\n",
    "    for seq_idx in range(seq_len):  # iterate over sequence \n",
    "        for nt_idx in range(num_nts):  # iterate over nucleotides\n",
    "\n",
    "            curr_batch, curr_idx = i // batch_size, i % batch_size\n",
    "            curr_mut = seq_batches[curr_batch, curr_idx]\n",
    "            curr_mut[nt_idx, context_size] = 1\n",
    "            \n",
    "            start_idx, end_idx = (0, seq_len)\n",
    "            if context_size is not None:\n",
    "                start_idx, end_idx = max(seq_idx - context_size, 0), min(seq_idx + context_size + 1, seq_len)\n",
    "            extend_back, extend_forwards = seq_idx - start_idx, end_idx - seq_idx\n",
    "            curr_mut[:, context_size - extend_back: context_size] = seq[:, start_idx: seq_idx]\n",
    "            curr_mut[:, context_size + 1: context_size + extend_forwards] = seq[:, seq_idx+1: end_idx]\n",
    "            i += 1\n",
    "    return seq_batches"
   ]
  },
  {
   "cell_type": "code",
   "execution_count": 57,
   "metadata": {},
   "outputs": [],
   "source": [
    "def next_seq(it):\n",
    "    return (np\n",
    "            .expand_dims(next(it)[\"inputs\"].transpose(0, 2, 1), 2)\n",
    "            .astype(np.float32)\n",
    "            .squeeze())"
   ]
  },
  {
   "cell_type": "code",
   "execution_count": 58,
   "metadata": {
    "scrolled": true
   },
   "outputs": [
    {
     "name": "stdout",
     "output_type": "stream",
     "text": [
      "Generating predictions for 25 seqs\n"
     ]
    },
    {
     "name": "stderr",
     "output_type": "stream",
     "text": [
      "100%|██████████| 25/25 [00:00<00:00, 846.33it/s]\n"
     ]
    }
   ],
   "source": [
    "epochs, n_seqs, batch_size = 50, 25, 301\n",
    "n_nts, _, seq_len = deepsea.schema.inputs.shape\n",
    "preds = [[[] for _ in range(n_seqs)] for _ in range(epochs)]\n",
    "it = dl.batch_iter(batch_size=1, num_workers=0, drop_last=False)\n",
    "\n",
    "n_batches = batches_needed(seq_len, batch_size, alpha_size=n_nts)\n",
    "seqs = np.zeros((n_seqs, n_nts, seq_len))\n",
    "batch_size = 301\n",
    "for i in tqdm(range(min(n_seqs, len(it)))):\n",
    "    seq = next_seq(it)\n",
    "    if np.allclose(seq, .25): raise Exception(\"shouldn't have empty seqs\")\n",
    "    seqs[i, :, :] = seq"
   ]
  },
  {
   "cell_type": "markdown",
   "metadata": {},
   "source": [
    "# Loading known FOXA1 motifs"
   ]
  },
  {
   "cell_type": "code",
   "execution_count": 59,
   "metadata": {},
   "outputs": [],
   "source": [
    "with open('../dat/foxa1.pfm') as f: foxa1_motifs = pfm.read(f, 'pfm-four-rows')"
   ]
  },
  {
   "cell_type": "code",
   "execution_count": 251,
   "metadata": {},
   "outputs": [],
   "source": [
    "def bio_to_np_pwm(motif):\n",
    "    nt_counts = motif.counts\n",
    "    motif_len = len(list(nt_counts.values())[0])\n",
    "    np_pwm = np.zeros((len(nt_counts.keys()), motif_len))\n",
    "    pseudocounts = calculate_pseudocounts(motif)\n",
    "    for i in range(motif_len):\n",
    "        total = sum(nt_counts[base][i] + pseudocounts[base] for base in BASES)\n",
    "        for j, base in INT_TO_BASES.items(): \n",
    "            np_pwm[j, i] = (nt_counts[base][i] + pseudocounts[base]) / total \n",
    "    return np.log(np_pwm)\n",
    "        \n",
    "\n",
    "foxa1_pwms = [bio_to_np_pwm(motif) for motif in foxa1_motifs]\n",
    "assert np.all(pwm < 0 for pwm in foxa1_pwms)"
   ]
  },
  {
   "cell_type": "markdown",
   "metadata": {},
   "source": [
    "# Results & Analysis\n",
    "## Computing summary statistics"
   ]
  },
  {
   "cell_type": "code",
   "execution_count": 61,
   "metadata": {},
   "outputs": [],
   "source": [
    "log_uniform_prob = math.log(.05/(1-.05))\n",
    "def compute_normalized_prob(prob, train_prob):\n",
    "    # source: http://deepsea.princeton.edu/help/\n",
    "    denom = 1+np.exp(-(np.log(prob/(1-prob))+log_uniform_prob-np.log(train_prob/(1-train_prob))))\n",
    "    return 1 / denom\n",
    "\n",
    "# Ratios and normalization formula drawn from here: http://deepsea.princeton.edu/media/help/posproportion.txt\n",
    "tf_compute_normalized_prob = lambda prob: compute_normalized_prob(prob, 0.02394)\n",
    "chrom_acc_normalized_prob = lambda prob: compute_normalized_prob(prob, 0.049791)"
   ]
  },
  {
   "cell_type": "code",
   "execution_count": 62,
   "metadata": {},
   "outputs": [],
   "source": [
    "preds[:, :, :, :, 0] = chrom_acc_normalized_prob(preds[:, :, :, :, 0])\n",
    "preds[:, :, :, :, 1] = compute_normalized_prob(preds[:, :, :, :, 1], 0.020508)\n",
    "preds[:, :, :, :, 2] = compute_normalized_prob(preds[:, :, :, :, 2], 0.02394)"
   ]
  },
  {
   "cell_type": "code",
   "execution_count": 63,
   "metadata": {},
   "outputs": [
    {
     "data": {
      "text/plain": [
       "(50, 25, 10, 301, 3)"
      ]
     },
     "execution_count": 63,
     "metadata": {},
     "output_type": "execute_result"
    }
   ],
   "source": [
    "n_batches = preds.shape[2]\n",
    "batch_size = preds.shape[3]\n",
    "preds.shape"
   ]
  },
  {
   "cell_type": "code",
   "execution_count": 64,
   "metadata": {},
   "outputs": [
    {
     "data": {
      "text/plain": [
       "(25, 10, 301, 3)"
      ]
     },
     "execution_count": 64,
     "metadata": {},
     "output_type": "execute_result"
    }
   ],
   "source": [
    "pred_means = np.mean(preds[:, :, :, :, :], axis=0)\n",
    "pred_vars = np.var(preds, axis=0, dtype=np.float64)\n",
    "pred_means.shape"
   ]
  },
  {
   "cell_type": "code",
   "execution_count": 65,
   "metadata": {},
   "outputs": [
    {
     "data": {
      "text/plain": [
       "(25, 10, 300, 3)"
      ]
     },
     "execution_count": 65,
     "metadata": {},
     "output_type": "execute_result"
    }
   ],
   "source": [
    "pred_mean_diffs = pred_means[:, :, 1:, :] - pred_means[:, :, 0:1, :] \n",
    "pred_mean_diffs.shape"
   ]
  },
  {
   "cell_type": "code",
   "execution_count": 66,
   "metadata": {},
   "outputs": [
    {
     "data": {
      "text/plain": [
       "(25, 3, 1000, 3)"
      ]
     },
     "execution_count": 66,
     "metadata": {},
     "output_type": "execute_result"
    }
   ],
   "source": [
    "pred_mean_diffs = pred_mean_diffs.reshape(n_seqs, n_nts-1, -1, 3)\n",
    "pred_mean_diffs.shape"
   ]
  },
  {
   "cell_type": "markdown",
   "metadata": {},
   "source": [
    "## Comparing Mutation Impact to Known Binding Motif Matches"
   ]
  },
  {
   "cell_type": "code",
   "execution_count": 75,
   "metadata": {},
   "outputs": [],
   "source": [
    "mut_effects = pred_mean_diffs[:, :, :, 1]"
   ]
  },
  {
   "cell_type": "code",
   "execution_count": 380,
   "metadata": {},
   "outputs": [
    {
     "name": "stderr",
     "output_type": "stream",
     "text": [
      "100%|██████████| 25/25 [00:00<00:00, 51.69it/s]\n",
      "100%|██████████| 25/25 [00:00<00:00, 52.37it/s]\n",
      "100%|██████████| 25/25 [00:00<00:00, 51.10it/s]\n",
      "100%|██████████| 25/25 [00:00<00:00, 51.99it/s]\n"
     ]
    },
    {
     "data": {
      "text/plain": [
       "(4, 25, 3, 1000)"
      ]
     },
     "execution_count": 380,
     "metadata": {},
     "output_type": "execute_result"
    }
   ],
   "source": [
    "pwm_ll_differences = np.zeros([len(foxa1_pwms), n_seqs, n_nts-1, seq_len])\n",
    "\n",
    "for i, pwm in enumerate(foxa1_pwms):\n",
    "    for j, seq in enumerate(tqdm(seqs)):\n",
    "        k = pwm.shape[1]\n",
    "        targets = generate_wt_mut_batches(seq, context_size=k).squeeze()\n",
    "        \n",
    "        # Note: as a result of torch / numpy conversion there are a few very small positive scores.\n",
    "        score = pwm_scores(\n",
    "            np.expand_dims(pwm, 0), targets.squeeze()\n",
    "        )[0]\n",
    "\n",
    "        reference_indexes = np.argwhere(seq.reshape(-1) == 1).squeeze()\n",
    "        reference_scores = score[reference_indexes, :]\n",
    "        reference_scores = np.repeat(reference_scores[np.newaxis, :, :], 3, axis=0)\n",
    "        \n",
    "        mutation_indexes = np.argwhere(seq.reshape(-1) == 0).squeeze()\n",
    "        mutation_scores = score[mutation_indexes, :].reshape(n_nts-1, seq_len, score.shape[1])\n",
    "        diffs = np.min(mutation_scores - reference_scores, axis=2)\n",
    "        pwm_ll_differences[i, j] = diffs\n",
    "\n",
    "pwm_ll_differences.shape"
   ]
  },
  {
   "cell_type": "code",
   "execution_count": 381,
   "metadata": {},
   "outputs": [
    {
     "data": {
      "text/plain": [
       "(4, 25, 4, 1000)"
      ]
     },
     "execution_count": 381,
     "metadata": {},
     "output_type": "execute_result"
    }
   ],
   "source": [
    "pwm_impact_maps = np.zeros((len(foxa1_pwms), n_seqs, n_nts, seq_len))\n",
    "for i, pwm in enumerate(foxa1_pwms):\n",
    "    pwm_impact_maps[i] = build_impact_maps(seqs, pwm_ll_differences[i], ref_preds=[None] * len(seqs))\n",
    "pwm_impact_maps.shape"
   ]
  },
  {
   "cell_type": "code",
   "execution_count": 382,
   "metadata": {},
   "outputs": [
    {
     "data": {
      "text/plain": [
       "(25, 4, 1000)"
      ]
     },
     "execution_count": 382,
     "metadata": {},
     "output_type": "execute_result"
    }
   ],
   "source": [
    "impact_maps = build_impact_maps(seqs, mut_effects, ref_preds=[None] * len(seqs))\n",
    "impact_maps.shape"
   ]
  },
  {
   "cell_type": "markdown",
   "metadata": {},
   "source": [
    "# Results"
   ]
  },
  {
   "cell_type": "markdown",
   "metadata": {},
   "source": [
    "We now have two partially aggregated \"scores\". First, we have the max differences between the PWM \"scores\" for each reference / mutated sequence pair over all sequences and mutation positions. The differences are between two log-likelihoods and represent how much each point mutation affects the PWM's similarity to the reference sequence in a window around the mutated position. Second, we have the difference between $ P(\\text{binding} \\mid \\text{reference sequence}) $ and $ P(\\text{binding} \\mid \\text{mutated sequence}) $ for all possible point mutations to each sequence.\n",
    "\n",
    "The idea behind both of the following metrics we compute is that, since we're using sequences which should have had binding predicted to start with, downward changes to PWM scores should correspond to downward changes to probability of binding. From a biological angle, each of our PWMs represents a known binding motif for the FOXA1 transcription factor. So, high PWM scores correspond to high similarity between a sub-sequence and the canonical motif represented by that PWM. Given this, PWM score decreases as a result of mutations make it more likely that an important motif for the FOXA1 binding protein was disrupted. Assuming our model \"understands\" these motifs, motif disruptions should lead to lower binding likelihoods.\n",
    "\n",
    "We first compute the pairwise Pearson correlation between the PWM likelihood differences and the predicted effects of mutations at both the PWM (across all sequence) and PWM/individual sequence levels. As you can see, the correlations are surprisingly low. I'm honestly not sure what to make of this. It implies that there's essentially no relationship between the positions at which "
   ]
  },
  {
   "cell_type": "code",
   "execution_count": 383,
   "metadata": {},
   "outputs": [
    {
     "name": "stdout",
     "output_type": "stream",
     "text": [
      "PWM-specific correlations:\n",
      " --------------------\n",
      "Correlation (PWM TGTTTACTTTG): 0.03\n",
      "Correlation (PWM TGTTTACTTTG): 0.03\n",
      "Correlation (PWM TCCATGTTTACTTTG): 0.02\n",
      "Correlation (PWM ATGTAAACATGT): -0.00\n",
      "PWM and sequence-specific correlations:\n",
      " --------------------\n",
      "Correlation (PWM TGTTTACTTTG, sequence: 0): 0.02\n",
      "Correlation (PWM TGTTTACTTTG, sequence: 1): 0.04\n",
      "Correlation (PWM TGTTTACTTTG, sequence: 2): 0.08\n",
      "Correlation (PWM TGTTTACTTTG, sequence: 3): 0.01\n",
      "Correlation (PWM TGTTTACTTTG, sequence: 4): 0.06\n",
      "Correlation (PWM TGTTTACTTTG, sequence: 5): 0.03\n",
      "Correlation (PWM TGTTTACTTTG, sequence: 6): 0.06\n",
      "Correlation (PWM TGTTTACTTTG, sequence: 7): -0.06\n",
      "Correlation (PWM TGTTTACTTTG, sequence: 8): 0.06\n",
      "Correlation (PWM TGTTTACTTTG, sequence: 9): -0.00\n",
      "Correlation (PWM TGTTTACTTTG, sequence: 10): -0.00\n",
      "Correlation (PWM TGTTTACTTTG, sequence: 11): 0.04\n",
      "Correlation (PWM TGTTTACTTTG, sequence: 12): -0.00\n",
      "Correlation (PWM TGTTTACTTTG, sequence: 13): -0.02\n",
      "Correlation (PWM TGTTTACTTTG, sequence: 14): 0.05\n",
      "Correlation (PWM TGTTTACTTTG, sequence: 15): 0.05\n",
      "Correlation (PWM TGTTTACTTTG, sequence: 16): -0.01\n",
      "Correlation (PWM TGTTTACTTTG, sequence: 17): -0.00\n",
      "Correlation (PWM TGTTTACTTTG, sequence: 18): 0.03\n",
      "Correlation (PWM TGTTTACTTTG, sequence: 19): 0.01\n",
      "Correlation (PWM TGTTTACTTTG, sequence: 20): 0.05\n",
      "Correlation (PWM TGTTTACTTTG, sequence: 21): 0.11\n",
      "Correlation (PWM TGTTTACTTTG, sequence: 22): -0.02\n",
      "Correlation (PWM TGTTTACTTTG, sequence: 23): 0.02\n",
      "Correlation (PWM TGTTTACTTTG, sequence: 24): 0.05\n",
      "Correlation (PWM TGTTTACTTTG, sequence: 0): 0.02\n",
      "Correlation (PWM TGTTTACTTTG, sequence: 1): 0.04\n",
      "Correlation (PWM TGTTTACTTTG, sequence: 2): 0.08\n",
      "Correlation (PWM TGTTTACTTTG, sequence: 3): 0.01\n",
      "Correlation (PWM TGTTTACTTTG, sequence: 4): 0.06\n",
      "Correlation (PWM TGTTTACTTTG, sequence: 5): 0.03\n",
      "Correlation (PWM TGTTTACTTTG, sequence: 6): 0.06\n",
      "Correlation (PWM TGTTTACTTTG, sequence: 7): -0.06\n",
      "Correlation (PWM TGTTTACTTTG, sequence: 8): 0.06\n",
      "Correlation (PWM TGTTTACTTTG, sequence: 9): -0.00\n",
      "Correlation (PWM TGTTTACTTTG, sequence: 10): -0.00\n",
      "Correlation (PWM TGTTTACTTTG, sequence: 11): 0.04\n",
      "Correlation (PWM TGTTTACTTTG, sequence: 12): -0.00\n",
      "Correlation (PWM TGTTTACTTTG, sequence: 13): -0.02\n",
      "Correlation (PWM TGTTTACTTTG, sequence: 14): 0.05\n",
      "Correlation (PWM TGTTTACTTTG, sequence: 15): 0.05\n",
      "Correlation (PWM TGTTTACTTTG, sequence: 16): -0.01\n",
      "Correlation (PWM TGTTTACTTTG, sequence: 17): -0.00\n",
      "Correlation (PWM TGTTTACTTTG, sequence: 18): 0.03\n",
      "Correlation (PWM TGTTTACTTTG, sequence: 19): 0.01\n",
      "Correlation (PWM TGTTTACTTTG, sequence: 20): 0.05\n",
      "Correlation (PWM TGTTTACTTTG, sequence: 21): 0.11\n",
      "Correlation (PWM TGTTTACTTTG, sequence: 22): -0.02\n",
      "Correlation (PWM TGTTTACTTTG, sequence: 23): 0.02\n",
      "Correlation (PWM TGTTTACTTTG, sequence: 24): 0.04\n",
      "Correlation (PWM TCCATGTTTACTTTG, sequence: 0): 0.01\n",
      "Correlation (PWM TCCATGTTTACTTTG, sequence: 1): 0.05\n",
      "Correlation (PWM TCCATGTTTACTTTG, sequence: 2): 0.05\n",
      "Correlation (PWM TCCATGTTTACTTTG, sequence: 3): 0.00\n",
      "Correlation (PWM TCCATGTTTACTTTG, sequence: 4): 0.05\n",
      "Correlation (PWM TCCATGTTTACTTTG, sequence: 5): 0.03\n",
      "Correlation (PWM TCCATGTTTACTTTG, sequence: 6): 0.05\n",
      "Correlation (PWM TCCATGTTTACTTTG, sequence: 7): -0.04\n",
      "Correlation (PWM TCCATGTTTACTTTG, sequence: 8): 0.04\n",
      "Correlation (PWM TCCATGTTTACTTTG, sequence: 9): 0.01\n",
      "Correlation (PWM TCCATGTTTACTTTG, sequence: 10): -0.01\n",
      "Correlation (PWM TCCATGTTTACTTTG, sequence: 11): 0.01\n",
      "Correlation (PWM TCCATGTTTACTTTG, sequence: 12): 0.02\n",
      "Correlation (PWM TCCATGTTTACTTTG, sequence: 13): -0.03\n",
      "Correlation (PWM TCCATGTTTACTTTG, sequence: 14): 0.05\n",
      "Correlation (PWM TCCATGTTTACTTTG, sequence: 15): 0.04\n",
      "Correlation (PWM TCCATGTTTACTTTG, sequence: 16): 0.04\n",
      "Correlation (PWM TCCATGTTTACTTTG, sequence: 17): 0.01\n",
      "Correlation (PWM TCCATGTTTACTTTG, sequence: 18): 0.01\n",
      "Correlation (PWM TCCATGTTTACTTTG, sequence: 19): -0.00\n",
      "Correlation (PWM TCCATGTTTACTTTG, sequence: 20): 0.03\n",
      "Correlation (PWM TCCATGTTTACTTTG, sequence: 21): 0.06\n",
      "Correlation (PWM TCCATGTTTACTTTG, sequence: 22): 0.00\n",
      "Correlation (PWM TCCATGTTTACTTTG, sequence: 23): 0.01\n",
      "Correlation (PWM TCCATGTTTACTTTG, sequence: 24): 0.07\n",
      "Correlation (PWM ATGTAAACATGT, sequence: 0): -0.02\n",
      "Correlation (PWM ATGTAAACATGT, sequence: 1): 0.04\n",
      "Correlation (PWM ATGTAAACATGT, sequence: 2): -0.10\n",
      "Correlation (PWM ATGTAAACATGT, sequence: 3): -0.01\n",
      "Correlation (PWM ATGTAAACATGT, sequence: 4): 0.03\n",
      "Correlation (PWM ATGTAAACATGT, sequence: 5): 0.02\n",
      "Correlation (PWM ATGTAAACATGT, sequence: 6): 0.03\n",
      "Correlation (PWM ATGTAAACATGT, sequence: 7): -0.04\n",
      "Correlation (PWM ATGTAAACATGT, sequence: 8): -0.00\n",
      "Correlation (PWM ATGTAAACATGT, sequence: 9): -0.04\n",
      "Correlation (PWM ATGTAAACATGT, sequence: 10): -0.04\n",
      "Correlation (PWM ATGTAAACATGT, sequence: 11): -0.01\n",
      "Correlation (PWM ATGTAAACATGT, sequence: 12): 0.05\n",
      "Correlation (PWM ATGTAAACATGT, sequence: 13): 0.01\n",
      "Correlation (PWM ATGTAAACATGT, sequence: 14): 0.01\n",
      "Correlation (PWM ATGTAAACATGT, sequence: 15): 0.00\n",
      "Correlation (PWM ATGTAAACATGT, sequence: 16): 0.03\n",
      "Correlation (PWM ATGTAAACATGT, sequence: 17): -0.01\n",
      "Correlation (PWM ATGTAAACATGT, sequence: 18): -0.01\n",
      "Correlation (PWM ATGTAAACATGT, sequence: 19): 0.02\n",
      "Correlation (PWM ATGTAAACATGT, sequence: 20): -0.03\n",
      "Correlation (PWM ATGTAAACATGT, sequence: 21): 0.04\n",
      "Correlation (PWM ATGTAAACATGT, sequence: 22): 0.04\n",
      "Correlation (PWM ATGTAAACATGT, sequence: 23): -0.03\n",
      "Correlation (PWM ATGTAAACATGT, sequence: 24): 0.00\n"
     ]
    }
   ],
   "source": [
    "print(\"PWM-specific correlations:\\n\", \"-\" * 20)\n",
    "for i, pwm in enumerate(foxa1_pwms):\n",
    "    assert mut_effects.shape == pwm_ll_differences[i].shape\n",
    "    correlation = np.corrcoef(mut_effects.reshape(-1), pwm_ll_differences[i].reshape(-1))\n",
    "    print(\"Correlation (PWM %s): %.2f\" % (foxa1_motifs[i].consensus, correlation[1, 0]))\n",
    "\n",
    "print(\"PWM and sequence-specific correlations:\\n\", \"-\" * 20)\n",
    "for i, pwm in enumerate(foxa1_pwms):\n",
    "    for j, seq in enumerate(seqs):\n",
    "        assert mut_effects[j].shape == pwm_ll_differences[i, j].shape\n",
    "        correlation = np.corrcoef(mut_effects[j].reshape(-1), pwm_ll_differences[i, j].reshape(-1))\n",
    "        print(\"Correlation (PWM %s, sequence: %d): %.2f\" % (foxa1_motifs[i].consensus, j, correlation[1, 0]))\n"
   ]
  },
  {
   "cell_type": "code",
   "execution_count": 384,
   "metadata": {},
   "outputs": [
    {
     "data": {
      "text/plain": [
       "((25, 1000), (25, 1000))"
      ]
     },
     "execution_count": 384,
     "metadata": {},
     "output_type": "execute_result"
    }
   ],
   "source": [
    "mut_scores = abs_max(impact_maps, axis=1)\n",
    "mut_score_indexes = np.argmax(np.abs(impact_maps), axis=1)\n",
    "mut_scores.shape, mut_score_indexes.shape"
   ]
  },
  {
   "cell_type": "code",
   "execution_count": 385,
   "metadata": {
    "scrolled": false
   },
   "outputs": [
    {
     "name": "stdout",
     "output_type": "stream",
     "text": [
      "WORST\n",
      " ----------\n",
      "PWM scores\n",
      "Most negative (best):  [-46.93837817 -49.60380269  -6.07713722]\n",
      "Least negative (worst):  [-3.8650377  -7.79437527 -5.71752006]\n",
      "PWM match window: start (820) -> end (850)\n",
      "\n",
      "Mut scores\n",
      "Most negative (best):  [-0.17357698 -0.15974003 -0.159639   -0.15943506 -0.15715995]\n",
      "PWM consensus:  TCCATGTTTACTTTG\n",
      "SEQ window:     TTTTTACCTCAATTTCCTGTCCCAAGATGG\n",
      "'Best' mut score idxs and nts:  [899 902 891 900 694] [2 1 1 1 1]\n",
      "Least negative (worst):  [0.17635483 0.18365037 0.23777428 0.25939775 0.30138874]\n",
      "'Worst' mut score idxs and nts:  AGATC [645 711 833 644 528] [2 1 1 2 1]\n",
      "\n",
      "WORST\n",
      " ----------\n",
      "PWM scores\n",
      "Most negative (best):  [-47.54423826 -53.84018004 -10.52841764]\n",
      "Least negative (worst):  [-9.07502256 -8.96574216 -7.08061643]\n",
      "PWM match window: start (301) -> end (331)\n",
      "\n",
      "Mut scores\n",
      "Most negative (best):  [-0.22850603 -0.22618456 -0.22103682 -0.21916957 -0.21157001]\n",
      "PWM consensus:  TCCATGTTTACTTTG\n",
      "SEQ window:     AGTTTCAGAAAATACCCCTCCAATTTATTT\n",
      "'Best' mut score idxs and nts:  [766 762 754 752 773] [2 1 2 2 1]\n",
      "Least negative (worst):  [0.14881742 0.17650795 0.19019517 0.20079905 0.26280427]\n",
      "'Worst' mut score idxs and nts:  TTTTC [770 510 303 767 511] [2 2 1 2 2]\n",
      "\n",
      "WORST\n",
      " ----------\n",
      "PWM scores\n",
      "Most negative (best):  [-52.03627971 -41.76256922  -6.38755879]\n",
      "Least negative (worst):  [-11.2941032   -7.9871947  -10.24563083]\n",
      "PWM match window: start (598) -> end (628)\n",
      "\n",
      "Mut scores\n",
      "Most negative (best):  [-0.032483   -0.03174182 -0.02987804 -0.02981757 -0.0292422 ]\n",
      "PWM consensus:  TCCATGTTTACTTTG\n",
      "SEQ window:     AAGAGCACGTATCTAGACCTGCTGGACTCT\n",
      "'Best' mut score idxs and nts:  [56 46 49 54 51] [2 1 2 1 2]\n",
      "Least negative (worst):  [0.06048952 0.06059842 0.07331868 0.07957622 0.11133391]\n",
      "'Worst' mut score idxs and nts:  AAAAT [583 880 587 613 781] [2 2 2 1 1]\n",
      "\n",
      "WORST\n",
      " ----------\n",
      "PWM scores\n",
      "Most negative (best):  [-50.86296802 -57.04147945  -6.07713722]\n",
      "Least negative (worst):  [-8.45956262 -5.292184   -4.36067965]\n",
      "PWM match window: start (570) -> end (600)\n",
      "\n",
      "Mut scores\n",
      "Most negative (best):  [-0.05313707 -0.0527257  -0.05265719 -0.05160842 -0.05154755]\n",
      "PWM consensus:  TCCATGTTTACTTTG\n",
      "SEQ window:     GGCCAGGCGTGGTGACTCACGCCTGTAATC\n",
      "'Best' mut score idxs and nts:  [208 221 220 222 223] [1 2 2 1 1]\n",
      "Least negative (worst):  [0.06358468 0.06459922 0.07125907 0.07995001 0.11508969]\n",
      "'Worst' mut score idxs and nts:  ACATT [587 207 227 263 260] [2 2 2 2 2]\n",
      "\n",
      "WORST\n",
      " ----------\n",
      "PWM scores\n",
      "Most negative (best):  [-42.76333318 -58.2932861   -6.07713722]\n",
      "Least negative (worst):  [-4.65220638 -5.70647179 -3.75403799]\n",
      "PWM match window: start (314) -> end (344)\n",
      "\n",
      "Mut scores\n",
      "Most negative (best):  [-0.17361706 -0.17359102 -0.16856301 -0.16629522 -0.16263297]\n",
      "PWM consensus:  TCCATGTTTACTTTG\n",
      "SEQ window:     ATCTCCACTGGTTTTCCATCTATTCTTTCC\n",
      "'Best' mut score idxs and nts:  [638 640 645 642 649] [1 1 1 2 2]\n",
      "Least negative (worst):  [0.10518856 0.1090889  0.11789532 0.12782051 0.19138889]\n",
      "'Worst' mut score idxs and nts:  AATTG [366 651 490 324 489] [2 1 1 1 2]\n",
      "\n",
      "WORST\n",
      " ----------\n",
      "PWM scores\n",
      "Most negative (best):  [ -3.58982113 -27.27040518 -29.31244378]\n",
      "Least negative (worst):  [-1.88154358 -1.83527684 -3.34848176]\n",
      "PWM match window: start (178) -> end (202)\n",
      "\n",
      "Mut scores\n",
      "Most negative (best):  [-0.22670221 -0.22207612 -0.2163265  -0.20538166 -0.19564819]\n",
      "PWM consensus:  ATGTAAACATGT\n",
      "SEQ window:     CAGCTAGCTCTTGCCGCTAAGCAT\n",
      "'Best' mut score idxs and nts:  [284 286 379 378 277] [2 1 1 2 2]\n",
      "Least negative (worst):  [0.11672223 0.13214928 0.13247669 0.14259475 0.21636891]\n",
      "'Worst' mut score idxs and nts:  CAGCG [296 571 111 199 264] [2 1 2 2 1]\n",
      "\n",
      "BEST\n",
      " ----------\n",
      "PWM scores\n",
      "Most negative (best):  [-31.10855737 -30.11447332  -2.48710092]\n",
      "Least negative (worst):  [ 0.43422654 -2.8389075  -2.50467825]\n",
      "Mut scores\n",
      "Most negative (best):  [-0.12573954 -0.12156904 -0.12003738 -0.11956751 -0.11918265]\n",
      "Least negative (worst):  [0.10640515 0.11532035 0.15224153 0.16254595 0.2030127 ]\n",
      "PWM match window: start (379) -> end (403)\n",
      "PWM matching sequence window:  ATATGGTTAGGCTT\n",
      "'Best' mut score idxs and nts:  [385 373 374 383 376] [1 1 2 1 2]\n",
      "'Worst' mut score idxs and nts:  [387 301 472 424 470] [1 1 1 2 1]\n",
      "\n",
      "WORST\n",
      " ----------\n",
      "PWM scores\n",
      "Most negative (best):  [-31.10855737 -30.11447332  -2.48710092]\n",
      "Least negative (worst):  [ 0.43422654 -2.8389075  -2.50467825]\n",
      "PWM match window: start (379) -> end (403)\n",
      "\n",
      "Mut scores\n",
      "Most negative (best):  [-0.12573954 -0.12156904 -0.12003738 -0.11956751 -0.11918265]\n",
      "PWM consensus:  ATGTAAACATGT\n",
      "SEQ window:     AGTGGTGGGATTACAGGCGTGAGC\n",
      "'Best' mut score idxs and nts:  [385 373 374 383 376] [1 1 2 1 2]\n",
      "Least negative (worst):  [0.10640515 0.11532035 0.15224153 0.16254595 0.2030127 ]\n",
      "'Worst' mut score idxs and nts:  ATACA [387 301 472 424 470] [1 1 1 2 1]\n",
      "\n",
      "WORST\n",
      " ----------\n",
      "PWM scores\n",
      "Most negative (best):  [-32.96397271 -29.70947476  -3.14683454]\n",
      "Least negative (worst):  [-1.1409824  -1.01060651  5.50924712]\n",
      "PWM match window: start (579) -> end (603)\n",
      "\n",
      "Mut scores\n",
      "Most negative (best):  [-0.05313707 -0.0527257  -0.05265719 -0.05160842 -0.05154755]\n",
      "PWM consensus:  ATGTAAACATGT\n",
      "SEQ window:     TGGTGACTCACGCCTGTAATCCCA\n",
      "'Best' mut score idxs and nts:  [208 221 220 222 223] [1 2 2 1 1]\n",
      "Least negative (worst):  [0.06358468 0.06459922 0.07125907 0.07995001 0.11508969]\n",
      "'Worst' mut score idxs and nts:  ACATT [587 207 227 263 260] [2 2 2 2 2]\n",
      "\n",
      "WORST\n",
      " ----------\n",
      "PWM scores\n",
      "Most negative (best):  [-28.48091953 -32.95866026  -6.65108287]\n",
      "Least negative (worst):  [-2.61178647 -2.94830421 -3.94084454]\n",
      "PWM match window: start (569) -> end (593)\n",
      "\n",
      "Mut scores\n",
      "Most negative (best):  [-0.02739441 -0.02684742 -0.02585407 -0.02582946 -0.02539494]\n",
      "PWM consensus:  ATGTAAACATGT\n",
      "SEQ window:     TTGGAAACCCCTGGGTTAGCCCGA\n",
      "'Best' mut score idxs and nts:  [650 666 673 660 663] [2 1 2 2 2]\n",
      "Least negative (worst):  [0.04868012 0.05144548 0.13357173 0.22827898 0.31674153]\n",
      "'Worst' mut score idxs and nts:  ATATA [806 385 571 605 607] [2 2 1 2 1]\n",
      "\n"
     ]
    }
   ],
   "source": [
    "total = len(foxa1_pwms) * n_seqs\n",
    "top_best_in_window = top_worst_in_window = 0\n",
    "\n",
    "for i in range(len(foxa1_pwms)):\n",
    "    for j in range(n_seqs):\n",
    "        seq_score_idxs = np.argsort(np.min(pwm_ll_differences[i][j], axis=0))\n",
    "\n",
    "        context_size = foxa1_pwms[i].shape[1]\n",
    "        worst_window_start = max(seq_score_idxs[0] - context_size, 0)\n",
    "        worst_window_end = min(seq_score_idxs[0] + context_size, seq_len)\n",
    "        best_window_start = max(seq_score_idxs[-1] - context_size, 0)\n",
    "        best_window_end = min(seq_score_idxs[-1] + context_size, seq_len)\n",
    "        \n",
    "        best_mut_idxs = np.argsort(mut_scores[j])[:5]\n",
    "        worst_mut_idxs = np.argsort(mut_scores[j])[-5:]\n",
    "\n",
    "        if np.any(np.logical_and(best_mut_idxs >= best_window_start, best_mut_idxs < best_window_end)): \n",
    "            print(\"BEST\\n\", \"-\" * 10)\n",
    "            top_best_in_window += 1\n",
    "            print(\"PWM scores\")\n",
    "            print(\"Most negative (best): \", pwm_ll_differences[i, j][:, seq_score_idxs[0]])\n",
    "            print(\"Least negative (worst): \", pwm_ll_differences[i, j][:, seq_score_idxs[-1]])\n",
    "            print(\"Mut scores\")\n",
    "            print(\"Most negative (best): \", mut_scores[j][best_mut_idxs])\n",
    "            print(\"Least negative (worst): \", mut_scores[j][worst_mut_idxs])\n",
    "            print(\"PWM match window: start (%d) -> end (%d)\" % (best_window_start, best_window_end))\n",
    "            print(\"PWM matching sequence window: \", one_hot_decode(seqs[j][:, window_start: window_end]))\n",
    "            print(\"'Best' mut score idxs and nts: \", best_mut_idxs, mut_score_indexes[j][best_mut_idxs])\n",
    "            print(\"'Worst' mut score idxs and nts: \", worst_mut_idxs, mut_score_indexes[j][worst_mut_idxs])\n",
    "            print()\n",
    "        \n",
    "        if np.any(np.logical_and(worst_mut_idxs >= best_window_start, worst_mut_idxs < best_window_end)): \n",
    "            print(\"WORST\\n\", \"-\" * 10)\n",
    "            top_worst_in_window += 1\n",
    "            print(\"PWM scores\")\n",
    "            print(\"Most negative (best): \", pwm_ll_differences[i, j][:, seq_score_idxs[0]])\n",
    "            print(\"Least negative (worst): \", pwm_ll_differences[i, j][:, seq_score_idxs[-1]])\n",
    "            print(\"PWM match window: start (%d) -> end (%d)\" % (best_window_start, best_window_end))\n",
    "            print()\n",
    "            \n",
    "            print(\"Mut scores\")\n",
    "            print(\"Most negative (best): \", mut_scores[j][best_mut_idxs])\n",
    "            print(\"PWM consensus: \", foxa1_motifs[i].consensus)\n",
    "            print(\"SEQ window:    \", one_hot_decode(seqs[j][:, best_window_start: best_window_end]))\n",
    "            print(\"'Best' mut score idxs and nts: \", best_mut_idxs, mut_score_indexes[j][best_mut_idxs])\n",
    "            print(\"Least negative (worst): \", mut_scores[j][worst_mut_idxs])\n",
    "            print(\n",
    "                \"'Worst' mut score idxs and nts: \", \n",
    "                one_hot_decode(seq[:, worst_mut_idxs]), \n",
    "                worst_mut_idxs,\n",
    "                mut_score_indexes[j][worst_mut_idxs]\n",
    "            )\n",
    "            print()\n",
    " "
   ]
  },
  {
   "cell_type": "code",
   "execution_count": 386,
   "metadata": {},
   "outputs": [
    {
     "data": {
      "text/plain": [
       "'Fraction in best / worst window: 0.01, 0.09'"
      ]
     },
     "execution_count": 386,
     "metadata": {},
     "output_type": "execute_result"
    }
   ],
   "source": [
    "fraction_in_best_window = top_best_in_window / total\n",
    "fraction_in_worst_window = top_worst_in_window / total\n",
    "\"Fraction in best / worst window: %.2f, %.2f\" % (fraction_in_best_window, fraction_in_worst_window)"
   ]
  }
 ],
 "metadata": {
  "kernelspec": {
   "display_name": "Python 3",
   "language": "python",
   "name": "python3"
  },
  "language_info": {
   "codemirror_mode": {
    "name": "ipython",
    "version": 3
   },
   "file_extension": ".py",
   "mimetype": "text/x-python",
   "name": "python",
   "nbconvert_exporter": "python",
   "pygments_lexer": "ipython3",
   "version": "3.7.4"
  }
 },
 "nbformat": 4,
 "nbformat_minor": 4
}
