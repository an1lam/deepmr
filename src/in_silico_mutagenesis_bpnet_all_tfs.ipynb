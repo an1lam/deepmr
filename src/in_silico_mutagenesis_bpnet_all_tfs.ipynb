{
 "cells": [
  {
   "cell_type": "markdown",
   "metadata": {},
   "source": [
    "## Imports and model initialization"
   ]
  },
  {
   "cell_type": "code",
   "execution_count": 11,
   "metadata": {},
   "outputs": [
    {
     "name": "stdout",
     "output_type": "stream",
     "text": [
      "The autoreload extension is already loaded. To reload it, use:\n",
      "  %reload_ext autoreload\n"
     ]
    }
   ],
   "source": [
    "%load_ext autoreload\n",
    "%autoreload 2\n",
    "\n",
    "import csv\n",
    "from datetime import datetime\n",
    "import math\n",
    "import os\n",
    "from pathlib import Path\n",
    "import pickle\n",
    "\n",
    "from IPython.display import clear_output\n",
    "from matplotlib import pyplot as plt\n",
    "import numpy as np\n",
    "import pandas as pd\n",
    "from tqdm.notebook import tqdm\n",
    "from utils import detect_device\n",
    "\n",
    "import bpnet\n",
    "from bpnet.datasets import StrandedProfile\n",
    "from bpnet.dataspecs import DataSpec, TaskSpec\n",
    "from bpnet.utils import create_tf_session\n",
    "from bpnet.utils import read_json\n",
    "from bpnet.seqmodel import SeqModel\n",
    "from bpnet.plot.evaluate import plot_loss, regression_eval\n",
    "\n",
    "from in_silico_mutagenesis import compute_summary_statistics, generate_wt_mut_batches, write_results"
   ]
  },
  {
   "cell_type": "code",
   "execution_count": 12,
   "metadata": {},
   "outputs": [
    {
     "name": "stdout",
     "output_type": "stream",
     "text": [
      "/home/ubuntu/dev/an1lam/deepmr/src\r\n"
     ]
    }
   ],
   "source": [
    "!pwd"
   ]
  },
  {
   "cell_type": "code",
   "execution_count": 13,
   "metadata": {},
   "outputs": [],
   "source": [
    "timestamp = datetime.now().strftime('%Y-%m-%d-%H-%M-%S')\n",
    "output_dir = f'/home/ubuntu/dev/an1lam/deepmr/dat/res-bpnet-{timestamp}'\n",
    "factor_names = ['Oct4', 'Sox2', 'Nanog', 'Klf4']\n",
    "\n",
    "exposure_outcome_pairs = [\n",
    "    (exposure_name, outcome_name)\n",
    "    for exposure_name in factor_names\n",
    "    for outcome_name in factor_names\n",
    "    if exposure_name != outcome_name\n",
    "]\n",
    "\n",
    "results_fnames = [\n",
    "    f'{exposure_name}_{outcome_name}_effect_sizes.csv' for exposure_name, outcome_name in exposure_outcome_pairs\n",
    "]\n",
    "n_seqs = 2000\n",
    "alphabet_size = 4"
   ]
  },
  {
   "cell_type": "code",
   "execution_count": 14,
   "metadata": {},
   "outputs": [],
   "source": [
    "os.makedirs(output_dir, exist_ok=True)"
   ]
  },
  {
   "cell_type": "markdown",
   "metadata": {},
   "source": [
    "# Loading BPNet"
   ]
  },
  {
   "cell_type": "code",
   "execution_count": 15,
   "metadata": {},
   "outputs": [],
   "source": [
    "class Ensemble:\n",
    "    def __init__(self, model_base_dir, n_reps=5):\n",
    "        models = []\n",
    "        for i in range(n_reps):\n",
    "            models.append(SeqModel.from_mdir(os.path.join(model_base_dir, str(i))))\n",
    "        self.models = models\n",
    "\n",
    "    def predict(self, seqs):\n",
    "        preds = {}\n",
    "        for model in self.models:\n",
    "            model_preds = model.predict(seqs)\n",
    "            for key, preds_ in model_preds.items():\n",
    "                preds.setdefault(key, []).append(preds_.mean(-1))\n",
    "        return {k: np.stack(v) for k, v in preds.items()}"
   ]
  },
  {
   "cell_type": "code",
   "execution_count": 52,
   "metadata": {},
   "outputs": [],
   "source": [
    "model_base_dir = \"/home/ubuntu/dev/an1lam/deepmr/dat/res-bpnet-training-2021-01-02-20-11-07/output_ensemble\""
   ]
  },
  {
   "cell_type": "code",
   "execution_count": 53,
   "metadata": {},
   "outputs": [],
   "source": [
    "model_dir = Path(model_base_dir)"
   ]
  },
  {
   "cell_type": "code",
   "execution_count": 54,
   "metadata": {},
   "outputs": [],
   "source": [
    "create_tf_session(0)\n",
    "clear_output()"
   ]
  },
  {
   "cell_type": "code",
   "execution_count": 57,
   "metadata": {},
   "outputs": [],
   "source": [
    "model = Ensemble(model_base_dir, n_reps=1)\n",
    "clear_output()"
   ]
  },
  {
   "cell_type": "markdown",
   "metadata": {},
   "source": [
    "# Loading data"
   ]
  },
  {
   "cell_type": "code",
   "execution_count": 58,
   "metadata": {
    "papermill": {
     "duration": 0.18378,
     "end_time": "2019-08-01T09:53:08.162361",
     "exception": false,
     "start_time": "2019-08-01T09:53:07.978581",
     "status": "completed"
    },
    "tags": []
   },
   "outputs": [
    {
     "name": "stdout",
     "output_type": "stream",
     "text": [
      "{\r\n",
      "  \"valid-peaks\": {\r\n",
      "    \"Oct4/profile/binsize=1/auprc\": 0.18009270799318408,\r\n",
      "    \"Oct4/profile/binsize=1/random_auprc\": 0.002962928723389025,\r\n",
      "    \"Oct4/profile/binsize=1/n_positives\": 49407,\r\n",
      "    \"Oct4/profile/binsize=1/frac_ambigous\": 0.07197004608294931,\r\n",
      "    \"Oct4/profile/binsize=1/imbalance\": 0.0029207034942389304,\r\n",
      "    \"Oct4/profile/binsize=10/auprc\": 0.4895772090647788,\r\n",
      "    \"Oct4/profile/binsize=10/random_auprc\": 0.03456102474822499,\r\n",
      "    \"Oct4/profile/binsize=10/n_positives\": 39490,\r\n",
      "    \"Oct4/profile/binsize=10/frac_ambigous\": 0.36034507351327627,\r\n",
      "    \"Oct4/profile/binsize=10/imbalance\": 0.03386899927356185,\r\n",
      "    \"Oct4/counts/mse\": 0.28948304057121277,\r\n",
      "    \"Oct4/counts/var_explained\": 0.3258916735649109,\r\n",
      "    \"Oct4/counts/pearsonr\": 0.5844209726909169,\r\n",
      "    \"Oct4/counts/spearmanr\": 0.5507967253432144,\r\n",
      "    \"Oct4/counts/mad\": 0.4073560833930969,\r\n",
      "    \"Sox2/profile/binsize=1/auprc\": 0.3745101241906123,\r\n",
      "    \"Sox2/profile/binsize=1/random_auprc\": 0.005811615354319482,\r\n",
      "    \"Sox2/profile/binsize=1/n_positives\": 17617,\r\n",
      "    \"Sox2/profile/binsize=1/frac_ambigous\": 0.07234169764560099,\r\n",
      "    \"Sox2/profile/binsize=1/imbalance\": 0.005883156380020444,\r\n",
      "    \"Sox2/profile/binsize=10/auprc\": 0.7387614236779938,\r\n",
      "    \"Sox2/profile/binsize=10/random_auprc\": 0.05270570989821352,\r\n",
      "    \"Sox2/profile/binsize=10/n_positives\": 11768,\r\n",
      "    \"Sox2/profile/binsize=10/frac_ambigous\": 0.3296003717472119,\r\n",
      "    \"Sox2/profile/binsize=10/imbalance\": 0.05437951988170329,\r\n",
      "    \"Sox2/counts/mse\": 0.21143411099910736,\r\n",
      "    \"Sox2/counts/var_explained\": 0.3211064338684082,\r\n",
      "    \"Sox2/counts/pearsonr\": 0.5801321398654323,\r\n",
      "    \"Sox2/counts/spearmanr\": 0.544191788309717,\r\n",
      "    \"Sox2/counts/mad\": 0.33897772431373596,\r\n",
      "    \"Nanog/profile/binsize=1/auprc\": 0.40005341174935816,\r\n",
      "    \"Nanog/profile/binsize=1/random_auprc\": 0.005261639200489461,\r\n",
      "    \"Nanog/profile/binsize=1/n_positives\": 131489,\r\n",
      "    \"Nanog/profile/binsize=1/frac_ambigous\": 0.05847682695948504,\r\n",
      "    \"Nanog/profile/binsize=1/imbalance\": 0.005287982482806486,\r\n",
      "    \"Nanog/profile/binsize=10/auprc\": 0.6862426403429785,\r\n",
      "    \"Nanog/profile/binsize=10/random_auprc\": 0.03913729689139988,\r\n",
      "    \"Nanog/profile/binsize=10/n_positives\": 79292,\r\n",
      "    \"Nanog/profile/binsize=10/frac_ambigous\": 0.24423816736084816,\r\n",
      "    \"Nanog/profile/binsize=10/imbalance\": 0.03972610769616933,\r\n",
      "    \"Nanog/counts/mse\": 0.6333104968070984,\r\n",
      "    \"Nanog/counts/var_explained\": 0.31499218940734863,\r\n",
      "    \"Nanog/counts/pearsonr\": 0.5804360866076549,\r\n",
      "    \"Nanog/counts/spearmanr\": 0.6008884554838537,\r\n",
      "    \"Nanog/counts/mad\": 0.5916907787322998,\r\n",
      "    \"Klf4/profile/binsize=1/auprc\": 0.13184537639973481,\r\n",
      "    \"Klf4/profile/binsize=1/random_auprc\": 0.0026119411270258907,\r\n",
      "    \"Klf4/profile/binsize=1/n_positives\": 60341,\r\n",
      "    \"Klf4/profile/binsize=1/frac_ambigous\": 0.06376228266071143,\r\n",
      "    \"Klf4/profile/binsize=1/imbalance\": 0.0025702070405041987,\r\n",
      "    \"Klf4/profile/binsize=10/auprc\": 0.47921090900005536,\r\n",
      "    \"Klf4/profile/binsize=10/random_auprc\": 0.02811658861317159,\r\n",
      "    \"Klf4/profile/binsize=10/n_positives\": 47183,\r\n",
      "    \"Klf4/profile/binsize=10/frac_ambigous\": 0.3158912904769501,\r\n",
      "    \"Klf4/profile/binsize=10/imbalance\": 0.027504399666330705,\r\n",
      "    \"Klf4/counts/mse\": 0.4248100519180298,\r\n",
      "    \"Klf4/counts/var_explained\": 0.3610718250274658,\r\n",
      "    \"Klf4/counts/pearsonr\": 0.6040663251183451,\r\n",
      "    \"Klf4/counts/spearmanr\": 0.6116685790306352,\r\n",
      "    \"Klf4/counts/mad\": 0.5027745366096497,\r\n",
      "    \"avg/profile/binsize=1/auprc\": 0.2716254050832223,\r\n",
      "    \"avg/profile/binsize=1/random_auprc\": 0.0041620311013059645,\r\n",
      "    \"avg/profile/binsize=1/n_positives\": 64713.5,\r\n",
      "    \"avg/profile/binsize=1/frac_ambigous\": 0.0666377133371867,\r\n",
      "    \"avg/profile/binsize=1/imbalance\": 0.004165512349392515,\r\n",
      "    \"avg/profile/binsize=10/auprc\": 0.5984480455214516,\r\n",
      "    \"avg/profile/binsize=10/random_auprc\": 0.038630155037752495,\r\n",
      "    \"avg/profile/binsize=10/n_positives\": 44433.25,\r\n",
      "    \"avg/profile/binsize=10/frac_ambigous\": 0.3125187257745716,\r\n",
      "    \"avg/profile/binsize=10/imbalance\": 0.03886975662944129,\r\n",
      "    \"avg/counts/mse\": 0.3897594250738621,\r\n",
      "    \"avg/counts/var_explained\": 0.3307655304670334,\r\n",
      "    \"avg/counts/pearsonr\": 0.5872638810705874,\r\n",
      "    \"avg/counts/spearmanr\": 0.5768863870418551,\r\n",
      "    \"avg/counts/mad\": 0.4601997807621956\r\n",
      "  },\r\n",
      "  \"train-peaks\": {\r\n",
      "    \"Oct4/profile/binsize=1/auprc\": 0.20943181439657454,\r\n",
      "    \"Oct4/profile/binsize=1/random_auprc\": 0.002983818225269707,\r\n",
      "    \"Oct4/profile/binsize=1/n_positives\": 154366,\r\n",
      "    \"Oct4/profile/binsize=1/frac_ambigous\": 0.07272301977532929,\r\n",
      "    \"Oct4/profile/binsize=1/imbalance\": 0.0029873375753968136,\r\n",
      "    \"Oct4/profile/binsize=10/auprc\": 0.5244591578258002,\r\n",
      "    \"Oct4/profile/binsize=10/random_auprc\": 0.0340407555453327,\r\n",
      "    \"Oct4/profile/binsize=10/n_positives\": 121145,\r\n",
      "    \"Oct4/profile/binsize=10/frac_ambigous\": 0.3634565552883753,\r\n",
      "    \"Oct4/profile/binsize=10/imbalance\": 0.03415226987355104,\r\n",
      "    \"Oct4/counts/mse\": 0.2876874506473541,\r\n",
      "    \"Oct4/counts/var_explained\": 0.3414596915245056,\r\n",
      "    \"Oct4/counts/pearsonr\": 0.6014327166084281,\r\n",
      "    \"Oct4/counts/spearmanr\": 0.5484796926917045,\r\n",
      "    \"Oct4/counts/mad\": 0.4075178802013397,\r\n",
      "    \"Sox2/profile/binsize=1/auprc\": 0.4440800267513336,\r\n",
      "    \"Sox2/profile/binsize=1/random_auprc\": 0.00639233066028362,\r\n",
      "    \"Sox2/profile/binsize=1/n_positives\": 54643,\r\n",
      "    \"Sox2/profile/binsize=1/frac_ambigous\": 0.06995694864048338,\r\n",
      "    \"Sox2/profile/binsize=1/imbalance\": 0.006339360615914425,\r\n",
      "    \"Sox2/profile/binsize=10/auprc\": 0.792963534711252,\r\n",
      "    \"Sox2/profile/binsize=10/random_auprc\": 0.05607346165540887,\r\n",
      "    \"Sox2/profile/binsize=10/n_positives\": 35209,\r\n",
      "    \"Sox2/profile/binsize=10/frac_ambigous\": 0.3171288303841174,\r\n",
      "    \"Sox2/profile/binsize=10/imbalance\": 0.05563253987691287,\r\n",
      "    \"Sox2/counts/mse\": 0.21338531374931335,\r\n",
      "    \"Sox2/counts/var_explained\": 0.3098781108856201,\r\n",
      "    \"Sox2/counts/pearsonr\": 0.5686074627279336,\r\n",
      "    \"Sox2/counts/spearmanr\": 0.5409604483012375,\r\n",
      "    \"Sox2/counts/mad\": 0.3384958803653717,\r\n",
      "    \"Nanog/profile/binsize=1/auprc\": 0.4353970324104865,\r\n",
      "    \"Nanog/profile/binsize=1/random_auprc\": 0.00548240610271223,\r\n",
      "    \"Nanog/profile/binsize=1/n_positives\": 411937,\r\n",
      "    \"Nanog/profile/binsize=1/frac_ambigous\": 0.058119235429390965,\r\n",
      "    \"Nanog/profile/binsize=1/imbalance\": 0.005407331467606181,\r\n",
      "    \"Nanog/profile/binsize=10/auprc\": 0.7173128989093648,\r\n",
      "    \"Nanog/profile/binsize=10/random_auprc\": 0.04094374714989922,\r\n",
      "    \"Nanog/profile/binsize=10/n_positives\": 247781,\r\n",
      "    \"Nanog/profile/binsize=10/frac_ambigous\": 0.24039143443535027,\r\n",
      "    \"Nanog/profile/binsize=10/imbalance\": 0.04032981839122142,\r\n",
      "    \"Nanog/counts/mse\": 0.6235148906707764,\r\n",
      "    \"Nanog/counts/var_explained\": 0.3282890319824219,\r\n",
      "    \"Nanog/counts/pearsonr\": 0.5981149008963287,\r\n",
      "    \"Nanog/counts/spearmanr\": 0.6020024172061943,\r\n",
      "    \"Nanog/counts/mad\": 0.5918328166007996,\r\n",
      "    \"Klf4/profile/binsize=1/auprc\": 0.15404479601133583,\r\n",
      "    \"Klf4/profile/binsize=1/random_auprc\": 0.0026095623712324278,\r\n",
      "    \"Klf4/profile/binsize=1/n_positives\": 191820,\r\n",
      "    \"Klf4/profile/binsize=1/frac_ambigous\": 0.06424348014146503,\r\n",
      "    \"Klf4/profile/binsize=1/imbalance\": 0.002607806286352112,\r\n",
      "    \"Klf4/profile/binsize=10/auprc\": 0.5152636101613896,\r\n",
      "    \"Klf4/profile/binsize=10/random_auprc\": 0.028080528841461234,\r\n",
      "    \"Klf4/profile/binsize=10/n_positives\": 149469,\r\n",
      "    \"Klf4/profile/binsize=10/frac_ambigous\": 0.3180267409612498,\r\n",
      "    \"Klf4/profile/binsize=10/imbalance\": 0.027882267285414514,\r\n",
      "    \"Klf4/counts/mse\": 0.42992937564849854,\r\n",
      "    \"Klf4/counts/var_explained\": 0.36504238843917847,\r\n",
      "    \"Klf4/counts/pearsonr\": 0.6067204338546082,\r\n",
      "    \"Klf4/counts/spearmanr\": 0.6090634368181752,\r\n",
      "    \"Klf4/counts/mad\": 0.5046718716621399,\r\n",
      "    \"avg/profile/binsize=1/auprc\": 0.31073841739243263,\r\n",
      "    \"avg/profile/binsize=1/random_auprc\": 0.004367029339874496,\r\n",
      "    \"avg/profile/binsize=1/n_positives\": 203191.5,\r\n",
      "    \"avg/profile/binsize=1/frac_ambigous\": 0.06626067099666716,\r\n",
      "    \"avg/profile/binsize=1/imbalance\": 0.004335458986317383,\r\n",
      "    \"avg/profile/binsize=10/auprc\": 0.6374998004019516,\r\n",
      "    \"avg/profile/binsize=10/random_auprc\": 0.039784623298025505,\r\n",
      "    \"avg/profile/binsize=10/n_positives\": 138401.0,\r\n",
      "    \"avg/profile/binsize=10/frac_ambigous\": 0.30975089026727315,\r\n",
      "    \"avg/profile/binsize=10/imbalance\": 0.03949922385677496,\r\n",
      "    \"avg/counts/mse\": 0.3886292576789856,\r\n",
      "    \"avg/counts/var_explained\": 0.3361673057079315,\r\n",
      "    \"avg/counts/pearsonr\": 0.5937188785218246,\r\n",
      "    \"avg/counts/spearmanr\": 0.5751264987543279,\r\n",
      "    \"avg/counts/mad\": 0.4606296122074127\r\n",
      "  }\r\n",
      "}"
     ]
    }
   ],
   "source": [
    "!cat {model_base_dir}/0/evaluation.valid.json"
   ]
  },
  {
   "cell_type": "code",
   "execution_count": 62,
   "metadata": {
    "papermill": {
     "duration": 0.028215,
     "end_time": "2019-08-01T09:53:08.235373",
     "exception": false,
     "start_time": "2019-08-01T09:53:08.207158",
     "status": "completed"
    },
    "tags": []
   },
   "outputs": [
    {
     "data": {
      "text/plain": [
       "{'Adam.amsgrad': False,\n",
       " 'Adam.beta_1': 0.9,\n",
       " 'Adam.beta_2': 0.999,\n",
       " 'Adam.decay': 0.0,\n",
       " 'Adam.epsilon': 'None',\n",
       " 'Adam.lr': 0.004,\n",
       " 'DeConv1D.batchnorm': False,\n",
       " 'DeConv1D.filters': 64,\n",
       " 'DeConv1D.n_hidden': 0,\n",
       " 'DeConv1D.n_tasks': 2,\n",
       " 'DeConv1D.padding': 'same',\n",
       " 'DeConv1D.tconv_kernel_size': 25,\n",
       " 'DilatedConv1D.add_pointwise': False,\n",
       " 'DilatedConv1D.batchnorm': False,\n",
       " 'DilatedConv1D.conv1_kernel_size': 25,\n",
       " 'DilatedConv1D.filters': 64,\n",
       " 'DilatedConv1D.n_dil_layers': 9,\n",
       " 'DilatedConv1D.padding': 'same',\n",
       " 'DilatedConv1D.skip_type': 'residual',\n",
       " 'GlobalAvgPoolFCN.batchnorm': False,\n",
       " 'GlobalAvgPoolFCN.dropout': 0,\n",
       " 'GlobalAvgPoolFCN.dropout_hidden': 0,\n",
       " 'GlobalAvgPoolFCN.hidden': 'None',\n",
       " 'GlobalAvgPoolFCN.n_splines': 0,\n",
       " 'GlobalAvgPoolFCN.n_tasks': 2,\n",
       " 'MovingAverages.window_sizes': [1, 50],\n",
       " 'PeakPredictionProfileMetric.binsizes': [1, 10],\n",
       " 'PeakPredictionProfileMetric.neg_max_threshold': 0.005,\n",
       " 'PeakPredictionProfileMetric.pos_min_threshold': 0.015,\n",
       " 'PeakPredictionProfileMetric.required_min_pos_counts': 2.5,\n",
       " 'ProfileHead.activation': 'None',\n",
       " 'ProfileHead.bias_input': 'bias/{task}/profile',\n",
       " 'ProfileHead.bias_net': 'MovingAverages()',\n",
       " 'ProfileHead.bias_shape': '(None, %n_bias_tracks)',\n",
       " 'ProfileHead.loss': 'multinomial_nll',\n",
       " 'ProfileHead.loss_weight': 1,\n",
       " 'ProfileHead.metric': 'PeakPredictionProfileMetric()',\n",
       " 'ProfileHead.net': 'DeConv1D()',\n",
       " 'ProfileHead.postproc_fn': 'softmax',\n",
       " 'ProfileHead.target_name': '{task}/profile',\n",
       " 'ProfileHead.use_bias': True,\n",
       " 'ScalarHead.activation': 'None',\n",
       " 'ScalarHead.bias_input': 'bias/{task}/counts',\n",
       " 'ScalarHead.bias_net': 'None',\n",
       " 'ScalarHead.bias_shape': '(%n_bias_tracks,)',\n",
       " 'ScalarHead.loss': 'mse',\n",
       " 'ScalarHead.loss_weight': 10,\n",
       " 'ScalarHead.metric': 'RegressionMetrics()',\n",
       " 'ScalarHead.net': 'GlobalAvgPoolFCN()',\n",
       " 'ScalarHead.postproc_fn': 'None',\n",
       " 'ScalarHead.target_name': '{task}/counts',\n",
       " 'ScalarHead.use_bias': True,\n",
       " 'SeqModel.body': 'DilatedConv1D()',\n",
       " 'SeqModel.heads': ['ProfileHead()', 'ScalarHead()'],\n",
       " 'SeqModel.input_name': 'seq',\n",
       " 'SeqModel.input_shape': 'None',\n",
       " 'SeqModel.optimizer': 'keras.optimizers.Adam()',\n",
       " 'SeqModel.seqlen': 1000,\n",
       " 'SeqModel.tasks': ['Oct4', 'Sox2', 'Nanog', 'Klf4'],\n",
       " 'StrandedProfile.excl_chromosomes': 'None',\n",
       " 'StrandedProfile.include_classes': False,\n",
       " 'augment_interval': True,\n",
       " 'batchnorm': False,\n",
       " 'bpnet_data.augment_interval': True,\n",
       " 'bpnet_data.dataspec': 'ChIP-nexus.dataspec.yml',\n",
       " 'bpnet_data.exclude_chr': ['chrX', 'chrY'],\n",
       " 'bpnet_data.include_metadata': False,\n",
       " 'bpnet_data.interval_augmentation_shift': 200,\n",
       " 'bpnet_data.intervals_file': 'None',\n",
       " 'bpnet_data.intervals_format': 'bed',\n",
       " 'bpnet_data.peak_width': 1000,\n",
       " 'bpnet_data.seq_width': 1000,\n",
       " 'bpnet_data.shuffle': True,\n",
       " 'bpnet_data.tasks': ['Oct4', 'Sox2', 'Nanog', 'Klf4'],\n",
       " 'bpnet_data.test_chr': ['chr1', 'chr8', 'chr9'],\n",
       " 'bpnet_data.track_transform': 'None',\n",
       " 'bpnet_data.valid_chr': ['chr2', 'chr3', 'chr4'],\n",
       " 'dataspec': 'ChIP-nexus.dataspec.yml',\n",
       " 'exclude_chr': ['chrX', 'chrY'],\n",
       " 'filters': 64,\n",
       " 'lambda': 10,\n",
       " 'lr': 0.004,\n",
       " 'n_bias_tracks': 2,\n",
       " 'n_dil_layers': 9,\n",
       " 'report_template.name': 'evaluate.ipynb',\n",
       " 'report_template.raise_error': True,\n",
       " 'seq_width': 1000,\n",
       " 'tasks': ['Oct4', 'Sox2', 'Nanog', 'Klf4'],\n",
       " 'tconv_kernel_size': 25,\n",
       " 'test_chr': ['chr1', 'chr8', 'chr9'],\n",
       " 'tracks_per_task': 2,\n",
       " 'train.batch_size': 128,\n",
       " 'train.data': 'bpnet_data()',\n",
       " 'train.early_stop_patience': 5,\n",
       " 'train.epochs': 10,\n",
       " 'train.eval_metric': 'None',\n",
       " 'train.eval_report': 'report_template()',\n",
       " 'train.eval_skip': [],\n",
       " 'train.eval_train': False,\n",
       " 'train.model': 'SeqModel()',\n",
       " 'train.seed': 0,\n",
       " 'train.stratified_sampler_p': 'None',\n",
       " 'train.tensorboard': True,\n",
       " 'train.train_batch_sampler': 'None',\n",
       " 'train.train_epoch_frac': 1.0,\n",
       " 'train.train_samples_per_epoch': 'None',\n",
       " 'train.valid_epoch_frac': 1.0,\n",
       " 'train.validation_samples': 'None',\n",
       " 'use_bias': True,\n",
       " 'valid_chr': ['chr2', 'chr3', 'chr4']}"
      ]
     },
     "execution_count": 62,
     "metadata": {},
     "output_type": "execute_result"
    }
   ],
   "source": [
    "gin_config = read_json(os.path.join(model_base_dir, '0', 'config.gin.json'))\n",
    "gin_config"
   ]
  },
  {
   "cell_type": "code",
   "execution_count": 63,
   "metadata": {},
   "outputs": [
    {
     "data": {
      "text/plain": [
       "['Oct4', 'Sox2', 'Nanog', 'Klf4']"
      ]
     },
     "execution_count": 63,
     "metadata": {},
     "output_type": "execute_result"
    }
   ],
   "source": [
    "ds = DataSpec.load(os.path.join(model_base_dir, '0', 'dataspec.yml')) # remember to re-add 0\n",
    "tasks = list(ds.task_specs)\n",
    "tasks"
   ]
  },
  {
   "cell_type": "code",
   "execution_count": 64,
   "metadata": {
    "papermill": {
     "duration": 0.047284,
     "end_time": "2019-08-01T09:53:08.352758",
     "exception": false,
     "start_time": "2019-08-01T09:53:08.305474",
     "status": "completed"
    },
    "tags": []
   },
   "outputs": [],
   "source": [
    "dl_valid = StrandedProfile(ds, \n",
    "                           incl_chromosomes=gin_config['bpnet_data.valid_chr'], \n",
    "                           peak_width=gin_config['bpnet_data.peak_width'],\n",
    "                           seq_width=gin_config['bpnet_data.seq_width'],\n",
    "                           shuffle=False)"
   ]
  },
  {
   "cell_type": "code",
   "execution_count": 42,
   "metadata": {
    "papermill": {
     "duration": 0.107385,
     "end_time": "2019-08-01T09:53:08.501413",
     "exception": false,
     "start_time": "2019-08-01T09:53:08.394028",
     "status": "completed"
    },
    "scrolled": true,
    "tags": []
   },
   "outputs": [
    {
     "name": "stderr",
     "output_type": "stream",
     "text": [
      "100%|██████████| 29277/29277 [08:34<00:00, 56.94it/s] \n"
     ]
    }
   ],
   "source": [
    "valid = dl_valid.load_all(batch_size=1, num_workers=1)"
   ]
  },
  {
   "cell_type": "code",
   "execution_count": 44,
   "metadata": {
    "scrolled": true
   },
   "outputs": [
    {
     "data": {
      "text/plain": [
       "(29277, 2)"
      ]
     },
     "execution_count": 44,
     "metadata": {},
     "output_type": "execute_result"
    }
   ],
   "source": [
    "valid['targets']['Oct4/counts'].shape"
   ]
  },
  {
   "cell_type": "markdown",
   "metadata": {},
   "source": [
    "# (Re-)Calibration"
   ]
  },
  {
   "cell_type": "code",
   "execution_count": 68,
   "metadata": {},
   "outputs": [],
   "source": [
    "def fit_recalibrators(model, dataset: dict):\n",
    "    seqs = dataset['inputs']['seq']\n",
    "    features = dataset['targets'].keys()\n",
    "    predictions = {f: np.zeros((seqs.shape[0], n_reps)) for f in features.items()}\n",
    "    ys = {k: v.mean(axis=-1) for k, v in dataset['targets']}\n",
    "    for i, seq in enumerate(seqs):\n",
    "        p = model.predict(seq)\n",
    "        for f in features:\n",
    "            predictions[feature][i] = p[feature].squeeze()\n",
    "\n",
    "    pred_means = {}\n",
    "    pred_stds = {}\n",
    "    for f in features:\n",
    "        pred_means[f] = np.mean(predictions[f], axis=0).squeeze()\n",
    "        pred_stds[f] = np.std(predictions[f], axis=0).squeeze()\n",
    "\n",
    "    recal_models = []\n",
    "    for f in features:\n",
    "        y = ys[f]\n",
    "        pred_mean, pred_std = pred_means[f], pred_stds[f]\n",
    "        exp_props, obs_props = get_proportion_lists_vectorized(pred_mean, pred_std, y)\n",
    "        recal_model = iso_recal(exp_props, obs_props)\n",
    "        recal_models[f] = recal_model\n",
    "    return recal_models\n",
    "\n",
    "def recal_predict(recalibrators, preds):\n",
    "    features = preds.keys()\n",
    "    pred_means = {}\n",
    "    pred_stds = {}\n",
    "    for f in features:\n",
    "        pred_means[f] = np.mean(preds[f], axis=0).squeeze()\n",
    "        pred_stds[f] = np.std(preds[f], axis=0).squeeze()\n",
    "    recal_preds = {k: np.zeros_like(v) for k, v in preds.items()}\n",
    "    for f in features:\n",
    "        pred_dist = stats.norm(loc=pred_means[f], scale=pred_stds[f])\n",
    "        for c in range(preds[f].shape[0]):\n",
    "            recal_model = recalibrators[f]\n",
    "            orig_preds = preds[f][c, :]\n",
    "            orig_quantiles = pred_dist.cdf(orig_preds)\n",
    "            recal_quantiles = recal_model.predict(orig_quantiles)\n",
    "            recal_preds[f][c] = pred_dist.ppf(recal_quantiles)\n",
    "    return recal_preds\n"
   ]
  },
  {
   "cell_type": "markdown",
   "metadata": {},
   "source": [
    "## Predictions and in-silico mutagenesis"
   ]
  },
  {
   "cell_type": "code",
   "execution_count": 66,
   "metadata": {},
   "outputs": [],
   "source": [
    "cols = [f'{factor_name}/counts' for factor_name in factor_names]"
   ]
  },
  {
   "cell_type": "code",
   "execution_count": 17,
   "metadata": {},
   "outputs": [
    {
     "data": {
      "text/plain": [
       "(29277, 1000, 4)"
      ]
     },
     "execution_count": 17,
     "metadata": {},
     "output_type": "execute_result"
    }
   ],
   "source": [
    "valid['inputs']['seq'].shape"
   ]
  },
  {
   "cell_type": "code",
   "execution_count": 18,
   "metadata": {},
   "outputs": [
    {
     "data": {
      "text/plain": [
       "(29264, 1000, 4)"
      ]
     },
     "execution_count": 18,
     "metadata": {},
     "output_type": "execute_result"
    }
   ],
   "source": [
    "valid_seqs = []\n",
    "for seq in valid['inputs']['seq']:\n",
    "    if ((seq == 0.0) | (seq == 1.0)).all():\n",
    "        valid_seqs.append(seq)\n",
    "valid_seqs = np.array(valid_seqs)\n",
    "valid_seqs.shape"
   ]
  },
  {
   "cell_type": "code",
   "execution_count": 19,
   "metadata": {},
   "outputs": [
    {
     "data": {
      "text/plain": [
       "(2000, 1000, 4)"
      ]
     },
     "execution_count": 19,
     "metadata": {},
     "output_type": "execute_result"
    }
   ],
   "source": [
    "np.random.seed(42)\n",
    "idxs = np.arange(len(valid_seqs))\n",
    "np.random.shuffle(idxs)\n",
    "sample_seqs = valid_seqs[idxs[:n_seqs]]\n",
    "sample_seqs.shape"
   ]
  },
  {
   "cell_type": "code",
   "execution_count": null,
   "metadata": {},
   "outputs": [],
   "source": [
    "recal_models = fit_recalibrators(model, valid)"
   ]
  },
  {
   "cell_type": "code",
   "execution_count": 20,
   "metadata": {},
   "outputs": [
    {
     "data": {
      "application/vnd.jupyter.widget-view+json": {
       "model_id": "0c6e1cce822b4bf09cc2a61f023c03d5",
       "version_major": 2,
       "version_minor": 0
      },
      "text/plain": [
       "HBox(children=(FloatProgress(value=0.0, max=2000.0), HTML(value='')))"
      ]
     },
     "metadata": {},
     "output_type": "display_data"
    },
    {
     "name": "stdout",
     "output_type": "stream",
     "text": [
      "\n"
     ]
    }
   ],
   "source": [
    "n_seqs = sample_seqs.shape\n",
    "preds = {}\n",
    "recal_preds = {}\n",
    "for seq in tqdm(sample_seqs):\n",
    "    muts = generate_wt_mut_batches(seq.T, seq.shape[0] * seq.shape[1]).squeeze()\n",
    "    preds_ = model.predict(muts.transpose(0, 2, 1))\n",
    "    recal_preds_ = recal_predict(recal_models, preds_)\n",
    "    for key, value in preds_.items():\n",
    "        if key in cols:\n",
    "            preds.setdefault(key, []).append(preds_[key])\n",
    "            recal_preds.setdefault(key, []).append(recal_preds_[key])"
   ]
  },
  {
   "cell_type": "code",
   "execution_count": 21,
   "metadata": {},
   "outputs": [
    {
     "data": {
      "text/plain": [
       "(2000, 5, 4000)"
      ]
     },
     "execution_count": 21,
     "metadata": {},
     "output_type": "execute_result"
    }
   ],
   "source": [
    "np.array(preds['Oct4/counts']).shape"
   ]
  },
  {
   "cell_type": "code",
   "execution_count": 22,
   "metadata": {},
   "outputs": [
    {
     "data": {
      "application/vnd.jupyter.widget-view+json": {
       "model_id": "64c565c90ea549f4b17c278c8f34e289",
       "version_major": 2,
       "version_minor": 0
      },
      "text/plain": [
       "HBox(children=(FloatProgress(value=0.0, max=2000.0), HTML(value='')))"
      ]
     },
     "metadata": {},
     "output_type": "display_data"
    },
    {
     "name": "stdout",
     "output_type": "stream",
     "text": [
      "\n"
     ]
    },
    {
     "name": "stderr",
     "output_type": "stream",
     "text": [
      "/home/stephenmalina/project/src/in_silico_mutagenesis.py:168: RuntimeWarning: invalid value encountered in sqrt\n",
      "  stderrs = np.sqrt(ref_vars + mut_vars - 2 * covs)\n"
     ]
    },
    {
     "name": "stdout",
     "output_type": "stream",
     "text": [
      "/home/stephenmalina/dev/an1lam/deepmr/dat/res-bpnet-2020-09-09-13-33-15/Oct4_Sox2_effect_sizes.csv\n"
     ]
    },
    {
     "data": {
      "application/vnd.jupyter.widget-view+json": {
       "model_id": "257e3f3823704c41812d752412f66512",
       "version_major": 2,
       "version_minor": 0
      },
      "text/plain": [
       "HBox(children=(FloatProgress(value=0.0, max=2000.0), HTML(value='')))"
      ]
     },
     "metadata": {},
     "output_type": "display_data"
    },
    {
     "name": "stdout",
     "output_type": "stream",
     "text": [
      "\n",
      "/home/stephenmalina/dev/an1lam/deepmr/dat/res-bpnet-2020-09-09-13-33-15/Oct4_Nanog_effect_sizes.csv\n"
     ]
    },
    {
     "data": {
      "application/vnd.jupyter.widget-view+json": {
       "model_id": "a0c92644f3034d3a85e7a9150561e027",
       "version_major": 2,
       "version_minor": 0
      },
      "text/plain": [
       "HBox(children=(FloatProgress(value=0.0, max=2000.0), HTML(value='')))"
      ]
     },
     "metadata": {},
     "output_type": "display_data"
    },
    {
     "name": "stdout",
     "output_type": "stream",
     "text": [
      "\n",
      "/home/stephenmalina/dev/an1lam/deepmr/dat/res-bpnet-2020-09-09-13-33-15/Oct4_Klf4_effect_sizes.csv\n"
     ]
    },
    {
     "data": {
      "application/vnd.jupyter.widget-view+json": {
       "model_id": "d0bdb5ce585646dfbadd62a6e93fa812",
       "version_major": 2,
       "version_minor": 0
      },
      "text/plain": [
       "HBox(children=(FloatProgress(value=0.0, max=2000.0), HTML(value='')))"
      ]
     },
     "metadata": {},
     "output_type": "display_data"
    },
    {
     "name": "stdout",
     "output_type": "stream",
     "text": [
      "\n",
      "/home/stephenmalina/dev/an1lam/deepmr/dat/res-bpnet-2020-09-09-13-33-15/Sox2_Oct4_effect_sizes.csv\n"
     ]
    },
    {
     "data": {
      "application/vnd.jupyter.widget-view+json": {
       "model_id": "f8e5e834b61c4e559cd034cf0794c1c6",
       "version_major": 2,
       "version_minor": 0
      },
      "text/plain": [
       "HBox(children=(FloatProgress(value=0.0, max=2000.0), HTML(value='')))"
      ]
     },
     "metadata": {},
     "output_type": "display_data"
    },
    {
     "name": "stdout",
     "output_type": "stream",
     "text": [
      "\n",
      "/home/stephenmalina/dev/an1lam/deepmr/dat/res-bpnet-2020-09-09-13-33-15/Sox2_Nanog_effect_sizes.csv\n"
     ]
    },
    {
     "data": {
      "application/vnd.jupyter.widget-view+json": {
       "model_id": "c7fb5a85445a49e880424c412ebb1a8c",
       "version_major": 2,
       "version_minor": 0
      },
      "text/plain": [
       "HBox(children=(FloatProgress(value=0.0, max=2000.0), HTML(value='')))"
      ]
     },
     "metadata": {},
     "output_type": "display_data"
    },
    {
     "name": "stdout",
     "output_type": "stream",
     "text": [
      "\n",
      "/home/stephenmalina/dev/an1lam/deepmr/dat/res-bpnet-2020-09-09-13-33-15/Sox2_Klf4_effect_sizes.csv\n"
     ]
    },
    {
     "data": {
      "application/vnd.jupyter.widget-view+json": {
       "model_id": "896f2b02975f4c8281ed5bbeb995b0cf",
       "version_major": 2,
       "version_minor": 0
      },
      "text/plain": [
       "HBox(children=(FloatProgress(value=0.0, max=2000.0), HTML(value='')))"
      ]
     },
     "metadata": {},
     "output_type": "display_data"
    },
    {
     "name": "stdout",
     "output_type": "stream",
     "text": [
      "\n",
      "/home/stephenmalina/dev/an1lam/deepmr/dat/res-bpnet-2020-09-09-13-33-15/Nanog_Oct4_effect_sizes.csv\n"
     ]
    },
    {
     "data": {
      "application/vnd.jupyter.widget-view+json": {
       "model_id": "3fd0f95ea3a2406f9a6efa898bbdba57",
       "version_major": 2,
       "version_minor": 0
      },
      "text/plain": [
       "HBox(children=(FloatProgress(value=0.0, max=2000.0), HTML(value='')))"
      ]
     },
     "metadata": {},
     "output_type": "display_data"
    },
    {
     "name": "stdout",
     "output_type": "stream",
     "text": [
      "\n",
      "/home/stephenmalina/dev/an1lam/deepmr/dat/res-bpnet-2020-09-09-13-33-15/Nanog_Sox2_effect_sizes.csv\n"
     ]
    },
    {
     "data": {
      "application/vnd.jupyter.widget-view+json": {
       "model_id": "eab34a88d7dc42fbbbb372e0c1c76b6d",
       "version_major": 2,
       "version_minor": 0
      },
      "text/plain": [
       "HBox(children=(FloatProgress(value=0.0, max=2000.0), HTML(value='')))"
      ]
     },
     "metadata": {},
     "output_type": "display_data"
    },
    {
     "name": "stdout",
     "output_type": "stream",
     "text": [
      "\n",
      "/home/stephenmalina/dev/an1lam/deepmr/dat/res-bpnet-2020-09-09-13-33-15/Nanog_Klf4_effect_sizes.csv\n"
     ]
    },
    {
     "data": {
      "application/vnd.jupyter.widget-view+json": {
       "model_id": "68fa5aa5c4764a8e954b1d606c21e802",
       "version_major": 2,
       "version_minor": 0
      },
      "text/plain": [
       "HBox(children=(FloatProgress(value=0.0, max=2000.0), HTML(value='')))"
      ]
     },
     "metadata": {},
     "output_type": "display_data"
    },
    {
     "name": "stdout",
     "output_type": "stream",
     "text": [
      "\n",
      "/home/stephenmalina/dev/an1lam/deepmr/dat/res-bpnet-2020-09-09-13-33-15/Klf4_Oct4_effect_sizes.csv\n"
     ]
    },
    {
     "data": {
      "application/vnd.jupyter.widget-view+json": {
       "model_id": "64e56f5842c24d7ba6348f4d289becb8",
       "version_major": 2,
       "version_minor": 0
      },
      "text/plain": [
       "HBox(children=(FloatProgress(value=0.0, max=2000.0), HTML(value='')))"
      ]
     },
     "metadata": {},
     "output_type": "display_data"
    },
    {
     "name": "stdout",
     "output_type": "stream",
     "text": [
      "\n",
      "/home/stephenmalina/dev/an1lam/deepmr/dat/res-bpnet-2020-09-09-13-33-15/Klf4_Sox2_effect_sizes.csv\n"
     ]
    },
    {
     "data": {
      "application/vnd.jupyter.widget-view+json": {
       "model_id": "6c17dc07f49843348175ec19f5532e3d",
       "version_major": 2,
       "version_minor": 0
      },
      "text/plain": [
       "HBox(children=(FloatProgress(value=0.0, max=2000.0), HTML(value='')))"
      ]
     },
     "metadata": {},
     "output_type": "display_data"
    },
    {
     "name": "stdout",
     "output_type": "stream",
     "text": [
      "\n",
      "/home/stephenmalina/dev/an1lam/deepmr/dat/res-bpnet-2020-09-09-13-33-15/Klf4_Nanog_effect_sizes.csv\n"
     ]
    }
   ],
   "source": [
    "seqs = sample_seqs.transpose(0, 2, 1)\n",
    "\n",
    "for exposure, outcome in exposure_outcome_pairs:\n",
    "    exposure_col = f'{exposure}/counts'\n",
    "    outcome_col = f'{outcome}/counts'\n",
    "    \n",
    "    formatted_preds = np.stack((preds[exposure_col], preds[outcome_col]))\n",
    "    n_features, n_seqs, n_reps, n_variants = formatted_preds.shape\n",
    "    formatted_preds = formatted_preds.transpose(2, 1, 3, 0)\n",
    "    formatted_preds = formatted_preds.reshape(n_reps, n_seqs, alphabet_size, -1, n_features)\n",
    "\n",
    "    means, mean_diffs, stderrs = compute_summary_statistics(formatted_preds, seqs)\n",
    "    \n",
    "    results_fname = f'{exposure}_{outcome}_effect_sizes.csv'\n",
    "    results_fpath = os.path.join(output_dir, results_fname)\n",
    "    write_results(results_fpath, mean_diffs, stderrs)\n",
    "    print(results_fpath)"
   ]
  }
 ],
 "metadata": {
  "kernelspec": {
   "display_name": "deepmr",
   "language": "python",
   "name": "deepmr"
  },
  "language_info": {
   "codemirror_mode": {
    "name": "ipython",
    "version": 3
   },
   "file_extension": ".py",
   "mimetype": "text/x-python",
   "name": "python",
   "nbconvert_exporter": "python",
   "pygments_lexer": "ipython3",
   "version": "3.6.12"
  }
 },
 "nbformat": 4,
 "nbformat_minor": 4
}
