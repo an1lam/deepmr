{
 "cells": [
  {
   "cell_type": "markdown",
   "metadata": {},
   "source": [
    "## Imports and model initialization"
   ]
  },
  {
   "cell_type": "code",
   "execution_count": 1,
   "metadata": {},
   "outputs": [
    {
     "name": "stderr",
     "output_type": "stream",
     "text": [
      "Using TensorFlow backend.\n"
     ]
    },
    {
     "name": "stdout",
     "output_type": "stream",
     "text": [
      "WARNING:tensorflow:From /home/ubuntu/anaconda3/envs/deepmr-bpnet3/lib/python3.6/site-packages/keras/optimizers.py:790: The name tf.train.Optimizer is deprecated. Please use tf.compat.v1.train.Optimizer instead.\n",
      "\n"
     ]
    },
    {
     "name": "stderr",
     "output_type": "stream",
     "text": [
      "2022-07-04 21:30:20,390 [WARNING] From /home/ubuntu/anaconda3/envs/deepmr-bpnet3/lib/python3.6/site-packages/keras/optimizers.py:790: The name tf.train.Optimizer is deprecated. Please use tf.compat.v1.train.Optimizer instead.\n",
      "\n",
      "2022-07-04 21:30:20,585 [INFO] NumExpr defaulting to 4 threads.\n",
      "2022-07-04 21:30:21,425 [WARNING] Unrecognized fields for DataLoaderDescription: {'postprocessing'}. Available fields are {'args', 'info', 'writers', 'output_schema', 'dependencies', 'type', 'path', 'defined_as'}\n",
      "2022-07-04 21:30:21,438 [WARNING] Unrecognized fields for DataLoaderDescription: {'postprocessing'}. Available fields are {'args', 'info', 'writers', 'output_schema', 'dependencies', 'type', 'path', 'defined_as'}\n",
      "2022-07-04 21:30:21,462 [WARNING] Unrecognized fields for DataLoaderDescription: {'postprocessing'}. Available fields are {'args', 'info', 'writers', 'output_schema', 'dependencies', 'type', 'path', 'defined_as'}\n"
     ]
    }
   ],
   "source": [
    "%load_ext autoreload\n",
    "%autoreload 2\n",
    "\n",
    "import csv\n",
    "from datetime import datetime\n",
    "import math\n",
    "import os\n",
    "from pathlib import Path\n",
    "import pickle\n",
    "\n",
    "from IPython.display import clear_output\n",
    "from matplotlib import pyplot as plt\n",
    "import numpy as np\n",
    "import pandas as pd\n",
    "from scipy import stats\n",
    "from tqdm.notebook import tqdm\n",
    "from utils import detect_device\n",
    "import uncertainty_toolbox\n",
    "import uncertainty_toolbox.data as udata\n",
    "import uncertainty_toolbox.metrics as umetrics\n",
    "from uncertainty_toolbox.metrics_calibration import (\n",
    "    get_proportion_lists_vectorized,\n",
    ")\n",
    "import uncertainty_toolbox.viz as uviz\n",
    "from uncertainty_toolbox.recalibration import iso_recal\n",
    "\n",
    "import bpnet\n",
    "from bpnet.datasets import StrandedProfile\n",
    "from bpnet.dataspecs import DataSpec, TaskSpec\n",
    "from bpnet.utils import create_tf_session\n",
    "from bpnet.utils import read_json\n",
    "from bpnet.seqmodel import SeqModel\n",
    "from bpnet.plot.evaluate import plot_loss, regression_eval\n",
    "\n",
    "from filter_instrument_candidates import filter_variants_by_score\n",
    "from in_silico_mutagenesis import compute_summary_statistics, generate_wt_mut_batches, write_results"
   ]
  },
  {
   "cell_type": "code",
   "execution_count": 2,
   "metadata": {},
   "outputs": [
    {
     "name": "stdout",
     "output_type": "stream",
     "text": [
      "/home/ubuntu/dev/an1lam/deepmr/src\r\n"
     ]
    }
   ],
   "source": [
    "!pwd"
   ]
  },
  {
   "cell_type": "code",
   "execution_count": 3,
   "metadata": {},
   "outputs": [],
   "source": [
    "timestamp = datetime.now().strftime('%Y-%m-%d-%H-%M-%S')\n",
    "output_dir = f'/home/ubuntu/dev/an1lam/deepmr/dat/res-bpnet-{timestamp}'\n",
    "model_base_dir = \"/home/ubuntu/dev/an1lam/deepmr/dat/res-bpnet-training-2022-06-18-14-11-05/output_ensemble\"\n",
    "factor_names = ['Oct4', 'Sox2', 'Nanog', 'Klf4']\n",
    "\n",
    "exposure_outcome_pairs = [\n",
    "    (exposure_name, outcome_name)\n",
    "    for exposure_name in factor_names\n",
    "    for outcome_name in factor_names\n",
    "    if exposure_name != outcome_name\n",
    "]\n",
    "\n",
    "results_fnames = [\n",
    "    f'{exposure_name}_{outcome_name}_effect_sizes.csv' for exposure_name, outcome_name in exposure_outcome_pairs\n",
    "]\n",
    "n_seqs = 2000\n",
    "n_reps = 5\n",
    "alphabet_size = 4"
   ]
  },
  {
   "cell_type": "code",
   "execution_count": 4,
   "metadata": {},
   "outputs": [],
   "source": [
    "os.makedirs(output_dir, exist_ok=True)"
   ]
  },
  {
   "cell_type": "markdown",
   "metadata": {},
   "source": [
    "# Loading BPNet"
   ]
  },
  {
   "cell_type": "code",
   "execution_count": 5,
   "metadata": {},
   "outputs": [],
   "source": [
    "class Ensemble:\n",
    "    def __init__(self, model_base_dir, n_reps=5):\n",
    "        models = []\n",
    "        for i in range(n_reps):\n",
    "            models.append(SeqModel.from_mdir(os.path.join(model_base_dir, str(i))))\n",
    "        self.models = models\n",
    "\n",
    "    def predict(self, seqs):\n",
    "        preds = {}\n",
    "        for model in self.models:\n",
    "            model_preds = model.predict(seqs)\n",
    "            for key, preds_ in model_preds.items():\n",
    "                preds.setdefault(key, []).append(preds_.mean(-1))\n",
    "        return {k: np.stack(v) for k, v in preds.items()}"
   ]
  },
  {
   "cell_type": "code",
   "execution_count": 6,
   "metadata": {},
   "outputs": [],
   "source": [
    "model_dir = Path(model_base_dir)"
   ]
  },
  {
   "cell_type": "code",
   "execution_count": 7,
   "metadata": {},
   "outputs": [],
   "source": [
    "create_tf_session(0)\n",
    "clear_output()"
   ]
  },
  {
   "cell_type": "code",
   "execution_count": 8,
   "metadata": {},
   "outputs": [
    {
     "name": "stdout",
     "output_type": "stream",
     "text": [
      "bpnet-train.kwargs.json  events.out.tfevents.1655561487.ip-172-31-61-149\r\n",
      "config.gin\t\t history.csv\r\n",
      "config.gin.json\t\t input-config.gin\r\n",
      "dataspec.yml\t\t log\r\n",
      "evaluate.html\t\t model.h5\r\n",
      "evaluate.ipynb\t\t note_params.json\r\n",
      "evaluation.valid.json\t seq_model.pkl\r\n"
     ]
    }
   ],
   "source": [
    "!ls {model_base_dir}/0/"
   ]
  },
  {
   "cell_type": "code",
   "execution_count": 9,
   "metadata": {},
   "outputs": [],
   "source": [
    "model = Ensemble(model_base_dir, n_reps=5)\n",
    "clear_output()"
   ]
  },
  {
   "cell_type": "markdown",
   "metadata": {},
   "source": [
    "# Loading data"
   ]
  },
  {
   "cell_type": "code",
   "execution_count": 10,
   "metadata": {
    "papermill": {
     "duration": 0.18378,
     "end_time": "2019-08-01T09:53:08.162361",
     "exception": false,
     "start_time": "2019-08-01T09:53:07.978581",
     "status": "completed"
    },
    "tags": []
   },
   "outputs": [
    {
     "name": "stdout",
     "output_type": "stream",
     "text": [
      "{\r\n",
      "  \"valid-peaks\": {\r\n",
      "    \"Oct4/profile/binsize=1/auprc\": 0.1842908885317406,\r\n",
      "    \"Oct4/profile/binsize=1/random_auprc\": 0.0029172058898126905,\r\n",
      "    \"Oct4/profile/binsize=1/n_positives\": 49497,\r\n",
      "    \"Oct4/profile/binsize=1/frac_ambigous\": 0.07206144485858364,\r\n",
      "    \"Oct4/profile/binsize=1/imbalance\": 0.00292374568581084,\r\n",
      "    \"Oct4/profile/binsize=10/auprc\": 0.49499918176971536,\r\n",
      "    \"Oct4/profile/binsize=10/random_auprc\": 0.03453527112065736,\r\n",
      "    \"Oct4/profile/binsize=10/n_positives\": 39527,\r\n",
      "    \"Oct4/profile/binsize=10/frac_ambigous\": 0.3608791931593949,\r\n",
      "    \"Oct4/profile/binsize=10/imbalance\": 0.03389930806887065,\r\n",
      "    \"Oct4/counts/mse\": 0.2637477517127991,\r\n",
      "    \"Oct4/counts/var_explained\": 0.387393057346344,\r\n",
      "    \"Oct4/counts/pearsonr\": 0.6247291515481017,\r\n",
      "    \"Oct4/counts/spearmanr\": 0.5989260316683799,\r\n",
      "    \"Oct4/counts/mad\": 0.386260986328125,\r\n",
      "    \"Sox2/profile/binsize=1/auprc\": 0.3810130867099396,\r\n",
      "    \"Sox2/profile/binsize=1/random_auprc\": 0.005999426096531899,\r\n",
      "    \"Sox2/profile/binsize=1/n_positives\": 17646,\r\n",
      "    \"Sox2/profile/binsize=1/frac_ambigous\": 0.07213684210526315,\r\n",
      "    \"Sox2/profile/binsize=1/imbalance\": 0.00588789181707829,\r\n",
      "    \"Sox2/profile/binsize=10/auprc\": 0.7553080526942708,\r\n",
      "    \"Sox2/profile/binsize=10/random_auprc\": 0.0570636195988187,\r\n",
      "    \"Sox2/profile/binsize=10/n_positives\": 11786,\r\n",
      "    \"Sox2/profile/binsize=10/frac_ambigous\": 0.3286687306501548,\r\n",
      "    \"Sox2/profile/binsize=10/imbalance\": 0.05435344032466335,\r\n",
      "    \"Sox2/counts/mse\": 0.20264264941215515,\r\n",
      "    \"Sox2/counts/var_explained\": 0.3570786714553833,\r\n",
      "    \"Sox2/counts/pearsonr\": 0.6018892790320901,\r\n",
      "    \"Sox2/counts/spearmanr\": 0.5712249621612364,\r\n",
      "    \"Sox2/counts/mad\": 0.32785019278526306,\r\n",
      "    \"Nanog/profile/binsize=1/auprc\": 0.4258847363346998,\r\n",
      "    \"Nanog/profile/binsize=1/random_auprc\": 0.005202302944332682,\r\n",
      "    \"Nanog/profile/binsize=1/n_positives\": 131443,\r\n",
      "    \"Nanog/profile/binsize=1/frac_ambigous\": 0.05860526116291411,\r\n",
      "    \"Nanog/profile/binsize=1/imbalance\": 0.005292464819843681,\r\n",
      "    \"Nanog/profile/binsize=10/auprc\": 0.7112207773281032,\r\n",
      "    \"Nanog/profile/binsize=10/random_auprc\": 0.03905655544366477,\r\n",
      "    \"Nanog/profile/binsize=10/n_positives\": 79229,\r\n",
      "    \"Nanog/profile/binsize=10/frac_ambigous\": 0.2446224698658176,\r\n",
      "    \"Nanog/profile/binsize=10/imbalance\": 0.039756889299024455,\r\n",
      "    \"Nanog/counts/mse\": 0.590023934841156,\r\n",
      "    \"Nanog/counts/var_explained\": 0.36355459690093994,\r\n",
      "    \"Nanog/counts/pearsonr\": 0.6124541658614484,\r\n",
      "    \"Nanog/counts/spearmanr\": 0.6254735965076813,\r\n",
      "    \"Nanog/counts/mad\": 0.569986879825592,\r\n",
      "    \"Klf4/profile/binsize=1/auprc\": 0.14313616216018477,\r\n",
      "    \"Klf4/profile/binsize=1/random_auprc\": 0.002558926632197117,\r\n",
      "    \"Klf4/profile/binsize=1/n_positives\": 60045,\r\n",
      "    \"Klf4/profile/binsize=1/frac_ambigous\": 0.06385417165668662,\r\n",
      "    \"Klf4/profile/binsize=1/imbalance\": 0.002560504907943569,\r\n",
      "    \"Klf4/profile/binsize=10/auprc\": 0.4894616793543081,\r\n",
      "    \"Klf4/profile/binsize=10/random_auprc\": 0.027345318589700907,\r\n",
      "    \"Klf4/profile/binsize=10/n_positives\": 46837,\r\n",
      "    \"Klf4/profile/binsize=10/frac_ambigous\": 0.3164075848303393,\r\n",
      "    \"Klf4/profile/binsize=10/imbalance\": 0.027351686143241148,\r\n",
      "    \"Klf4/counts/mse\": 0.39869409799575806,\r\n",
      "    \"Klf4/counts/var_explained\": 0.37638479471206665,\r\n",
      "    \"Klf4/counts/pearsonr\": 0.6238704095007619,\r\n",
      "    \"Klf4/counts/spearmanr\": 0.629544364413646,\r\n",
      "    \"Klf4/counts/mad\": 0.49591803550720215,\r\n",
      "    \"avg/profile/binsize=1/auprc\": 0.2835812184341412,\r\n",
      "    \"avg/profile/binsize=1/random_auprc\": 0.004169465390718597,\r\n",
      "    \"avg/profile/binsize=1/n_positives\": 64657.75,\r\n",
      "    \"avg/profile/binsize=1/frac_ambigous\": 0.06666442994586189,\r\n",
      "    \"avg/profile/binsize=1/imbalance\": 0.004166151807669095,\r\n",
      "    \"avg/profile/binsize=10/auprc\": 0.6127474227865994,\r\n",
      "    \"avg/profile/binsize=10/random_auprc\": 0.03950019118821043,\r\n",
      "    \"avg/profile/binsize=10/n_positives\": 44344.75,\r\n",
      "    \"avg/profile/binsize=10/frac_ambigous\": 0.31264449462642663,\r\n",
      "    \"avg/profile/binsize=10/imbalance\": 0.038840330958949905,\r\n",
      "    \"avg/counts/mse\": 0.36377710849046707,\r\n",
      "    \"avg/counts/var_explained\": 0.37110278010368347,\r\n",
      "    \"avg/counts/pearsonr\": 0.6157357514856006,\r\n",
      "    \"avg/counts/spearmanr\": 0.606292238687736,\r\n",
      "    \"avg/counts/mad\": 0.44500402361154556\r\n",
      "  },\r\n",
      "  \"train-peaks\": {\r\n",
      "    \"Oct4/profile/binsize=1/auprc\": 0.21564531484438293,\r\n",
      "    \"Oct4/profile/binsize=1/random_auprc\": 0.0029897950711980873,\r\n",
      "    \"Oct4/profile/binsize=1/n_positives\": 154390,\r\n",
      "    \"Oct4/profile/binsize=1/frac_ambigous\": 0.07235056337017368,\r\n",
      "    \"Oct4/profile/binsize=1/imbalance\": 0.0029860665635414135,\r\n",
      "    \"Oct4/profile/binsize=10/auprc\": 0.5231208498151567,\r\n",
      "    \"Oct4/profile/binsize=10/random_auprc\": 0.03403245048857777,\r\n",
      "    \"Oct4/profile/binsize=10/n_positives\": 120788,\r\n",
      "    \"Oct4/profile/binsize=10/frac_ambigous\": 0.36192335294961964,\r\n",
      "    \"Oct4/profile/binsize=10/imbalance\": 0.03396371145523093,\r\n",
      "    \"Oct4/counts/mse\": 0.2619853913784027,\r\n",
      "    \"Oct4/counts/var_explained\": 0.4010673761367798,\r\n",
      "    \"Oct4/counts/pearsonr\": 0.6370901037108267,\r\n",
      "    \"Oct4/counts/spearmanr\": 0.5996306418795556,\r\n",
      "    \"Oct4/counts/mad\": 0.3853794038295746,\r\n",
      "    \"Sox2/profile/binsize=1/auprc\": 0.45246989631256834,\r\n",
      "    \"Sox2/profile/binsize=1/random_auprc\": 0.00628883178940885,\r\n",
      "    \"Sox2/profile/binsize=1/n_positives\": 54898,\r\n",
      "    \"Sox2/profile/binsize=1/frac_ambigous\": 0.07028332974370019,\r\n",
      "    \"Sox2/profile/binsize=1/imbalance\": 0.006358830159651834,\r\n",
      "    \"Sox2/profile/binsize=10/auprc\": 0.8073200926062978,\r\n",
      "    \"Sox2/profile/binsize=10/random_auprc\": 0.05442952153565198,\r\n",
      "    \"Sox2/profile/binsize=10/n_positives\": 35300,\r\n",
      "    \"Sox2/profile/binsize=10/frac_ambigous\": 0.3185505061382727,\r\n",
      "    \"Sox2/profile/binsize=10/imbalance\": 0.055784346880659426,\r\n",
      "    \"Sox2/counts/mse\": 0.2027128040790558,\r\n",
      "    \"Sox2/counts/var_explained\": 0.35259759426116943,\r\n",
      "    \"Sox2/counts/pearsonr\": 0.5980802279133783,\r\n",
      "    \"Sox2/counts/spearmanr\": 0.5708437968012938,\r\n",
      "    \"Sox2/counts/mad\": 0.3281702697277069,\r\n",
      "    \"Nanog/profile/binsize=1/auprc\": 0.46042162259080016,\r\n",
      "    \"Nanog/profile/binsize=1/random_auprc\": 0.005306105220930467,\r\n",
      "    \"Nanog/profile/binsize=1/n_positives\": 411223,\r\n",
      "    \"Nanog/profile/binsize=1/frac_ambigous\": 0.05810366185342696,\r\n",
      "    \"Nanog/profile/binsize=1/imbalance\": 0.005397469429318178,\r\n",
      "    \"Nanog/profile/binsize=10/auprc\": 0.742041392749812,\r\n",
      "    \"Nanog/profile/binsize=10/random_auprc\": 0.0393686446795373,\r\n",
      "    \"Nanog/profile/binsize=10/n_positives\": 247304,\r\n",
      "    \"Nanog/profile/binsize=10/frac_ambigous\": 0.24041477104144002,\r\n",
      "    \"Nanog/profile/binsize=10/imbalance\": 0.040250430776807726,\r\n",
      "    \"Nanog/counts/mse\": 0.5736051797866821,\r\n",
      "    \"Nanog/counts/var_explained\": 0.3835675120353699,\r\n",
      "    \"Nanog/counts/pearsonr\": 0.6331514207236902,\r\n",
      "    \"Nanog/counts/spearmanr\": 0.6322733165289378,\r\n",
      "    \"Nanog/counts/mad\": 0.567764401435852,\r\n",
      "    \"Klf4/profile/binsize=1/auprc\": 0.16126726135833425,\r\n",
      "    \"Klf4/profile/binsize=1/random_auprc\": 0.002605631756460627,\r\n",
      "    \"Klf4/profile/binsize=1/n_positives\": 191943,\r\n",
      "    \"Klf4/profile/binsize=1/frac_ambigous\": 0.06429601819383036,\r\n",
      "    \"Klf4/profile/binsize=1/imbalance\": 0.002606243107953223,\r\n",
      "    \"Klf4/profile/binsize=10/auprc\": 0.5252714798961818,\r\n",
      "    \"Klf4/profile/binsize=10/random_auprc\": 0.02780401118904244,\r\n",
      "    \"Klf4/profile/binsize=10/n_positives\": 149539,\r\n",
      "    \"Klf4/profile/binsize=10/frac_ambigous\": 0.31831008283783097,\r\n",
      "    \"Klf4/profile/binsize=10/imbalance\": 0.02787075442950212,\r\n",
      "    \"Klf4/counts/mse\": 0.3929596543312073,\r\n",
      "    \"Klf4/counts/var_explained\": 0.38825756311416626,\r\n",
      "    \"Klf4/counts/pearsonr\": 0.634007459799837,\r\n",
      "    \"Klf4/counts/spearmanr\": 0.6326025084128174,\r\n",
      "    \"Klf4/counts/mad\": 0.49271273612976074,\r\n",
      "    \"avg/profile/binsize=1/auprc\": 0.32245102377652146,\r\n",
      "    \"avg/profile/binsize=1/random_auprc\": 0.004297590959499508,\r\n",
      "    \"avg/profile/binsize=1/n_positives\": 203113.5,\r\n",
      "    \"avg/profile/binsize=1/frac_ambigous\": 0.0662583932902828,\r\n",
      "    \"avg/profile/binsize=1/imbalance\": 0.004337152315116162,\r\n",
      "    \"avg/profile/binsize=10/auprc\": 0.6494384537668622,\r\n",
      "    \"avg/profile/binsize=10/random_auprc\": 0.03890865697320237,\r\n",
      "    \"avg/profile/binsize=10/n_positives\": 138232.75,\r\n",
      "    \"avg/profile/binsize=10/frac_ambigous\": 0.30979967824179083,\r\n",
      "    \"avg/profile/binsize=10/imbalance\": 0.039467310885550055,\r\n",
      "    \"avg/counts/mse\": 0.357815757393837,\r\n",
      "    \"avg/counts/var_explained\": 0.38137251138687134,\r\n",
      "    \"avg/counts/pearsonr\": 0.6255823030369331,\r\n",
      "    \"avg/counts/spearmanr\": 0.6088375659056512,\r\n",
      "    \"avg/counts/mad\": 0.44350670278072357\r\n",
      "  }\r\n",
      "}"
     ]
    }
   ],
   "source": [
    "!cat {model_base_dir}/0/evaluation.valid.json"
   ]
  },
  {
   "cell_type": "code",
   "execution_count": 11,
   "metadata": {
    "papermill": {
     "duration": 0.028215,
     "end_time": "2019-08-01T09:53:08.235373",
     "exception": false,
     "start_time": "2019-08-01T09:53:08.207158",
     "status": "completed"
    },
    "tags": []
   },
   "outputs": [
    {
     "data": {
      "text/plain": [
       "{'Adam.amsgrad': False,\n",
       " 'Adam.beta_1': 0.9,\n",
       " 'Adam.beta_2': 0.999,\n",
       " 'Adam.decay': 0.0,\n",
       " 'Adam.epsilon': 'None',\n",
       " 'Adam.lr': 0.004,\n",
       " 'DeConv1D.batchnorm': False,\n",
       " 'DeConv1D.filters': 64,\n",
       " 'DeConv1D.n_hidden': 0,\n",
       " 'DeConv1D.n_tasks': 2,\n",
       " 'DeConv1D.padding': 'same',\n",
       " 'DeConv1D.tconv_kernel_size': 25,\n",
       " 'DilatedConv1D.add_pointwise': False,\n",
       " 'DilatedConv1D.batchnorm': False,\n",
       " 'DilatedConv1D.conv1_kernel_size': 25,\n",
       " 'DilatedConv1D.filters': 64,\n",
       " 'DilatedConv1D.n_dil_layers': 9,\n",
       " 'DilatedConv1D.padding': 'same',\n",
       " 'DilatedConv1D.skip_type': 'residual',\n",
       " 'GlobalAvgPoolFCN.batchnorm': False,\n",
       " 'GlobalAvgPoolFCN.dropout': 0,\n",
       " 'GlobalAvgPoolFCN.dropout_hidden': 0,\n",
       " 'GlobalAvgPoolFCN.hidden': 'None',\n",
       " 'GlobalAvgPoolFCN.n_splines': 0,\n",
       " 'GlobalAvgPoolFCN.n_tasks': 2,\n",
       " 'MovingAverages.window_sizes': [1, 50],\n",
       " 'PeakPredictionProfileMetric.binsizes': [1, 10],\n",
       " 'PeakPredictionProfileMetric.neg_max_threshold': 0.005,\n",
       " 'PeakPredictionProfileMetric.pos_min_threshold': 0.015,\n",
       " 'PeakPredictionProfileMetric.required_min_pos_counts': 2.5,\n",
       " 'ProfileHead.activation': 'None',\n",
       " 'ProfileHead.bias_input': 'bias/{task}/profile',\n",
       " 'ProfileHead.bias_net': 'MovingAverages()',\n",
       " 'ProfileHead.bias_shape': '(None, %n_bias_tracks)',\n",
       " 'ProfileHead.loss': 'multinomial_nll',\n",
       " 'ProfileHead.loss_weight': 1,\n",
       " 'ProfileHead.metric': 'PeakPredictionProfileMetric()',\n",
       " 'ProfileHead.net': 'DeConv1D()',\n",
       " 'ProfileHead.postproc_fn': 'softmax',\n",
       " 'ProfileHead.target_name': '{task}/profile',\n",
       " 'ProfileHead.use_bias': True,\n",
       " 'ScalarHead.activation': 'None',\n",
       " 'ScalarHead.bias_input': 'bias/{task}/counts',\n",
       " 'ScalarHead.bias_net': 'None',\n",
       " 'ScalarHead.bias_shape': '(%n_bias_tracks,)',\n",
       " 'ScalarHead.loss': 'mse',\n",
       " 'ScalarHead.loss_weight': 10,\n",
       " 'ScalarHead.metric': 'RegressionMetrics()',\n",
       " 'ScalarHead.net': 'GlobalAvgPoolFCN()',\n",
       " 'ScalarHead.postproc_fn': 'None',\n",
       " 'ScalarHead.target_name': '{task}/counts',\n",
       " 'ScalarHead.use_bias': True,\n",
       " 'SeqModel.body': 'DilatedConv1D()',\n",
       " 'SeqModel.heads': ['ProfileHead()', 'ScalarHead()'],\n",
       " 'SeqModel.input_name': 'seq',\n",
       " 'SeqModel.input_shape': 'None',\n",
       " 'SeqModel.optimizer': 'keras.optimizers.Adam()',\n",
       " 'SeqModel.seqlen': 1000,\n",
       " 'SeqModel.tasks': ['Oct4', 'Sox2', 'Nanog', 'Klf4'],\n",
       " 'StrandedProfile.excl_chromosomes': 'None',\n",
       " 'StrandedProfile.include_classes': False,\n",
       " 'augment_interval': True,\n",
       " 'batchnorm': False,\n",
       " 'bpnet_data.augment_interval': True,\n",
       " 'bpnet_data.dataspec': 'ChIP-nexus.dataspec.yml',\n",
       " 'bpnet_data.exclude_chr': ['chrX', 'chrY'],\n",
       " 'bpnet_data.include_metadata': False,\n",
       " 'bpnet_data.interval_augmentation_shift': 200,\n",
       " 'bpnet_data.intervals_file': 'None',\n",
       " 'bpnet_data.intervals_format': 'bed',\n",
       " 'bpnet_data.peak_width': 1000,\n",
       " 'bpnet_data.seq_width': 1000,\n",
       " 'bpnet_data.shuffle': True,\n",
       " 'bpnet_data.tasks': ['Oct4', 'Sox2', 'Nanog', 'Klf4'],\n",
       " 'bpnet_data.test_chr': ['chr1', 'chr8', 'chr9'],\n",
       " 'bpnet_data.track_transform': 'None',\n",
       " 'bpnet_data.valid_chr': ['chr2', 'chr3', 'chr4'],\n",
       " 'dataspec': 'ChIP-nexus.dataspec.yml',\n",
       " 'exclude_chr': ['chrX', 'chrY'],\n",
       " 'filters': 64,\n",
       " 'lambda': 10,\n",
       " 'lr': 0.004,\n",
       " 'n_bias_tracks': 2,\n",
       " 'n_dil_layers': 9,\n",
       " 'report_template.name': 'evaluate.ipynb',\n",
       " 'report_template.raise_error': True,\n",
       " 'seq_width': 1000,\n",
       " 'tasks': ['Oct4', 'Sox2', 'Nanog', 'Klf4'],\n",
       " 'tconv_kernel_size': 25,\n",
       " 'test_chr': ['chr1', 'chr8', 'chr9'],\n",
       " 'tracks_per_task': 2,\n",
       " 'train.batch_size': 128,\n",
       " 'train.data': 'bpnet_data()',\n",
       " 'train.early_stop_patience': 5,\n",
       " 'train.epochs': 20,\n",
       " 'train.eval_metric': 'None',\n",
       " 'train.eval_report': 'report_template()',\n",
       " 'train.eval_skip': [],\n",
       " 'train.eval_train': False,\n",
       " 'train.model': 'SeqModel()',\n",
       " 'train.seed': 0,\n",
       " 'train.stratified_sampler_p': 'None',\n",
       " 'train.tensorboard': True,\n",
       " 'train.train_batch_sampler': 'None',\n",
       " 'train.train_epoch_frac': 1.0,\n",
       " 'train.train_samples_per_epoch': 'None',\n",
       " 'train.valid_epoch_frac': 1.0,\n",
       " 'train.validation_samples': 'None',\n",
       " 'use_bias': True,\n",
       " 'valid_chr': ['chr2', 'chr3', 'chr4']}"
      ]
     },
     "execution_count": 11,
     "metadata": {},
     "output_type": "execute_result"
    }
   ],
   "source": [
    "gin_config = read_json(os.path.join(model_base_dir, '0', 'config.gin.json'))\n",
    "gin_config"
   ]
  },
  {
   "cell_type": "code",
   "execution_count": 12,
   "metadata": {},
   "outputs": [
    {
     "data": {
      "text/plain": [
       "['Oct4', 'Sox2', 'Nanog', 'Klf4']"
      ]
     },
     "execution_count": 12,
     "metadata": {},
     "output_type": "execute_result"
    }
   ],
   "source": [
    "ds = DataSpec.load(os.path.join(model_base_dir, '0', 'dataspec.yml')) # remember to re-add 0\n",
    "tasks = list(ds.task_specs)\n",
    "tasks"
   ]
  },
  {
   "cell_type": "code",
   "execution_count": 13,
   "metadata": {
    "papermill": {
     "duration": 0.047284,
     "end_time": "2019-08-01T09:53:08.352758",
     "exception": false,
     "start_time": "2019-08-01T09:53:08.305474",
     "status": "completed"
    },
    "tags": []
   },
   "outputs": [],
   "source": [
    "dl_valid = StrandedProfile(ds, \n",
    "                           incl_chromosomes=gin_config['bpnet_data.valid_chr'], \n",
    "                           peak_width=gin_config['bpnet_data.peak_width'],\n",
    "                           seq_width=gin_config['bpnet_data.seq_width'],\n",
    "                           shuffle=False)"
   ]
  },
  {
   "cell_type": "code",
   "execution_count": 14,
   "metadata": {
    "papermill": {
     "duration": 0.107385,
     "end_time": "2019-08-01T09:53:08.501413",
     "exception": false,
     "start_time": "2019-08-01T09:53:08.394028",
     "status": "completed"
    },
    "scrolled": true,
    "tags": []
   },
   "outputs": [
    {
     "name": "stderr",
     "output_type": "stream",
     "text": [
      "100%|██████████| 115/115 [01:00<00:00,  1.89it/s]\n"
     ]
    }
   ],
   "source": [
    "valid = dl_valid.load_all(batch_size=256, num_workers=2)"
   ]
  },
  {
   "cell_type": "code",
   "execution_count": 15,
   "metadata": {
    "scrolled": true
   },
   "outputs": [
    {
     "data": {
      "text/plain": [
       "(29277, 2)"
      ]
     },
     "execution_count": 15,
     "metadata": {},
     "output_type": "execute_result"
    }
   ],
   "source": [
    "valid['targets']['Oct4/counts'].shape"
   ]
  },
  {
   "cell_type": "markdown",
   "metadata": {},
   "source": [
    "# (Re-)Calibration"
   ]
  },
  {
   "cell_type": "code",
   "execution_count": 16,
   "metadata": {},
   "outputs": [],
   "source": [
    "def fit_recalibrators(model, features, dataset: dict, batch_size=256):\n",
    "    seqs = dataset['inputs']['seq']\n",
    "    targets = dataset['targets']\n",
    "    predictions = {f: np.zeros((seqs.shape[0], n_reps)) for f in features}\n",
    "    ys = {k: np.zeros(seqs.shape[0]) for k, v in dataset['targets'].items()}\n",
    "    for start_idx in range(0, len(seqs), batch_size):\n",
    "        end_idx = min(start_idx + batch_size, len(seqs))\n",
    "        seq_batch = seqs[start_idx: end_idx]\n",
    "        p = model.predict(seq_batch)\n",
    "        if start_idx % (256 * 10) == 0:\n",
    "            print(start_idx)\n",
    "        for f in features:\n",
    "            predictions[f][start_idx: end_idx, :] = p[f].T\n",
    "            ys[f][start_idx: end_idx] = targets[f][start_idx: end_idx, :].mean(axis=-1)\n",
    "\n",
    "    pred_means = {}\n",
    "    pred_stds = {}\n",
    "    for f in features:\n",
    "        pred_means[f] = np.mean(predictions[f], axis=1).squeeze()\n",
    "        pred_stds[f] = np.std(predictions[f], axis=1).squeeze()\n",
    "\n",
    "    recal_models = {}\n",
    "    for f in features:\n",
    "        y = ys[f]\n",
    "        pred_mean, pred_std = pred_means[f], pred_stds[f]\n",
    "        exp_props, obs_props = get_proportion_lists_vectorized(pred_mean, pred_std, y)\n",
    "        recal_model = iso_recal(exp_props, obs_props)\n",
    "        recal_models[f] = recal_model\n",
    "    return recal_models\n",
    "\n",
    "def recal_predict(recalibrators, preds, features):\n",
    "    pred_means = {}\n",
    "    pred_stds = {}\n",
    "    for f in features:\n",
    "        pred_means[f] = np.mean(preds[f], axis=0).squeeze()\n",
    "        pred_stds[f] = np.std(preds[f], axis=0).squeeze()\n",
    "    recal_preds = {k: np.zeros_like(v) for k, v in preds.items()}\n",
    "    for f in features:\n",
    "        pred_dist = stats.norm(loc=pred_means[f], scale=pred_stds[f])\n",
    "        for c in range(preds[f].shape[0]):\n",
    "            recal_model = recalibrators[f]\n",
    "            orig_preds = preds[f][c, :]\n",
    "            orig_quantiles = pred_dist.cdf(orig_preds)\n",
    "            recal_quantiles = recal_model.predict(orig_quantiles)\n",
    "            recal_preds[f][c] = pred_dist.ppf(recal_quantiles)\n",
    "    return recal_preds"
   ]
  },
  {
   "cell_type": "markdown",
   "metadata": {},
   "source": [
    "## Predictions and in-silico mutagenesis"
   ]
  },
  {
   "cell_type": "code",
   "execution_count": 17,
   "metadata": {},
   "outputs": [],
   "source": [
    "cols = [f'{factor_name}/counts' for factor_name in factor_names]"
   ]
  },
  {
   "cell_type": "code",
   "execution_count": 18,
   "metadata": {},
   "outputs": [
    {
     "data": {
      "text/plain": [
       "(29277, 1000, 4)"
      ]
     },
     "execution_count": 18,
     "metadata": {},
     "output_type": "execute_result"
    }
   ],
   "source": [
    "valid['inputs']['seq'].shape"
   ]
  },
  {
   "cell_type": "code",
   "execution_count": 19,
   "metadata": {},
   "outputs": [
    {
     "ename": "NameError",
     "evalue": "name 'valid_range_meta' is not defined",
     "output_type": "error",
     "traceback": [
      "\u001b[0;31m---------------------------------------------------------------------------\u001b[0m",
      "\u001b[0;31mNameError\u001b[0m                                 Traceback (most recent call last)",
      "\u001b[0;32m<ipython-input-19-02411dfc5d0a>\u001b[0m in \u001b[0;36m<module>\u001b[0;34m\u001b[0m\n\u001b[0;32m----> 1\u001b[0;31m \u001b[0mvalid_range_meta\u001b[0m\u001b[0;34m\u001b[0m\u001b[0;34m\u001b[0m\u001b[0m\n\u001b[0m",
      "\u001b[0;31mNameError\u001b[0m: name 'valid_range_meta' is not defined"
     ]
    }
   ],
   "source": [
    "valid_range_meta"
   ]
  },
  {
   "cell_type": "code",
   "execution_count": 20,
   "metadata": {},
   "outputs": [
    {
     "data": {
      "application/vnd.jupyter.widget-view+json": {
       "model_id": "46d747e7ee6a4c7d809eccb130914e0b",
       "version_major": 2,
       "version_minor": 0
      },
      "text/plain": [
       "0it [00:00, ?it/s]"
      ]
     },
     "metadata": {},
     "output_type": "display_data"
    },
    {
     "data": {
      "text/plain": [
       "(29264,)"
      ]
     },
     "execution_count": 20,
     "metadata": {},
     "output_type": "execute_result"
    }
   ],
   "source": [
    "valid_records = []\n",
    "valid_range_meta = valid['metadata']['range']\n",
    "it = zip(valid['inputs']['seq'], valid_range_meta['start'], valid_range_meta['end'], valid_range_meta['strand'], valid_range_meta['chr'])\n",
    "for seq, start, end, strand, chrom in tqdm(it):\n",
    "    if ((seq == 0.0) | (seq == 1.0)).all():\n",
    "        valid_records.append({\n",
    "            \"seq\": seq,\n",
    "            \"start\": start,\n",
    "            \"end\": end,\n",
    "            \"strand\": strand,\n",
    "            \"chrom\": chrom\n",
    "        })\n",
    "valid_ranges = pd.DataFrame.from_records(valid_records)\n",
    "valid_seqs = valid_ranges.seq.values\n",
    "valid_seqs.shape"
   ]
  },
  {
   "cell_type": "code",
   "execution_count": null,
   "metadata": {},
   "outputs": [],
   "source": []
  },
  {
   "cell_type": "code",
   "execution_count": 21,
   "metadata": {},
   "outputs": [
    {
     "data": {
      "text/plain": [
       "((2000,), (2000, 5))"
      ]
     },
     "execution_count": 21,
     "metadata": {},
     "output_type": "execute_result"
    }
   ],
   "source": [
    "np.random.seed(42)\n",
    "idxs = np.arange(len(valid_seqs))\n",
    "np.random.shuffle(idxs)\n",
    "sample_seqs = valid_seqs[idxs[:n_seqs]]\n",
    "sample_ranges = valid_ranges.iloc[idxs[:n_seqs]].copy()\n",
    "sample_seqs.shape, sample_ranges.shape"
   ]
  },
  {
   "cell_type": "code",
   "execution_count": 22,
   "metadata": {},
   "outputs": [],
   "source": [
    "mfi_df = pd.read_csv('/home/ubuntu/motif-instances.bed', sep='\\t', header=None)\n",
    "mfi_df.columns = [\"chrom\", \"start\", \"end\", \"tf\", \"match-score\", \"strand\", \"contrib-score\", \"log-odds-score\"]"
   ]
  },
  {
   "cell_type": "code",
   "execution_count": 23,
   "metadata": {},
   "outputs": [],
   "source": [
    "valid_mfi_df = mfi_df.query('chrom in [\"chr2\", \"chr3\", \"chr4\"]').sort_values(by=['chrom', 'start'])"
   ]
  },
  {
   "cell_type": "code",
   "execution_count": 24,
   "metadata": {},
   "outputs": [],
   "source": [
    "for idx, row in sample_ranges.iterrows():\n",
    "    mfi_rows = valid_mfi_df.query(\n",
    "        f\"start >= {row.start} and end <= {row.end} and chrom == '{row.chrom}'\"\n",
    "    )\n",
    "    # mfi_rows = mfi_rows.query(f\"strand == '{row.strand}'\")\n",
    "    for _, mfi_row in mfi_rows.iterrows():\n",
    "        sample_ranges.loc[idx, f\"{mfi_row.tf}_start\"] = mfi_row.start\n",
    "        sample_ranges.loc[idx, f\"{mfi_row.tf}_end\"] = mfi_row.end  \n",
    "        sample_ranges.loc[idx, f\"{mfi_row.tf}_match_score\"] = mfi_row[\"match-score\"]"
   ]
  },
  {
   "cell_type": "code",
   "execution_count": 25,
   "metadata": {},
   "outputs": [
    {
     "data": {
      "text/plain": [
       "Index(['seq', 'start', 'end', 'strand', 'chrom', 'Oct4_start', 'Oct4_end',\n",
       "       'Oct4_match_score', 'Sox2_start', 'Sox2_end', 'Sox2_match_score',\n",
       "       'Oct4-Sox2_start', 'Oct4-Sox2_end', 'Oct4-Sox2_match_score',\n",
       "       'Nanog_start', 'Nanog_end', 'Nanog_match_score', 'Essrb_start',\n",
       "       'Essrb_end', 'Essrb_match_score', 'Oct4-Oct4_start', 'Oct4-Oct4_end',\n",
       "       'Oct4-Oct4_match_score', 'Klf4_start', 'Klf4_end', 'Klf4_match_score',\n",
       "       'Zic3_start', 'Zic3_end', 'Zic3_match_score', 'B-Box_start',\n",
       "       'B-Box_end', 'B-Box_match_score', 'Nanog-partner_start',\n",
       "       'Nanog-partner_end', 'Nanog-partner_match_score', 'Klf4-Klf4_start',\n",
       "       'Klf4-Klf4_end', 'Klf4-Klf4_match_score'],\n",
       "      dtype='object')"
      ]
     },
     "execution_count": 25,
     "metadata": {},
     "output_type": "execute_result"
    }
   ],
   "source": [
    "sample_ranges.columns"
   ]
  },
  {
   "cell_type": "code",
   "execution_count": 26,
   "metadata": {},
   "outputs": [],
   "source": [
    "def get_distance(start1, start2, end1, end2):\n",
    "    if np.isnan(start1) or np.isnan(start2):\n",
    "        return np.nan\n",
    "    if end1 < start2:\n",
    "        return start2 - end1\n",
    "    elif end2 < start1:\n",
    "        return start1 - end2\n",
    "    else:\n",
    "        return 0\n",
    "\n",
    "for exposure, outcome in exposure_outcome_pairs:\n",
    "    distance_column_name = f\"{exposure}_{outcome}_distance\"\n",
    "    assert f\"{exposure}_start\" in sample_ranges.columns and f\"{outcome}_start\" in sample_ranges.columns\n",
    "    columns = [f\"{exposure}_start\", f\"{outcome}_start\", f\"{exposure}_end\", f\"{outcome}_end\"]\n",
    "    sample_ranges[distance_column_name] = sample_ranges[columns].apply(\n",
    "        lambda row: get_distance(*[row[c] for c in columns]),\n",
    "        axis=1\n",
    "    )"
   ]
  },
  {
   "cell_type": "code",
   "execution_count": 27,
   "metadata": {},
   "outputs": [
    {
     "data": {
      "text/plain": [
       "359"
      ]
     },
     "execution_count": 27,
     "metadata": {},
     "output_type": "execute_result"
    }
   ],
   "source": [
    "(~pd.isna(sample_ranges.Klf4_Oct4_distance)).sum()"
   ]
  },
  {
   "cell_type": "code",
   "execution_count": 28,
   "metadata": {},
   "outputs": [
    {
     "data": {
      "text/plain": [
       "((29277, 1000, 4), (29277, 2))"
      ]
     },
     "execution_count": 28,
     "metadata": {},
     "output_type": "execute_result"
    }
   ],
   "source": [
    "valid['inputs']['seq'].shape, valid['targets'][cols[0]].shape"
   ]
  },
  {
   "cell_type": "code",
   "execution_count": 29,
   "metadata": {},
   "outputs": [
    {
     "name": "stdout",
     "output_type": "stream",
     "text": [
      "0\n",
      "2560\n",
      "5120\n",
      "7680\n",
      "10240\n",
      "12800\n",
      "15360\n",
      "17920\n",
      "20480\n",
      "23040\n",
      "25600\n",
      "28160\n"
     ]
    }
   ],
   "source": [
    "recal_models = fit_recalibrators(model, cols, valid)"
   ]
  },
  {
   "cell_type": "code",
   "execution_count": 30,
   "metadata": {},
   "outputs": [
    {
     "data": {
      "application/vnd.jupyter.widget-view+json": {
       "model_id": "251bf0aa583b4bb8bc95441386f6be82",
       "version_major": 2,
       "version_minor": 0
      },
      "text/plain": [
       "  0%|          | 0/2000 [00:00<?, ?it/s]"
      ]
     },
     "metadata": {},
     "output_type": "display_data"
    }
   ],
   "source": [
    "n_seqs = sample_seqs.shape\n",
    "preds = {}\n",
    "recal_preds = {}\n",
    "for seq in tqdm(sample_seqs):\n",
    "    muts = generate_wt_mut_batches(seq.T, seq.shape[0] * seq.shape[1]).squeeze()\n",
    "    preds_ = model.predict(muts.transpose(0, 2, 1))\n",
    "    recal_preds_ = recal_predict(recal_models, preds_, cols)\n",
    "    for key, value in preds_.items():\n",
    "        if key in cols:\n",
    "            preds.setdefault(key, []).append(preds_[key])\n",
    "            recal_preds.setdefault(key, []).append(recal_preds_[key])"
   ]
  },
  {
   "cell_type": "code",
   "execution_count": 64,
   "metadata": {},
   "outputs": [
    {
     "data": {
      "text/plain": [
       "(1000, 4)"
      ]
     },
     "execution_count": 64,
     "metadata": {},
     "output_type": "execute_result"
    }
   ],
   "source": [
    "sample_seqs[0].shape"
   ]
  },
  {
   "cell_type": "code",
   "execution_count": 69,
   "metadata": {},
   "outputs": [
    {
     "data": {
      "text/plain": [
       "array([2.93739  , 2.93739  , 2.93739  , 2.93739  , 2.93739  , 2.93739  ,\n",
       "       2.93739  , 2.93739  , 2.93739  , 2.93739  , 2.93739  , 2.93739  ,\n",
       "       2.93739  , 2.93739  , 2.93739  , 2.93739  , 2.93739  , 2.93739  ,\n",
       "       2.93739  , 2.93739  , 2.93739  , 2.93739  , 2.93739  , 2.93739  ,\n",
       "       2.93739  , 2.93739  , 2.93739  , 2.93739  , 2.93739  , 2.93739  ,\n",
       "       2.93739  , 2.93739  , 2.93739  , 2.93739  , 2.93739  , 2.93739  ,\n",
       "       2.93739  , 2.93739  , 2.93739  , 2.93739  , 2.93739  , 2.93739  ,\n",
       "       2.93739  , 2.93739  , 2.93739  , 2.93739  , 2.93739  , 2.93739  ,\n",
       "       2.93739  , 2.93739  , 2.93739  , 2.93739  , 2.93739  , 2.93739  ,\n",
       "       2.93739  , 2.93739  , 2.93739  , 2.93739  , 2.93739  , 2.93739  ,\n",
       "       2.93739  , 2.93739  , 2.93739  , 2.93739  , 2.93739  , 2.93739  ,\n",
       "       2.93739  , 2.93739  , 2.93739  , 2.93739  , 2.93739  , 2.93739  ,\n",
       "       2.93739  , 2.93739  , 2.93739  , 2.93739  , 2.93739  , 2.93739  ,\n",
       "       2.93739  , 2.93739  , 2.93739  , 2.93739  , 2.93739  , 2.93739  ,\n",
       "       2.93739  , 2.93739  , 2.93739  , 2.93739  , 2.93739  , 2.93739  ,\n",
       "       2.93739  , 2.93739  , 2.93739  , 2.93739  , 2.93739  , 2.93739  ,\n",
       "       2.93739  , 2.93739  , 2.93739  , 2.93739  , 2.93739  , 2.93739  ,\n",
       "       2.93739  , 2.93739  , 2.93739  , 2.93739  , 2.93739  , 2.93739  ,\n",
       "       2.93739  , 2.93739  , 2.93739  , 2.93739  , 2.93739  , 2.93739  ,\n",
       "       2.93739  , 2.93739  , 2.93739  , 2.93739  , 2.93739  , 2.93739  ,\n",
       "       2.93739  , 2.93739  , 2.93739  , 2.93739  , 2.93739  , 2.93739  ,\n",
       "       2.93739  , 2.93739  , 2.93739  , 2.93739  , 2.93739  , 2.93739  ,\n",
       "       2.93739  , 2.93739  , 2.93739  , 2.93739  , 2.93739  , 2.93739  ,\n",
       "       2.93739  , 2.93739  , 2.93739  , 2.93739  , 2.93739  , 2.93739  ,\n",
       "       2.93739  , 2.93739  , 2.93739  , 2.93739  , 2.93739  , 2.93739  ,\n",
       "       2.93739  , 2.93739  , 2.93739  , 2.93739  , 2.93739  , 2.93739  ,\n",
       "       2.93739  , 2.93739  , 2.93739  , 2.93739  , 2.93739  , 2.93739  ,\n",
       "       2.93739  , 2.93739  , 2.93739  , 2.93739  , 2.93739  , 2.93739  ,\n",
       "       2.93739  , 2.93739  , 2.93739  , 2.93739  , 2.93739  , 2.93739  ,\n",
       "       2.93739  , 2.93739  , 2.93739  , 2.93739  , 2.93739  , 2.93739  ,\n",
       "       2.93739  , 2.93739  , 2.93739  , 2.93739  , 2.93739  , 2.93739  ,\n",
       "       2.93739  , 2.93739  , 2.93739  , 2.93739  , 2.93739  , 2.93739  ,\n",
       "       2.93739  , 2.93739  , 2.93739  , 2.93739  , 2.93739  , 2.93739  ,\n",
       "       2.93739  , 2.93739  , 2.93739  , 2.93739  , 2.93739  , 2.93739  ,\n",
       "       2.93739  , 2.93739  , 2.93739  , 2.93739  , 2.93739  , 2.93739  ,\n",
       "       2.93739  , 2.93739  , 2.93739  , 2.93739  , 2.93739  , 2.93739  ,\n",
       "       2.93739  , 2.93739  , 2.93739  , 2.93739  , 2.93739  , 2.93739  ,\n",
       "       2.93739  , 2.93739  , 2.93739  , 2.93739  , 2.93739  , 2.93739  ,\n",
       "       2.93739  , 2.93739  , 2.93739  , 2.93739  , 2.93739  , 2.93739  ,\n",
       "       2.93739  , 2.93739  , 2.93739  , 2.93739  , 2.93739  , 2.93739  ,\n",
       "       2.93739  , 2.93739  , 2.93739  , 2.93739  , 2.93739  , 2.93739  ,\n",
       "       2.93739  , 2.93739  , 2.93739  , 2.93739  , 2.93739  , 2.93739  ,\n",
       "       2.93739  , 2.93739  , 2.93739  , 2.93739  , 2.93739  , 2.93739  ,\n",
       "       2.93739  , 2.93739  , 2.93739  , 2.93739  , 2.93739  , 2.93739  ,\n",
       "       2.93739  , 2.93739  , 2.93739  , 2.93739  , 2.93739  , 2.93739  ,\n",
       "       2.93739  , 2.93739  , 2.93739  , 2.93739  , 2.93739  , 2.93739  ,\n",
       "       2.93739  , 2.93739  , 2.93739  , 2.93739  , 2.93739  , 2.93739  ,\n",
       "       2.93739  , 2.93739  , 2.93739  , 2.93739  , 2.93739  , 2.93739  ,\n",
       "       2.93739  , 2.93739  , 2.93739  , 2.93739  , 2.93739  , 2.93739  ,\n",
       "       2.93739  , 2.93739  , 2.93739  , 2.93739  , 2.93739  , 2.93739  ,\n",
       "       2.93739  , 2.93739  , 2.93739  , 2.93739  , 2.93739  , 2.93739  ,\n",
       "       2.93739  , 2.93739  , 2.93739  , 2.93739  , 2.93739  , 2.93739  ,\n",
       "       2.93739  , 2.93739  , 2.93739  , 2.93739  , 2.93739  , 2.93739  ,\n",
       "       2.93739  , 2.93739  , 2.93739  , 2.93739  , 2.93739  , 2.93739  ,\n",
       "       2.93739  , 2.93739  , 2.93739  , 2.93739  , 2.93739  , 2.93739  ,\n",
       "       2.93739  , 2.93739  , 2.93739  , 2.93739  , 2.93739  , 2.93739  ,\n",
       "       2.93739  , 2.93739  , 2.93739  , 2.93739  , 2.93739  , 2.93739  ,\n",
       "       2.93739  , 2.93739  , 2.93739  , 2.93739  , 2.93739  , 2.93739  ,\n",
       "       2.93739  , 2.93739  , 2.93739  , 2.93739  , 2.93739  , 2.93739  ,\n",
       "       2.93739  , 2.93739  , 2.93739  , 2.93739  , 2.93739  , 2.93739  ,\n",
       "       2.93739  , 2.93739  , 2.93739  , 2.93739  , 2.93739  , 2.93739  ,\n",
       "       2.93739  , 2.93739  , 2.93739  , 2.93739  , 2.93739  , 2.93739  ,\n",
       "       2.93739  , 2.93739  , 2.93739  , 2.93739  , 2.93739  , 2.93739  ,\n",
       "       2.93739  , 2.93739  , 2.93739  , 2.93739  , 2.93739  , 2.93739  ,\n",
       "       2.93739  , 2.93739  , 2.93739  , 2.93739  , 2.93739  , 2.93739  ,\n",
       "       2.93739  , 2.93739  , 2.93739  , 2.93739  , 2.93739  , 2.93739  ,\n",
       "       2.93739  , 2.93739  , 2.93739  , 2.93739  , 2.93739  , 2.93739  ,\n",
       "       2.93739  , 2.93739  , 2.93739  , 2.93739  , 2.93739  , 2.93739  ,\n",
       "       2.93739  , 2.93739  , 2.93739  , 2.93739  , 2.93739  , 2.93739  ,\n",
       "       2.93739  , 2.93739  , 2.93739  , 2.93739  , 2.93739  , 2.93739  ,\n",
       "       2.93739  , 2.93739  , 2.93739  , 2.93739  , 2.93739  , 2.93739  ,\n",
       "       2.93739  , 2.93739  , 2.93739  , 2.93739  , 2.93739  , 2.93739  ,\n",
       "       2.93739  , 2.93739  , 2.93739  , 2.93739  , 2.93739  , 2.93739  ,\n",
       "       2.93739  , 2.93739  , 2.93739  , 2.93739  , 2.93739  , 2.93739  ,\n",
       "       2.93739  , 2.93739  , 2.93739  , 2.93739  , 2.93739  , 2.93739  ,\n",
       "       2.93739  , 2.93739  , 2.93739  , 2.93739  , 2.93739  , 2.93739  ,\n",
       "       2.93739  , 2.93739  , 2.93739  , 2.93739  , 2.93739  , 2.93739  ,\n",
       "       2.93739  , 2.93739  , 2.93739  , 2.93739  , 2.93739  , 2.93739  ,\n",
       "       2.93739  , 2.93739  , 2.93739  , 2.93739  , 2.93739  , 2.93739  ,\n",
       "       2.93739  , 2.93739  , 2.93739  , 2.93739  , 2.93739  , 2.93739  ,\n",
       "       2.93739  , 2.93739  , 2.93739  , 2.93739  , 2.93739  , 2.93739  ,\n",
       "       2.93739  , 2.93739  , 2.93739  , 2.93739  , 2.93739  , 2.93739  ,\n",
       "       2.93739  , 2.93739  , 2.93739  , 2.93739  , 2.93739  , 2.93739  ,\n",
       "       2.93739  , 2.93739  , 2.93739  , 2.93739  , 2.93739  , 2.93739  ,\n",
       "       2.93739  , 2.93739  , 2.93739  , 2.93739  , 2.93739  , 2.93739  ,\n",
       "       2.93739  , 2.93739  , 2.93739  , 2.93739  , 2.93739  , 2.93739  ,\n",
       "       2.93739  , 2.93739  , 2.93739  , 2.93739  , 2.93739  , 2.93739  ,\n",
       "       2.93739  , 2.93739  , 2.93739  , 2.93739  , 2.93739  , 2.93739  ,\n",
       "       2.93739  , 2.93739  , 2.93739  , 2.93739  , 2.93739  , 2.93739  ,\n",
       "       2.93739  , 2.93739  , 2.93739  , 2.93739  , 2.93739  , 2.93739  ,\n",
       "       2.93739  , 2.93739  , 2.93739  , 2.93739  , 2.93739  , 2.93739  ,\n",
       "       2.93739  , 2.93739  , 2.93739  , 2.93739  , 2.93739  , 2.93739  ,\n",
       "       2.93739  , 2.93739  , 2.93739  , 2.93739  , 2.93739  , 2.93739  ,\n",
       "       2.93739  , 2.93739  , 2.93739  , 2.93739  , 2.93739  , 2.93739  ,\n",
       "       2.93739  , 2.93739  , 2.93739  , 2.93739  , 2.93739  , 2.93739  ,\n",
       "       2.93739  , 2.93739  , 2.93739  , 2.93739  , 2.93739  , 2.93739  ,\n",
       "       2.93739  , 2.93739  , 2.93739  , 2.93739  , 2.93739  , 2.93739  ,\n",
       "       2.93739  , 2.93739  , 2.93739  , 2.93739  , 2.93739  , 2.93739  ,\n",
       "       2.93739  , 2.93739  , 2.93739  , 2.93739  , 2.93739  , 2.93739  ,\n",
       "       2.93739  , 2.93739  , 2.93739  , 2.93739  , 2.93739  , 2.93739  ,\n",
       "       2.93739  , 2.93739  , 2.93739  , 2.93739  , 2.93739  , 2.93739  ,\n",
       "       2.93739  , 2.93739  , 2.93739  , 2.93739  , 2.93739  , 2.93739  ,\n",
       "       2.93739  , 2.93739  , 2.93739  , 2.93739  , 2.93739  , 2.93739  ,\n",
       "       2.93739  , 2.93739  , 2.93739  , 2.93739  , 2.93739  , 2.93739  ,\n",
       "       2.93739  , 2.93739  , 2.93739  , 2.93739  , 2.93739  , 2.93739  ,\n",
       "       2.93739  , 2.93739  , 2.93739  , 2.93739  , 2.93739  , 2.93739  ,\n",
       "       2.93739  , 2.93739  , 2.93739  , 2.93739  , 2.93739  , 2.93739  ,\n",
       "       2.93739  , 2.93739  , 2.93739  , 2.93739  , 2.93739  , 2.93739  ,\n",
       "       2.93739  , 2.93739  , 2.93739  , 2.93739  , 2.93739  , 2.93739  ,\n",
       "       2.93739  , 2.93739  , 2.93739  , 2.93739  , 2.93739  , 2.93739  ,\n",
       "       2.93739  , 2.93739  , 2.93739  , 2.93739  , 2.93739  , 2.93739  ,\n",
       "       2.93739  , 2.93739  , 2.93739  , 2.93739  , 2.93739  , 2.93739  ,\n",
       "       2.93739  , 2.93739  , 2.93739  , 2.93739  , 2.93739  , 2.93739  ,\n",
       "       2.93739  , 2.93739  , 2.93739  , 2.93739  , 2.93739  , 2.93739  ,\n",
       "       2.93739  , 2.93739  , 2.93739  , 2.93739  , 2.93739  , 2.93739  ,\n",
       "       2.93739  , 2.93739  , 2.93739  , 2.93739  , 2.93739  , 2.93739  ,\n",
       "       2.93739  , 2.93739  , 2.93739  , 2.93739  , 2.93739  , 2.93739  ,\n",
       "       2.93739  , 2.93739  , 2.93739  , 2.93739  , 2.93739  , 2.93739  ,\n",
       "       2.93739  , 2.93739  , 2.93739  , 2.93739  , 2.93739  , 2.93739  ,\n",
       "       2.93739  , 2.93739  , 2.93739  , 2.93739  , 2.93739  , 2.93739  ,\n",
       "       2.93739  , 2.93739  , 2.93739  , 2.93739  , 2.93739  , 2.93739  ,\n",
       "       2.93739  , 2.93739  , 2.93739  , 2.93739  , 2.93739  , 2.93739  ,\n",
       "       2.93739  , 2.93739  , 2.93739  , 2.93739  , 2.93739  , 2.93739  ,\n",
       "       2.93739  , 2.93739  , 2.93739  , 2.93739  , 2.93739  , 2.93739  ,\n",
       "       2.93739  , 2.93739  , 2.93739  , 2.93739  , 2.93739  , 2.93739  ,\n",
       "       2.93739  , 2.93739  , 2.93739  , 2.93739  , 2.93739  , 2.93739  ,\n",
       "       2.93739  , 2.93739  , 2.93739  , 2.93739  , 2.93739  , 2.93739  ,\n",
       "       2.93739  , 2.93739  , 2.93739  , 2.93739  , 2.93739  , 2.93739  ,\n",
       "       2.93739  , 2.93739  , 2.93739  , 2.93739  , 2.93739  , 2.93739  ,\n",
       "       2.93739  , 2.93739  , 2.93739  , 2.93739  , 2.93739  , 2.93739  ,\n",
       "       2.93739  , 2.93739  , 2.93739  , 2.93739  , 2.93739  , 2.93739  ,\n",
       "       2.93739  , 2.93739  , 2.93739  , 2.93739  , 2.93739  , 2.93739  ,\n",
       "       2.93739  , 2.93739  , 2.93739  , 2.93739  , 2.93739  , 2.93739  ,\n",
       "       2.93739  , 2.93739  , 2.93739  , 2.93739  , 2.93739  , 2.93739  ,\n",
       "       2.93739  , 2.93739  , 2.93739  , 2.93739  , 2.93739  , 2.93739  ,\n",
       "       2.93739  , 2.93739  , 2.93739  , 2.93739  , 2.93739  , 2.93739  ,\n",
       "       2.93739  , 2.93739  , 2.93739  , 2.93739  , 2.93739  , 2.93739  ,\n",
       "       2.93739  , 2.93739  , 2.93739  , 2.93739  , 2.93739  , 2.93739  ,\n",
       "       2.93739  , 2.93739  , 2.93739  , 2.93739  , 2.93739  , 2.93739  ,\n",
       "       2.93739  , 2.93739  , 2.93739  , 2.93739  , 2.93739  , 2.93739  ,\n",
       "       2.93739  , 2.93739  , 2.93739  , 2.93739  , 2.93739  , 2.93739  ,\n",
       "       2.93739  , 2.93739  , 2.93739  , 2.93739  , 2.93739  , 2.93739  ,\n",
       "       2.93739  , 2.93739  , 2.93739  , 2.93739  , 2.93739  , 2.93739  ,\n",
       "       2.93739  , 2.93739  , 2.93739  , 2.93739  , 2.93739  , 2.93739  ,\n",
       "       2.93739  , 2.93739  , 2.93739  , 2.93739  , 2.93739  , 2.93739  ,\n",
       "       2.93739  , 2.93739  , 2.93739  , 2.93739  , 2.93739  , 2.93739  ,\n",
       "       2.93739  , 2.93739  , 2.93739  , 2.93739  , 2.93739  , 2.93739  ,\n",
       "       2.93739  , 2.93739  , 2.93739  , 2.93739  , 2.93739  , 2.93739  ,\n",
       "       2.93739  , 2.93739  , 2.93739  , 2.93739  , 2.93739  , 2.93739  ,\n",
       "       2.93739  , 2.93739  , 2.93739  , 2.93739  , 2.93739  , 2.93739  ,\n",
       "       2.93739  , 2.93739  , 2.93739  , 2.93739  , 2.93739  , 2.93739  ,\n",
       "       2.93739  , 2.93739  , 2.93739  , 2.93739  , 2.93739  , 2.93739  ,\n",
       "       2.93739  , 2.93739  , 2.93739  , 2.93739  , 2.93739  , 2.93739  ,\n",
       "       2.93739  , 2.93739  , 2.93739  , 2.93739  , 2.93739  , 2.93739  ,\n",
       "       2.93739  , 2.93739  , 2.93739  , 2.93739  , 2.93739  , 2.93739  ,\n",
       "       2.93739  , 2.93739  , 2.93739  , 2.93739  , 2.93739  , 2.93739  ,\n",
       "       2.93739  , 2.93739  , 2.93739  , 2.93739  , 2.93739  , 2.93739  ,\n",
       "       2.93739  , 2.93739  , 2.93739  , 2.93739  , 2.93739  , 2.93739  ,\n",
       "       2.93739  , 2.93739  , 2.93739  , 2.93739  , 2.93739  , 2.93739  ,\n",
       "       2.93739  , 2.93739  , 2.93739  , 2.93739  , 2.93739  , 2.93739  ,\n",
       "       2.9373918, 2.9373918, 2.9373918, 2.9373918, 2.937392 , 2.937392 ,\n",
       "       2.937392 , 2.937392 , 2.9373918, 2.9373918, 2.9373918, 2.9373918,\n",
       "       2.9373918, 2.9373918, 2.9373918, 2.9373918, 2.9373918, 2.9373918,\n",
       "       2.9373918, 2.9373918, 2.937392 , 2.937392 , 2.937392 , 2.937392 ,\n",
       "       2.9373918, 2.9373918, 2.9373918, 2.9373918, 2.9373918, 2.9373918,\n",
       "       2.9373918, 2.9373918, 2.9373918, 2.9373918, 2.9373918, 2.9373918,\n",
       "       2.937392 , 2.937392 , 2.937392 , 2.937392 ], dtype=float32)"
      ]
     },
     "execution_count": 69,
     "metadata": {},
     "output_type": "execute_result"
    }
   ],
   "source": [
    "np.array(recal_preds['Sox2/counts'])[0].reshape(5, 1000, 4)[0][sample_seqs[0].astype(np.bool)]"
   ]
  },
  {
   "cell_type": "code",
   "execution_count": 32,
   "metadata": {},
   "outputs": [
    {
     "name": "stdout",
     "output_type": "stream",
     "text": [
      "[('Oct4', 'Sox2'), ('Oct4', 'Nanog'), ('Oct4', 'Klf4'), ('Sox2', 'Oct4'), ('Sox2', 'Nanog'), ('Sox2', 'Klf4'), ('Nanog', 'Oct4'), ('Nanog', 'Sox2'), ('Nanog', 'Klf4'), ('Klf4', 'Oct4'), ('Klf4', 'Sox2'), ('Klf4', 'Nanog')]\n"
     ]
    }
   ],
   "source": [
    "print(exposure_outcome_pairs)"
   ]
  },
  {
   "cell_type": "code",
   "execution_count": 47,
   "metadata": {},
   "outputs": [
    {
     "data": {
      "text/plain": [
       "(2000, 1000, 4)"
      ]
     },
     "execution_count": 47,
     "metadata": {},
     "output_type": "execute_result"
    }
   ],
   "source": [
    "sample_seqs = np.array([seq for seq in sample_seqs])\n",
    "sample_seqs.shape"
   ]
  },
  {
   "cell_type": "code",
   "execution_count": 55,
   "metadata": {},
   "outputs": [
    {
     "name": "stdout",
     "output_type": "stream",
     "text": [
      "(2000, 5, 4000)\n"
     ]
    }
   ],
   "source": [
    "print(np.array(recal_preds[exposure_col]).shape)"
   ]
  },
  {
   "cell_type": "code",
   "execution_count": null,
   "metadata": {},
   "outputs": [
    {
     "name": "stdout",
     "output_type": "stream",
     "text": [
      "Oct4_Sox2_distance\n"
     ]
    },
    {
     "data": {
      "application/vnd.jupyter.widget-view+json": {
       "model_id": "c0d1ca5f3fd348888c292b7a7a1f28e9",
       "version_major": 2,
       "version_minor": 0
      },
      "text/plain": [
       "  0%|          | 0/2000 [00:00<?, ?it/s]"
      ]
     },
     "metadata": {},
     "output_type": "display_data"
    },
    {
     "name": "stderr",
     "output_type": "stream",
     "text": [
      "/home/ubuntu/dev/an1lam/deepmr/src/in_silico_mutagenesis.py:167: RuntimeWarning: invalid value encountered in sqrt\n",
      "  stderrs = np.sqrt(lambdas * ref_vars + lambdas * mut_vars - 2 * lambdas * covs)\n"
     ]
    },
    {
     "name": "stdout",
     "output_type": "stream",
     "text": [
      "Reduced number of instruments down from 12000000 to 74337 (0.62 %)\n",
      "(2000, 3, 1000)\n",
      "/home/ubuntu/dev/an1lam/deepmr/dat/res-bpnet-2022-07-04-21-30-22/Oct4_Sox2_effect_sizes_v2.csv\n",
      "Oct4_Nanog_distance\n"
     ]
    },
    {
     "data": {
      "application/vnd.jupyter.widget-view+json": {
       "model_id": "06dc244d0b96410f90b02ffe58a3b943",
       "version_major": 2,
       "version_minor": 0
      },
      "text/plain": [
       "  0%|          | 0/2000 [00:00<?, ?it/s]"
      ]
     },
     "metadata": {},
     "output_type": "display_data"
    },
    {
     "name": "stdout",
     "output_type": "stream",
     "text": [
      "Reduced number of instruments down from 12000000 to 74337 (0.62 %)\n",
      "(2000, 3, 1000)\n",
      "/home/ubuntu/dev/an1lam/deepmr/dat/res-bpnet-2022-07-04-21-30-22/Oct4_Nanog_effect_sizes_v2.csv\n",
      "Oct4_Klf4_distance\n"
     ]
    },
    {
     "data": {
      "application/vnd.jupyter.widget-view+json": {
       "model_id": "cae8404f34414bc694639832225c4540",
       "version_major": 2,
       "version_minor": 0
      },
      "text/plain": [
       "  0%|          | 0/2000 [00:00<?, ?it/s]"
      ]
     },
     "metadata": {},
     "output_type": "display_data"
    },
    {
     "name": "stderr",
     "output_type": "stream",
     "text": [
      "IOPub message rate exceeded.\n",
      "The notebook server will temporarily stop sending output\n",
      "to the client in order to avoid crashing it.\n",
      "To change this limit, set the config variable\n",
      "`--NotebookApp.iopub_msg_rate_limit`.\n",
      "\n",
      "Current values:\n",
      "NotebookApp.iopub_msg_rate_limit=1000.0 (msgs/sec)\n",
      "NotebookApp.rate_limit_window=3.0 (secs)\n",
      "\n"
     ]
    }
   ],
   "source": [
    "seqs = sample_seqs.transpose(0, 2, 1)\n",
    "\n",
    "for exposure, outcome in exposure_outcome_pairs:\n",
    "    exposure_col = f'{exposure}/counts'\n",
    "    outcome_col = f'{outcome}/counts'\n",
    "    distance_col = f\"{exposure}_{outcome}_distance\"\n",
    "    \n",
    "    if distance_col in sample_ranges.columns:\n",
    "        print(distance_col)\n",
    "        formatted_preds = np.stack((recal_preds[exposure_col], recal_preds[outcome_col]))\n",
    "        n_features, n_seqs, n_reps, n_variants = formatted_preds.shape\n",
    "        formatted_preds = formatted_preds.transpose(2, 1, 3, 0)\n",
    "        formatted_preds = formatted_preds.reshape(n_reps, n_seqs, -1, alphabet_size, n_features)\n",
    "        formatted_preds = formatted_preds.transpose(0, 1, 3, 2, 4)\n",
    "        \n",
    "        motif_distances = sample_ranges[distance_col].values\n",
    "        means, mean_diffs, stderrs = compute_summary_statistics(formatted_preds, seqs)\n",
    "        assert len(motif_distances) == mean_diffs.shape[0]\n",
    "\n",
    "        sig_var_idxs = filter_variants_by_score(mean_diffs[:, :, :, 0], z_threshold=3.0)\n",
    "        print(\n",
    "            \"Reduced number of instruments down from %d to %d (%.2f %%)\"\n",
    "            % (\n",
    "                np.prod(mean_diffs.shape),\n",
    "                len(np.nonzero(sig_var_idxs)[0]),\n",
    "                float(len(np.nonzero(sig_var_idxs)[0]) / np.prod(mean_diffs.shape)) * 100,\n",
    "            )\n",
    "        )\n",
    "        print(sig_var_idxs.shape)\n",
    "\n",
    "        results_fname = f'{exposure}_{outcome}_effect_sizes_v2.csv'\n",
    "        results_fpath = os.path.join(output_dir, results_fname)\n",
    "        write_results(results_fpath, mean_diffs, stderrs,  sig_idxs=sig_var_idxs, motif_distance=motif_distances)\n",
    "        print(results_fpath)"
   ]
  },
  {
   "cell_type": "code",
   "execution_count": null,
   "metadata": {},
   "outputs": [],
   "source": [
    "mean_diffs.shape"
   ]
  }
 ],
 "metadata": {
  "kernelspec": {
   "display_name": "deepmr-bpnet3",
   "language": "python",
   "name": "deepmr-bpnet3"
  },
  "language_info": {
   "codemirror_mode": {
    "name": "ipython",
    "version": 3
   },
   "file_extension": ".py",
   "mimetype": "text/x-python",
   "name": "python",
   "nbconvert_exporter": "python",
   "pygments_lexer": "ipython3",
   "version": "3.6.13"
  }
 },
 "nbformat": 4,
 "nbformat_minor": 4
}
