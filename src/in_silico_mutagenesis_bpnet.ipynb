{
 "cells": [
  {
   "cell_type": "markdown",
   "metadata": {},
   "source": [
    "## Imports and model initialization"
   ]
  },
  {
   "cell_type": "code",
   "execution_count": 2,
   "metadata": {},
   "outputs": [
    {
     "name": "stdout",
     "output_type": "stream",
     "text": [
      "The autoreload extension is already loaded. To reload it, use:\n",
      "  %reload_ext autoreload\n"
     ]
    },
    {
     "name": "stderr",
     "output_type": "stream",
     "text": [
      "Using TensorFlow backend.\n"
     ]
    },
    {
     "name": "stdout",
     "output_type": "stream",
     "text": [
      "WARNING:tensorflow:From /opt/conda/lib/python3.7/site-packages/keras/optimizers.py:790: The name tf.train.Optimizer is deprecated. Please use tf.compat.v1.train.Optimizer instead.\n",
      "\n"
     ]
    },
    {
     "name": "stderr",
     "output_type": "stream",
     "text": [
      "2020-09-02 21:27:05,058 [WARNING] From /opt/conda/lib/python3.7/site-packages/keras/optimizers.py:790: The name tf.train.Optimizer is deprecated. Please use tf.compat.v1.train.Optimizer instead.\n",
      "\n",
      "2020-09-02 21:27:05,074 [INFO] NumExpr defaulting to 8 threads.\n"
     ]
    }
   ],
   "source": [
    "%load_ext autoreload\n",
    "%autoreload 2\n",
    "\n",
    "import csv\n",
    "from datetime import datetime\n",
    "import math\n",
    "import os\n",
    "from pathlib import Path\n",
    "import pickle\n",
    "\n",
    "import kipoi\n",
    "from kipoiseq.dataloaders import SeqIntervalDl\n",
    "from IPython.display import clear_output\n",
    "from matplotlib import pyplot as plt\n",
    "import numpy as np\n",
    "import pandas as pd\n",
    "from tqdm.notebook import tqdm\n",
    "from utils import detect_device\n",
    "\n",
    "import bpnet\n",
    "from bpnet.datasets import StrandedProfile\n",
    "from bpnet.dataspecs import DataSpec, TaskSpec\n",
    "from bpnet.utils import create_tf_session\n",
    "from bpnet.utils import read_json\n",
    "from bpnet.seqmodel import SeqModel\n",
    "from bpnet.plot.evaluate import plot_loss, regression_eval\n",
    "\n",
    "from in_silico_mutagenesis import compute_summary_statistics, generate_wt_mut_batches, write_results"
   ]
  },
  {
   "cell_type": "code",
   "execution_count": 3,
   "metadata": {},
   "outputs": [
    {
     "name": "stdout",
     "output_type": "stream",
     "text": [
      "/home/stephenmalina/project/src\r\n"
     ]
    }
   ],
   "source": [
    "!pwd"
   ]
  },
  {
   "cell_type": "code",
   "execution_count": 5,
   "metadata": {},
   "outputs": [],
   "source": [
    "timestamp = datetime.now().strftime('%Y-%m-%H-%M-%S')\n",
    "output_dir = f'/home/stephenmalina/dev/an1lam/deepmr/dat/res-bpnet-{timestamp}'\n",
    "exposure_name = 'Sox2'\n",
    "outcome_name = 'Nanog'\n",
    "\n",
    "results_fname = f'{exposure_name}_{outcome_name}_effect_sizes.csv'"
   ]
  },
  {
   "cell_type": "code",
   "execution_count": 6,
   "metadata": {},
   "outputs": [],
   "source": [
    "os.makedirs(output_dir, exist_ok=True)"
   ]
  },
  {
   "cell_type": "markdown",
   "metadata": {},
   "source": [
    "# Loading BPNet"
   ]
  },
  {
   "cell_type": "code",
   "execution_count": 7,
   "metadata": {},
   "outputs": [],
   "source": [
    "class Ensemble:\n",
    "    def __init__(self, model_base_dir, n_reps=5):\n",
    "        models = []\n",
    "        for i in range(n_reps):\n",
    "            models.append(SeqModel.from_mdir(os.path.join(model_base_dir, str(i))))\n",
    "        self.models = models\n",
    "\n",
    "    def predict(self, seqs):\n",
    "        preds = {}\n",
    "        for model in self.models:\n",
    "            model_preds = model.predict(seqs)\n",
    "            for key, preds_ in model_preds.items():\n",
    "                preds.setdefault(key, []).append(preds_.mean(-1))\n",
    "        return {k: np.stack(v) for k, v in preds.items()}"
   ]
  },
  {
   "cell_type": "code",
   "execution_count": 12,
   "metadata": {},
   "outputs": [],
   "source": [
    "model_base_dir = \"/home/stephenmalina/project/dat/res-bpnet-training-2020-09-02-16-18-50/output_ensemble\""
   ]
  },
  {
   "cell_type": "code",
   "execution_count": 13,
   "metadata": {},
   "outputs": [],
   "source": [
    "model_dir = Path(model_base_dir)"
   ]
  },
  {
   "cell_type": "code",
   "execution_count": 14,
   "metadata": {},
   "outputs": [],
   "source": [
    "create_tf_session(0)\n",
    "clear_output()"
   ]
  },
  {
   "cell_type": "code",
   "execution_count": 15,
   "metadata": {},
   "outputs": [],
   "source": [
    "model = Ensemble(model_base_dir, n_reps=3)\n",
    "clear_output()"
   ]
  },
  {
   "cell_type": "markdown",
   "metadata": {},
   "source": [
    "# Loading data"
   ]
  },
  {
   "cell_type": "code",
   "execution_count": 16,
   "metadata": {
    "papermill": {
     "duration": 0.18378,
     "end_time": "2019-08-01T09:53:08.162361",
     "exception": false,
     "start_time": "2019-08-01T09:53:07.978581",
     "status": "completed"
    },
    "tags": []
   },
   "outputs": [
    {
     "name": "stdout",
     "output_type": "stream",
     "text": [
      "{\r\n",
      "  \"valid-peaks\": {\r\n",
      "    \"Oct4/profile/binsize=1/auprc\": 0.174503907210406,\r\n",
      "    \"Oct4/profile/binsize=1/random_auprc\": 0.002968693730871131,\r\n",
      "    \"Oct4/profile/binsize=1/n_positives\": 49840,\r\n",
      "    \"Oct4/profile/binsize=1/frac_ambigous\": 0.07240139387999564,\r\n",
      "    \"Oct4/profile/binsize=1/imbalance\": 0.002925521986142981,\r\n",
      "    \"Oct4/profile/binsize=10/auprc\": 0.47671418115881486,\r\n",
      "    \"Oct4/profile/binsize=10/random_auprc\": 0.03541463757849398,\r\n",
      "    \"Oct4/profile/binsize=10/n_positives\": 39957,\r\n",
      "    \"Oct4/profile/binsize=10/frac_ambigous\": 0.3622726777741479,\r\n",
      "    \"Oct4/profile/binsize=10/imbalance\": 0.03411483457844183,\r\n",
      "    \"Oct4/counts/mse\": 0.32489997148513794,\r\n",
      "    \"Oct4/counts/var_explained\": 0.3644736409187317,\r\n",
      "    \"Oct4/counts/pearsonr\": 0.6039534407707656,\r\n",
      "    \"Oct4/counts/spearmanr\": 0.5689491091522799,\r\n",
      "    \"Oct4/counts/mad\": 0.4609355032444,\r\n",
      "    \"Sox2/profile/binsize=1/auprc\": 0.38153955490138125,\r\n",
      "    \"Sox2/profile/binsize=1/random_auprc\": 0.00560025646079356,\r\n",
      "    \"Sox2/profile/binsize=1/n_positives\": 17361,\r\n",
      "    \"Sox2/profile/binsize=1/frac_ambigous\": 0.07147513983840895,\r\n",
      "    \"Sox2/profile/binsize=1/imbalance\": 0.005810254575562928,\r\n",
      "    \"Sox2/profile/binsize=10/auprc\": 0.7557536208705556,\r\n",
      "    \"Sox2/profile/binsize=10/random_auprc\": 0.050202112377567665,\r\n",
      "    \"Sox2/profile/binsize=10/n_positives\": 11596,\r\n",
      "    \"Sox2/profile/binsize=10/frac_ambigous\": 0.3262958359229335,\r\n",
      "    \"Sox2/profile/binsize=10/imbalance\": 0.053487578298692794,\r\n",
      "    \"Sox2/counts/mse\": 0.257840096950531,\r\n",
      "    \"Sox2/counts/var_explained\": 0.34099650382995605,\r\n",
      "    \"Sox2/counts/pearsonr\": 0.5840843933014306,\r\n",
      "    \"Sox2/counts/spearmanr\": 0.5404238864721982,\r\n",
      "    \"Sox2/counts/mad\": 0.4089759886264801,\r\n",
      "    \"Nanog/profile/binsize=1/auprc\": 0.4252083470656009,\r\n",
      "    \"Nanog/profile/binsize=1/random_auprc\": 0.005343811759237785,\r\n",
      "    \"Nanog/profile/binsize=1/n_positives\": 131142,\r\n",
      "    \"Nanog/profile/binsize=1/frac_ambigous\": 0.05829807838371563,\r\n",
      "    \"Nanog/profile/binsize=1/imbalance\": 0.0052886460179792675,\r\n",
      "    \"Nanog/profile/binsize=10/auprc\": 0.7013914968555809,\r\n",
      "    \"Nanog/profile/binsize=10/random_auprc\": 0.039938396082472884,\r\n",
      "    \"Nanog/profile/binsize=10/n_positives\": 78763,\r\n",
      "    \"Nanog/profile/binsize=10/frac_ambigous\": 0.2436434756190187,\r\n",
      "    \"Nanog/profile/binsize=10/imbalance\": 0.03954684536045205,\r\n",
      "    \"Nanog/counts/mse\": 0.7028104066848755,\r\n",
      "    \"Nanog/counts/var_explained\": 0.34698474407196045,\r\n",
      "    \"Nanog/counts/pearsonr\": 0.5892942404393772,\r\n",
      "    \"Nanog/counts/spearmanr\": 0.6021892529769592,\r\n",
      "    \"Nanog/counts/mad\": 0.6937219500541687,\r\n",
      "    \"Klf4/profile/binsize=1/auprc\": 0.13866088309084867,\r\n",
      "    \"Klf4/profile/binsize=1/random_auprc\": 0.0025478945613376484,\r\n",
      "    \"Klf4/profile/binsize=1/n_positives\": 60304,\r\n",
      "    \"Klf4/profile/binsize=1/frac_ambigous\": 0.06384276804989206,\r\n",
      "    \"Klf4/profile/binsize=1/imbalance\": 0.002575219059524909,\r\n",
      "    \"Klf4/profile/binsize=10/auprc\": 0.47551963532945923,\r\n",
      "    \"Klf4/profile/binsize=10/random_auprc\": 0.02712781642176982,\r\n",
      "    \"Klf4/profile/binsize=10/n_positives\": 47021,\r\n",
      "    \"Klf4/profile/binsize=10/frac_ambigous\": 0.3160825937475014,\r\n",
      "    \"Klf4/profile/binsize=10/imbalance\": 0.02748558966208408,\r\n",
      "    \"Klf4/counts/mse\": 0.5483636856079102,\r\n",
      "    \"Klf4/counts/var_explained\": 0.3818194270133972,\r\n",
      "    \"Klf4/counts/pearsonr\": 0.6213806857682154,\r\n",
      "    \"Klf4/counts/spearmanr\": 0.6202081036385403,\r\n",
      "    \"Klf4/counts/mad\": 0.6188161373138428,\r\n",
      "    \"avg/profile/binsize=1/auprc\": 0.2799781730670592,\r\n",
      "    \"avg/profile/binsize=1/random_auprc\": 0.0041151641280600315,\r\n",
      "    \"avg/profile/binsize=1/n_positives\": 64661.75,\r\n",
      "    \"avg/profile/binsize=1/frac_ambigous\": 0.06650434503800307,\r\n",
      "    \"avg/profile/binsize=1/imbalance\": 0.0041499104098025215,\r\n",
      "    \"avg/profile/binsize=10/auprc\": 0.6023447335536026,\r\n",
      "    \"avg/profile/binsize=10/random_auprc\": 0.03817074061507608,\r\n",
      "    \"avg/profile/binsize=10/n_positives\": 44334.25,\r\n",
      "    \"avg/profile/binsize=10/frac_ambigous\": 0.31207364576590035,\r\n",
      "    \"avg/profile/binsize=10/imbalance\": 0.038658711974917694,\r\n",
      "    \"avg/counts/mse\": 0.45847854018211365,\r\n",
      "    \"avg/counts/var_explained\": 0.35856857895851135,\r\n",
      "    \"avg/counts/pearsonr\": 0.5996781900699472,\r\n",
      "    \"avg/counts/spearmanr\": 0.5829425880599943,\r\n",
      "    \"avg/counts/mad\": 0.5456123948097229\r\n",
      "  },\r\n",
      "  \"train-peaks\": {\r\n",
      "    \"Oct4/profile/binsize=1/auprc\": 0.2102868206453925,\r\n",
      "    \"Oct4/profile/binsize=1/random_auprc\": 0.0029527070878147556,\r\n",
      "    \"Oct4/profile/binsize=1/n_positives\": 154052,\r\n",
      "    \"Oct4/profile/binsize=1/frac_ambigous\": 0.07223124730564737,\r\n",
      "    \"Oct4/profile/binsize=1/imbalance\": 0.002982570898981471,\r\n",
      "    \"Oct4/profile/binsize=10/auprc\": 0.5178528808857018,\r\n",
      "    \"Oct4/profile/binsize=10/random_auprc\": 0.033308657628668706,\r\n",
      "    \"Oct4/profile/binsize=10/n_positives\": 120606,\r\n",
      "    \"Oct4/profile/binsize=10/frac_ambigous\": 0.3615508693777842,\r\n",
      "    \"Oct4/profile/binsize=10/imbalance\": 0.03393171343252004,\r\n",
      "    \"Oct4/counts/mse\": 0.3110255300998688,\r\n",
      "    \"Oct4/counts/var_explained\": 0.3745059370994568,\r\n",
      "    \"Oct4/counts/pearsonr\": 0.6126794466117149,\r\n",
      "    \"Oct4/counts/spearmanr\": 0.5698944082259999,\r\n",
      "    \"Oct4/counts/mad\": 0.4494284391403198,\r\n",
      "    \"Sox2/profile/binsize=1/auprc\": 0.4446864833545375,\r\n",
      "    \"Sox2/profile/binsize=1/random_auprc\": 0.0064419508045606855,\r\n",
      "    \"Sox2/profile/binsize=1/n_positives\": 55351,\r\n",
      "    \"Sox2/profile/binsize=1/frac_ambigous\": 0.07063407041648777,\r\n",
      "    \"Sox2/profile/binsize=1/imbalance\": 0.006393066829845738,\r\n",
      "    \"Sox2/profile/binsize=10/auprc\": 0.8093651947072408,\r\n",
      "    \"Sox2/profile/binsize=10/random_auprc\": 0.05671452754144686,\r\n",
      "    \"Sox2/profile/binsize=10/n_positives\": 35561,\r\n",
      "    \"Sox2/profile/binsize=10/frac_ambigous\": 0.31986904250751397,\r\n",
      "    \"Sox2/profile/binsize=10/imbalance\": 0.05612442985432679,\r\n",
      "    \"Sox2/counts/mse\": 0.25067776441574097,\r\n",
      "    \"Sox2/counts/var_explained\": 0.3330099582672119,\r\n",
      "    \"Sox2/counts/pearsonr\": 0.5771318501153297,\r\n",
      "    \"Sox2/counts/spearmanr\": 0.5396412516368724,\r\n",
      "    \"Sox2/counts/mad\": 0.40291571617126465,\r\n",
      "    \"Nanog/profile/binsize=1/auprc\": 0.45204433154678675,\r\n",
      "    \"Nanog/profile/binsize=1/random_auprc\": 0.005396128595434531,\r\n",
      "    \"Nanog/profile/binsize=1/n_positives\": 411441,\r\n",
      "    \"Nanog/profile/binsize=1/frac_ambigous\": 0.058152092850969256,\r\n",
      "    \"Nanog/profile/binsize=1/imbalance\": 0.005393806853993239,\r\n",
      "    \"Nanog/profile/binsize=10/auprc\": 0.7266661488124783,\r\n",
      "    \"Nanog/profile/binsize=10/random_auprc\": 0.040264529325654864,\r\n",
      "    \"Nanog/profile/binsize=10/n_positives\": 247668,\r\n",
      "    \"Nanog/profile/binsize=10/frac_ambigous\": 0.24060291393999259,\r\n",
      "    \"Nanog/profile/binsize=10/imbalance\": 0.04026888195270616,\r\n",
      "    \"Nanog/counts/mse\": 0.6765607595443726,\r\n",
      "    \"Nanog/counts/var_explained\": 0.35717469453811646,\r\n",
      "    \"Nanog/counts/pearsonr\": 0.5986733104747908,\r\n",
      "    \"Nanog/counts/spearmanr\": 0.6013353185362494,\r\n",
      "    \"Nanog/counts/mad\": 0.6822482347488403,\r\n",
      "    \"Klf4/profile/binsize=1/auprc\": 0.15438104245956666,\r\n",
      "    \"Klf4/profile/binsize=1/random_auprc\": 0.0025867352363241575,\r\n",
      "    \"Klf4/profile/binsize=1/n_positives\": 192370,\r\n",
      "    \"Klf4/profile/binsize=1/frac_ambigous\": 0.06433393767274387,\r\n",
      "    \"Klf4/profile/binsize=1/imbalance\": 0.002606649279519673,\r\n",
      "    \"Klf4/profile/binsize=10/auprc\": 0.5087873394331355,\r\n",
      "    \"Klf4/profile/binsize=10/random_auprc\": 0.027420295513022573,\r\n",
      "    \"Klf4/profile/binsize=10/n_positives\": 150069,\r\n",
      "    \"Klf4/profile/binsize=10/frac_ambigous\": 0.31857240662322184,\r\n",
      "    \"Klf4/profile/binsize=10/imbalance\": 0.027921413915439248,\r\n",
      "    \"Klf4/counts/mse\": 0.5285587310791016,\r\n",
      "    \"Klf4/counts/var_explained\": 0.38523656129837036,\r\n",
      "    \"Klf4/counts/pearsonr\": 0.6237245253056076,\r\n",
      "    \"Klf4/counts/spearmanr\": 0.6162512945104137,\r\n",
      "    \"Klf4/counts/mad\": 0.6056191921234131,\r\n",
      "    \"avg/profile/binsize=1/auprc\": 0.31534966950157084,\r\n",
      "    \"avg/profile/binsize=1/random_auprc\": 0.004344380431033533,\r\n",
      "    \"avg/profile/binsize=1/n_positives\": 203303.5,\r\n",
      "    \"avg/profile/binsize=1/frac_ambigous\": 0.06633783706146207,\r\n",
      "    \"avg/profile/binsize=1/imbalance\": 0.00434402346558503,\r\n",
      "    \"avg/profile/binsize=10/auprc\": 0.640667890959639,\r\n",
      "    \"avg/profile/binsize=10/random_auprc\": 0.03942700250219825,\r\n",
      "    \"avg/profile/binsize=10/n_positives\": 138476.0,\r\n",
      "    \"avg/profile/binsize=10/frac_ambigous\": 0.31014880811212814,\r\n",
      "    \"avg/profile/binsize=10/imbalance\": 0.039561609788748064,\r\n",
      "    \"avg/counts/mse\": 0.44170569628477097,\r\n",
      "    \"avg/counts/var_explained\": 0.3624817878007889,\r\n",
      "    \"avg/counts/pearsonr\": 0.6030522831268608,\r\n",
      "    \"avg/counts/spearmanr\": 0.5817805682273838,\r\n",
      "    \"avg/counts/mad\": 0.5350528955459595\r\n",
      "  }\r\n",
      "}"
     ]
    }
   ],
   "source": [
    "!cat {model_base_dir}/0/evaluation.valid.json"
   ]
  },
  {
   "cell_type": "code",
   "execution_count": 17,
   "metadata": {
    "papermill": {
     "duration": 0.028215,
     "end_time": "2019-08-01T09:53:08.235373",
     "exception": false,
     "start_time": "2019-08-01T09:53:08.207158",
     "status": "completed"
    },
    "tags": []
   },
   "outputs": [],
   "source": [
    "gin_config = read_json(os.path.join(model_base_dir, str(0), 'config.gin.json'))"
   ]
  },
  {
   "cell_type": "code",
   "execution_count": 18,
   "metadata": {},
   "outputs": [
    {
     "data": {
      "text/plain": [
       "['Oct4', 'Sox2', 'Nanog', 'Klf4']"
      ]
     },
     "execution_count": 18,
     "metadata": {},
     "output_type": "execute_result"
    }
   ],
   "source": [
    "ds = DataSpec.load(os.path.join(model_base_dir, '0', 'dataspec.yml'))\n",
    "tasks = list(ds.task_specs)\n",
    "tasks"
   ]
  },
  {
   "cell_type": "code",
   "execution_count": 19,
   "metadata": {
    "papermill": {
     "duration": 0.047284,
     "end_time": "2019-08-01T09:53:08.352758",
     "exception": false,
     "start_time": "2019-08-01T09:53:08.305474",
     "status": "completed"
    },
    "tags": []
   },
   "outputs": [],
   "source": [
    "dl_valid = StrandedProfile(ds, \n",
    "                           incl_chromosomes=gin_config['bpnet_data.valid_chr'], \n",
    "                           peak_width=gin_config['bpnet_data.peak_width'],\n",
    "                           seq_width=gin_config['bpnet_data.seq_width'],\n",
    "                           shuffle=False)"
   ]
  },
  {
   "cell_type": "code",
   "execution_count": 20,
   "metadata": {
    "papermill": {
     "duration": 0.107385,
     "end_time": "2019-08-01T09:53:08.501413",
     "exception": false,
     "start_time": "2019-08-01T09:53:08.394028",
     "status": "completed"
    },
    "scrolled": true,
    "tags": []
   },
   "outputs": [
    {
     "name": "stderr",
     "output_type": "stream",
     "text": [
      "100%|██████████| 915/915 [01:54<00:00,  8.01it/s]\n"
     ]
    }
   ],
   "source": [
    "valid = dl_valid.load_all(num_workers=1)"
   ]
  },
  {
   "cell_type": "code",
   "execution_count": 21,
   "metadata": {
    "scrolled": true
   },
   "outputs": [
    {
     "data": {
      "text/plain": [
       "(dict_keys(['seq']),\n",
       " dict_keys(['Oct4/profile', 'Sox2/profile', 'Nanog/profile', 'Klf4/profile', 'Oct4/counts', 'Sox2/counts', 'Nanog/counts', 'Klf4/counts']),\n",
       " {'range': {'chr': array(['chr3', 'chr2', 'chr3', ..., 'chr3', 'chr4', 'chr4'], dtype='<U4'),\n",
       "   'start': array([122145078,  52071743,  96334135, ...,   3672964, 127020434,\n",
       "          124905354]),\n",
       "   'end': array([122146078,  52072743,  96335135, ...,   3673964, 127021434,\n",
       "          124906354]),\n",
       "   'id': array([    0,     1,     2, ..., 29274, 29275, 29276]),\n",
       "   'strand': array(['.', '.', '.', ..., '.', '.', '.'], dtype='<U1')},\n",
       "  'interval_from_task': array(['Oct4', 'Oct4', 'Oct4', ..., 'Klf4', 'Klf4', 'Klf4'], dtype='<U5')})"
      ]
     },
     "execution_count": 21,
     "metadata": {},
     "output_type": "execute_result"
    }
   ],
   "source": [
    "valid['inputs'].keys(), valid['targets'].keys(), valid['metadata']"
   ]
  },
  {
   "cell_type": "markdown",
   "metadata": {},
   "source": [
    "## Predictions and in-silico mutagenesis"
   ]
  },
  {
   "cell_type": "code",
   "execution_count": 22,
   "metadata": {},
   "outputs": [],
   "source": [
    "EXPOSURE_COL = f'{exposure_name}/counts'\n",
    "OUTCOME_COL = f'{outcome_name}/counts'"
   ]
  },
  {
   "cell_type": "code",
   "execution_count": 23,
   "metadata": {},
   "outputs": [
    {
     "data": {
      "text/plain": [
       "(2, 1000, 4)"
      ]
     },
     "execution_count": 23,
     "metadata": {},
     "output_type": "execute_result"
    }
   ],
   "source": [
    "sample_seqs = valid['inputs']['seq'][0:2]\n",
    "sample_seqs.shape"
   ]
  },
  {
   "cell_type": "code",
   "execution_count": 25,
   "metadata": {},
   "outputs": [],
   "source": [
    "n_seqs = sample_seqs.shape\n",
    "preds = {}\n",
    "for seq in sample_seqs:\n",
    "    muts = generate_wt_mut_batches(seq.T, seq.shape[0] * seq.shape[1]).squeeze()\n",
    "    preds_ = model.predict(muts.transpose(0, 2, 1))\n",
    "    for key, value in preds_.items():\n",
    "        if key in (EXPOSURE_COL, OUTCOME_COL):\n",
    "            preds.setdefault(key, []).append(preds_[key])"
   ]
  },
  {
   "cell_type": "code",
   "execution_count": 26,
   "metadata": {},
   "outputs": [
    {
     "data": {
      "text/plain": [
       "(3, 2, 4, 1000, 2)"
      ]
     },
     "execution_count": 26,
     "metadata": {},
     "output_type": "execute_result"
    }
   ],
   "source": [
    "alphabet_size = 4\n",
    "formatted_preds = np.stack((preds[EXPOSURE_COL], preds[OUTCOME_COL]))\n",
    "n_features, n_seqs, n_reps, n_variants = formatted_preds.shape\n",
    "formatted_preds = formatted_preds.reshape((n_reps, n_seqs, alphabet_size, -1, n_features))\n",
    "formatted_preds.shape"
   ]
  },
  {
   "cell_type": "code",
   "execution_count": 27,
   "metadata": {},
   "outputs": [
    {
     "data": {
      "application/vnd.jupyter.widget-view+json": {
       "model_id": "98cee0399cd047fb9d1852a8745d4c11",
       "version_major": 2,
       "version_minor": 0
      },
      "text/plain": [
       "HBox(children=(FloatProgress(value=0.0, max=2.0), HTML(value='')))"
      ]
     },
     "metadata": {},
     "output_type": "display_data"
    },
    {
     "name": "stdout",
     "output_type": "stream",
     "text": [
      "\n"
     ]
    },
    {
     "name": "stderr",
     "output_type": "stream",
     "text": [
      "/home/stephenmalina/project/src/in_silico_mutagenesis.py:168: RuntimeWarning: invalid value encountered in sqrt\n",
      "  stderrs = np.sqrt(ref_vars + mut_vars - 2 * covs)\n"
     ]
    }
   ],
   "source": [
    "means, mean_diffs, stderrs = compute_summary_statistics(formatted_preds, sample_seqs.transpose(0, 2, 1))"
   ]
  },
  {
   "cell_type": "code",
   "execution_count": 28,
   "metadata": {},
   "outputs": [
    {
     "data": {
      "text/plain": [
       "(6.4399824, 7.166176)"
      ]
     },
     "execution_count": 28,
     "metadata": {},
     "output_type": "execute_result"
    }
   ],
   "source": [
    "np.mean(means), np.max(means)"
   ]
  },
  {
   "cell_type": "code",
   "execution_count": 29,
   "metadata": {
    "scrolled": true
   },
   "outputs": [],
   "source": [
    "results_fpath = os.path.join(output_dir, results_fname)\n",
    "write_results(results_fpath, mean_diffs, stderrs)"
   ]
  },
  {
   "cell_type": "code",
   "execution_count": 30,
   "metadata": {},
   "outputs": [
    {
     "data": {
      "text/plain": [
       "'/home/stephenmalina/dev/an1lam/deepmr/dat/res-bpnet-2020-09-21-27-21/Sox2_Nanog_effect_sizes.csv'"
      ]
     },
     "execution_count": 30,
     "metadata": {},
     "output_type": "execute_result"
    }
   ],
   "source": [
    "results_fpath"
   ]
  }
 ],
 "metadata": {
  "kernelspec": {
   "display_name": "Python 3",
   "language": "python",
   "name": "python3"
  },
  "language_info": {
   "codemirror_mode": {
    "name": "ipython",
    "version": 3
   },
   "file_extension": ".py",
   "mimetype": "text/x-python",
   "name": "python",
   "nbconvert_exporter": "python",
   "pygments_lexer": "ipython3",
   "version": "3.7.6"
  }
 },
 "nbformat": 4,
 "nbformat_minor": 4
}
