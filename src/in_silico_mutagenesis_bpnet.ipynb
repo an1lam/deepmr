{
 "cells": [
  {
   "cell_type": "markdown",
   "metadata": {},
   "source": [
    "## Imports and model initialization"
   ]
  },
  {
   "cell_type": "code",
   "execution_count": 22,
   "metadata": {},
   "outputs": [
    {
     "name": "stdout",
     "output_type": "stream",
     "text": [
      "The autoreload extension is already loaded. To reload it, use:\n",
      "  %reload_ext autoreload\n"
     ]
    }
   ],
   "source": [
    "%load_ext autoreload\n",
    "%autoreload 2\n",
    "\n",
    "import csv\n",
    "from datetime import datetime\n",
    "import math\n",
    "import os\n",
    "from pathlib import Path\n",
    "import pickle\n",
    "\n",
    "import kipoi\n",
    "from kipoiseq.dataloaders import SeqIntervalDl\n",
    "from IPython.display import clear_output\n",
    "from matplotlib import pyplot as plt\n",
    "import numpy as np\n",
    "import pandas as pd\n",
    "from tqdm.notebook import tqdm\n",
    "from utils import detect_device\n",
    "\n",
    "import bpnet\n",
    "from bpnet.datasets import StrandedProfile\n",
    "from bpnet.dataspecs import DataSpec, TaskSpec\n",
    "from bpnet.utils import create_tf_session\n",
    "from bpnet.utils import read_json\n",
    "from bpnet.seqmodel import SeqModel\n",
    "from bpnet.plot.evaluate import plot_loss, regression_eval\n",
    "\n",
    "from in_silico_mutagenesis import compute_summary_statistics, generate_wt_mut_batches, write_results"
   ]
  },
  {
   "cell_type": "code",
   "execution_count": 2,
   "metadata": {},
   "outputs": [
    {
     "name": "stdout",
     "output_type": "stream",
     "text": [
      "/home/stephenmalina/dev/an1lam/deepmr/src\r\n"
     ]
    }
   ],
   "source": [
    "!pwd"
   ]
  },
  {
   "cell_type": "code",
   "execution_count": 25,
   "metadata": {},
   "outputs": [],
   "source": [
    "timestamp = datetime.now().strftime('%Y-%m-%H-%M-%S')\n",
    "output_dir = f'/home/stephenmalina/dev/an1lam/deepmr/dat/res-bpnet-{timestamp}'\n",
    "exposure_name = 'Sox2'\n",
    "outcome_name = 'Nanog'\n",
    "\n",
    "results_fname = f'{exposure_name}_{outcome_name}_effect_sizes.csv'"
   ]
  },
  {
   "cell_type": "code",
   "execution_count": 28,
   "metadata": {},
   "outputs": [],
   "source": [
    "os.makedirs(output_dir, exist_ok=True)"
   ]
  },
  {
   "cell_type": "markdown",
   "metadata": {},
   "source": [
    "# Loading BPNet"
   ]
  },
  {
   "cell_type": "code",
   "execution_count": 4,
   "metadata": {},
   "outputs": [],
   "source": [
    "class Ensemble:\n",
    "    def __init__(self, model_base_dir, n_reps=5):\n",
    "        models = []\n",
    "        for i in range(n_reps):\n",
    "            models.append(SeqModel.from_mdir(os.path.join(model_base_dir, str(i))))\n",
    "        self.models = models\n",
    "\n",
    "    def predict(self, seqs):\n",
    "        preds = {}\n",
    "        for model in self.models:\n",
    "            model_preds = model.predict(seqs)\n",
    "            for key, preds_ in model_preds.items():\n",
    "                preds.setdefault(key, []).append(preds_.mean(-1))\n",
    "        return {k: np.stack(v) for k, v in preds.items()}"
   ]
  },
  {
   "cell_type": "code",
   "execution_count": 5,
   "metadata": {},
   "outputs": [],
   "source": [
    "model_base_dir = \"./bpnet/examples/chip-nexus/output_ensemble\""
   ]
  },
  {
   "cell_type": "code",
   "execution_count": 6,
   "metadata": {},
   "outputs": [],
   "source": [
    "model_dir = Path(model_base_dir)"
   ]
  },
  {
   "cell_type": "code",
   "execution_count": 7,
   "metadata": {},
   "outputs": [],
   "source": [
    "create_tf_session(0)\n",
    "clear_output()"
   ]
  },
  {
   "cell_type": "code",
   "execution_count": 8,
   "metadata": {},
   "outputs": [],
   "source": [
    "model = Ensemble(model_base_dir, n_reps=3)\n",
    "clear_output()"
   ]
  },
  {
   "cell_type": "markdown",
   "metadata": {},
   "source": [
    "# Loading data"
   ]
  },
  {
   "cell_type": "code",
   "execution_count": 9,
   "metadata": {
    "papermill": {
     "duration": 0.18378,
     "end_time": "2019-08-01T09:53:08.162361",
     "exception": false,
     "start_time": "2019-08-01T09:53:07.978581",
     "status": "completed"
    },
    "tags": []
   },
   "outputs": [
    {
     "name": "stdout",
     "output_type": "stream",
     "text": [
      "{\r\n",
      "  \"valid-peaks\": {\r\n",
      "    \"Oct4/profile/binsize=1/auprc\": 0.2988962008129486,\r\n",
      "    \"Oct4/profile/binsize=1/random_auprc\": 0.10733649347249394,\r\n",
      "    \"Oct4/profile/binsize=1/n_positives\": 17906,\r\n",
      "    \"Oct4/profile/binsize=1/frac_ambigous\": 0.2969518272425249,\r\n",
      "    \"Oct4/profile/binsize=1/imbalance\": 0.10576866279962668,\r\n",
      "    \"Oct4/profile/binsize=10/auprc\": 0.8636563781189565,\r\n",
      "    \"Oct4/profile/binsize=10/random_auprc\": 0.7731474464412409,\r\n",
      "    \"Oct4/profile/binsize=10/n_positives\": 9216,\r\n",
      "    \"Oct4/profile/binsize=10/frac_ambigous\": 0.5080564784053156,\r\n",
      "    \"Oct4/profile/binsize=10/imbalance\": 0.7779841296640216,\r\n",
      "    \"Oct4/counts/mse\": 1.327919840812683,\r\n",
      "    \"Oct4/counts/var_explained\": -0.6340404748916626,\r\n",
      "    \"Oct4/counts/pearsonr\": -0.019652674369757955,\r\n",
      "    \"Oct4/counts/spearmanr\": -0.0273016972445214,\r\n",
      "    \"Oct4/counts/mad\": 0.9159870743751526,\r\n",
      "    \"Sox2/profile/binsize=1/auprc\": 0.2922871596759037,\r\n",
      "    \"Sox2/profile/binsize=1/random_auprc\": 0.10754282518904301,\r\n",
      "    \"Sox2/profile/binsize=1/n_positives\": 3470,\r\n",
      "    \"Sox2/profile/binsize=1/frac_ambigous\": 0.2693805309734513,\r\n",
      "    \"Sox2/profile/binsize=1/imbalance\": 0.10507509689922481,\r\n",
      "    \"Sox2/profile/binsize=10/auprc\": 0.8609991793483124,\r\n",
      "    \"Sox2/profile/binsize=10/random_auprc\": 0.7458903553073748,\r\n",
      "    \"Sox2/profile/binsize=10/n_positives\": 1704,\r\n",
      "    \"Sox2/profile/binsize=10/frac_ambigous\": 0.4915929203539823,\r\n",
      "    \"Sox2/profile/binsize=10/imbalance\": 0.741514360313316,\r\n",
      "    \"Sox2/counts/mse\": 1.073368787765503,\r\n",
      "    \"Sox2/counts/var_explained\": -0.6227999925613403,\r\n",
      "    \"Sox2/counts/pearsonr\": 0.004655682386133356,\r\n",
      "    \"Sox2/counts/spearmanr\": 0.001878727183986599,\r\n",
      "    \"Sox2/counts/mad\": 0.8169804811477661,\r\n",
      "    \"Nanog/profile/binsize=1/auprc\": 0.40842991662912564,\r\n",
      "    \"Nanog/profile/binsize=1/random_auprc\": 0.09705487632404725,\r\n",
      "    \"Nanog/profile/binsize=1/n_positives\": 57465,\r\n",
      "    \"Nanog/profile/binsize=1/frac_ambigous\": 0.2758068914229053,\r\n",
      "    \"Nanog/profile/binsize=1/imbalance\": 0.09835198595191681,\r\n",
      "    \"Nanog/profile/binsize=10/auprc\": 0.8426228684494825,\r\n",
      "    \"Nanog/profile/binsize=10/random_auprc\": 0.6240571464453599,\r\n",
      "    \"Nanog/profile/binsize=10/n_positives\": 25238,\r\n",
      "    \"Nanog/profile/binsize=10/frac_ambigous\": 0.5023673772930094,\r\n",
      "    \"Nanog/profile/binsize=10/imbalance\": 0.6286084335848963,\r\n",
      "    \"Nanog/counts/mse\": 1.2564927339553833,\r\n",
      "    \"Nanog/counts/var_explained\": -0.03841090202331543,\r\n",
      "    \"Nanog/counts/pearsonr\": 0.10031312083476418,\r\n",
      "    \"Nanog/counts/spearmanr\": 0.10489126484106259,\r\n",
      "    \"Nanog/counts/mad\": 0.895474910736084,\r\n",
      "    \"avg/profile/binsize=1/auprc\": 0.3332044257059927,\r\n",
      "    \"avg/profile/binsize=1/random_auprc\": 0.10397806499519473,\r\n",
      "    \"avg/profile/binsize=1/n_positives\": 26280.333333333332,\r\n",
      "    \"avg/profile/binsize=1/frac_ambigous\": 0.2807130832129605,\r\n",
      "    \"avg/profile/binsize=1/imbalance\": 0.1030652485502561,\r\n",
      "    \"avg/profile/binsize=10/auprc\": 0.8557594753055838,\r\n",
      "    \"avg/profile/binsize=10/random_auprc\": 0.7143649827313251,\r\n",
      "    \"avg/profile/binsize=10/n_positives\": 12052.666666666666,\r\n",
      "    \"avg/profile/binsize=10/frac_ambigous\": 0.5006722586841025,\r\n",
      "    \"avg/profile/binsize=10/imbalance\": 0.7160356411874114,\r\n",
      "    \"avg/counts/mse\": 1.2192604541778564,\r\n",
      "    \"avg/counts/var_explained\": -0.43175045649210614,\r\n",
      "    \"avg/counts/pearsonr\": 0.028438709617046528,\r\n",
      "    \"avg/counts/spearmanr\": 0.026489431593509263,\r\n",
      "    \"avg/counts/mad\": 0.8761474887530009\r\n",
      "  },\r\n",
      "  \"train-peaks\": {\r\n",
      "    \"Oct4/profile/binsize=1/auprc\": 0.317486924813732,\r\n",
      "    \"Oct4/profile/binsize=1/random_auprc\": 0.10723220463455456,\r\n",
      "    \"Oct4/profile/binsize=1/n_positives\": 31016,\r\n",
      "    \"Oct4/profile/binsize=1/frac_ambigous\": 0.28878411306042884,\r\n",
      "    \"Oct4/profile/binsize=1/imbalance\": 0.10626175556644271,\r\n",
      "    \"Oct4/profile/binsize=10/auprc\": 0.8672021894110904,\r\n",
      "    \"Oct4/profile/binsize=10/random_auprc\": 0.7719042568558523,\r\n",
      "    \"Oct4/profile/binsize=10/n_positives\": 16006,\r\n",
      "    \"Oct4/profile/binsize=10/frac_ambigous\": 0.4898879142300195,\r\n",
      "    \"Oct4/profile/binsize=10/imbalance\": 0.7645569620253164,\r\n",
      "    \"Oct4/counts/mse\": 1.314080834388733,\r\n",
      "    \"Oct4/counts/var_explained\": -0.6092433929443359,\r\n",
      "    \"Oct4/counts/pearsonr\": 0.0009174701026116456,\r\n",
      "    \"Oct4/counts/spearmanr\": -0.0046411530288760754,\r\n",
      "    \"Oct4/counts/mad\": 0.9099333882331848,\r\n",
      "    \"Sox2/profile/binsize=1/auprc\": 0.2751197809980203,\r\n",
      "    \"Sox2/profile/binsize=1/random_auprc\": 0.10600288412584767,\r\n",
      "    \"Sox2/profile/binsize=1/n_positives\": 5925,\r\n",
      "    \"Sox2/profile/binsize=1/frac_ambigous\": 0.26772368421052634,\r\n",
      "    \"Sox2/profile/binsize=1/imbalance\": 0.10646326343593338,\r\n",
      "    \"Sox2/profile/binsize=10/auprc\": 0.8311966310552168,\r\n",
      "    \"Sox2/profile/binsize=10/random_auprc\": 0.7122890444167542,\r\n",
      "    \"Sox2/profile/binsize=10/n_positives\": 2720,\r\n",
      "    \"Sox2/profile/binsize=10/frac_ambigous\": 0.4994736842105263,\r\n",
      "    \"Sox2/profile/binsize=10/imbalance\": 0.7150368033648791,\r\n",
      "    \"Sox2/counts/mse\": 1.1604554653167725,\r\n",
      "    \"Sox2/counts/var_explained\": -0.662764310836792,\r\n",
      "    \"Sox2/counts/pearsonr\": -0.01594041476474285,\r\n",
      "    \"Sox2/counts/spearmanr\": -0.022924872982581702,\r\n",
      "    \"Sox2/counts/mad\": 0.8489383459091187,\r\n",
      "    \"Nanog/profile/binsize=1/auprc\": 0.4194768337574059,\r\n",
      "    \"Nanog/profile/binsize=1/random_auprc\": 0.0986660005271532,\r\n",
      "    \"Nanog/profile/binsize=1/n_positives\": 101172,\r\n",
      "    \"Nanog/profile/binsize=1/frac_ambigous\": 0.27236382978723406,\r\n",
      "    \"Nanog/profile/binsize=1/imbalance\": 0.09861135884487512,\r\n",
      "    \"Nanog/profile/binsize=10/auprc\": 0.8417315638714877,\r\n",
      "    \"Nanog/profile/binsize=10/random_auprc\": 0.622100867687084,\r\n",
      "    \"Nanog/profile/binsize=10/n_positives\": 44115,\r\n",
      "    \"Nanog/profile/binsize=10/frac_ambigous\": 0.49650354609929076,\r\n",
      "    \"Nanog/profile/binsize=10/imbalance\": 0.6213992928880312,\r\n",
      "    \"Nanog/counts/mse\": 1.2833539247512817,\r\n",
      "    \"Nanog/counts/var_explained\": -0.03694581985473633,\r\n",
      "    \"Nanog/counts/pearsonr\": 0.11953721256631548,\r\n",
      "    \"Nanog/counts/spearmanr\": 0.1255047587174529,\r\n",
      "    \"Nanog/counts/mad\": 0.9111825823783875,\r\n",
      "    \"avg/profile/binsize=1/auprc\": 0.3373611798563861,\r\n",
      "    \"avg/profile/binsize=1/random_auprc\": 0.10396702976251848,\r\n",
      "    \"avg/profile/binsize=1/n_positives\": 46037.666666666664,\r\n",
      "    \"avg/profile/binsize=1/frac_ambigous\": 0.2762905423527297,\r\n",
      "    \"avg/profile/binsize=1/imbalance\": 0.1037787926157504,\r\n",
      "    \"avg/profile/binsize=10/auprc\": 0.8467101281125983,\r\n",
      "    \"avg/profile/binsize=10/random_auprc\": 0.7020980563198967,\r\n",
      "    \"avg/profile/binsize=10/n_positives\": 20947.0,\r\n",
      "    \"avg/profile/binsize=10/frac_ambigous\": 0.49528838151327886,\r\n",
      "    \"avg/profile/binsize=10/imbalance\": 0.7003310194260756,\r\n",
      "    \"avg/counts/mse\": 1.252630074818929,\r\n",
      "    \"avg/counts/var_explained\": -0.43631784121195477,\r\n",
      "    \"avg/counts/pearsonr\": 0.03483808930139476,\r\n",
      "    \"avg/counts/spearmanr\": 0.03264624423533171,\r\n",
      "    \"avg/counts/mad\": 0.890018105506897\r\n",
      "  }\r\n",
      "}"
     ]
    }
   ],
   "source": [
    "!cat {model_base_dir}/0/evaluation.valid.json"
   ]
  },
  {
   "cell_type": "code",
   "execution_count": 10,
   "metadata": {
    "papermill": {
     "duration": 0.028215,
     "end_time": "2019-08-01T09:53:08.235373",
     "exception": false,
     "start_time": "2019-08-01T09:53:08.207158",
     "status": "completed"
    },
    "tags": []
   },
   "outputs": [],
   "source": [
    "gin_config = read_json(os.path.join(model_base_dir, str(0), 'config.gin.json'))"
   ]
  },
  {
   "cell_type": "code",
   "execution_count": 11,
   "metadata": {},
   "outputs": [
    {
     "data": {
      "text/plain": [
       "['Oct4', 'Sox2', 'Nanog']"
      ]
     },
     "execution_count": 11,
     "metadata": {},
     "output_type": "execute_result"
    }
   ],
   "source": [
    "ds = DataSpec.load(os.path.join(model_base_dir, '0', 'dataspec.yml'))\n",
    "tasks = list(ds.task_specs)\n",
    "tasks"
   ]
  },
  {
   "cell_type": "code",
   "execution_count": 12,
   "metadata": {
    "papermill": {
     "duration": 0.047284,
     "end_time": "2019-08-01T09:53:08.352758",
     "exception": false,
     "start_time": "2019-08-01T09:53:08.305474",
     "status": "completed"
    },
    "tags": []
   },
   "outputs": [],
   "source": [
    "dl_valid = StrandedProfile(ds, \n",
    "                           incl_chromosomes=gin_config['bpnet_data.valid_chr'], \n",
    "                           peak_width=gin_config['bpnet_data.peak_width'],\n",
    "                           seq_width=gin_config['bpnet_data.seq_width'],\n",
    "                           shuffle=False)"
   ]
  },
  {
   "cell_type": "code",
   "execution_count": 13,
   "metadata": {
    "papermill": {
     "duration": 0.107385,
     "end_time": "2019-08-01T09:53:08.501413",
     "exception": false,
     "start_time": "2019-08-01T09:53:08.394028",
     "status": "completed"
    },
    "scrolled": true,
    "tags": []
   },
   "outputs": [
    {
     "name": "stderr",
     "output_type": "stream",
     "text": [
      "100%|██████████| 221/221 [00:09<00:00, 24.01it/s]\n"
     ]
    }
   ],
   "source": [
    "valid = dl_valid.load_all(num_workers=1)"
   ]
  },
  {
   "cell_type": "code",
   "execution_count": 14,
   "metadata": {
    "scrolled": true
   },
   "outputs": [
    {
     "data": {
      "text/plain": [
       "(dict_keys(['seq']),\n",
       " dict_keys(['Oct4/profile', 'Sox2/profile', 'Nanog/profile', 'Oct4/counts', 'Sox2/counts', 'Nanog/counts']),\n",
       " {'range': {'chr': array(['chr2', 'chr2', 'chr2', ..., 'chr2', 'chr2', 'chr2'], dtype='<U4'),\n",
       "   'start': array([ 52072143,  27539745, 119046676, ...,  72287298,  10272211,\n",
       "          171629019]),\n",
       "   'end': array([ 52072343,  27539945, 119046876, ...,  72287498,  10272411,\n",
       "          171629219]),\n",
       "   'id': array([   0,    1,    2, ..., 7062, 7063, 7064]),\n",
       "   'strand': array(['.', '.', '.', ..., '.', '.', '.'], dtype='<U1')},\n",
       "  'interval_from_task': array(['Oct4', 'Oct4', 'Oct4', ..., 'Nanog', 'Nanog', 'Nanog'],\n",
       "        dtype='<U5')})"
      ]
     },
     "execution_count": 14,
     "metadata": {},
     "output_type": "execute_result"
    }
   ],
   "source": [
    "valid['inputs'].keys(), valid['targets'].keys(), valid['metadata']"
   ]
  },
  {
   "cell_type": "markdown",
   "metadata": {},
   "source": [
    "## Predictions and in-silico mutagenesis"
   ]
  },
  {
   "cell_type": "code",
   "execution_count": 15,
   "metadata": {},
   "outputs": [],
   "source": [
    "EXPOSURE_COL = f'{exposure_name}/counts'\n",
    "OUTCOME_COL = f'{outcome_name}/counts'"
   ]
  },
  {
   "cell_type": "code",
   "execution_count": 16,
   "metadata": {},
   "outputs": [
    {
     "data": {
      "text/plain": [
       "(2, 200, 4)"
      ]
     },
     "execution_count": 16,
     "metadata": {},
     "output_type": "execute_result"
    }
   ],
   "source": [
    "sample_seqs = valid['inputs']['seq'][0:2]\n",
    "sample_seqs.shape"
   ]
  },
  {
   "cell_type": "code",
   "execution_count": 17,
   "metadata": {},
   "outputs": [
    {
     "name": "stdout",
     "output_type": "stream",
     "text": [
      "(800,)\n",
      "(800,)\n"
     ]
    }
   ],
   "source": [
    "n_seqs = sample_seqs.shape\n",
    "preds = {}\n",
    "for seq in sample_seqs:\n",
    "    muts = generate_wt_mut_batches(seq.T, seq.shape[0] * seq.shape[1]).squeeze()\n",
    "    preds_ = model.predict(muts.transpose(0, 2, 1))\n",
    "    for key, value in preds_.items():\n",
    "        if key in (EXPOSURE_COL, OUTCOME_COL):\n",
    "            preds.setdefault(key, []).append(preds_[key])"
   ]
  },
  {
   "cell_type": "code",
   "execution_count": 18,
   "metadata": {},
   "outputs": [
    {
     "data": {
      "text/plain": [
       "(3, 2, 4, 200, 2)"
      ]
     },
     "execution_count": 18,
     "metadata": {},
     "output_type": "execute_result"
    }
   ],
   "source": [
    "alphabet_size = 4\n",
    "formatted_preds = np.stack((preds[EXPOSURE_COL], preds[OUTCOME_COL]))\n",
    "n_features, n_seqs, n_reps, n_variants = formatted_preds.shape\n",
    "formatted_preds = formatted_preds.reshape((n_reps, n_seqs, alphabet_size, -1, n_features))\n",
    "formatted_preds.shape"
   ]
  },
  {
   "cell_type": "code",
   "execution_count": 19,
   "metadata": {},
   "outputs": [
    {
     "data": {
      "application/vnd.jupyter.widget-view+json": {
       "model_id": "b356897665e445d584ba262046d61287",
       "version_major": 2,
       "version_minor": 0
      },
      "text/plain": [
       "HBox(children=(FloatProgress(value=0.0, max=2.0), HTML(value='')))"
      ]
     },
     "metadata": {},
     "output_type": "display_data"
    },
    {
     "name": "stdout",
     "output_type": "stream",
     "text": [
      "\n"
     ]
    },
    {
     "name": "stderr",
     "output_type": "stream",
     "text": [
      "/home/stephenmalina/dev/an1lam/deepmr/src/in_silico_mutagenesis.py:168: RuntimeWarning: invalid value encountered in sqrt\n",
      "  stderrs = np.sqrt(ref_vars + mut_vars - 2 * covs)\n"
     ]
    }
   ],
   "source": [
    "means, mean_diffs, stderrs = compute_summary_statistics(formatted_preds, sample_seqs.transpose(0, 2, 1))"
   ]
  },
  {
   "cell_type": "code",
   "execution_count": 31,
   "metadata": {},
   "outputs": [
    {
     "data": {
      "text/plain": [
       "(4.7667036, 5.064296)"
      ]
     },
     "execution_count": 31,
     "metadata": {},
     "output_type": "execute_result"
    }
   ],
   "source": [
    "np.mean(means), np.max(means)"
   ]
  },
  {
   "cell_type": "code",
   "execution_count": 29,
   "metadata": {
    "scrolled": true
   },
   "outputs": [],
   "source": [
    "results_fpath = os.path.join(output_dir, results_fname)\n",
    "write_results(results_fpath, mean_diffs, stderrs)"
   ]
  }
 ],
 "metadata": {
  "kernelspec": {
   "display_name": "Python 3",
   "language": "python",
   "name": "python3"
  },
  "language_info": {
   "codemirror_mode": {
    "name": "ipython",
    "version": 3
   },
   "file_extension": ".py",
   "mimetype": "text/x-python",
   "name": "python",
   "nbconvert_exporter": "python",
   "pygments_lexer": "ipython3",
   "version": "3.7.4"
  }
 },
 "nbformat": 4,
 "nbformat_minor": 4
}
