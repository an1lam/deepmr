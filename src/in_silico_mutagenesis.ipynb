{
 "cells": [
  {
   "cell_type": "markdown",
   "metadata": {},
   "source": [
    "## Imports and model initialization"
   ]
  },
  {
   "cell_type": "code",
   "execution_count": 1,
   "metadata": {},
   "outputs": [],
   "source": [
    "# !pip install kipoi\n",
    "# !pip install kipoiseq\n",
    "# !pip install pybedtools\n",
    "# !pip uninstall -y kipoi_veff\n",
    "# !pip install git+https://github.com/an1lam/kipoi-veff\n",
    "# !pip install pyvcf\n",
    "import csv\n",
    "import math\n",
    "import pickle\n",
    "\n",
    "import kipoi\n",
    "from kipoi_interpret.importance_scores.ism import Mutation\n",
    "from kipoiseq.dataloaders import SeqIntervalDl\n",
    "from matplotlib import pyplot as plt\n",
    "import numpy as np\n",
    "from tqdm.notebook import tqdm\n",
    "from utils import detect_device\n",
    "\n",
    "from custom_dropout import apply_dropout, replace_dropout_layers, unapply_dropout\n",
    "from custom_dropout import LockedWeightDropout"
   ]
  },
  {
   "cell_type": "code",
   "execution_count": 2,
   "metadata": {},
   "outputs": [
    {
     "name": "stdout",
     "output_type": "stream",
     "text": [
      "/home/stephenmalina/project/src\r\n"
     ]
    }
   ],
   "source": [
    "!pwd"
   ]
  },
  {
   "cell_type": "markdown",
   "metadata": {},
   "source": [
    "# Loading DNA sequence data"
   ]
  },
  {
   "cell_type": "code",
   "execution_count": 3,
   "metadata": {},
   "outputs": [
    {
     "name": "stderr",
     "output_type": "stream",
     "text": [
      "100%|██████████| 2/2 [00:00<00:00,  2.22it/s]\n"
     ]
    }
   ],
   "source": [
    "dl = SeqIntervalDl(\"../dat/50_random_seqs_2.bed\", \"../dat/hg19.fa\", auto_resize_len=1000)\n",
    "data = dl.load_all()"
   ]
  },
  {
   "cell_type": "code",
   "execution_count": 4,
   "metadata": {},
   "outputs": [
    {
     "data": {
      "text/plain": [
       "(25, 4, 1, 1000)"
      ]
     },
     "execution_count": 4,
     "metadata": {},
     "output_type": "execute_result"
    }
   ],
   "source": [
    "n_seqs = 25\n",
    "seqs = np.expand_dims(data['inputs'].transpose(0, 2, 1), 2).astype(np.float32)\n",
    "seqs = seqs[:n_seqs]\n",
    "seqs.shape"
   ]
  },
  {
   "cell_type": "markdown",
   "metadata": {},
   "source": [
    "# Loading DeepSEA"
   ]
  },
  {
   "cell_type": "code",
   "execution_count": 5,
   "metadata": {},
   "outputs": [
    {
     "name": "stdout",
     "output_type": "stream",
     "text": [
      "TF version: 1.15.0\n",
      "torch version: 1.3.1\n"
     ]
    }
   ],
   "source": [
    "import tensorflow as tf\n",
    "print(\"TF version:\", tf.__version__)\n",
    "import torch\n",
    "print(\"torch version:\", torch.__version__)\n",
    "from torch import nn"
   ]
  },
  {
   "cell_type": "code",
   "execution_count": 6,
   "metadata": {},
   "outputs": [],
   "source": [
    "# df = kipoi.list_models()\n",
    "# deepsea_models = df[df.model.str.contains(\"DeepSEA\")]\n",
    "# deepsea_models.head()"
   ]
  },
  {
   "cell_type": "code",
   "execution_count": 7,
   "metadata": {},
   "outputs": [
    {
     "name": "stdout",
     "output_type": "stream",
     "text": [
      "Using downloaded and verified file: /home/stephenmalina/.kipoi/models/DeepSEA/predict/downloaded/model_files/weights/89e640bf6bdbe1ff165f484d9796efc7\n"
     ]
    },
    {
     "data": {
      "text/plain": [
       "Sequential(\n",
       "  (0): ReCodeAlphabet()\n",
       "  (1): ConcatenateRC()\n",
       "  (2): Sequential(\n",
       "    (0): Conv2d(4, 320, kernel_size=(1, 8), stride=(1, 1))\n",
       "    (1): Threshold(threshold=0, value=1e-06)\n",
       "    (2): MaxPool2d(kernel_size=(1, 4), stride=(1, 4), padding=0, dilation=1, ceil_mode=False)\n",
       "    (3): Dropout(p=0.2, inplace=False)\n",
       "    (4): Conv2d(320, 480, kernel_size=(1, 8), stride=(1, 1))\n",
       "    (5): Threshold(threshold=0, value=1e-06)\n",
       "    (6): MaxPool2d(kernel_size=(1, 4), stride=(1, 4), padding=0, dilation=1, ceil_mode=False)\n",
       "    (7): Dropout(p=0.2, inplace=False)\n",
       "    (8): Conv2d(480, 960, kernel_size=(1, 8), stride=(1, 1))\n",
       "    (9): Threshold(threshold=0, value=1e-06)\n",
       "    (10): Dropout(p=0.5, inplace=False)\n",
       "    (11): Lambda()\n",
       "    (12): Sequential(\n",
       "      (0): Lambda()\n",
       "      (1): Linear(in_features=50880, out_features=925, bias=True)\n",
       "    )\n",
       "    (13): Threshold(threshold=0, value=1e-06)\n",
       "    (14): Sequential(\n",
       "      (0): Lambda()\n",
       "      (1): Linear(in_features=925, out_features=919, bias=True)\n",
       "    )\n",
       "    (15): Sigmoid()\n",
       "  )\n",
       "  (3): AverageRC()\n",
       ")"
      ]
     },
     "execution_count": 7,
     "metadata": {},
     "output_type": "execute_result"
    }
   ],
   "source": [
    "deepsea = kipoi.get_model(\"DeepSEA/predict\", source=\"kipoi\")\n",
    "deepsea.model"
   ]
  },
  {
   "cell_type": "code",
   "execution_count": 8,
   "metadata": {
    "scrolled": false
   },
   "outputs": [
    {
     "name": "stderr",
     "output_type": "stream",
     "text": [
      "100%|██████████| 1/1 [00:00<00:00,  2.77it/s]\n"
     ]
    },
    {
     "data": {
      "text/plain": [
       "(10, 919)"
      ]
     },
     "execution_count": 8,
     "metadata": {},
     "output_type": "execute_result"
    }
   ],
   "source": [
    "deepsea.pipeline.predict_example().shape"
   ]
  },
  {
   "cell_type": "markdown",
   "metadata": {},
   "source": [
    "# Hacking DeepSEA's layers\n",
    "This section is focused on tweaking DeepSEA's model to use dropout when making predictions."
   ]
  },
  {
   "cell_type": "code",
   "execution_count": 9,
   "metadata": {},
   "outputs": [
    {
     "data": {
      "text/plain": [
       "Sequential(\n",
       "  (0): ReCodeAlphabet()\n",
       "  (1): ConcatenateRC()\n",
       "  (2): Sequential(\n",
       "    (0): Conv2d(4, 320, kernel_size=(1, 8), stride=(1, 1))\n",
       "    (1): Threshold(threshold=0, value=1e-06)\n",
       "    (2): MaxPool2d(kernel_size=(1, 4), stride=(1, 4), padding=0, dilation=1, ceil_mode=False)\n",
       "    (3): LockedWeightDropout(p=0.2)\n",
       "    (4): Conv2d(320, 480, kernel_size=(1, 8), stride=(1, 1))\n",
       "    (5): Threshold(threshold=0, value=1e-06)\n",
       "    (6): MaxPool2d(kernel_size=(1, 4), stride=(1, 4), padding=0, dilation=1, ceil_mode=False)\n",
       "    (7): LockedWeightDropout(p=0.2)\n",
       "    (8): Conv2d(480, 960, kernel_size=(1, 8), stride=(1, 1))\n",
       "    (9): Threshold(threshold=0, value=1e-06)\n",
       "    (10): LockedWeightDropout(p=0.5)\n",
       "    (11): Lambda()\n",
       "    (12): Sequential(\n",
       "      (0): Lambda()\n",
       "      (1): Linear(in_features=50880, out_features=925, bias=True)\n",
       "    )\n",
       "    (13): Threshold(threshold=0, value=1e-06)\n",
       "    (14): Sequential(\n",
       "      (0): Lambda()\n",
       "      (1): Linear(in_features=925, out_features=919, bias=True)\n",
       "    )\n",
       "    (15): Sigmoid()\n",
       "  )\n",
       "  (3): AverageRC()\n",
       ")"
      ]
     },
     "execution_count": 9,
     "metadata": {},
     "output_type": "execute_result"
    }
   ],
   "source": [
    "deepsea.model = replace_dropout_layers(deepsea.model, dropout_cls=LockedWeightDropout)\n",
    "deepsea.model"
   ]
  },
  {
   "cell_type": "markdown",
   "metadata": {},
   "source": [
    "### Verifying dropout is being applied\n",
    "We can verify or at least get reasonable certainty that dropout's being applied by running 10 predictions on the same sequence and then seeing that the predicted binding probs differ. First, we show that the predictions stay the same if dropout is off.\n",
    "\n",
    "Then, we turn on dropout and show that they start to vary."
   ]
  },
  {
   "cell_type": "code",
   "execution_count": 10,
   "metadata": {},
   "outputs": [
    {
     "name": "stderr",
     "output_type": "stream",
     "text": [
      "100%|██████████| 1/1 [00:00<00:00, 20.63it/s]\n"
     ]
    },
    {
     "name": "stdout",
     "output_type": "stream",
     "text": [
      "First few preds (1/3):  [[0.08161031 0.06867661 0.10076798 ... 0.09493414 0.02133885 0.01201447]\n",
      " [0.06698208 0.01062424 0.02694638 ... 0.15490864 0.04822354 0.00770117]\n",
      " [0.04445557 0.00539728 0.018408   ... 0.14994667 0.35297143 0.02272817]\n",
      " [0.00245111 0.00048716 0.00247776 ... 0.01495204 0.04857798 0.00068955]\n",
      " [0.00076919 0.00535259 0.00189638 ... 0.01889143 0.06013346 0.02190239]]\n"
     ]
    },
    {
     "name": "stderr",
     "output_type": "stream",
     "text": [
      "100%|██████████| 1/1 [00:00<00:00, 19.54it/s]\n"
     ]
    },
    {
     "name": "stdout",
     "output_type": "stream",
     "text": [
      "First few preds (2/3):  [[0.08161031 0.06867661 0.10076798 ... 0.09493414 0.02133885 0.01201447]\n",
      " [0.06698208 0.01062424 0.02694638 ... 0.15490864 0.04822354 0.00770117]\n",
      " [0.04445557 0.00539728 0.018408   ... 0.14994667 0.35297143 0.02272817]\n",
      " [0.00245111 0.00048716 0.00247776 ... 0.01495204 0.04857798 0.00068955]\n",
      " [0.00076919 0.00535259 0.00189638 ... 0.01889143 0.06013346 0.02190239]]\n"
     ]
    },
    {
     "name": "stderr",
     "output_type": "stream",
     "text": [
      "100%|██████████| 1/1 [00:00<00:00, 20.71it/s]\n"
     ]
    },
    {
     "name": "stdout",
     "output_type": "stream",
     "text": [
      "First few preds (3/3):  [[0.08161031 0.06867661 0.10076798 ... 0.09493414 0.02133885 0.01201447]\n",
      " [0.06698208 0.01062424 0.02694638 ... 0.15490864 0.04822354 0.00770117]\n",
      " [0.04445557 0.00539728 0.018408   ... 0.14994667 0.35297143 0.02272817]\n",
      " [0.00245111 0.00048716 0.00247776 ... 0.01495204 0.04857798 0.00068955]\n",
      " [0.00076919 0.00535259 0.00189638 ... 0.01889143 0.06013346 0.02190239]]\n"
     ]
    }
   ],
   "source": [
    "deepsea.model = deepsea.model.apply(unapply_dropout)\n",
    "for i in range(3):\n",
    "    print(f\"First few preds ({i+1}/3): \", deepsea.pipeline.predict_example()[:5])"
   ]
  },
  {
   "cell_type": "code",
   "execution_count": 11,
   "metadata": {
    "scrolled": true
   },
   "outputs": [
    {
     "name": "stderr",
     "output_type": "stream",
     "text": [
      "100%|██████████| 1/1 [00:00<00:00, 20.39it/s]\n"
     ]
    },
    {
     "name": "stdout",
     "output_type": "stream",
     "text": [
      "First few preds (1/3):  [[7.8655757e-02 8.3806358e-02 9.7069323e-02 ... 5.6508001e-02\n",
      "  2.4502188e-02 1.5566023e-02]\n",
      " [3.5470471e-02 4.5489939e-03 1.9990906e-02 ... 1.0030031e-01\n",
      "  4.1729517e-02 9.0535246e-03]\n",
      " [3.2651491e-02 4.1565662e-03 1.6885564e-02 ... 9.1600373e-02\n",
      "  3.5880196e-01 2.9147882e-02]\n",
      " [1.1820053e-03 1.6361063e-04 1.2224740e-03 ... 1.1896892e-02\n",
      "  4.5368865e-02 4.9301307e-04]\n",
      " [4.4277078e-04 3.5921750e-03 1.3708207e-03 ... 1.0503948e-02\n",
      "  5.2451190e-02 2.9240381e-02]]\n"
     ]
    },
    {
     "name": "stderr",
     "output_type": "stream",
     "text": [
      "100%|██████████| 1/1 [00:00<00:00, 20.44it/s]\n"
     ]
    },
    {
     "name": "stdout",
     "output_type": "stream",
     "text": [
      "First few preds (2/3):  [[0.05306129 0.03041203 0.07123175 ... 0.05064587 0.03200493 0.01031295]\n",
      " [0.03007108 0.00592298 0.02056084 ... 0.22594553 0.06201714 0.00791816]\n",
      " [0.02606363 0.00296377 0.01511293 ... 0.07262659 0.23947865 0.01690581]\n",
      " [0.00212761 0.00043771 0.00250371 ... 0.01329707 0.04569716 0.00053356]\n",
      " [0.00082771 0.00540447 0.00260013 ... 0.02363428 0.05851531 0.02354807]]\n"
     ]
    },
    {
     "name": "stderr",
     "output_type": "stream",
     "text": [
      "100%|██████████| 1/1 [00:00<00:00, 20.60it/s]\n"
     ]
    },
    {
     "name": "stdout",
     "output_type": "stream",
     "text": [
      "First few preds (3/3):  [[0.09402785 0.08797362 0.10711947 ... 0.09701223 0.01897594 0.01406437]\n",
      " [0.06788946 0.0117236  0.02979147 ... 0.2000671  0.051117   0.00931144]\n",
      " [0.05007762 0.00516387 0.0236172  ... 0.11218122 0.30588615 0.02488672]\n",
      " [0.00224622 0.0013474  0.00320529 ... 0.00926662 0.03031096 0.00054907]\n",
      " [0.00099179 0.0054762  0.00199367 ... 0.03638974 0.05912359 0.02541691]]\n"
     ]
    }
   ],
   "source": [
    "deepsea.model.eval()\n",
    "deepsea.model = deepsea.model.apply(apply_dropout)\n",
    "for i in range(3):\n",
    "    print(f\"First few preds ({i+1}/3): \", deepsea.pipeline.predict_example()[:5])"
   ]
  },
  {
   "cell_type": "markdown",
   "metadata": {},
   "source": [
    "## Predictions and in-silico mutagenesis"
   ]
  },
  {
   "cell_type": "code",
   "execution_count": 12,
   "metadata": {},
   "outputs": [
    {
     "data": {
      "text/plain": [
       "[(56, 'HepG2_DNase_None'),\n",
       " (302, 'HepG2_FOXA1_None'),\n",
       " (303, 'HepG2_FOXA1_None')]"
      ]
     },
     "execution_count": 12,
     "metadata": {},
     "output_type": "execute_result"
    }
   ],
   "source": [
    "CHROM_ACC_COL = 'HepG2_DNase_None'\n",
    "# TF_COL = 'A549_CTCF_None'\n",
    "TF_COL = 'HepG2_FOXA1_None'\n",
    "relevant_cols = sorted([(i, label)\n",
    "                        for i, label in enumerate(deepsea.schema.targets.column_labels)\n",
    "                        if label in [CHROM_ACC_COL, TF_COL]])\n",
    "\n",
    "def output_sel_fn(result):\n",
    "    return np.array([result[:, col_idx] for col_idx, _ in relevant_cols]).T\n",
    "\n",
    "relevant_cols"
   ]
  },
  {
   "cell_type": "code",
   "execution_count": 13,
   "metadata": {},
   "outputs": [
    {
     "data": {
      "text/plain": [
       "(array([[0.01698819, 0.04649171, 0.05820748],\n",
       "        [0.16994664, 0.24118587, 0.2511029 ],\n",
       "        [0.01970757, 0.20405887, 0.21905734],\n",
       "        [0.10903159, 0.23565267, 0.20230297],\n",
       "        [0.06961777, 0.22315117, 0.22908154]]),\n",
       " array([[0.00548362, 0.02609396, 0.0314908 ],\n",
       "        [0.0630529 , 0.09314241, 0.09340617],\n",
       "        [0.0084638 , 0.09068899, 0.09530321],\n",
       "        [0.02229036, 0.06753918, 0.0607408 ],\n",
       "        [0.02847355, 0.08705198, 0.08907392]]))"
      ]
     },
     "execution_count": 13,
     "metadata": {},
     "output_type": "execute_result"
    }
   ],
   "source": [
    "sample_preds = np.zeros((50, 5, 3))\n",
    "\n",
    "for i in range(50):\n",
    "    sample_preds[i] = output_sel_fn(deepsea.predict_on_batch(seqs[:5, :, :, ]))\n",
    "    \n",
    "np.mean(sample_preds, axis=0), np.std(sample_preds, axis=0)"
   ]
  },
  {
   "cell_type": "code",
   "execution_count": 14,
   "metadata": {},
   "outputs": [],
   "source": [
    "all_zeros = np.zeros((4,))\n",
    "def generate_wt_mut_batches(seq, batch_size):\n",
    "    \"\"\"\n",
    "    For a given sequence, generate all possible point-mutated versions of the sequence\n",
    "    in batches of size `param:batch_size`.\n",
    "    \n",
    "    Args:\n",
    "        seq (numpy.ndarray [number of base pairs, sequence length]): \n",
    "            wild type sequence.\n",
    "        batch_size (int): size of returned batches. Note that each batch will have the\n",
    "            wild type sequence as its first row since we need to compute wild type / mut\n",
    "            prediction diffs using predictions generated by the same dropout mask.\n",
    "    \"\"\"\n",
    "    num_nts, seq_len = seq.shape\n",
    "    assert ((seq_len * 3) % (batch_size-1)) == 0, seq_len * 3\n",
    "    # 3 mutations per nt and then account for ref in each batch\n",
    "    n_batches = (seq_len * 3) // (batch_size-1)\n",
    "    seq_batch = seq[np.newaxis, :, :].repeat(batch_size, axis=0)\n",
    "    seq_batches = seq_batch[np.newaxis, :, :, :].repeat(n_batches, axis=0)\n",
    "    i = 0\n",
    "    for seq_idx in range(seq_len):  # iterate over sequence \n",
    "        for nt_idx in range(num_nts):  # iterate over nucleotides\n",
    "            curr_batch, curr_idx = i // (batch_size - 1), (i % (batch_size-1) + 1)\n",
    "            \n",
    "            curr_nt = seq[nt_idx, seq_idx]\n",
    "            if int(curr_nt) == 1: continue\n",
    "\n",
    "            seq_batches[curr_batch, curr_idx, :, seq_idx] = all_zeros\n",
    "            seq_batches[curr_batch, curr_idx, nt_idx, seq_idx] = 1\n",
    "            i += 1\n",
    "    return seq_batches"
   ]
  },
  {
   "cell_type": "code",
   "execution_count": 15,
   "metadata": {},
   "outputs": [
    {
     "name": "stdout",
     "output_type": "stream",
     "text": [
      "Generating predictions for 25 seqs\n"
     ]
    },
    {
     "data": {
      "application/vnd.jupyter.widget-view+json": {
       "model_id": "5bd6bf30619b4dc597d1e9ae87ee4f39",
       "version_major": 2,
       "version_minor": 0
      },
      "text/plain": [
       "HBox(children=(IntProgress(value=0, max=25), HTML(value='')))"
      ]
     },
     "metadata": {},
     "output_type": "display_data"
    },
    {
     "data": {
      "application/vnd.jupyter.widget-view+json": {
       "model_id": "fd6286e6068947e28550fbb72a49302e",
       "version_major": 2,
       "version_minor": 0
      },
      "text/plain": [
       "HBox(children=(IntProgress(value=0, max=10), HTML(value='')))"
      ]
     },
     "metadata": {},
     "output_type": "display_data"
    },
    {
     "name": "stdout",
     "output_type": "stream",
     "text": [
      "\n"
     ]
    },
    {
     "data": {
      "application/vnd.jupyter.widget-view+json": {
       "model_id": "057c63776c2742f9b29ff19edd417376",
       "version_major": 2,
       "version_minor": 0
      },
      "text/plain": [
       "HBox(children=(IntProgress(value=0, max=10), HTML(value='')))"
      ]
     },
     "metadata": {},
     "output_type": "display_data"
    },
    {
     "name": "stdout",
     "output_type": "stream",
     "text": [
      "\n"
     ]
    },
    {
     "data": {
      "application/vnd.jupyter.widget-view+json": {
       "model_id": "fa3fbe975aa8443da161fd838d08913f",
       "version_major": 2,
       "version_minor": 0
      },
      "text/plain": [
       "HBox(children=(IntProgress(value=0, max=10), HTML(value='')))"
      ]
     },
     "metadata": {},
     "output_type": "display_data"
    },
    {
     "name": "stdout",
     "output_type": "stream",
     "text": [
      "\n"
     ]
    },
    {
     "data": {
      "application/vnd.jupyter.widget-view+json": {
       "model_id": "c537e13a4bdc499c9e4cde08f60b1098",
       "version_major": 2,
       "version_minor": 0
      },
      "text/plain": [
       "HBox(children=(IntProgress(value=0, max=10), HTML(value='')))"
      ]
     },
     "metadata": {},
     "output_type": "display_data"
    },
    {
     "name": "stdout",
     "output_type": "stream",
     "text": [
      "\n"
     ]
    },
    {
     "data": {
      "application/vnd.jupyter.widget-view+json": {
       "model_id": "b68d24f06de1473cb44382f4d5d2444a",
       "version_major": 2,
       "version_minor": 0
      },
      "text/plain": [
       "HBox(children=(IntProgress(value=0, max=10), HTML(value='')))"
      ]
     },
     "metadata": {},
     "output_type": "display_data"
    },
    {
     "name": "stdout",
     "output_type": "stream",
     "text": [
      "\n"
     ]
    },
    {
     "data": {
      "application/vnd.jupyter.widget-view+json": {
       "model_id": "6661966512014c2ab7b9209d78dcc7dd",
       "version_major": 2,
       "version_minor": 0
      },
      "text/plain": [
       "HBox(children=(IntProgress(value=0, max=10), HTML(value='')))"
      ]
     },
     "metadata": {},
     "output_type": "display_data"
    },
    {
     "name": "stdout",
     "output_type": "stream",
     "text": [
      "\n"
     ]
    },
    {
     "data": {
      "application/vnd.jupyter.widget-view+json": {
       "model_id": "5d1c53e580df45feb9779a050f1f99bb",
       "version_major": 2,
       "version_minor": 0
      },
      "text/plain": [
       "HBox(children=(IntProgress(value=0, max=10), HTML(value='')))"
      ]
     },
     "metadata": {},
     "output_type": "display_data"
    },
    {
     "name": "stdout",
     "output_type": "stream",
     "text": [
      "\n"
     ]
    },
    {
     "data": {
      "application/vnd.jupyter.widget-view+json": {
       "model_id": "8ec87b83044741528f0e4b645744ac6a",
       "version_major": 2,
       "version_minor": 0
      },
      "text/plain": [
       "HBox(children=(IntProgress(value=0, max=10), HTML(value='')))"
      ]
     },
     "metadata": {},
     "output_type": "display_data"
    },
    {
     "name": "stdout",
     "output_type": "stream",
     "text": [
      "\n"
     ]
    },
    {
     "data": {
      "application/vnd.jupyter.widget-view+json": {
       "model_id": "1861805299a8482cb8f54b3fa530a081",
       "version_major": 2,
       "version_minor": 0
      },
      "text/plain": [
       "HBox(children=(IntProgress(value=0, max=10), HTML(value='')))"
      ]
     },
     "metadata": {},
     "output_type": "display_data"
    },
    {
     "name": "stdout",
     "output_type": "stream",
     "text": [
      "\n"
     ]
    },
    {
     "data": {
      "application/vnd.jupyter.widget-view+json": {
       "model_id": "8e886577d9dc4da685487eed726ba23c",
       "version_major": 2,
       "version_minor": 0
      },
      "text/plain": [
       "HBox(children=(IntProgress(value=0, max=10), HTML(value='')))"
      ]
     },
     "metadata": {},
     "output_type": "display_data"
    },
    {
     "name": "stdout",
     "output_type": "stream",
     "text": [
      "\n"
     ]
    },
    {
     "data": {
      "application/vnd.jupyter.widget-view+json": {
       "model_id": "2fa1a4c48570476aa51ca4cdcc177385",
       "version_major": 2,
       "version_minor": 0
      },
      "text/plain": [
       "HBox(children=(IntProgress(value=0, max=10), HTML(value='')))"
      ]
     },
     "metadata": {},
     "output_type": "display_data"
    },
    {
     "name": "stdout",
     "output_type": "stream",
     "text": [
      "\n"
     ]
    },
    {
     "data": {
      "application/vnd.jupyter.widget-view+json": {
       "model_id": "f73ff7cf06444757b74eb9e13ce3b918",
       "version_major": 2,
       "version_minor": 0
      },
      "text/plain": [
       "HBox(children=(IntProgress(value=0, max=10), HTML(value='')))"
      ]
     },
     "metadata": {},
     "output_type": "display_data"
    },
    {
     "name": "stdout",
     "output_type": "stream",
     "text": [
      "\n"
     ]
    },
    {
     "data": {
      "application/vnd.jupyter.widget-view+json": {
       "model_id": "6adc20dadd0f47cc983bd14c176a0115",
       "version_major": 2,
       "version_minor": 0
      },
      "text/plain": [
       "HBox(children=(IntProgress(value=0, max=10), HTML(value='')))"
      ]
     },
     "metadata": {},
     "output_type": "display_data"
    },
    {
     "name": "stdout",
     "output_type": "stream",
     "text": [
      "\n"
     ]
    },
    {
     "data": {
      "application/vnd.jupyter.widget-view+json": {
       "model_id": "f48e9e0e3e6e4e129f08d1344ddf6bf2",
       "version_major": 2,
       "version_minor": 0
      },
      "text/plain": [
       "HBox(children=(IntProgress(value=0, max=10), HTML(value='')))"
      ]
     },
     "metadata": {},
     "output_type": "display_data"
    },
    {
     "name": "stdout",
     "output_type": "stream",
     "text": [
      "\n"
     ]
    },
    {
     "data": {
      "application/vnd.jupyter.widget-view+json": {
       "model_id": "9def6f663c9c44e7b20aa4e2a364a45d",
       "version_major": 2,
       "version_minor": 0
      },
      "text/plain": [
       "HBox(children=(IntProgress(value=0, max=10), HTML(value='')))"
      ]
     },
     "metadata": {},
     "output_type": "display_data"
    },
    {
     "name": "stdout",
     "output_type": "stream",
     "text": [
      "\n"
     ]
    },
    {
     "data": {
      "application/vnd.jupyter.widget-view+json": {
       "model_id": "de39a8d1f69040b6b52dd040cfcef367",
       "version_major": 2,
       "version_minor": 0
      },
      "text/plain": [
       "HBox(children=(IntProgress(value=0, max=10), HTML(value='')))"
      ]
     },
     "metadata": {},
     "output_type": "display_data"
    },
    {
     "name": "stdout",
     "output_type": "stream",
     "text": [
      "\n"
     ]
    },
    {
     "data": {
      "application/vnd.jupyter.widget-view+json": {
       "model_id": "f52e0f2f7ca049f7993bf64563b97680",
       "version_major": 2,
       "version_minor": 0
      },
      "text/plain": [
       "HBox(children=(IntProgress(value=0, max=10), HTML(value='')))"
      ]
     },
     "metadata": {},
     "output_type": "display_data"
    },
    {
     "name": "stdout",
     "output_type": "stream",
     "text": [
      "\n"
     ]
    },
    {
     "data": {
      "application/vnd.jupyter.widget-view+json": {
       "model_id": "9edb95b378f84d5d808177f4f8e8dfa2",
       "version_major": 2,
       "version_minor": 0
      },
      "text/plain": [
       "HBox(children=(IntProgress(value=0, max=10), HTML(value='')))"
      ]
     },
     "metadata": {},
     "output_type": "display_data"
    },
    {
     "name": "stdout",
     "output_type": "stream",
     "text": [
      "\n"
     ]
    },
    {
     "data": {
      "application/vnd.jupyter.widget-view+json": {
       "model_id": "0215afb7f99343169631d40691249fe6",
       "version_major": 2,
       "version_minor": 0
      },
      "text/plain": [
       "HBox(children=(IntProgress(value=0, max=10), HTML(value='')))"
      ]
     },
     "metadata": {},
     "output_type": "display_data"
    },
    {
     "name": "stdout",
     "output_type": "stream",
     "text": [
      "\n"
     ]
    },
    {
     "data": {
      "application/vnd.jupyter.widget-view+json": {
       "model_id": "50881c08db454245b8b7b68e7e67beaf",
       "version_major": 2,
       "version_minor": 0
      },
      "text/plain": [
       "HBox(children=(IntProgress(value=0, max=10), HTML(value='')))"
      ]
     },
     "metadata": {},
     "output_type": "display_data"
    },
    {
     "name": "stdout",
     "output_type": "stream",
     "text": [
      "\n"
     ]
    },
    {
     "data": {
      "application/vnd.jupyter.widget-view+json": {
       "model_id": "b58827fdded54afeb3cf72424eb7b2ac",
       "version_major": 2,
       "version_minor": 0
      },
      "text/plain": [
       "HBox(children=(IntProgress(value=0, max=10), HTML(value='')))"
      ]
     },
     "metadata": {},
     "output_type": "display_data"
    },
    {
     "name": "stdout",
     "output_type": "stream",
     "text": [
      "\n"
     ]
    },
    {
     "data": {
      "application/vnd.jupyter.widget-view+json": {
       "model_id": "3cc36d6201c3401f843c40eac22654f2",
       "version_major": 2,
       "version_minor": 0
      },
      "text/plain": [
       "HBox(children=(IntProgress(value=0, max=10), HTML(value='')))"
      ]
     },
     "metadata": {},
     "output_type": "display_data"
    },
    {
     "name": "stdout",
     "output_type": "stream",
     "text": [
      "\n"
     ]
    },
    {
     "data": {
      "application/vnd.jupyter.widget-view+json": {
       "model_id": "839c6f42e5ae488e8c5f10f923a8f727",
       "version_major": 2,
       "version_minor": 0
      },
      "text/plain": [
       "HBox(children=(IntProgress(value=0, max=10), HTML(value='')))"
      ]
     },
     "metadata": {},
     "output_type": "display_data"
    },
    {
     "name": "stdout",
     "output_type": "stream",
     "text": [
      "\n"
     ]
    },
    {
     "data": {
      "application/vnd.jupyter.widget-view+json": {
       "model_id": "4b559d6162674e5db636b1f02bb2efb3",
       "version_major": 2,
       "version_minor": 0
      },
      "text/plain": [
       "HBox(children=(IntProgress(value=0, max=10), HTML(value='')))"
      ]
     },
     "metadata": {},
     "output_type": "display_data"
    },
    {
     "name": "stdout",
     "output_type": "stream",
     "text": [
      "\n"
     ]
    },
    {
     "data": {
      "application/vnd.jupyter.widget-view+json": {
       "model_id": "ffb6b5a82c9e42dd8c0f69b1d7db82ee",
       "version_major": 2,
       "version_minor": 0
      },
      "text/plain": [
       "HBox(children=(IntProgress(value=0, max=10), HTML(value='')))"
      ]
     },
     "metadata": {},
     "output_type": "display_data"
    },
    {
     "name": "stdout",
     "output_type": "stream",
     "text": [
      "\n",
      "\n"
     ]
    }
   ],
   "source": [
    "epochs, batch_size = 50, 301\n",
    "print(f\"Generating predictions for {n_seqs} seqs\")\n",
    "\n",
    "preds = [[[] for _ in range(n_seqs)] for _ in range(epochs)]\n",
    "for i, seq in enumerate(tqdm(seqs)):\n",
    "    if np.allclose(seq, .25): print(\"Skipping\"); continue\n",
    "    wt_mut_batches = generate_wt_mut_batches(seq.squeeze(), batch_size)\n",
    "    for batch in tqdm(wt_mut_batches):\n",
    "        for epoch in range(epochs):\n",
    "            epoch_preds = deepsea.predict_on_batch(np.expand_dims(batch, axis=2))\n",
    "            preds[epoch][i].append(output_sel_fn(epoch_preds))\n",
    "\n",
    "\n",
    "np_preds = np.array(preds)"
   ]
  },
  {
   "cell_type": "code",
   "execution_count": 16,
   "metadata": {},
   "outputs": [],
   "source": [
    "import pickle\n",
    "pickle_file = \"../dat/most_recent_sat_mut_results__comparison.pickle\"\n",
    "with open(pickle_file, 'wb') as f: pickle.dump(np_preds, f)"
   ]
  },
  {
   "cell_type": "code",
   "execution_count": null,
   "metadata": {},
   "outputs": [],
   "source": [
    "# with open(pickle_file, 'rb') as f: np_preds = pickle.load(f)\n",
    "# print(np_preds.shape)"
   ]
  },
  {
   "cell_type": "code",
   "execution_count": null,
   "metadata": {},
   "outputs": [],
   "source": [
    "epochs, n_seqs, n_batches, batch_size, _ = np_preds.shape\n",
    "np_preds.shape"
   ]
  },
  {
   "cell_type": "code",
   "execution_count": null,
   "metadata": {},
   "outputs": [],
   "source": [
    "log_uniform_prob = math.log(.05/(1-.05))\n",
    "def compute_normalized_prob(prob, train_prob):\n",
    "    # source: http://deepsea.princeton.edu/help/\n",
    "    denom = 1+np.exp(-(np.log(prob/(1-prob))+log_uniform_prob-np.log(train_prob/(1-train_prob))))\n",
    "    return 1 / denom\n",
    "\n",
    "# Ratios and normalization formula drawn from here: http://deepsea.princeton.edu/media/help/posproportion.txt\n",
    "tf_compute_normalized_prob = lambda prob: compute_normalized_prob(prob, 0.02394)\n",
    "chrom_acc_normalized_prob = lambda prob: compute_normalized_prob(prob, 0.049791)"
   ]
  },
  {
   "cell_type": "markdown",
   "metadata": {},
   "source": [
    "# Results & Analysis\n",
    "## Computing relevant statistics\n",
    "In this section, we compute the predictive mean and variance of the raw predictions and of each ref/mut pair, which also requires computing covariance."
   ]
  },
  {
   "cell_type": "code",
   "execution_count": null,
   "metadata": {},
   "outputs": [],
   "source": [
    "np_preds[:, 0, 0, 0, 1], np.mean(np_preds[:, 0, 0, 0, 1]), np.std(np_preds[:, 0, 0, 0, 1])"
   ]
  },
  {
   "cell_type": "markdown",
   "metadata": {},
   "source": [
    "Previous output:\n",
    "```\n",
    "(array([0.05126143, 0.1050737 , 0.06798535, 0.07285436, 0.09456536,\n",
    "        0.10932738, 0.04311277, 0.11430986, 0.13595097, 0.07084743,\n",
    "        0.04534521, 0.08461001, 0.07526002, 0.08425504, 0.09917682,\n",
    "        0.03529431, 0.18999103, 0.08796159, 0.16572888, 0.10169207,\n",
    "        0.19090581, 0.04598923, 0.10690306, 0.08212011, 0.04604339,\n",
    "        0.10946183, 0.11298828, 0.060181  , 0.05917034, 0.15545578,\n",
    "        0.07560672, 0.06172951, 0.07798496, 0.07683495, 0.06256678,\n",
    "        0.06378538, 0.06284482, 0.20937835, 0.06821388, 0.0717489 ,\n",
    "        0.1056542 , 0.03477913, 0.2411811 , 0.07979514, 0.07677957,\n",
    "        0.15393922, 0.06378307, 0.05788552, 0.06131508, 0.12282959],\n",
    "       dtype=float32), 0.09264916, 0.045424417)\n",
    "```"
   ]
  },
  {
   "cell_type": "code",
   "execution_count": null,
   "metadata": {},
   "outputs": [],
   "source": [
    "np_preds[:, :, :, :, 0] = chrom_acc_normalized_prob(np_preds[:, :, :, :, 0])\n",
    "np_preds[:, :, :, :, 1] = compute_normalized_prob(np_preds[:, :, :, :, 1], 0.020508)\n",
    "np_preds[:, :, :, :, 2] = compute_normalized_prob(np_preds[:, :, :, :, 2], 0.02394)"
   ]
  },
  {
   "cell_type": "code",
   "execution_count": null,
   "metadata": {},
   "outputs": [],
   "source": [
    "np.mean(np_preds[:, :, 0, 0, 1], axis=0)"
   ]
  },
  {
   "cell_type": "code",
   "execution_count": null,
   "metadata": {},
   "outputs": [],
   "source": [
    "n_batches = np_preds.shape[2]\n",
    "batch_size = np_preds.shape[3]\n",
    "np_preds.shape"
   ]
  },
  {
   "cell_type": "code",
   "execution_count": null,
   "metadata": {},
   "outputs": [],
   "source": [
    "np_pred_means = np.mean(np_preds[:, :, :, :, :], axis=0)\n",
    "np_pred_vars = np.var(np_preds, axis=0, dtype=np.float64)\n",
    "np_pred_means.shape"
   ]
  },
  {
   "cell_type": "code",
   "execution_count": null,
   "metadata": {},
   "outputs": [],
   "source": [
    "np_pred_mean_diffs = np_pred_means[:, :, 1:, :] - np_pred_means[:, :, 0:1, :] \n",
    "np_pred_mean_diffs.shape"
   ]
  },
  {
   "cell_type": "code",
   "execution_count": null,
   "metadata": {},
   "outputs": [],
   "source": [
    "np_pred_covs = np.zeros((n_seqs, n_batches, batch_size, 2, 2, len(relevant_cols)))\n",
    "for seq in range(n_seqs):\n",
    "    for batch in range(n_batches):\n",
    "        for col in range(len(relevant_cols)):\n",
    "            ref_seq_preds = np_preds[:, seq, batch, 0, col]\n",
    "            for mut in range(batch_size):\n",
    "                mut_seq_preds = np_preds[:, seq, batch, mut, col]\n",
    "                cov = np.cov(np.stack((ref_seq_preds, mut_seq_preds)), ddof=0) # 2x2, symmetric\n",
    "                np_pred_covs[seq, batch, mut, :, :, col] = cov # off diag idx"
   ]
  },
  {
   "cell_type": "code",
   "execution_count": null,
   "metadata": {},
   "outputs": [],
   "source": [
    "print(np_pred_covs[0, 0, 50, :, :, 0])\n",
    "print(np_pred_vars[0, 0, 48:52, 0])"
   ]
  },
  {
   "cell_type": "code",
   "execution_count": null,
   "metadata": {},
   "outputs": [],
   "source": [
    "print(np_pred_covs.dtype)"
   ]
  },
  {
   "cell_type": "code",
   "execution_count": null,
   "metadata": {},
   "outputs": [],
   "source": [
    "np_pred_uncertainties = np.sqrt(np_pred_covs[:, :, 1:, 1, 1, :] + np_pred_covs[:, :, 1:, 0, 0, :] - 2 * np_pred_covs[:, :, 1:, 0, 1, :])"
   ]
  },
  {
   "cell_type": "markdown",
   "metadata": {},
   "source": [
    "Prior output:\n",
    "```\n",
    "array([[4.48878671e-04, 3.76016830e-03, 3.91444136e-03],\n",
    "       [4.24352747e-03, 6.48325787e-03, 6.35424058e-03],\n",
    "       [7.21780115e-04, 6.80836721e-03, 6.69385231e-03],\n",
    "       [2.14841515e-03, 6.13503189e-03, 5.81760365e-03],\n",
    "       [2.53199270e-03, 6.57216440e-03, 6.43075244e-03],\n",
    "       [1.75606661e-03, 4.86487429e-03, 4.74457307e-03],\n",
    "       [1.76368384e-03, 2.73868525e-03, 2.12760159e-03],\n",
    "       [2.58643312e-03, 4.79742642e-03, 4.72901294e-03],\n",
    "       [1.67957813e-03, 5.97133811e-03, 5.67350658e-03],\n",
    "       [1.42978106e-03, 4.81405968e-03, 4.56677096e-03],\n",
    "       [1.77184916e-03, 4.97078494e-03, 5.03889815e-03],\n",
    "       [3.56837944e-04, 3.28258528e-03, 3.70387383e-03],\n",
    "       [2.64877971e-03, 2.00102456e-03, 1.93569081e-03],\n",
    "       [4.53994289e-03, 5.95794895e-03, 5.51303414e-03],\n",
    "       [1.51220427e-03, 6.54928714e-03, 6.57433017e-03],\n",
    "       [5.88259515e-04, 5.53205052e-03, 5.34385837e-03],\n",
    "       [1.09700618e-03, 5.16137308e-03, 5.03230324e-03],\n",
    "       [1.12339457e-03, 2.24760983e-03, 1.91027930e-03],\n",
    "       [3.20376392e-03, 4.92001099e-03, 4.04100349e-03],\n",
    "       [2.49861072e-03, 4.86418106e-03, 4.92681169e-03],\n",
    "       [1.20709174e-04, 3.71777313e-03, 3.81853364e-03],\n",
    "       [2.47268381e-03, 6.00664759e-03, 5.72693128e-03],\n",
    "       [7.54406915e-04, 5.26111607e-03, 5.58529764e-03],\n",
    "       [3.66819203e-03, 7.22119652e-03, 7.02014570e-03],\n",
    "       [3.62281170e-03, 6.36732431e-03, 6.34870359e-03],\n",
    "       [4.03628947e-05, 7.45491883e-04, 8.41239868e-04],\n",
    "       [1.38372533e-05, 7.72275263e-05, 1.04527934e-04],\n",
    "       [4.20893260e-04, 2.73638685e-03, 2.93110060e-03],\n",
    "       [7.43930255e-05, 5.43012993e-04, 7.45896503e-04],\n",
    "       [1.03129554e-05, 3.41938909e-05, 4.97885397e-05],\n",
    "       [3.15892870e-04, 2.65540526e-04, 2.05583915e-04],\n",
    "       [3.84993409e-04, 3.75197042e-03, 4.09271531e-03],\n",
    "       [1.51029463e-03, 9.92187040e-04, 7.37464625e-04],\n",
    "       [3.91123794e-05, 4.42296623e-04, 5.92760265e-04],\n",
    "       [6.80941129e-04, 3.82639830e-03, 3.90858616e-03],\n",
    "       [5.04282705e-05, 5.74359808e-05, 4.21293565e-05],\n",
    "       [1.28339127e-04, 4.31538429e-04, 3.44554821e-04],\n",
    "       [1.06008759e-04, 5.22394941e-04, 5.16982962e-04],\n",
    "       [1.99350312e-04, 3.82583955e-04, 3.30806837e-04],\n",
    "       [2.03201481e-04, 2.50868539e-04, 1.91278546e-04],\n",
    "       [5.79685198e-05, 1.19629254e-03, 1.36500570e-03],\n",
    "       [3.18373139e-05, 1.12246586e-04, 1.48953542e-04],\n",
    "       [9.06054963e-05, 1.73437150e-04, 1.55170388e-04],\n",
    "       [4.54140717e-05, 2.84565435e-04, 3.01416159e-04],\n",
    "       [7.09704930e-05, 1.47903155e-04, 1.13104448e-04],\n",
    "       [6.81710009e-05, 1.63678267e-04, 1.72173579e-04],\n",
    "       [4.29242786e-06, 4.92805347e-05, 7.38577075e-05],\n",
    "       [1.34657224e-04, 2.79072807e-04, 2.58043714e-04],\n",
    "       [4.75108948e-04, 3.21890477e-04, 2.44209141e-04],\n",
    "       [2.73626697e-05, 6.84841822e-05, 8.03758732e-05]])\n",
    "  ```"
   ]
  },
  {
   "cell_type": "code",
   "execution_count": null,
   "metadata": {},
   "outputs": [],
   "source": [
    "np_pred_means[0, :, :5, :]"
   ]
  },
  {
   "cell_type": "markdown",
   "metadata": {},
   "source": [
    "Previous output:\n",
    "```\n",
    "array([[[0.01535607, 0.09264916, 0.10030716],\n",
    "        [0.01536481, 0.09268412, 0.10034063],\n",
    "        [0.0153535 , 0.0926303 , 0.10028694],\n",
    "        [0.01535498, 0.09263348, 0.10029003],\n",
    "        [0.01535387, 0.09263583, 0.10029308]],\n",
    "\n",
    "       [[0.01488582, 0.08554734, 0.09253196],\n",
    "        [0.01465443, 0.084775  , 0.09173969],\n",
    "        [0.01492254, 0.08458555, 0.09155089],\n",
    "        [0.01457286, 0.08459219, 0.09151619],\n",
    "        [0.01439259, 0.08350793, 0.09025328]],\n",
    "\n",
    "       [[0.01598858, 0.10019252, 0.10861898],\n",
    "        [0.0156244 , 0.09905797, 0.10743561],\n",
    "        [0.01544473, 0.09873247, 0.10714547],\n",
    "        [0.01559261, 0.09845467, 0.1067265 ],\n",
    "        [0.01551011, 0.09955419, 0.10797767]],\n",
    "\n",
    "       [[0.01544482, 0.09802654, 0.10629827],\n",
    "        [0.01507335, 0.09550025, 0.10353882],\n",
    "        [0.01587485, 0.10047743, 0.10917354],\n",
    "        [0.01433429, 0.09081684, 0.09837098],\n",
    "        [0.01556314, 0.09916446, 0.10780552]],\n",
    "\n",
    "       [[0.01516749, 0.08964344, 0.09674001],\n",
    "        [0.01639638, 0.09238901, 0.09860244],\n",
    "        [0.01509506, 0.08103842, 0.08690701],\n",
    "        [0.01358717, 0.07601662, 0.08262065],\n",
    "        [0.01766347, 0.11328302, 0.12140989]],\n",
    "\n",
    "       [[0.01695254, 0.105074  , 0.11348913],\n",
    "        [0.01648404, 0.10441449, 0.11273133],\n",
    "        [0.01728942, 0.10697857, 0.11449711],\n",
    "        [0.01929544, 0.10928906, 0.11674011],\n",
    "        [0.01661537, 0.10354719, 0.11319642]],\n",
    "\n",
    "       [[0.01587138, 0.09646078, 0.10463066],\n",
    "        [0.01763695, 0.11694595, 0.12509888],\n",
    "        [0.01650194, 0.11137906, 0.11954492],\n",
    "        [0.01537086, 0.09619159, 0.10390938],\n",
    "        [0.01475383, 0.0892925 , 0.09741764]],\n",
    "\n",
    "       [[0.01607911, 0.09555656, 0.10329047],\n",
    "        [0.01644303, 0.0953081 , 0.10331029],\n",
    "        [0.01658046, 0.1012515 , 0.10875904],\n",
    "        [0.01569122, 0.09139476, 0.09877162],\n",
    "        [0.01581402, 0.09524193, 0.10289911]],\n",
    "\n",
    "       [[0.01668472, 0.11106696, 0.11931916],\n",
    "        [0.01711003, 0.11378796, 0.12228256],\n",
    "        [0.0165246 , 0.11149254, 0.11993513],\n",
    "        [0.01681521, 0.11339774, 0.12225165],\n",
    "        [0.01646912, 0.10928717, 0.1178958 ]],\n",
    "\n",
    "       [[0.01533156, 0.09584869, 0.10469947],\n",
    "        [0.01530683, 0.09577515, 0.10461981],\n",
    "        [0.01543046, 0.09717911, 0.10631446],\n",
    "        [0.01571676, 0.09747174, 0.10664452],\n",
    "        [0.01537928, 0.09591264, 0.10480152]]], dtype=float32)\n",
    "```"
   ]
  },
  {
   "cell_type": "code",
   "execution_count": null,
   "metadata": {},
   "outputs": [],
   "source": [
    "np_pred_uncertainties = np.sqrt(np_pred_vars[:, :, 1:, :] + np_pred_vars[:, :, 0:1, :] - 2 * np_pred_covs[:, :, 1:, 0, 1, :])\n",
    "np.mean(np.mean(np_pred_uncertainties, axis=2), axis=1)"
   ]
  },
  {
   "cell_type": "markdown",
   "metadata": {},
   "source": [
    "Results from prior runs:\n",
    "\n",
    "    array([[0.02932001, 0.16316762, 0.16552047],\n",
    "       [0.15966936, 0.22315478, 0.22175914]])\n",
    "\n",
    "    array([[0.00388914, 0.03407012, 0.03650351],\n",
    "       [0.04776923, 0.09040056, 0.08849534]])"
   ]
  },
  {
   "cell_type": "code",
   "execution_count": null,
   "metadata": {},
   "outputs": [],
   "source": [
    "tmp = np.mean(np_preds)"
   ]
  },
  {
   "cell_type": "markdown",
   "metadata": {},
   "source": [
    "## Accuracy & Calibration"
   ]
  },
  {
   "cell_type": "code",
   "execution_count": null,
   "metadata": {},
   "outputs": [],
   "source": [
    "import sklearn\n",
    "from sklearn.metrics import auc, brier_score_loss, roc_auc_score, roc_curve\n",
    "from sklearn.calibration import calibration_curve \n",
    "\n",
    "score = roc_auc_score(\n",
    "    np.concatenate((np.ones(25), np.zeros(25))),\n",
    "    np_pred_means[:, 0, 0, 1],\n",
    ")\n",
    "score"
   ]
  },
  {
   "cell_type": "code",
   "execution_count": null,
   "metadata": {},
   "outputs": [],
   "source": [
    "from sklearn.metrics import auc, roc_auc_score, roc_curve\n",
    "from sklearn.calibration import calibration_curve\n",
    "\n",
    "score = roc_auc_score(\n",
    "    np.concatenate((np.ones(25), np.zeros(25))),\n",
    "    np_pred_means[:, 0, 0, 1],\n",
    ")\n",
    "score"
   ]
  },
  {
   "cell_type": "code",
   "execution_count": null,
   "metadata": {},
   "outputs": [],
   "source": [
    "score = roc_auc_score(\n",
    "    np.concatenate((np.ones(25), np.zeros(25))),\n",
    "    np_pred_means[:, 0, 0, 1],\n",
    ")"
   ]
  },
  {
   "cell_type": "code",
   "execution_count": null,
   "metadata": {},
   "outputs": [],
   "source": [
    "fpr, tpr, thresholds = roc_curve(\n",
    "    np.concatenate((np.ones(25), np.zeros(25))),\n",
    "    np_pred_means[:, 0, 0, 1],\n",
    ")\n",
    "roc_auc = auc(fpr, tpr)\n",
    "plt.figure()\n",
    "lw = 2\n",
    "plt.plot(fpr, tpr, color='darkorange',\n",
    "         lw=lw, label='ROC curve (area = %0.2f)' % roc_auc)\n",
    "plt.plot([0, 1], [0, 1], color='navy', lw=lw, linestyle='--')\n",
    "plt.xlim([0.0, 1.0])\n",
    "plt.ylim([0.0, 1.05])\n",
    "plt.xlabel('False Positive Rate')\n",
    "plt.ylabel('True Positive Rate')\n",
    "plt.title('Receiver operating characteristic (TF binding)')\n",
    "plt.legend(loc=\"lower right\")\n",
    "plt.show()"
   ]
  },
  {
   "cell_type": "code",
   "execution_count": null,
   "metadata": {},
   "outputs": [],
   "source": [
    "y_test = np.concatenate((np.ones(25), np.zeros(25)))\n",
    "prob_pos = np_pred_means[:, 0, 0, 1]\n",
    "fraction_of_positives, mean_predicted_value = calibration_curve(\n",
    "    y_test,\n",
    "    prob_pos,\n",
    "    n_bins=10\n",
    ")\n",
    "clf_score = brier_score_loss(y_test, prob_pos)\n",
    "plt.plot(mean_predicted_value, fraction_of_positives, \"s-\",\n",
    "     label=\"%s (%1.3f)\" % (\"MC dropout predictive means (TF)\", clf_score))\n",
    "plt.ylabel(\"Fraction of positives\")\n",
    "# ax2.hist(prob_pos, range=(0, 1), bins=10, label=name,\n",
    "#          histtype=\"step\", lw=2)\n",
    "prob_pos"
   ]
  },
  {
   "cell_type": "code",
   "execution_count": null,
   "metadata": {},
   "outputs": [],
   "source": [
    "plt.hist(prob_pos, range=(0, 1), bins=10, label=\"Predictive means (TF)\",\n",
    "          histtype=\"step\", lw=2)\n",
    "plt.legend()"
   ]
  },
  {
   "cell_type": "code",
   "execution_count": null,
   "metadata": {},
   "outputs": [],
   "source": [
    "y_test = np.concatenate((np.ones(25), np.zeros(25)))\n",
    "prob_pos = np_pred_means[:, 0, 0, 0]\n",
    "fraction_of_positives, mean_predicted_value = calibration_curve(\n",
    "    y_test,\n",
    "    prob_pos,\n",
    "    n_bins=10\n",
    ")\n",
    "clf_score = brier_score_loss(y_test, prob_pos)\n",
    "plt.plot(mean_predicted_value, fraction_of_positives, \"s-\",\n",
    "     label=\"%s (%1.3f)\" % (\"MC dropout predictive means (CA)\", clf_score))\n",
    "plt.ylabel(\"Fraction of positives\")"
   ]
  },
  {
   "cell_type": "code",
   "execution_count": null,
   "metadata": {},
   "outputs": [],
   "source": [
    "fig, (ax1, ax2) = plt.subplots(2, 1, figsize=(14, 20))\n",
    "plt.suptitle(\"Predictive Means (Ref)\")\n",
    "\n",
    "ax1.hist(\n",
    "    (np_pred_means[:25, 0, 0, 1].reshape(-1),\n",
    "     np_pred_means[25:, 0, 0, 1].reshape(-1)),\n",
    "    label=(\"binding\", \"no binding\"))\n",
    "ax1.set_title(f\"TF {relevant_cols[1][1]}\")\n",
    "ax1.legend()\n",
    "ax2.hist(\n",
    "    (np_pred_means[:25, 0, 0, 0].reshape(-1),\n",
    "     np_pred_means[25:, 0, 0, 0].reshape(-1)),\n",
    "    label=(\"accessible\", \"not accessible\"))\n",
    "ax2.set_title(f\"DNase {relevant_cols[0][1]}\")\n",
    "ax2.legend()\n",
    "\n",
    "fig.text(0.5, 0.08, \"Predictive Means for y=0 vs y=1\", ha=\"center\")\n",
    "fig.text(0.07, 0.5, \"# of Seqs\", va='center', rotation='vertical')\n",
    "\n",
    "plt.show();"
   ]
  },
  {
   "cell_type": "markdown",
   "metadata": {},
   "source": [
    "### Standard Error Calibration"
   ]
  },
  {
   "cell_type": "code",
   "execution_count": null,
   "metadata": {},
   "outputs": [],
   "source": [
    "from scipy import stats\n",
    "\n",
    "sample_seq = 2\n",
    "sample_pred_diffs = (np_preds[:, sample_seq, :, 1:, :] - np_preds[:, sample_seq, :, 0:1, :]).reshape(epochs, -1)\n",
    "sample_std_errs = np_pred_uncertainties[sample_seq, :, :, :].reshape(-1)\n",
    "sample_mean_diffs = np_pred_mean_diffs[sample_seq, :, :, :].reshape(-1)\n",
    "normalized_preds = (sample_pred_diffs - sample_mean_diffs) / sample_std_errs\n",
    "\n",
    "res = stats.probplot(normalized_preds[:, :].reshape(-1), plot=plt)"
   ]
  },
  {
   "cell_type": "markdown",
   "metadata": {},
   "source": [
    "## TF-CA Relationship and Mutation Effect Exploration "
   ]
  },
  {
   "cell_type": "code",
   "execution_count": null,
   "metadata": {},
   "outputs": [],
   "source": [
    "fig, (ax1, ax2) = plt.subplots(1, 2, figsize=(14, 10))\n",
    "plt.suptitle(\"Predictive Mean Diffs (Mut vs. Ref)\")\n",
    "\n",
    "ax1.hist(\n",
    "    (np_pred_mean_diffs[:25, :, 1:, 1].reshape(-1),\n",
    "     np_pred_mean_diffs[25:, :, 1:, 1].reshape(-1)),\n",
    "    label=(\"binding\", \"no binding\"),\n",
    "    log=True)\n",
    "ax1.set_title(f\"TF {relevant_cols[1][1]}\")\n",
    "ax1.legend()\n",
    "ax2.hist(\n",
    "    (np_pred_mean_diffs[:25, :, 1:, 0].reshape(-1),\n",
    "     np_pred_mean_diffs[25:, :, 1:, 0].reshape(-1)),\n",
    "    label=(\"binding\", \"no binding\"),\n",
    "    log=True)\n",
    "ax2.set_title(f\"DNase {relevant_cols[2][1]}\")\n",
    "ax2.legend()\n",
    "\n",
    "fig.text(0.5, 0.08, \"Predictive Mean Diff\", ha=\"center\")\n",
    "fig.text(0.07, 0.5, \"# of Seqs\", va='center', rotation='vertical')\n",
    "\n",
    "\n",
    "plt.show();"
   ]
  },
  {
   "cell_type": "code",
   "execution_count": null,
   "metadata": {},
   "outputs": [],
   "source": [
    "TF_COL = 1\n",
    "CA_COL = 0\n",
    "\n",
    "fig, ((ax11, ax12), (ax21, ax22)) = plt.subplots(2, 2, figsize=(14, 10))\n",
    "plt.suptitle(\"S.E. vs. Predictive Mean Diff (TF)\")\n",
    "\n",
    "for seq in range(1, 2):\n",
    "    ax11.scatter(\n",
    "        np_pred_mean_diffs[seq, :, :, TF_COL].reshape(-1), \n",
    "        np_pred_uncertainties[seq, :, :, TF_COL].reshape(-1))\n",
    "    ax11.set_title(f\"{relevant_cols[1][1]} (binding)\")\n",
    "\n",
    "for seq in range(1, 2):\n",
    "    ax12.scatter(\n",
    "        np_pred_mean_diffs[seq, :, :, TF_COL].reshape(-1), \n",
    "        np_pred_uncertainties[seq, :, :, TF_COL].reshape(-1))\n",
    "    ax12.set_title(f\"{relevant_cols[1][1]} (no binding)\")\n",
    "    \n",
    "for seq in range(1, 2):\n",
    "    ax21.scatter(\n",
    "        np_pred_mean_diffs[seq, :, :, CA_COL].reshape(-1), \n",
    "        np_pred_uncertainties[seq, :, :, CA_COL].reshape(-1))\n",
    "    ax21.set_title(f\"{relevant_cols[0][1]} (binding)\")\n",
    "\n",
    "for seq in range(1, 2):\n",
    "    ax22.scatter(\n",
    "        np_pred_mean_diffs[seq, :, :, CA_COL].reshape(-1), \n",
    "        np_pred_uncertainties[seq, :, :, CA_COL].reshape(-1))\n",
    "    ax22.set_title(f\"{relevant_cols[0][1]} (no binding)\")\n",
    "    \n",
    "fig.text(0.5, 0.08, \"Predictive Mean Diff\", ha=\"center\")\n",
    "fig.text(0.07, 0.5, \"Predictive S.E.\", va='center', rotation='vertical')\n",
    "\n",
    "plt.show()"
   ]
  },
  {
   "cell_type": "code",
   "execution_count": null,
   "metadata": {},
   "outputs": [],
   "source": [
    "n_binding_seqs = 25\n",
    "_, (ax1, ax2) = plt.subplots(1, 2, figsize=(14, 10))\n",
    "plt.suptitle(\"CA predictive mean diff vs. TF predictive mean diff\")\n",
    "for seq in range(n_binding_seqs):\n",
    "    title, ax = (\"(binding)\", ax1) if seq < n_binding_seqs else (\"(no binding)\", ax1)\n",
    "    ax1.scatter(\n",
    "        np_pred_mean_diffs[seq, :, :, TF_COL].reshape(-1), \n",
    "        np_pred_mean_diffs[seq, :, :, CA_COL].reshape(-1), \n",
    "        label=seq)\n",
    "    if seq < n_binding_seqs: ax1.set_title(\"(binding)\")\n",
    "    ax1.legend()\n",
    "for seq in range(n_binding_seqs, n_seqs):\n",
    "    ax2.scatter(\n",
    "        np_pred_mean_diffs[seq, :, :, TF_COL].reshape(-1), \n",
    "        np_pred_mean_diffs[seq, :, :, CA_COL].reshape(-1), \n",
    "        label=seq)\n",
    "    ax2.set_title(\"(no binding)\")\n",
    "    ax2.legend()\n",
    "fig.text(0.5, 0.08, \"TF Predictive Mean Diff\", ha=\"center\")\n",
    "fig.text(0.07, 0.5, \"CA Predictive Mean Diff\", va='center', rotation='vertical')\n",
    "\n",
    "plt.show()"
   ]
  },
  {
   "cell_type": "code",
   "execution_count": null,
   "metadata": {},
   "outputs": [],
   "source": [
    "from matplotlib import patches\n",
    "from matplotlib import cm\n",
    "\n",
    "cols, margin = 3, 10 # margin determined empirically\n",
    "fig, axs = plt.subplots(math.ceil(n_seqs / float(cols)), cols, figsize=(16, n_seqs + margin))\n",
    "# sample_seqs = np.random.random_integers(0, n_seqs, size=4)\n",
    "# sample_batches = np.random.random_integers(0, n_batches, size=4)\n",
    "# sample_muts = np.random.random_integers(0, batch_size-1, size=4)\n",
    "# sample_col = np.random.random_integers(0, len(relevant_cols)-1)\n",
    "\n",
    "for i in range(n_seqs):\n",
    "    np_sample_mut_preds = np_preds[:, i, :, 1:, TF_COL]\n",
    "    np_sample_ref_preds = np.zeros_like(np_sample_mut_preds) + np_preds[:, i, :, :1, TF_COL]\n",
    "    assert np.allclose(np_sample_ref_preds[:, 0, 0], np_sample_ref_preds[:, 0, 1]) # spot check\n",
    "    colors = (\n",
    "        (np_sample_mut_preds.ravel() - np_sample_mut_preds.mean())**2 + \n",
    "        (np_sample_ref_preds.ravel() - np_sample_ref_preds.mean())**2\n",
    "    )\n",
    "    ax = axs[i // cols, i % cols]\n",
    "    ax.hexbin(\n",
    "        np_sample_ref_preds.ravel(), \n",
    "        np_sample_mut_preds.ravel(), \n",
    "        C=colors,\n",
    "        cmap=cm.jet,\n",
    "        bins=None,\n",
    "    )\n",
    "    xq1, xq2 = np.quantile(np_sample_ref_preds, (.25, .75))\n",
    "    yq1, yq2 = np.quantile(np_sample_mut_preds, (.25, .75))\n",
    "    rect = patches.Rectangle((xq1, yq1), xq2 - xq1, yq2 - yq1, fill=False, edgecolor='black')\n",
    "    rect = ax.add_patch(rect)\n",
    "    xlabel = \"seq {i} ref (std: {stddev:.3f})\".format(i=i, stddev=np.std(np_sample_ref_preds))\n",
    "    ylabel = \"seq {i} mut (std: {stddev:.3f})\".format(i=i, stddev=np.std(np_sample_mut_preds))\n",
    "    ax.set_xlabel(xlabel)\n",
    "    ax.set_ylabel(ylabel)"
   ]
  },
  {
   "cell_type": "code",
   "execution_count": null,
   "metadata": {},
   "outputs": [],
   "source": [
    "import scipy\n",
    "from scipy import stats\n",
    "import statsmodels.api as sm\n",
    "from statsmodels.sandbox.regression.predstd import wls_prediction_std\n",
    "\n",
    "\n",
    "\n",
    "cols, margin = 3, 20 # margin determined empirically\n",
    "fig, axs = plt.subplots(math.ceil(n_seqs / float(cols)), cols, figsize=(16, n_seqs + margin))\n",
    "# plt.suptitle(\"CA predictive mean diff vs. TF predictive mean diff\")\n",
    "slopes = []\n",
    "rsquareds = []\n",
    "\n",
    "for seq in range(n_seqs):\n",
    "    ax = axs[seq // cols, seq % cols]\n",
    "    \n",
    "    x, y = np_pred_mean_diffs[seq, :, :, TF_COL].reshape(-1), np_pred_mean_diffs[seq, :, :, CA_COL].reshape(-1)\n",
    "    xc = sm.add_constant(x)\n",
    "    model = sm.OLS(y, xc)\n",
    "    result = model.fit()\n",
    "    intercept, slope = result.params\n",
    "    slopes.append(slope)\n",
    "    rsquared = result.rsquared\n",
    "    rsquareds.append(rsquared)\n",
    "    stderr = result.bse[1]\n",
    "    \n",
    "    title = \"%d - \" % (seq)\n",
    "    title += \" (b) \" if seq < n_binding_seqs else \" (nb)\"\n",
    "    title += \"(slope: %.2f, r^2: %.3f, std: %.4f)\" % (slope, rsquared, stderr)\n",
    "    ax.set_title(title)\n",
    "    \n",
    "    line = slope*x+intercept\n",
    "    prstd, iv_l, iv_u = wls_prediction_std(result)\n",
    "    ax.plot(x, line, 'r')\n",
    "    ax.plot(x, y, 'o')\n",
    "    ax.plot(x, iv_u, 'r--')\n",
    "    ax.plot(x, iv_l, 'r--')\n",
    "    legend = ax.legend(loc=\"best\")\n",
    "\n",
    "    ax1.legend()\n",
    "\n",
    "    \n",
    "plt.show()"
   ]
  },
  {
   "cell_type": "code",
   "execution_count": null,
   "metadata": {},
   "outputs": [],
   "source": [
    "print(sum(slopes) / len(slopes))\n",
    "print(sum(rsquareds) / len(rsquareds))"
   ]
  },
  {
   "cell_type": "code",
   "execution_count": null,
   "metadata": {},
   "outputs": [],
   "source": [
    "\n",
    "IDX_TO_NT = 'ACGT'\n",
    "\n",
    "def _convert_to_mutation(pos_nt_pair):\n",
    "    return \"%d%s\" % (pos_nt_pair[0], IDX_TO_NT[pos_nt_pair[1]])\n",
    "\n",
    "\n",
    "TF_COL = 1\n",
    "CA_COL = 0\n",
    "\n",
    "def _write_row(writer, seq, batch, i):\n",
    "    seq_num = seq+1\n",
    "    mut_num = (batch * (batch_size)) + i\n",
    "    mut = _convert_to_mutation((mut_num // 3, mut_num % 3))\n",
    "    x_pred_mean_diff = np_pred_mean_diffs[seq, batch, i, TF_COL]\n",
    "    x_pred_uncertainty = np_pred_uncertainties[seq, batch, i, TF_COL]\n",
    "    y_pred_mean_diff = np_pred_mean_diffs[seq, batch, i, CA_COL]\n",
    "    y_pred_uncertainty = np_pred_uncertainties[seq, batch, i, CA_COL]\n",
    "    writer.writerow(\n",
    "        {\n",
    "            \"seq_num\": seq_num,\n",
    "            \"mut\": mut,\n",
    "            \"X_pred_mean\": x_pred_mean_diff,\n",
    "            \"X_pred_var\": x_pred_uncertainty,\n",
    "            \"Y_pred_mean\": y_pred_mean_diff,\n",
    "            \"Y_pred_var\": y_pred_uncertainty,\n",
    "        }\n",
    "    )\n",
    "        \n",
    "\n",
    "with open(\"../dat/means_and_uncertainties__original__comparison.csv\", 'w', newline=\"\") as out_file:\n",
    "    fieldnames = [\n",
    "        \"seq_num\",\n",
    "        \"mut\",\n",
    "        \"X_pred_mean\",\n",
    "        \"X_pred_var\",\n",
    "        \"Y_pred_mean\",\n",
    "        \"Y_pred_var\",\n",
    "    ]\n",
    "    writer = csv.DictWriter(out_file, delimiter=\",\", fieldnames=fieldnames)\n",
    "    writer.writeheader()\n",
    "    \n",
    "    for seq in range(n_seqs):\n",
    "        _write_row(writer, seq, batch, i)\n",
    "        for batch in range(n_batches):\n",
    "            for i in range(0, batch_size-1):\n",
    "                _write_row(writer, seq, batch, i)\n",
    " \n"
   ]
  }
 ],
 "metadata": {
  "kernelspec": {
   "display_name": "Python 3",
   "language": "python",
   "name": "python3"
  },
  "language_info": {
   "codemirror_mode": {
    "name": "ipython",
    "version": 3
   },
   "file_extension": ".py",
   "mimetype": "text/x-python",
   "name": "python",
   "nbconvert_exporter": "python",
   "pygments_lexer": "ipython3",
   "version": "3.7.4"
  }
 },
 "nbformat": 4,
 "nbformat_minor": 4
}
