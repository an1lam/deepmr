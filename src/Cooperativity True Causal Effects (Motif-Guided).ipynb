{
 "cells": [
  {
   "cell_type": "code",
   "execution_count": 1,
   "metadata": {},
   "outputs": [
    {
     "name": "stderr",
     "output_type": "stream",
     "text": [
      "/home/stephen/anaconda3/envs/deepmr/lib/python3.6/site-packages/dask/dataframe/utils.py:13: FutureWarning: pandas.util.testing is deprecated. Use the functions in the public API at pandas.testing instead.\n",
      "  import pandas.util.testing as tm\n"
     ]
    }
   ],
   "source": [
    "%load_ext autoreload\n",
    "%autoreload 2\n",
    "\n",
    "import os\n",
    "import sys\n",
    "\n",
    "module_path = os.path.abspath(os.path.join('..'))\n",
    "if module_path not in sys.path:\n",
    "    sys.path.append(module_path)\n",
    "\n",
    "from matplotlib import pyplot as plt\n",
    "from IPython.display import clear_output\n",
    "import numpy as np\n",
    "import pandas as pd\n",
    "import seaborn as sns\n",
    "import simdna\n",
    "from simdna import synthetic\n",
    "import statsmodels.api as sm\n",
    "import torch\n",
    "from tqdm.auto import tqdm\n",
    "\n",
    "from utils import one_hot_decode\n",
    "from in_silico_mutagenesis import compute_summary_statistics, generate_wt_mut_batches, write_results\n",
    "from pyx.one_hot import one_hot\n",
    "from tf_coop_model import CountsRegressor, IterablePandasDataset\n",
    "from tf_coop_model import anscombe_transform, run_one_epoch, spearman_rho, pearson_r\n",
    "from tf_coop_simulation import background_frequency\n",
    "from tf_coop_simulation import simulate_counts, simulate_oracle_predictions"
   ]
  },
  {
   "cell_type": "code",
   "execution_count": 2,
   "metadata": {},
   "outputs": [],
   "source": [
    "np.random.seed(42)"
   ]
  },
  {
   "cell_type": "code",
   "execution_count": 22,
   "metadata": {},
   "outputs": [],
   "source": [
    "sequence_length = 100\n",
    "includes_confounder = True\n",
    "\n",
    "data_dir = '../dat/sim_e2e_conf'\n",
    "test_data_fpath = os.path.join(data_dir, 'test_labels.csv')\n",
    "raw_simulation_data_fpath = os.path.join(data_dir, 'test_sequences.simdata')\n",
    "\n",
    "sequences_col = \"sequences\"\n",
    "label_cols = [\"labels_exp\", \"labels_out\"]\n",
    "batch_size = 1000\n",
    "n_samples = 10\n",
    "\n",
    "exposure_col = 1\n",
    "outcome_col = 0\n",
    "exposure_name = \"GATA\"\n",
    "outcome_name = \"TAL1\"\n",
    "exposure_motif = \"GATA_disc1\"\n",
    "outcome_motif = \"TAL1_known1\"\n",
    "confounder_motif = \"SOX2_1\" if includes_confounder else None"
   ]
  },
  {
   "cell_type": "code",
   "execution_count": 23,
   "metadata": {},
   "outputs": [
    {
     "data": {
      "text/plain": [
       "<torch.autograd.grad_mode.set_grad_enabled at 0x7f03d7ff8eb8>"
      ]
     },
     "execution_count": 23,
     "metadata": {},
     "output_type": "execute_result"
    }
   ],
   "source": [
    "torch.set_grad_enabled(False)"
   ]
  },
  {
   "cell_type": "markdown",
   "metadata": {},
   "source": [
    "# Load Test Data & Generate Predictions\n",
    "Now we're going to load test data to get some basic metrics about how well our model performs."
   ]
  },
  {
   "cell_type": "code",
   "execution_count": 24,
   "metadata": {},
   "outputs": [
    {
     "data": {
      "text/html": [
       "<div>\n",
       "<style scoped>\n",
       "    .dataframe tbody tr th:only-of-type {\n",
       "        vertical-align: middle;\n",
       "    }\n",
       "\n",
       "    .dataframe tbody tr th {\n",
       "        vertical-align: top;\n",
       "    }\n",
       "\n",
       "    .dataframe thead th {\n",
       "        text-align: right;\n",
       "    }\n",
       "</style>\n",
       "<table border=\"1\" class=\"dataframe\">\n",
       "  <thead>\n",
       "    <tr style=\"text-align: right;\">\n",
       "      <th></th>\n",
       "      <th>sequences</th>\n",
       "      <th>labels_exp</th>\n",
       "      <th>labels_out</th>\n",
       "      <th>has_exposure</th>\n",
       "      <th>has_outcome</th>\n",
       "      <th>has_both</th>\n",
       "      <th>has_confounder</th>\n",
       "    </tr>\n",
       "  </thead>\n",
       "  <tbody>\n",
       "    <tr>\n",
       "      <th>0</th>\n",
       "      <td>GAAAGGGATCAAGCTCCAGATAAGGGGTTAGAGGGTAGCCTGACGG...</td>\n",
       "      <td>113</td>\n",
       "      <td>111</td>\n",
       "      <td>1</td>\n",
       "      <td>1</td>\n",
       "      <td>1</td>\n",
       "      <td>0</td>\n",
       "    </tr>\n",
       "    <tr>\n",
       "      <th>1</th>\n",
       "      <td>TAATCCCATCGGTGAGCCTTCGTGGGTGCTCAGTCCTAAACAGTAT...</td>\n",
       "      <td>18</td>\n",
       "      <td>39</td>\n",
       "      <td>0</td>\n",
       "      <td>1</td>\n",
       "      <td>0</td>\n",
       "      <td>1</td>\n",
       "    </tr>\n",
       "    <tr>\n",
       "      <th>2</th>\n",
       "      <td>GATCTCTTCATGTCGAGCCGGTCCGTATGCGATAAGAACCATTTAG...</td>\n",
       "      <td>123</td>\n",
       "      <td>27</td>\n",
       "      <td>1</td>\n",
       "      <td>0</td>\n",
       "      <td>0</td>\n",
       "      <td>1</td>\n",
       "    </tr>\n",
       "    <tr>\n",
       "      <th>3</th>\n",
       "      <td>TGTAACTGTCAATATGATTTGTCACTCTAATCCTGAAAAATCCCAT...</td>\n",
       "      <td>103</td>\n",
       "      <td>37</td>\n",
       "      <td>1</td>\n",
       "      <td>0</td>\n",
       "      <td>0</td>\n",
       "      <td>0</td>\n",
       "    </tr>\n",
       "    <tr>\n",
       "      <th>4</th>\n",
       "      <td>CAGGTATTTGATACTAGAACGAGAGCATGCAGTCCCTTATACCATT...</td>\n",
       "      <td>17</td>\n",
       "      <td>32</td>\n",
       "      <td>0</td>\n",
       "      <td>0</td>\n",
       "      <td>0</td>\n",
       "      <td>1</td>\n",
       "    </tr>\n",
       "  </tbody>\n",
       "</table>\n",
       "</div>"
      ],
      "text/plain": [
       "                                           sequences  labels_exp  labels_out  \\\n",
       "0  GAAAGGGATCAAGCTCCAGATAAGGGGTTAGAGGGTAGCCTGACGG...         113         111   \n",
       "1  TAATCCCATCGGTGAGCCTTCGTGGGTGCTCAGTCCTAAACAGTAT...          18          39   \n",
       "2  GATCTCTTCATGTCGAGCCGGTCCGTATGCGATAAGAACCATTTAG...         123          27   \n",
       "3  TGTAACTGTCAATATGATTTGTCACTCTAATCCTGAAAAATCCCAT...         103          37   \n",
       "4  CAGGTATTTGATACTAGAACGAGAGCATGCAGTCCCTTATACCATT...          17          32   \n",
       "\n",
       "   has_exposure  has_outcome  has_both  has_confounder  \n",
       "0             1            1         1               0  \n",
       "1             0            1         0               1  \n",
       "2             1            0         0               1  \n",
       "3             1            0         0               0  \n",
       "4             0            0         0               1  "
      ]
     },
     "execution_count": 24,
     "metadata": {},
     "output_type": "execute_result"
    }
   ],
   "source": [
    "test_df = pd.read_csv(test_data_fpath)\n",
    "test_dataset = IterablePandasDataset(\n",
    "    test_df, x_cols=sequences_col, y_cols=label_cols, x_transform=one_hot,\n",
    ")\n",
    "test_data_loader = torch.utils.data.DataLoader(\n",
    "    test_dataset, batch_size=batch_size, num_workers=0\n",
    ")\n",
    "\n",
    "test_df.head()"
   ]
  },
  {
   "cell_type": "code",
   "execution_count": 25,
   "metadata": {},
   "outputs": [],
   "source": [
    "simdata = synthetic.read_simdata_file(raw_simulation_data_fpath)\n"
   ]
  },
  {
   "cell_type": "code",
   "execution_count": 26,
   "metadata": {},
   "outputs": [
    {
     "data": {
      "text/plain": [
       "('CCAGATAAGG', 'GATA_disc1')"
      ]
     },
     "execution_count": 26,
     "metadata": {},
     "output_type": "execute_result"
    }
   ],
   "source": [
    "simdata.embeddings[0][0].what.string, simdata.embeddings[0][0].what.getDescription()"
   ]
  },
  {
   "cell_type": "code",
   "execution_count": 35,
   "metadata": {},
   "outputs": [],
   "source": [
    "ex_embeds = None\n",
    "for embeds in simdata.embeddings:\n",
    "    if len(embeds) == 5:\n",
    "        ex_embeds = embeds\n",
    "        break"
   ]
  },
  {
   "cell_type": "code",
   "execution_count": 53,
   "metadata": {},
   "outputs": [
    {
     "name": "stdout",
     "output_type": "stream",
     "text": [
      "<class 'simdna.synthetic.embeddables.StringEmbeddable'>\n",
      "GATA_disc1\n",
      "2\n",
      "<class 'simdna.synthetic.embeddables.StringEmbeddable'>\n",
      "TAL1_known1\n",
      "47\n",
      "<class 'simdna.synthetic.embeddables.StringEmbeddable'>\n",
      "GATA_disc1\n",
      "2\n",
      "<class 'simdna.synthetic.embeddables.StringEmbeddable'>\n",
      "TAL1_known1\n",
      "47\n",
      "<class 'simdna.synthetic.embeddables.StringEmbeddable'>\n",
      "SOX2_1\n",
      "14\n"
     ]
    }
   ],
   "source": [
    "for embed in ex_embeds:\n",
    "        print(type(embed.what))\n",
    "        print(embed.what.stringDescription)\n",
    "        print(embed.startPos)"
   ]
  },
  {
   "cell_type": "code",
   "execution_count": 43,
   "metadata": {},
   "outputs": [
    {
     "ename": "AttributeError",
     "evalue": "'StringEmbeddable' object has no attribute 'startPos'",
     "output_type": "error",
     "traceback": [
      "\u001b[0;31m---------------------------------------------------------------------------\u001b[0m",
      "\u001b[0;31mAttributeError\u001b[0m                            Traceback (most recent call last)",
      "\u001b[0;32m<ipython-input-43-5766c5c741f3>\u001b[0m in \u001b[0;36m<module>\u001b[0;34m\u001b[0m\n\u001b[0;32m----> 1\u001b[0;31m \u001b[0mex_embeds\u001b[0m\u001b[0;34m[\u001b[0m\u001b[0;36m1\u001b[0m\u001b[0;34m]\u001b[0m\u001b[0;34m.\u001b[0m\u001b[0mwhat\u001b[0m\u001b[0;34m.\u001b[0m\u001b[0mstartPos\u001b[0m\u001b[0;34m\u001b[0m\u001b[0;34m\u001b[0m\u001b[0m\n\u001b[0m",
      "\u001b[0;31mAttributeError\u001b[0m: 'StringEmbeddable' object has no attribute 'startPos'"
     ]
    }
   ],
   "source": [
    "type()"
   ]
  },
  {
   "cell_type": "code",
   "execution_count": 57,
   "metadata": {},
   "outputs": [
    {
     "data": {
      "text/html": [
       "<div>\n",
       "<style scoped>\n",
       "    .dataframe tbody tr th:only-of-type {\n",
       "        vertical-align: middle;\n",
       "    }\n",
       "\n",
       "    .dataframe tbody tr th {\n",
       "        vertical-align: top;\n",
       "    }\n",
       "\n",
       "    .dataframe thead th {\n",
       "        text-align: right;\n",
       "    }\n",
       "</style>\n",
       "<table border=\"1\" class=\"dataframe\">\n",
       "  <thead>\n",
       "    <tr style=\"text-align: right;\">\n",
       "      <th></th>\n",
       "      <th>sequences</th>\n",
       "      <th>exposure_start_pos</th>\n",
       "      <th>outcome_start_pos</th>\n",
       "      <th>confounder_start_pos</th>\n",
       "      <th>exposure_end_pos</th>\n",
       "      <th>outcome_end_pos</th>\n",
       "      <th>confounder_end_pos</th>\n",
       "    </tr>\n",
       "  </thead>\n",
       "  <tbody>\n",
       "    <tr>\n",
       "      <th>0</th>\n",
       "      <td>GAAAGGGATCAAGCTCCAGATAAGGGGTTAGAGGGTAGCCTGACGG...</td>\n",
       "      <td>15</td>\n",
       "      <td>78</td>\n",
       "      <td>-1</td>\n",
       "      <td>25</td>\n",
       "      <td>94</td>\n",
       "      <td>-1</td>\n",
       "    </tr>\n",
       "    <tr>\n",
       "      <th>1</th>\n",
       "      <td>TAATCCCATCGGTGAGCCTTCGTGGGTGCTCAGTCCTAAACAGTAT...</td>\n",
       "      <td>-1</td>\n",
       "      <td>73</td>\n",
       "      <td>49</td>\n",
       "      <td>-1</td>\n",
       "      <td>89</td>\n",
       "      <td>64</td>\n",
       "    </tr>\n",
       "    <tr>\n",
       "      <th>2</th>\n",
       "      <td>GATCTCTTCATGTCGAGCCGGTCCGTATGCGATAAGAACCATTTAG...</td>\n",
       "      <td>27</td>\n",
       "      <td>-1</td>\n",
       "      <td>75</td>\n",
       "      <td>37</td>\n",
       "      <td>-1</td>\n",
       "      <td>90</td>\n",
       "    </tr>\n",
       "    <tr>\n",
       "      <th>3</th>\n",
       "      <td>TGTAACTGTCAATATGATTTGTCACTCTAATCCTGAAAAATCCCAT...</td>\n",
       "      <td>54</td>\n",
       "      <td>-1</td>\n",
       "      <td>-1</td>\n",
       "      <td>64</td>\n",
       "      <td>-1</td>\n",
       "      <td>-1</td>\n",
       "    </tr>\n",
       "    <tr>\n",
       "      <th>4</th>\n",
       "      <td>CAGGTATTTGATACTAGAACGAGAGCATGCAGTCCCTTATACCATT...</td>\n",
       "      <td>-1</td>\n",
       "      <td>-1</td>\n",
       "      <td>41</td>\n",
       "      <td>-1</td>\n",
       "      <td>-1</td>\n",
       "      <td>56</td>\n",
       "    </tr>\n",
       "  </tbody>\n",
       "</table>\n",
       "</div>"
      ],
      "text/plain": [
       "                                           sequences  exposure_start_pos  \\\n",
       "0  GAAAGGGATCAAGCTCCAGATAAGGGGTTAGAGGGTAGCCTGACGG...                  15   \n",
       "1  TAATCCCATCGGTGAGCCTTCGTGGGTGCTCAGTCCTAAACAGTAT...                  -1   \n",
       "2  GATCTCTTCATGTCGAGCCGGTCCGTATGCGATAAGAACCATTTAG...                  27   \n",
       "3  TGTAACTGTCAATATGATTTGTCACTCTAATCCTGAAAAATCCCAT...                  54   \n",
       "4  CAGGTATTTGATACTAGAACGAGAGCATGCAGTCCCTTATACCATT...                  -1   \n",
       "\n",
       "   outcome_start_pos  confounder_start_pos  exposure_end_pos  outcome_end_pos  \\\n",
       "0                 78                    -1                25               94   \n",
       "1                 73                    49                -1               89   \n",
       "2                 -1                    75                37               -1   \n",
       "3                 -1                    -1                64               -1   \n",
       "4                 -1                    41                -1               -1   \n",
       "\n",
       "   confounder_end_pos  \n",
       "0                  -1  \n",
       "1                  64  \n",
       "2                  90  \n",
       "3                  -1  \n",
       "4                  56  "
      ]
     },
     "execution_count": 57,
     "metadata": {},
     "output_type": "execute_result"
    }
   ],
   "source": [
    "\n",
    "def simdata_to_start_pos_df(simdata, exposure_motif, outcome_motif, confounder_motif=None):\n",
    "    sequences = simdata.sequences\n",
    "    embeddings = simdata.embeddings\n",
    "    name_to_type = {\n",
    "        exposure_motif: ('exposure_start_pos', 'exposure_end_pos'),\n",
    "        outcome_motif: ('outcome_start_pos', 'outcome_end_pos'),\n",
    "    }\n",
    "    if confounder_motif is not None:\n",
    "        name_to_type[confounder_motif] = ('confounder_start_pos', 'confounder_end_pos')\n",
    "    motif_range_by_type = {\n",
    "        'sequences': simdata.sequences,\n",
    "        'exposure_start_pos': -1 * np.ones(len(embeddings), dtype=np.int),\n",
    "        'outcome_start_pos': -1 * np.ones(len(embeddings), dtype=np.int),\n",
    "        'confounder_start_pos': -1 * np.ones(len(embeddings), dtype=np.int),\n",
    "        'exposure_end_pos': -1 * np.ones(len(embeddings), dtype=np.int),\n",
    "        'outcome_end_pos': -1 * np.ones(len(embeddings), dtype=np.int),\n",
    "        'confounder_end_pos': -1 * np.ones(len(embeddings), dtype=np.int)\n",
    "    }\n",
    "    for i, seq_embeds in enumerate(embeddings):\n",
    "        for seq_embed in seq_embeds:\n",
    "            keys = name_to_type[seq_embed.what.getDescription()]\n",
    "            motif_len = len(seq_embed.what.string)\n",
    "            motif_range_by_type[keys[0]][i] = int(seq_embed.startPos)\n",
    "            motif_range_by_type[keys[1]][i] = int(seq_embed.startPos) + motif_len\n",
    "    return pd.DataFrame(motif_range_by_type)\n",
    "\n",
    "start_pos_df = simdata_to_start_pos_df(simdata, exposure_motif, outcome_motif, confounder_motif=confounder_motif)\n",
    "start_pos_df.head()"
   ]
  },
  {
   "cell_type": "code",
   "execution_count": 215,
   "metadata": {},
   "outputs": [
    {
     "data": {
      "text/html": [
       "<div>\n",
       "<style scoped>\n",
       "    .dataframe tbody tr th:only-of-type {\n",
       "        vertical-align: middle;\n",
       "    }\n",
       "\n",
       "    .dataframe tbody tr th {\n",
       "        vertical-align: top;\n",
       "    }\n",
       "\n",
       "    .dataframe thead th {\n",
       "        text-align: right;\n",
       "    }\n",
       "</style>\n",
       "<table border=\"1\" class=\"dataframe\">\n",
       "  <thead>\n",
       "    <tr style=\"text-align: right;\">\n",
       "      <th></th>\n",
       "      <th>sequences</th>\n",
       "      <th>labels_exp</th>\n",
       "      <th>labels_out</th>\n",
       "      <th>has_exposure</th>\n",
       "      <th>has_outcome</th>\n",
       "      <th>has_both</th>\n",
       "      <th>has_confounder</th>\n",
       "      <th>exposure_start_pos</th>\n",
       "      <th>outcome_start_pos</th>\n",
       "      <th>exposure_end_pos</th>\n",
       "      <th>outcome_end_pos</th>\n",
       "    </tr>\n",
       "  </thead>\n",
       "  <tbody>\n",
       "    <tr>\n",
       "      <th>0</th>\n",
       "      <td>ATCCTGTATACCGTGTCTCACCAGATGGTACGTGTTGCATTTTCTT...</td>\n",
       "      <td>0</td>\n",
       "      <td>0</td>\n",
       "      <td>0</td>\n",
       "      <td>1</td>\n",
       "      <td>0</td>\n",
       "      <td>0</td>\n",
       "      <td>-1</td>\n",
       "      <td>16</td>\n",
       "      <td>-1</td>\n",
       "      <td>32</td>\n",
       "    </tr>\n",
       "    <tr>\n",
       "      <th>1</th>\n",
       "      <td>GGAGCTCTAGTGGCATTGGTGATAAGCACGCTGAGGAACGAGTAAG...</td>\n",
       "      <td>108</td>\n",
       "      <td>0</td>\n",
       "      <td>1</td>\n",
       "      <td>0</td>\n",
       "      <td>0</td>\n",
       "      <td>0</td>\n",
       "      <td>17</td>\n",
       "      <td>-1</td>\n",
       "      <td>27</td>\n",
       "      <td>-1</td>\n",
       "    </tr>\n",
       "    <tr>\n",
       "      <th>2</th>\n",
       "      <td>AGTAGAGTGAACCGGAGTACCAGATGTTAAGACGTCATCCTGGTCT...</td>\n",
       "      <td>1</td>\n",
       "      <td>5</td>\n",
       "      <td>0</td>\n",
       "      <td>1</td>\n",
       "      <td>0</td>\n",
       "      <td>0</td>\n",
       "      <td>-1</td>\n",
       "      <td>15</td>\n",
       "      <td>-1</td>\n",
       "      <td>31</td>\n",
       "    </tr>\n",
       "    <tr>\n",
       "      <th>3</th>\n",
       "      <td>AGAGTATCAAGCAACTACGATAACAATGCGGCATCCCTATATTGCT...</td>\n",
       "      <td>80</td>\n",
       "      <td>96</td>\n",
       "      <td>0</td>\n",
       "      <td>1</td>\n",
       "      <td>0</td>\n",
       "      <td>0</td>\n",
       "      <td>-1</td>\n",
       "      <td>43</td>\n",
       "      <td>-1</td>\n",
       "      <td>59</td>\n",
       "    </tr>\n",
       "    <tr>\n",
       "      <th>4</th>\n",
       "      <td>GCGAGATTAGGCGTGGATGTAACGCCGATACTTGGAATTGTCCTGA...</td>\n",
       "      <td>97</td>\n",
       "      <td>118</td>\n",
       "      <td>1</td>\n",
       "      <td>1</td>\n",
       "      <td>1</td>\n",
       "      <td>0</td>\n",
       "      <td>1</td>\n",
       "      <td>75</td>\n",
       "      <td>11</td>\n",
       "      <td>91</td>\n",
       "    </tr>\n",
       "  </tbody>\n",
       "</table>\n",
       "</div>"
      ],
      "text/plain": [
       "                                           sequences  labels_exp  labels_out  \\\n",
       "0  ATCCTGTATACCGTGTCTCACCAGATGGTACGTGTTGCATTTTCTT...           0           0   \n",
       "1  GGAGCTCTAGTGGCATTGGTGATAAGCACGCTGAGGAACGAGTAAG...         108           0   \n",
       "2  AGTAGAGTGAACCGGAGTACCAGATGTTAAGACGTCATCCTGGTCT...           1           5   \n",
       "3  AGAGTATCAAGCAACTACGATAACAATGCGGCATCCCTATATTGCT...          80          96   \n",
       "4  GCGAGATTAGGCGTGGATGTAACGCCGATACTTGGAATTGTCCTGA...          97         118   \n",
       "\n",
       "   has_exposure  has_outcome  has_both  has_confounder  exposure_start_pos  \\\n",
       "0             0            1         0               0                  -1   \n",
       "1             1            0         0               0                  17   \n",
       "2             0            1         0               0                  -1   \n",
       "3             0            1         0               0                  -1   \n",
       "4             1            1         1               0                   1   \n",
       "\n",
       "   outcome_start_pos  exposure_end_pos  outcome_end_pos  \n",
       "0                 16                -1               32  \n",
       "1                 -1                27               -1  \n",
       "2                 15                -1               31  \n",
       "3                 43                -1               59  \n",
       "4                 75                11               91  "
      ]
     },
     "execution_count": 215,
     "metadata": {},
     "output_type": "execute_result"
    }
   ],
   "source": [
    "test_df = pd.merge(test_df, start_pos_df, on=\"sequences\")\n",
    "test_df.head()"
   ]
  },
  {
   "cell_type": "code",
   "execution_count": 216,
   "metadata": {},
   "outputs": [],
   "source": [
    "both_motifs_df = test_df[(test_df['has_both'] == 1)]\n",
    "exposure_motif_df = test_df[(test_df['has_exposure'] == 1)]\n",
    "outcome_motif_df = test_df[(test_df['has_exposure'] == 0) & (test_df['has_outcome'] == 1)]\n",
    "neither_motif_df = test_df[\n",
    "    (test_df['has_exposure'] == 0) & (test_df['has_outcome'] == 0)\n",
    "]"
   ]
  },
  {
   "cell_type": "code",
   "execution_count": 217,
   "metadata": {},
   "outputs": [
    {
     "data": {
      "text/plain": [
       "(2499, 5013, 2460, 2527)"
      ]
     },
     "execution_count": 217,
     "metadata": {},
     "output_type": "execute_result"
    }
   ],
   "source": [
    "len(both_motifs_df), len(exposure_motif_df), len(outcome_motif_df), len(neither_motif_df)"
   ]
  },
  {
   "cell_type": "code",
   "execution_count": 218,
   "metadata": {},
   "outputs": [
    {
     "data": {
      "text/html": [
       "<div>\n",
       "<style scoped>\n",
       "    .dataframe tbody tr th:only-of-type {\n",
       "        vertical-align: middle;\n",
       "    }\n",
       "\n",
       "    .dataframe tbody tr th {\n",
       "        vertical-align: top;\n",
       "    }\n",
       "\n",
       "    .dataframe thead th {\n",
       "        text-align: right;\n",
       "    }\n",
       "</style>\n",
       "<table border=\"1\" class=\"dataframe\">\n",
       "  <thead>\n",
       "    <tr style=\"text-align: right;\">\n",
       "      <th></th>\n",
       "      <th>sequences</th>\n",
       "      <th>labels_exp</th>\n",
       "      <th>labels_out</th>\n",
       "      <th>has_exposure</th>\n",
       "      <th>has_outcome</th>\n",
       "      <th>has_both</th>\n",
       "      <th>has_confounder</th>\n",
       "      <th>exposure_start_pos</th>\n",
       "      <th>outcome_start_pos</th>\n",
       "      <th>exposure_end_pos</th>\n",
       "      <th>outcome_end_pos</th>\n",
       "    </tr>\n",
       "  </thead>\n",
       "  <tbody>\n",
       "    <tr>\n",
       "      <th>1</th>\n",
       "      <td>GGAGCTCTAGTGGCATTGGTGATAAGCACGCTGAGGAACGAGTAAG...</td>\n",
       "      <td>108</td>\n",
       "      <td>0</td>\n",
       "      <td>1</td>\n",
       "      <td>0</td>\n",
       "      <td>0</td>\n",
       "      <td>0</td>\n",
       "      <td>17</td>\n",
       "      <td>-1</td>\n",
       "      <td>27</td>\n",
       "      <td>-1</td>\n",
       "    </tr>\n",
       "    <tr>\n",
       "      <th>4</th>\n",
       "      <td>GCGAGATTAGGCGTGGATGTAACGCCGATACTTGGAATTGTCCTGA...</td>\n",
       "      <td>97</td>\n",
       "      <td>118</td>\n",
       "      <td>1</td>\n",
       "      <td>1</td>\n",
       "      <td>1</td>\n",
       "      <td>0</td>\n",
       "      <td>1</td>\n",
       "      <td>75</td>\n",
       "      <td>11</td>\n",
       "      <td>91</td>\n",
       "    </tr>\n",
       "    <tr>\n",
       "      <th>10</th>\n",
       "      <td>ATCACAGCAGTCCAGTGGATGGAGTCATTACCTATCATCGTGAATG...</td>\n",
       "      <td>96</td>\n",
       "      <td>0</td>\n",
       "      <td>1</td>\n",
       "      <td>0</td>\n",
       "      <td>0</td>\n",
       "      <td>0</td>\n",
       "      <td>83</td>\n",
       "      <td>-1</td>\n",
       "      <td>93</td>\n",
       "      <td>-1</td>\n",
       "    </tr>\n",
       "    <tr>\n",
       "      <th>11</th>\n",
       "      <td>ACTGAGGTTGTCGAACCGATAAGAGCGCCGGGCACCTAAATCGCGT...</td>\n",
       "      <td>102</td>\n",
       "      <td>96</td>\n",
       "      <td>1</td>\n",
       "      <td>1</td>\n",
       "      <td>1</td>\n",
       "      <td>0</td>\n",
       "      <td>14</td>\n",
       "      <td>55</td>\n",
       "      <td>24</td>\n",
       "      <td>71</td>\n",
       "    </tr>\n",
       "    <tr>\n",
       "      <th>12</th>\n",
       "      <td>GTTTAGTCATCGTAATATTCTGGAGATACGCACTAGCTGCACAAAC...</td>\n",
       "      <td>92</td>\n",
       "      <td>0</td>\n",
       "      <td>1</td>\n",
       "      <td>0</td>\n",
       "      <td>0</td>\n",
       "      <td>0</td>\n",
       "      <td>21</td>\n",
       "      <td>-1</td>\n",
       "      <td>31</td>\n",
       "      <td>-1</td>\n",
       "    </tr>\n",
       "  </tbody>\n",
       "</table>\n",
       "</div>"
      ],
      "text/plain": [
       "                                            sequences  labels_exp  labels_out  \\\n",
       "1   GGAGCTCTAGTGGCATTGGTGATAAGCACGCTGAGGAACGAGTAAG...         108           0   \n",
       "4   GCGAGATTAGGCGTGGATGTAACGCCGATACTTGGAATTGTCCTGA...          97         118   \n",
       "10  ATCACAGCAGTCCAGTGGATGGAGTCATTACCTATCATCGTGAATG...          96           0   \n",
       "11  ACTGAGGTTGTCGAACCGATAAGAGCGCCGGGCACCTAAATCGCGT...         102          96   \n",
       "12  GTTTAGTCATCGTAATATTCTGGAGATACGCACTAGCTGCACAAAC...          92           0   \n",
       "\n",
       "    has_exposure  has_outcome  has_both  has_confounder  exposure_start_pos  \\\n",
       "1              1            0         0               0                  17   \n",
       "4              1            1         1               0                   1   \n",
       "10             1            0         0               0                  83   \n",
       "11             1            1         1               0                  14   \n",
       "12             1            0         0               0                  21   \n",
       "\n",
       "    outcome_start_pos  exposure_end_pos  outcome_end_pos  \n",
       "1                  -1                27               -1  \n",
       "4                  75                11               91  \n",
       "10                 -1                93               -1  \n",
       "11                 55                24               71  \n",
       "12                 -1                31               -1  "
      ]
     },
     "execution_count": 218,
     "metadata": {},
     "output_type": "execute_result"
    }
   ],
   "source": [
    "exposure_motif_df.head()"
   ]
  },
  {
   "cell_type": "code",
   "execution_count": 219,
   "metadata": {},
   "outputs": [],
   "source": [
    "both_motifs_dataset = IterablePandasDataset(\n",
    "    both_motifs_df, x_cols=sequences_col, y_cols=label_cols, x_transform=one_hot,\n",
    "    y_transform=anscombe_transform,\n",
    ")\n",
    "exposure_motif_dataset = IterablePandasDataset(\n",
    "    exposure_motif_df, x_cols=sequences_col, y_cols=label_cols, x_transform=one_hot,\n",
    "    y_transform=anscombe_transform\n",
    ")"
   ]
  },
  {
   "cell_type": "code",
   "execution_count": 221,
   "metadata": {},
   "outputs": [],
   "source": [
    "def mutate(seqs, start_pos, end_pos):\n",
    "    preds = {}\n",
    "    all_muts = []\n",
    "    seq_fragments = [seq[:, start_pos[i]: end_pos[i]] for i, seq in enumerate(seqs)]\n",
    "    for i, seq_frag in enumerate(tqdm(seq_fragments)):\n",
    "        start, end = start_pos[i], end_pos[i]\n",
    "        muts = generate_wt_mut_batches(seq_frag, seq_frag.shape[0] * seq_frag.shape[1]).squeeze()\n",
    "        prefixes = np.repeat(np.expand_dims(seqs[i, :, :start], axis=0), len(muts), axis=0)\n",
    "        suffixes = np.repeat(np.expand_dims(seqs[i, :, end:], axis=0), len(muts), axis=0)\n",
    "        new_seqs = np.concatenate((prefixes, muts, suffixes), axis=2)\n",
    "        all_muts.append(new_seqs)\n",
    "    return np.array(all_muts)"
   ]
  },
  {
   "cell_type": "code",
   "execution_count": 222,
   "metadata": {},
   "outputs": [],
   "source": [
    "both_motifs_sample_seqs = [x for x, y in both_motifs_dataset]"
   ]
  },
  {
   "cell_type": "code",
   "execution_count": 223,
   "metadata": {},
   "outputs": [],
   "source": [
    "exposure_motif_sample_seqs = [x for x, y in exposure_motif_dataset]"
   ]
  },
  {
   "cell_type": "code",
   "execution_count": 239,
   "metadata": {},
   "outputs": [
    {
     "data": {
      "application/vnd.jupyter.widget-view+json": {
       "model_id": "34113ba3360443438d7ddd13d057f09b",
       "version_major": 2,
       "version_minor": 0
      },
      "text/plain": [
       "HBox(children=(HTML(value=''), FloatProgress(value=0.0, max=5013.0), HTML(value='')))"
      ]
     },
     "metadata": {},
     "output_type": "display_data"
    },
    {
     "name": "stdout",
     "output_type": "stream",
     "text": [
      "\n"
     ]
    }
   ],
   "source": [
    "sample_seqs = np.array([seq for seq, label in exposure_motif_dataset])\n",
    "sample_labels = np.array([label for _, label in exposure_motif_dataset])\n",
    "sample_ranges = exposure_motif_df[['exposure_start_pos', 'exposure_end_pos']].values\n",
    "start_pos, end_pos = sample_ranges[:, 0], sample_ranges[:, 1]\n",
    "sample_seq_fragments = [seq[:, start_pos[i]: end_pos[i]] for i, seq in enumerate(sample_seqs)]\n",
    "sample_muts = mutate(sample_seqs, start_pos, end_pos)"
   ]
  },
  {
   "cell_type": "code",
   "execution_count": 225,
   "metadata": {},
   "outputs": [],
   "source": [
    "motifs = synthetic.LoadedEncodeMotifs(\n",
    "    simdna.ENCODE_MOTIFS_PATH, pseudocountProb=0.001\n",
    ")\n",
    "exposure_pwm = motifs.loadedMotifs[exposure_motif].getRows()\n",
    "outcome_pwm = motifs.loadedMotifs[outcome_motif].getRows()\n",
    "confounder_pwm = None if confounder_motif is None else motifs.loadedMotifs[confounder_motif].getRows()\n",
    "confounder_pwm"
   ]
  },
  {
   "cell_type": "code",
   "execution_count": 233,
   "metadata": {},
   "outputs": [
    {
     "data": {
      "application/vnd.jupyter.widget-view+json": {
       "model_id": "fb4b5f4f8ba64885966ae13059c917f0",
       "version_major": 2,
       "version_minor": 0
      },
      "text/plain": [
       "HBox(children=(HTML(value=''), FloatProgress(value=0.0, max=5013.0), HTML(value='')))"
      ]
     },
     "metadata": {},
     "output_type": "display_data"
    },
    {
     "name": "stdout",
     "output_type": "stream",
     "text": [
      "\n"
     ]
    }
   ],
   "source": [
    "adjusted_labels_ism = []\n",
    "for i, muts in enumerate(tqdm(sample_muts)):\n",
    "    adjusted_labels_ = simulate_oracle_predictions(\n",
    "        [one_hot_decode(mut) for mut in muts],\n",
    "        exposure_pwm,\n",
    "        outcome_pwm,\n",
    "        confounder_pwm=confounder_pwm,\n",
    "    )\n",
    "    adjusted_labels_ism.append(adjusted_labels_)"
   ]
  },
  {
   "cell_type": "code",
   "execution_count": 234,
   "metadata": {},
   "outputs": [
    {
     "data": {
      "text/plain": [
       "(5013, 6, 40)"
      ]
     },
     "execution_count": 234,
     "metadata": {},
     "output_type": "execute_result"
    }
   ],
   "source": [
    "np.array(adjusted_labels_ism).shape"
   ]
  },
  {
   "cell_type": "code",
   "execution_count": 235,
   "metadata": {},
   "outputs": [],
   "source": [
    "adjusted_labels_ism_no_conf = []\n",
    "if includes_confounder:\n",
    "    for i, muts in enumerate(tqdm(sample_muts)):\n",
    "        adjusted_labels_ = simulate_oracle_predictions(\n",
    "            [one_hot_decode(mut) for mut in muts],\n",
    "            exposure_pwm,\n",
    "            outcome_pwm,\n",
    "        )\n",
    "        adjusted_labels_ism_no_conf.append(adjusted_labels_)"
   ]
  },
  {
   "cell_type": "code",
   "execution_count": 236,
   "metadata": {},
   "outputs": [
    {
     "data": {
      "text/plain": [
       "(5013, 4, 10, 6)"
      ]
     },
     "execution_count": 236,
     "metadata": {},
     "output_type": "execute_result"
    }
   ],
   "source": [
    "fragment_length = sample_ranges[0, 1] - sample_ranges[0, 0]\n",
    "\n",
    "assert np.allclose(fragment_length, sample_ranges[:, 1] - sample_ranges[:, 0])\n",
    "adjusted_labels_ism = np.array(adjusted_labels_ism)\n",
    "adjusted_labels_ism = adjusted_labels_ism.transpose((0, 2, 1))\n",
    "adjusted_labels_ism = np.array(adjusted_labels_ism).reshape(len(sample_seqs), 4, fragment_length, -1)\n",
    "adjusted_labels_ism_anscombe = anscombe_transform(adjusted_labels_ism)\n",
    "adjusted_labels_ism_anscombe.shape"
   ]
  },
  {
   "cell_type": "code",
   "execution_count": 237,
   "metadata": {},
   "outputs": [],
   "source": [
    "if includes_confounder:\n",
    "    adjusted_labels_ism_no_conf = np.array(adjusted_labels_ism_no_conf)\n",
    "    adjusted_labels_ism_no_conf = adjusted_labels_ism_no_conf.transpose((0, 2, 1))\n",
    "    adjusted_labels_ism_no_conf = np.array(adjusted_labels_ism_no_conf).reshape(len(sample_seqs), 4, 100, -1)\n",
    "    adjusted_labels_ism_no_conf_anscombe = anscombe_transform(adjusted_labels_ism_no_conf)"
   ]
  },
  {
   "cell_type": "code",
   "execution_count": 241,
   "metadata": {},
   "outputs": [],
   "source": [
    "seq_idxs = np.array(sample_seq_fragments).astype(np.bool)\n",
    "adjusted_ref_labels_ism = adjusted_labels_ism_anscombe[seq_idxs].reshape(len(sample_seqs), 1, fragment_length, -1)\n",
    "adjusted_mut_labels_ism = adjusted_labels_ism_anscombe[~seq_idxs].reshape(len(sample_seqs), 3, fragment_length, -1)\n",
    "adjusted_diffs = adjusted_mut_labels_ism - adjusted_ref_labels_ism"
   ]
  },
  {
   "cell_type": "code",
   "execution_count": 242,
   "metadata": {},
   "outputs": [],
   "source": [
    "if includes_confounder:\n",
    "    seq_idxs = np.array(sample_seqs).astype(np.bool)\n",
    "    adjusted_ref_labels_ism_no_conf = adjusted_labels_ism_no_conf_anscombe[seq_idxs].reshape(len(sample_seqs), 1, 100, -1)\n",
    "    adjusted_mut_labels_ism_no_conf = adjusted_labels_ism_no_conf_anscombe[~seq_idxs].reshape(len(sample_seqs), 3, 100, -1)\n",
    "    adjusted_diffs_no_conf = adjusted_mut_labels_ism_no_conf - adjusted_ref_labels_ism_no_conf"
   ]
  },
  {
   "cell_type": "code",
   "execution_count": 254,
   "metadata": {},
   "outputs": [
    {
     "data": {
      "text/plain": [
       "<matplotlib.axes._subplots.AxesSubplot at 0x7f82ee10f978>"
      ]
     },
     "execution_count": 254,
     "metadata": {},
     "output_type": "execute_result"
    },
    {
     "data": {
      "image/png": "[encoded data removed]",
      "text/plain": [
       "<Figure size 432x288 with 1 Axes>"
      ]
     },
     "metadata": {
      "needs_background": "light"
     },
     "output_type": "display_data"
    }
   ],
   "source": [
    "ols_results = []\n",
    "for i in range(len(sample_seqs)):\n",
    "    x = adjusted_diffs[i, :, exposure_col + 2].flatten()\n",
    "    y = adjusted_diffs[i, :, outcome_col + 2].flatten()\n",
    "    ols_res = sm.OLS(y, x).fit()\n",
    "    ols_results.append(ols_res)\n",
    "sns.distplot([ols_res.params[0] for ols_res in ols_results])"
   ]
  },
  {
   "cell_type": "code",
   "execution_count": null,
   "metadata": {},
   "outputs": [],
   "source": [
    "ols_results = []\n",
    "for i in range(len(sample_seqs)):\n",
    "    x = adjusted_diffs[i, :, exposure_col + 2].flatten()\n",
    "    y = adjusted_diffs[i, :, outcome_col + 2].flatten()\n",
    "    ols_res = sm.OLS(y, x).fit()\n",
    "    ols_results.append(ols_res)\n",
    "sns.distplot([ols_res.params[0] for ols_res in ols_results])"
   ]
  },
  {
   "cell_type": "code",
   "execution_count": 255,
   "metadata": {},
   "outputs": [],
   "source": [
    "ism_cis = [ols_res.params[0] for ols_res in ols_results]"
   ]
  },
  {
   "cell_type": "code",
   "execution_count": 262,
   "metadata": {},
   "outputs": [],
   "source": [
    "wald_results = []\n",
    "for i in range(len(sample_seqs)):\n",
    "    wald_results.append(\n",
    "        np.mean(adjusted_diffs[i, :, outcome_col + 2].flatten()) / np.mean(adjusted_diffs[i, :, exposure_col + 2].flatten())\n",
    "    )"
   ]
  },
  {
   "cell_type": "code",
   "execution_count": 257,
   "metadata": {},
   "outputs": [
    {
     "data": {
      "text/plain": [
       "5013"
      ]
     },
     "execution_count": 257,
     "metadata": {},
     "output_type": "execute_result"
    }
   ],
   "source": [
    "len(sample_seqs)"
   ]
  },
  {
   "cell_type": "code",
   "execution_count": 263,
   "metadata": {},
   "outputs": [
    {
     "data": {
      "text/plain": [
       "<matplotlib.axes._subplots.AxesSubplot at 0x7f82ede06cf8>"
      ]
     },
     "execution_count": 263,
     "metadata": {},
     "output_type": "execute_result"
    },
    {
     "data": {
      "image/png": "[encoded data removed]",
      "text/plain": [
       "<Figure size 432x288 with 1 Axes>"
      ]
     },
     "metadata": {
      "needs_background": "light"
     },
     "output_type": "display_data"
    }
   ],
   "source": [
    "sns.distplot(wald_results, kde=False)"
   ]
  },
  {
   "cell_type": "code",
   "execution_count": 260,
   "metadata": {},
   "outputs": [
    {
     "data": {
      "text/plain": [
       "0.5365092619055613"
      ]
     },
     "execution_count": 260,
     "metadata": {},
     "output_type": "execute_result"
    }
   ],
   "source": [
    "np.mean(ism_cis)"
   ]
  },
  {
   "cell_type": "code",
   "execution_count": 259,
   "metadata": {},
   "outputs": [
    {
     "name": "stdout",
     "output_type": "stream",
     "text": [
      "../dat/sim_e2e_exp/res/2020-12-29-16-07-32/\n"
     ]
    }
   ],
   "source": [
    "output_dir = \"../dat/sim_e2e_exp/res/2020-12-29-16-07-32/\"\n",
    "print(output_dir)\n",
    "os.makedirs(output_dir, exist_ok=True)\n",
    "with open(os.path.join(output_dir, f'{exposure_name}_{outcome_name}_true_ces.csv'), 'w') as f:\n",
    "    f.write('seq, CI\\n')\n",
    "    for i, ci in enumerate(ism_cis):\n",
    "        f.write(f'{i}, {ci}\\n')"
   ]
  },
  {
   "cell_type": "code",
   "execution_count": null,
   "metadata": {},
   "outputs": [],
   "source": [
    "output_dir = os.path.join(data_dir, 'res')\n",
    "print(output_dir)\n",
    "os.makedirs(output_dir, exist_ok=True)\n",
    "with open(os.path.join(output_dir, 'GATA_TAL1_true_ces_no_conf.csv'), 'w') as f:\n",
    "    f.write('seq, CI\\n')\n",
    "    for i, ci in enumerate(ism_cis_no_conf):\n",
    "        f.write(f'{i}, {ci}\\n')"
   ]
  },
  {
   "cell_type": "code",
   "execution_count": null,
   "metadata": {},
   "outputs": [],
   "source": [
    "output_dir = os.path.join(data_dir, 'res')\n",
    "print(output_dir)\n",
    "os.makedirs(output_dir, exist_ok=True)\n",
    "with open(os.path.join(output_dir, 'GATA_TAL1_true_ces_wald.csv'), 'w') as f:\n",
    "    f.write('seq, CI\\n')\n",
    "    for i, ci in enumerate(wald_results):\n",
    "        f.write(f'{i}, {ci}\\n')"
   ]
  }
 ],
 "metadata": {
  "kernelspec": {
   "display_name": "Python 3",
   "language": "python",
   "name": "python3"
  },
  "language_info": {
   "codemirror_mode": {
    "name": "ipython",
    "version": 3
   },
   "file_extension": ".py",
   "mimetype": "text/x-python",
   "name": "python",
   "nbconvert_exporter": "python",
   "pygments_lexer": "ipython3",
   "version": "3.6.10"
  }
 },
 "nbformat": 4,
 "nbformat_minor": 4
}
