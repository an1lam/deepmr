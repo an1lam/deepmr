{
 "cells": [
  {
   "cell_type": "code",
   "execution_count": 2,
   "metadata": {},
   "outputs": [],
   "source": [
    "import os\n",
    "\n",
    "from matplotlib import pyplot as plt\n",
    "from IPython.display import clear_output\n",
    "import numpy as np\n",
    "import pandas as pd\n",
    "import seaborn as sns\n",
    "from tqdm.auto import tqdm\n",
    "import torch\n",
    "\n",
    "from in_silico_mutagenesis import compute_summary_statistics, generate_wt_mut_batches, write_results\n",
    "from pyx.one_hot import one_hot\n",
    "from tf_coop_model import CountsRegressor, IterablePandasDataset\n",
    "from tf_coop_model import anscombe_transform, run_one_epoch, spearman_rho, pearson_r\n",
    "from tf_coop_simulation import background_frequency"
   ]
  },
  {
   "cell_type": "markdown",
   "metadata": {},
   "source": [
    "# Initialize Model & Load Weights\n",
    "This step assumes we've trained a counts regression model and have its weights stored in a .pt[h] file somewhere accessible."
   ]
  },
  {
   "cell_type": "code",
   "execution_count": 3,
   "metadata": {},
   "outputs": [],
   "source": [
    "n_conv_layers = 3\n",
    "n_dense_layers = 3\n",
    "n_outputs = 2\n",
    "sequence_length = 100\n",
    "filters = 15\n",
    "filter_width = 7\n",
    "dense_layer_width = 30\n",
    "\n",
    "weights_dir = '../dat/sim/'\n",
    "weights_fname = 'cnn_counts_predictor.pt'\n",
    "test_data_fpath = '../dat/sim/test_labels.csv'\n",
    "raw_simulation_data_fpath = '../dat/sim/test_sequences.simdata'\n",
    "\n",
    "sequences_col = \"sequences\"\n",
    "label_cols = [\"labels_exp\", \"labels_out\"]\n",
    "batch_size = 1000\n",
    "\n",
    "exposure_motif = \"GATA_disc1\"\n",
    "outcome_motif = \"TAL1_known1\""
   ]
  },
  {
   "cell_type": "code",
   "execution_count": 4,
   "metadata": {},
   "outputs": [
    {
     "data": {
      "text/plain": [
       "<torch.autograd.grad_mode.set_grad_enabled at 0x7f1b4402ffd0>"
      ]
     },
     "execution_count": 4,
     "metadata": {},
     "output_type": "execute_result"
    }
   ],
   "source": [
    "torch.set_grad_enabled(False)"
   ]
  },
  {
   "cell_type": "code",
   "execution_count": 5,
   "metadata": {},
   "outputs": [],
   "source": [
    "class Ensemble:\n",
    "    def __init__(self, model_base_dir, model_fname, model_params, n_reps=5):\n",
    "        models = []\n",
    "        for i in range(1, n_reps+1):\n",
    "            model = CountsRegressor(**params)\n",
    "            model.load_state_dict(torch.load(os.path.join(model_base_dir, str(i), model_fname)))\n",
    "            models.append(model)\n",
    "        self.models = models\n",
    "\n",
    "    def predict(self, seqs, targets=None):\n",
    "        preds = {}\n",
    "        for model in self.models:\n",
    "            model_preds = model(seqs, targets=targets)\n",
    "            for key, preds_ in model_preds.items():\n",
    "                preds.setdefault(key, []).append(preds_.detach().cpu().numpy())\n",
    "        return {k: np.stack(v) for k, v in preds.items()}"
   ]
  },
  {
   "cell_type": "code",
   "execution_count": 6,
   "metadata": {},
   "outputs": [
    {
     "data": {
      "text/plain": [
       "<__main__.Ensemble at 0x7f1adcbb9710>"
      ]
     },
     "execution_count": 6,
     "metadata": {},
     "output_type": "execute_result"
    }
   ],
   "source": [
    "params = {\n",
    "    \"n_conv_layers\": n_conv_layers,\n",
    "    \"n_dense_layers\": n_dense_layers,\n",
    "    \"n_outputs\": n_outputs,\n",
    "    \"sequence_length\": sequence_length,\n",
    "    \"filters\": filters,\n",
    "    \"filter_width\": filter_width,\n",
    "    \"dense_layer_width\": dense_layer_width\n",
    "}\n",
    "ensemble_model = Ensemble(weights_dir, \"cnn_counts_predictor.pt\", params)\n",
    "ensemble_model"
   ]
  },
  {
   "cell_type": "markdown",
   "metadata": {},
   "source": [
    "# Load Test Data & Generate Predictions\n",
    "Now we're going to load test data to get some basic metrics about how well our model performs."
   ]
  },
  {
   "cell_type": "code",
   "execution_count": 7,
   "metadata": {},
   "outputs": [],
   "source": [
    "test_df = pd.read_csv(test_data_fpath)\n",
    "test_dataset = IterablePandasDataset(\n",
    "    test_df, x_cols=sequences_col, y_cols=label_cols, x_transform=one_hot,\n",
    ")\n",
    "test_data_loader = torch.utils.data.DataLoader(\n",
    "    test_dataset, batch_size=batch_size, num_workers=0\n",
    ")"
   ]
  },
  {
   "cell_type": "markdown",
   "metadata": {},
   "source": [
    "# Running Deep MR\n",
    "So we see that the model predicts both sets of outputs quite well. Now, we want to understand whether the models capture the _interaction effects_ as defined by Finkelstein and Shrikumar et al.\n",
    "\n",
    "Finkelstein et al define an interaction effect as follows. Let $ s_{GT} $ denote a sequence containing strong matches for both motifs of interest (in our case, the GATA and TAL1 motifs). Then, let $ s_{T} $ denote the result of knocking out the GATA motif from $ s_{GT} $, and $ s_{G} $ the analogous result but for the TAL1 motif. Finally, let $ s_{\\emptyset} $ denote the result of knocking out both motifs. Denoting our model as $ f $, the TAL1 motif's per-sequence main effect contribution $ M_T $ is $ f(s_{GT}) - f(s_{G}) $ and GATA's $ M_G $ is $ f(s_{GT}) - f(s_{T}). $ The joint effect contribution is $ J_{G, T} = f(s_{GT}) - f(s_{\\emptyset}). $ The interaction effect $ I_{G, T} = J_{G, T} - (M_{G} + M_{T}). $\n",
    "\n",
    "In Shrikumar et al, all effects are computed in raw counts space. Here, for purposes of making our result relevant to Deep MR, we compute interaction effects in both Anscombe-transformed space and raw counts space but focus on the validity of the former."
   ]
  },
  {
   "cell_type": "code",
   "execution_count": 8,
   "metadata": {},
   "outputs": [],
   "source": [
    "original_simulation_df = pd.read_csv(raw_simulation_data_fpath, sep=\"\\t\")"
   ]
  },
  {
   "cell_type": "code",
   "execution_count": 9,
   "metadata": {
    "scrolled": true
   },
   "outputs": [],
   "source": [
    "merged_data_df = original_simulation_df.merge(test_df, left_on=\"sequence\", right_on=\"sequences\")"
   ]
  },
  {
   "cell_type": "code",
   "execution_count": 10,
   "metadata": {},
   "outputs": [],
   "source": [
    "both_motifs_df = merged_data_df[(merged_data_df['has_exposure'] == 1) & (merged_data_df['has_outcome'] == 1)]\n",
    "exposure_motif_df = merged_data_df[merged_data_df['has_exposure'] == 1]\n",
    "outcome_motif_df = merged_data_df[merged_data_df['has_outcome'] == 1]\n",
    "neither_motif_df = merged_data_df[\n",
    "    (merged_data_df['has_exposure'] == 0) & (merged_data_df['has_outcome'] == 0)\n",
    "]"
   ]
  },
  {
   "cell_type": "code",
   "execution_count": 11,
   "metadata": {},
   "outputs": [
    {
     "data": {
      "text/plain": [
       "(2488, 5029, 4990, 2469)"
      ]
     },
     "execution_count": 11,
     "metadata": {},
     "output_type": "execute_result"
    }
   ],
   "source": [
    "len(both_motifs_df), len(exposure_motif_df), len(outcome_motif_df), len(neither_motif_df)"
   ]
  },
  {
   "cell_type": "code",
   "execution_count": 12,
   "metadata": {},
   "outputs": [],
   "source": [
    "nts = list(background_frequency.keys())\n",
    "background_probs = list(background_frequency.values())\n",
    "\n",
    "def knock_out_motifs(sequence, knock_out_targets):\n",
    "    knocked_out_sequence = sequence\n",
    "    for knock_out_target in knock_out_targets:\n",
    "        replacement_sequence = np.random.choice(\n",
    "            nts, p=background_probs, size=len(knock_out_target[\"motif_string\"])\n",
    "        )\n",
    "        replacement_sequence = \"\".join(replacement_sequence)\n",
    "        knock_out_start = knock_out_target[\"start_position\"]\n",
    "        knock_out_end = knock_out_start + len(knock_out_target[\"motif_string\"])\n",
    "        knocked_out_sequence = (\n",
    "            knocked_out_sequence[:knock_out_start] +\n",
    "            replacement_sequence +\n",
    "            knocked_out_sequence[knock_out_end:]\n",
    "        )\n",
    "    \n",
    "    assert len(knocked_out_sequence) == len(sequence), (len(knocked_out_sequence), len(sequence))\n",
    "    return knocked_out_sequence\n",
    "\n",
    "def generate_knocked_out_sequences(sequences_df, exposure_name=\"GATA\", outcome_name=\"TAL1\"):\n",
    "    exposure_knock_outs = []\n",
    "    outcome_knock_outs = []\n",
    "    both_knock_outs = []\n",
    "    for row in sequences_df.iterrows():\n",
    "        sequence = row[1]['sequence']\n",
    "        embedding_info = [embedding.split(\"_\") for embedding in row[1][\"embeddings\"].split(\",\")]\n",
    "        knock_out_targets = {}\n",
    "        for embedding in embedding_info:\n",
    "            knock_out_target = {}\n",
    "            knock_out_target[\"start_position\"] = int(embedding[0].split(\"-\")[1]) # format 'pos-<start position>'\n",
    "            knock_out_target[\"motif_type\"] = embedding[1]\n",
    "            knock_out_target[\"motif_string\"] = embedding[2].split(\"-\")[1] # format '<motif name>-<string>'\n",
    "            assert embedding[1] in (exposure_name, outcome_name)\n",
    "            knock_out_targets[embedding[1]] = knock_out_target\n",
    "            \n",
    "        assert len(knock_out_targets) == 2, len(knock_out_targets) \n",
    "\n",
    "        exposure_knock_outs.append(knock_out_motifs(sequence, [knock_out_targets[exposure_name]]))\n",
    "        outcome_knock_outs.append(knock_out_motifs(sequence, [knock_out_targets[outcome_name]]))\n",
    "        both_knock_outs.append(knock_out_motifs(sequence, knock_out_targets.values()))\n",
    "    return exposure_knock_outs, outcome_knock_outs, both_knock_outs"
   ]
  },
  {
   "cell_type": "code",
   "execution_count": 13,
   "metadata": {},
   "outputs": [],
   "source": [
    "exposure_knock_outs, outcome_knock_outs, both_knock_outs = generate_knocked_out_sequences(both_motifs_df)\n",
    "both_motifs_df['sequence_exp_knock_out'] = exposure_knock_outs\n",
    "both_motifs_df['sequence_out_knock_out'] = outcome_knock_outs\n",
    "both_motifs_df['sequence_both_knock_out'] = both_knock_outs\n",
    "clear_output();"
   ]
  },
  {
   "cell_type": "code",
   "execution_count": 14,
   "metadata": {},
   "outputs": [],
   "source": [
    "both_motifs_dataset = IterablePandasDataset(\n",
    "    both_motifs_df, x_cols=sequences_col, y_cols=label_cols, x_transform=one_hot,\n",
    ")\n",
    "both_motifs_data_loader = torch.utils.data.DataLoader(\n",
    "    both_motifs_dataset, batch_size=batch_size, num_workers=0\n",
    ")"
   ]
  },
  {
   "cell_type": "code",
   "execution_count": 15,
   "metadata": {},
   "outputs": [],
   "source": [
    "n_samples = 1000\n",
    "\n",
    "def mutate_and_predict(model, sample_dataset):\n",
    "    preds = {}\n",
    "    all_muts = []\n",
    "    for seq, label in tqdm(sample_dataset):\n",
    "        muts = generate_wt_mut_batches(seq, seq.shape[0] * seq.shape[1]).squeeze()\n",
    "        muts = muts.transpose(0, 1, 2)\n",
    "        muts = torch.from_numpy(muts)\n",
    "        label = torch.from_numpy(label)\n",
    "        preds_ = model.predict(muts, targets=label)['predictions']\n",
    "        exposure_preds = preds_[:, :, 0]\n",
    "        outcome_preds = preds_[:, :, 1]\n",
    "        preds.setdefault('exposure', []).append(exposure_preds)\n",
    "        preds.setdefault('outcome', []).append(outcome_preds)\n",
    "        all_muts.append(muts.detach().cpu().numpy())\n",
    "    return all_muts, preds"
   ]
  },
  {
   "cell_type": "code",
   "execution_count": 16,
   "metadata": {},
   "outputs": [],
   "source": [
    "both_motifs_sample_dataset, _ = torch.utils.data.random_split(\n",
    "    both_motifs_dataset, (n_samples, len(both_motifs_dataset) - n_samples)\n",
    ")\n",
    "both_motifs_sample_seqs = [x for x, y in both_motifs_dataset]"
   ]
  },
  {
   "cell_type": "code",
   "execution_count": 17,
   "metadata": {},
   "outputs": [
    {
     "data": {
      "application/vnd.jupyter.widget-view+json": {
       "model_id": "4ad88f7eedd54b3f9f7f8a462299dcef",
       "version_major": 2,
       "version_minor": 0
      },
      "text/plain": [
       "HBox(children=(FloatProgress(value=0.0, max=1000.0), HTML(value='')))"
      ]
     },
     "metadata": {},
     "output_type": "display_data"
    },
    {
     "name": "stderr",
     "output_type": "stream",
     "text": [
      "/home/stephenmalina/anaconda3/envs/deepmr/lib/python3.6/site-packages/torch/nn/modules/loss.py:431: UserWarning: Using a target size (torch.Size([2])) that is different to the input size (torch.Size([400, 2])). This will likely lead to incorrect results due to broadcasting. Please ensure they have the same size.\n",
      "  return F.mse_loss(input, target, reduction=self.reduction)\n"
     ]
    },
    {
     "name": "stdout",
     "output_type": "stream",
     "text": [
      "\n"
     ]
    }
   ],
   "source": [
    "muts, preds = mutate_and_predict(ensemble_model, both_motifs_sample_dataset)\n",
    "sample_seqs = [seq for seq, label in both_motifs_sample_dataset]"
   ]
  },
  {
   "cell_type": "code",
   "execution_count": 18,
   "metadata": {
    "scrolled": true
   },
   "outputs": [
    {
     "data": {
      "application/vnd.jupyter.widget-view+json": {
       "model_id": "b16a69b3c613449fa74af50062e64427",
       "version_major": 2,
       "version_minor": 0
      },
      "text/plain": [
       "HBox(children=(FloatProgress(value=0.0, max=1000.0), HTML(value='')))"
      ]
     },
     "metadata": {},
     "output_type": "display_data"
    },
    {
     "name": "stdout",
     "output_type": "stream",
     "text": [
      "\n"
     ]
    },
    {
     "name": "stderr",
     "output_type": "stream",
     "text": [
      "/home/stephenmalina/dev/an1lam/deepmr/src/in_silico_mutagenesis.py:168: RuntimeWarning: invalid value encountered in sqrt\n",
      "  stderrs = np.sqrt(ref_vars + mut_vars - 2 * covs)\n"
     ]
    },
    {
     "name": "stdout",
     "output_type": "stream",
     "text": [
      "../dat/sim/GATA_TAL1_effect_sizes.csv\n"
     ]
    }
   ],
   "source": [
    "exposure_col = \"exposure\"\n",
    "outcome_col = \"outcome\"\n",
    "\n",
    "formatted_preds = np.stack((preds[exposure_col], preds[outcome_col]))\n",
    "n_features, n_seqs, n_reps, n_variants = formatted_preds.shape\n",
    "formatted_preds = formatted_preds.transpose(2, 1, 3, 0)\n",
    "formatted_preds = formatted_preds.reshape(n_reps, n_seqs, 4, -1, n_features)\n",
    "\n",
    "means, mean_diffs, stderrs = compute_summary_statistics(formatted_preds, np.array(sample_seqs))\n",
    "\n",
    "results_fname = f'GATA_TAL1_effect_sizes.csv'\n",
    "results_fpath = os.path.join('../dat/sim', results_fname)\n",
    "write_results(results_fpath, mean_diffs, stderrs)\n",
    "print(results_fpath)"
   ]
  },
  {
   "cell_type": "markdown",
   "metadata": {},
   "source": [
    "# Getting the \"True\" Causal Effects"
   ]
  },
  {
   "cell_type": "code",
   "execution_count": 19,
   "metadata": {},
   "outputs": [
    {
     "data": {
      "text/plain": [
       "(1000, 400, 4, 100)"
      ]
     },
     "execution_count": 19,
     "metadata": {},
     "output_type": "execute_result"
    }
   ],
   "source": [
    "np.array(muts).shape"
   ]
  },
  {
   "cell_type": "code",
   "execution_count": 20,
   "metadata": {},
   "outputs": [],
   "source": [
    "import simdna\n",
    "from simdna import synthetic\n",
    "\n",
    "from tf_coop_simulation import simulate_counts\n",
    "from utils import one_hot_decode"
   ]
  },
  {
   "cell_type": "code",
   "execution_count": 50,
   "metadata": {},
   "outputs": [],
   "source": [
    "def simulate_adjusted_oracle_predictions(sequences, exposure_pwm, outcome_pwm, alpha=10, beta=10):\n",
    "    q_exp, q_out = simulate_counts(sequences, exposure_pwm, outcome_pwm)\n",
    "    q_exp = np.max((np.zeros_like(q_exp), q_exp - 1), axis=0) # Different / impt line in this function.\n",
    "    c_exp = alpha * q_exp\n",
    "    c_out = beta * (q_exp * q_out)\n",
    "\n",
    "    assert (np.isfinite(q_exp) & (q_exp >= 0)).all(), np.argwhere((np.isnan(q_exp) | (q_exp < 0)))\n",
    "    c_exp_noisy = np.random.poisson(lam=c_exp, size=len(c_exp))\n",
    "    c_out_noisy = np.random.poisson(lam=c_out, size=len(c_out))\n",
    "    return c_exp_noisy, c_out_noisy"
   ]
  },
  {
   "cell_type": "code",
   "execution_count": 51,
   "metadata": {},
   "outputs": [],
   "source": [
    "motifs = synthetic.LoadedEncodeMotifs(\n",
    "    simdna.ENCODE_MOTIFS_PATH, pseudocountProb=0.001\n",
    ")\n",
    "exposure_pwm = motifs.loadedMotifs[exposure_motif].getRows()\n",
    "outcome_pwm = motifs.loadedMotifs[outcome_motif].getRows()"
   ]
  },
  {
   "cell_type": "code",
   "execution_count": 52,
   "metadata": {},
   "outputs": [
    {
     "data": {
      "application/vnd.jupyter.widget-view+json": {
       "model_id": "96366ec366a34195bb0103f0faace864",
       "version_major": 2,
       "version_minor": 0
      },
      "text/plain": [
       "HBox(children=(FloatProgress(value=0.0, max=1000.0), HTML(value='')))"
      ]
     },
     "metadata": {},
     "output_type": "display_data"
    },
    {
     "name": "stdout",
     "output_type": "stream",
     "text": [
      "\n"
     ]
    }
   ],
   "source": [
    "adjusted_preds = []\n",
    "for i, seq_muts in enumerate(tqdm(muts)):\n",
    "    adjusted_preds_ = simulate_adjusted_oracle_predictions(\n",
    "        [one_hot_decode(mut) for mut in seq_muts],\n",
    "        exposure_pwm,\n",
    "        outcome_pwm\n",
    "    )\n",
    "    adjusted_preds.append(adjusted_preds_)\n",
    "adjusted_preds = np.array(adjusted_preds).reshape(n_seqs, 4, 100, -1)"
   ]
  },
  {
   "cell_type": "code",
   "execution_count": 53,
   "metadata": {},
   "outputs": [
    {
     "data": {
      "text/plain": [
       "(1000, 4, 100, 2)"
      ]
     },
     "execution_count": 53,
     "metadata": {},
     "output_type": "execute_result"
    }
   ],
   "source": [
    "adjusted_preds = adjusted_preds.reshape(n_seqs, 4, 100, -1)\n",
    "adjusted_preds.shape"
   ]
  },
  {
   "cell_type": "code",
   "execution_count": 54,
   "metadata": {},
   "outputs": [],
   "source": [
    "# Grabbed this from in_silico_mutagenesis.py\n",
    "seq_idxs = np.array(sample_seqs).astype(np.bool)\n",
    "adjusted_ref_preds = adjusted_preds[seq_idxs].reshape(n_seqs, 1, 100, -1)\n",
    "adjusted_mut_preds = adjusted_preds[~seq_idxs].reshape(n_seqs, 3, 100, -1)\n",
    "adjusted_diffs = adjusted_mut_preds - adjusted_ref_preds"
   ]
  },
  {
   "cell_type": "code",
   "execution_count": 55,
   "metadata": {},
   "outputs": [
    {
     "data": {
      "text/plain": [
       "(1000, 3, 100, 2)"
      ]
     },
     "execution_count": 55,
     "metadata": {},
     "output_type": "execute_result"
    }
   ],
   "source": [
    "adjusted_diffs.shape"
   ]
  },
  {
   "cell_type": "code",
   "execution_count": 60,
   "metadata": {},
   "outputs": [
    {
     "name": "stdout",
     "output_type": "stream",
     "text": [
      "0.2710561123737844\n"
     ]
    },
    {
     "data": {
      "image/png": "[encoded data removed]",
      "text/plain": [
       "<Figure size 432x288 with 1 Axes>"
      ]
     },
     "metadata": {
      "needs_background": "light"
     },
     "output_type": "display_data"
    }
   ],
   "source": [
    "plt.cla()\n",
    "x, y = adjusted_diffs[5, :, :, 0].flatten(), adjusted_diffs[5, :, :, 1].flatten()\n",
    "m, b = np.polyfit(x, y, 1)\n",
    "plt.scatter(x, y)\n",
    "plt.plot(x, m*x + b)\n",
    "print(m)"
   ]
  }
 ],
 "metadata": {
  "kernelspec": {
   "display_name": "Python (deepmr)",
   "language": "python",
   "name": "deepmr"
  },
  "language_info": {
   "codemirror_mode": {
    "name": "ipython",
    "version": 3
   },
   "file_extension": ".py",
   "mimetype": "text/x-python",
   "name": "python",
   "nbconvert_exporter": "python",
   "pygments_lexer": "ipython3",
   "version": "3.6.10"
  }
 },
 "nbformat": 4,
 "nbformat_minor": 4
}
