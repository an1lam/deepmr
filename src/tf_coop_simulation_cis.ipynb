{
 "cells": [
  {
   "cell_type": "code",
   "execution_count": 1,
   "metadata": {},
   "outputs": [],
   "source": [
    "import os\n",
    "\n",
    "from matplotlib import pyplot as plt\n",
    "from IPython.display import clear_output\n",
    "import numpy as np\n",
    "import pandas as pd\n",
    "import seaborn as sns\n",
    "import simdna\n",
    "from simdna import synthetic\n",
    "import statsmodels.api as sm\n",
    "import torch\n",
    "from tqdm.auto import tqdm\n",
    "\n",
    "from utils import one_hot_decode\n",
    "from in_silico_mutagenesis import compute_summary_statistics, generate_wt_mut_batches, write_results\n",
    "from pyx.one_hot import one_hot\n",
    "from tf_coop_model import CountsRegressor, IterablePandasDataset\n",
    "from tf_coop_model import anscombe_transform, run_one_epoch, spearman_rho, pearson_r\n",
    "from tf_coop_simulation import background_frequency\n",
    "from tf_coop_simulation import simulate_counts, simulate_oracle_predictions"
   ]
  },
  {
   "cell_type": "code",
   "execution_count": 2,
   "metadata": {},
   "outputs": [],
   "source": [
    "np.random.seed(42)"
   ]
  },
  {
   "cell_type": "code",
   "execution_count": 3,
   "metadata": {},
   "outputs": [],
   "source": [
    "sequence_length = 100\n",
    "\n",
    "test_data_fpath = '../dat/sim/test_labels.csv'\n",
    "raw_simulation_data_fpath = '../dat/sim/test_sequences.simdata'\n",
    "\n",
    "sequences_col = \"sequences\"\n",
    "label_cols = [\"labels_exp\", \"labels_out\"]\n",
    "batch_size = 1000\n",
    "n_samples = 10\n",
    "\n",
    "exposure_motif = \"GATA_disc1\"\n",
    "outcome_motif = \"TAL1_known1\""
   ]
  },
  {
   "cell_type": "code",
   "execution_count": 4,
   "metadata": {},
   "outputs": [
    {
     "data": {
      "text/plain": [
       "<torch.autograd.grad_mode.set_grad_enabled at 0x7fc948a81e10>"
      ]
     },
     "execution_count": 4,
     "metadata": {},
     "output_type": "execute_result"
    }
   ],
   "source": [
    "torch.set_grad_enabled(False)"
   ]
  },
  {
   "cell_type": "markdown",
   "metadata": {},
   "source": [
    "# Load Test Data & Generate Predictions\n",
    "Now we're going to load test data to get some basic metrics about how well our model performs."
   ]
  },
  {
   "cell_type": "code",
   "execution_count": 5,
   "metadata": {},
   "outputs": [],
   "source": [
    "test_df = pd.read_csv(test_data_fpath)\n",
    "test_dataset = IterablePandasDataset(\n",
    "    test_df, x_cols=sequences_col, y_cols=label_cols, x_transform=one_hot,\n",
    ")\n",
    "test_data_loader = torch.utils.data.DataLoader(\n",
    "    test_dataset, batch_size=batch_size, num_workers=0\n",
    ")"
   ]
  },
  {
   "cell_type": "code",
   "execution_count": 6,
   "metadata": {},
   "outputs": [],
   "source": [
    "original_simulation_df = pd.read_csv(raw_simulation_data_fpath, sep=\"\\t\")"
   ]
  },
  {
   "cell_type": "code",
   "execution_count": 7,
   "metadata": {
    "scrolled": true
   },
   "outputs": [],
   "source": [
    "merged_data_df = original_simulation_df.merge(test_df, left_on=\"sequence\", right_on=\"sequences\")"
   ]
  },
  {
   "cell_type": "code",
   "execution_count": 8,
   "metadata": {},
   "outputs": [],
   "source": [
    "both_motifs_df = merged_data_df[(merged_data_df['has_both'] == 1) & (merged_data_df['has_outcome'] == 1)]\n",
    "exposure_motif_df = merged_data_df[(merged_data_df['has_exposure']) == 1 & ~(merged_data_df['has_both'] == 1)]\n",
    "outcome_motif_df = merged_data_df[(merged_data_df['has_outcome'] == 1) & ~(merged_data_df['has_both'] == 1)]\n",
    "neither_motif_df = merged_data_df[\n",
    "    (merged_data_df['has_exposure'] == 0) & (merged_data_df['has_outcome'] == 0)\n",
    "]"
   ]
  },
  {
   "cell_type": "code",
   "execution_count": 9,
   "metadata": {},
   "outputs": [
    {
     "data": {
      "text/plain": [
       "(3392, 3379, 3229, 0)"
      ]
     },
     "execution_count": 9,
     "metadata": {},
     "output_type": "execute_result"
    }
   ],
   "source": [
    "len(both_motifs_df), len(exposure_motif_df), len(outcome_motif_df), len(neither_motif_df)"
   ]
  },
  {
   "cell_type": "code",
   "execution_count": 10,
   "metadata": {},
   "outputs": [],
   "source": [
    "both_motifs_dataset = IterablePandasDataset(\n",
    "    both_motifs_df, x_cols=sequences_col, y_cols=label_cols, x_transform=one_hot,\n",
    ")\n",
    "exposure_motif_dataset = IterablePandasDataset(\n",
    "    exposure_motif_df, x_cols=sequences_col, y_cols=label_cols, x_transform=one_hot,\n",
    ")"
   ]
  },
  {
   "cell_type": "code",
   "execution_count": 11,
   "metadata": {},
   "outputs": [],
   "source": [
    "def mutate(seqs):\n",
    "    preds = {}\n",
    "    all_muts = []\n",
    "    for seq in tqdm(seqs):\n",
    "        muts = generate_wt_mut_batches(seq, seq.shape[0] * seq.shape[1]).squeeze()\n",
    "        muts = muts.transpose(0, 1, 2)\n",
    "        all_muts.append(muts)\n",
    "    return np.array(all_muts)"
   ]
  },
  {
   "cell_type": "code",
   "execution_count": 12,
   "metadata": {},
   "outputs": [],
   "source": [
    "both_motifs_sample_seqs = [x for x, y in both_motifs_dataset]"
   ]
  },
  {
   "cell_type": "code",
   "execution_count": 13,
   "metadata": {},
   "outputs": [],
   "source": [
    "exposure_motif_sample_seqs = [x for x, y in exposure_motif_dataset]"
   ]
  },
  {
   "cell_type": "code",
   "execution_count": null,
   "metadata": {},
   "outputs": [
    {
     "data": {
      "application/vnd.jupyter.widget-view+json": {
       "model_id": "59961884c059427cbb52061b8f2781df",
       "version_major": 2,
       "version_minor": 0
      },
      "text/plain": [
       "HBox(children=(FloatProgress(value=0.0, max=3392.0), HTML(value='')))"
      ]
     },
     "metadata": {},
     "output_type": "display_data"
    },
    {
     "name": "stdout",
     "output_type": "stream",
     "text": [
      "\n"
     ]
    }
   ],
   "source": [
    "sample_seqs = np.array([seq for seq, label in both_motifs_dataset])\n",
    "sample_labels = np.array([label for _, label in both_motifs_dataset])\n",
    "sample_muts = mutate(sample_seqs)"
   ]
  },
  {
   "cell_type": "code",
   "execution_count": null,
   "metadata": {},
   "outputs": [],
   "source": [
    "np.random.seed(42)\n",
    "\n",
    "def simulate_adjusted_oracle_predictions(sequences, exposure_pwm, outcome_pwm, alpha=100, beta=100, perturb_by=1):\n",
    "    q_exp, q_out = simulate_counts(sequences, exposure_pwm, outcome_pwm)\n",
    "    q_exp = np.max((np.zeros_like(q_exp), q_exp-perturb_by), axis=0) # Different / impt line in this function.\n",
    "    c_exp = alpha * q_exp\n",
    "    c_out = beta * (q_exp * q_out)\n",
    "    assert (np.isfinite(q_exp) & (q_exp >= 0)).all(), np.argwhere((np.isnan(q_exp) | (q_exp < 0)))\n",
    "    c_exp_noisy = np.random.poisson(lam=c_exp, size=len(c_exp))\n",
    "    c_out_noisy = np.random.poisson(lam=c_out, size=len(c_out))\n",
    "    return c_exp_noisy, c_out_noisy"
   ]
  },
  {
   "cell_type": "code",
   "execution_count": null,
   "metadata": {},
   "outputs": [],
   "source": [
    "motifs = synthetic.LoadedEncodeMotifs(\n",
    "    simdna.ENCODE_MOTIFS_PATH, pseudocountProb=0.001\n",
    ")\n",
    "exposure_pwm = motifs.loadedMotifs[exposure_motif].getRows()\n",
    "outcome_pwm = motifs.loadedMotifs[outcome_motif].getRows()"
   ]
  },
  {
   "cell_type": "code",
   "execution_count": null,
   "metadata": {},
   "outputs": [],
   "source": [
    "# In-silico mut way of generating estimates\n",
    "original_labels_scm = simulate_adjusted_oracle_predictions(\n",
    "    [one_hot_decode(seq) for seq in sample_seqs],\n",
    "    exposure_pwm,\n",
    "    outcome_pwm,\n",
    "    perturb_by=0\n",
    ")\n",
    "adjusted_labels_scm = simulate_adjusted_oracle_predictions(\n",
    "    [one_hot_decode(seq) for seq in sample_seqs],\n",
    "    exposure_pwm,\n",
    "    outcome_pwm,\n",
    "    perturb_by=.75\n",
    ")\n",
    "original_labels_scm = np.array(original_labels_scm)\n",
    "adjusted_labels_scm = np.array(adjusted_labels_scm)\n",
    "original_labels_scm, adjusted_labels_scm"
   ]
  },
  {
   "cell_type": "code",
   "execution_count": null,
   "metadata": {},
   "outputs": [],
   "source": [
    "original_labels_scm.shape, adjusted_labels_scm.shape"
   ]
  },
  {
   "cell_type": "code",
   "execution_count": null,
   "metadata": {},
   "outputs": [],
   "source": [
    "scm_cis = ((adjusted_labels_scm[1, :] - original_labels_scm[1, :]) / \n",
    "           (adjusted_labels_scm[0, :] - original_labels_scm[0, :]))"
   ]
  },
  {
   "cell_type": "code",
   "execution_count": null,
   "metadata": {},
   "outputs": [],
   "source": [
    "original_labels_scm_anscombe = anscombe_transform(original_labels_scm)\n",
    "adjusted_labels_scm_anscombe = anscombe_transform(adjusted_labels_scm)"
   ]
  },
  {
   "cell_type": "code",
   "execution_count": null,
   "metadata": {},
   "outputs": [],
   "source": [
    "scm_cis_anscombe = (\n",
    "    (adjusted_labels_scm_anscombe[1, :] - original_labels_scm_anscombe[1, :]) / \n",
    "    (adjusted_labels_scm_anscombe[0, :] - original_labels_scm_anscombe[0, :])\n",
    ")"
   ]
  },
  {
   "cell_type": "code",
   "execution_count": null,
   "metadata": {},
   "outputs": [],
   "source": [
    "adjusted_labels_ism = []\n",
    "for i, muts in enumerate(tqdm(sample_muts)):\n",
    "    adjusted_labels_ = simulate_oracle_predictions(\n",
    "        [one_hot_decode(mut) for mut in muts],\n",
    "        exposure_pwm,\n",
    "        outcome_pwm\n",
    "    )\n",
    "    adjusted_labels_ism.append(adjusted_labels_)\n",
    "adjusted_labels_ism = np.array(adjusted_labels_ism).reshape(len(sample_seqs), 4, 100, -1)\n",
    "adjusted_labels_ism_anscombe = anscombe_transform(adjusted_labels_ism)"
   ]
  },
  {
   "cell_type": "code",
   "execution_count": null,
   "metadata": {},
   "outputs": [],
   "source": [
    "seq_idxs = np.array(sample_seqs).astype(np.bool)\n",
    "adjusted_ref_labels_ism = adjusted_labels_ism_anscombe[seq_idxs].reshape(len(sample_seqs), 1, 100, -1)\n",
    "adjusted_mut_labels_ism = adjusted_labels_ism_anscombe[~seq_idxs].reshape(len(sample_seqs), 3, 100, -1)\n",
    "adjusted_diffs = adjusted_mut_labels_ism - adjusted_ref_labels_ism"
   ]
  },
  {
   "cell_type": "code",
   "execution_count": null,
   "metadata": {},
   "outputs": [],
   "source": [
    "ism_cis = []\n",
    "for i in range(len(sample_seqs)):\n",
    "    x = sm.add_constant(adjusted_diffs[i, :, :, 0].flatten(), prepend=False)\n",
    "    y = adjusted_diffs[i, :, :, 1].flatten()\n",
    "    ols_res = sm.OLS(y, x).fit()\n",
    "    ism_cis.append(ols_res.params[0])"
   ]
  },
  {
   "cell_type": "code",
   "execution_count": null,
   "metadata": {},
   "outputs": [],
   "source": [
    "scm_cis_anscombe[:10], ism_cis[:10]"
   ]
  },
  {
   "cell_type": "code",
   "execution_count": null,
   "metadata": {},
   "outputs": [],
   "source": [
    "np.mean(scm_cis_anscombe), np.mean(ism_cis), np.std(scm_cis_anscombe), np.std(ism_cis)"
   ]
  },
  {
   "cell_type": "code",
   "execution_count": null,
   "metadata": {},
   "outputs": [],
   "source": [
    "model_eff_sizes = pd.read_csv(\"../dat/sim/GATA_TAL1_effect_sizes_v2.csv\")\n",
    "model_eff_sizes.head()"
   ]
  },
  {
   "cell_type": "code",
   "execution_count": null,
   "metadata": {},
   "outputs": [],
   "source": [
    "sample_model_eff_sizes = model_eff_sizes[model_eff_sizes.seq_num == 1]"
   ]
  },
  {
   "cell_type": "code",
   "execution_count": null,
   "metadata": {},
   "outputs": [],
   "source": [
    "plt.scatter(sample_model_eff_sizes.X_pred_mean.values, adjusted_diffs[0][:, :, 0])"
   ]
  },
  {
   "cell_type": "code",
   "execution_count": null,
   "metadata": {},
   "outputs": [],
   "source": [
    "plt.scatter(sample_model_eff_sizes.Y_pred_mean.values, adjusted_diffs[0][:, :, 1])"
   ]
  },
  {
   "cell_type": "code",
   "execution_count": null,
   "metadata": {},
   "outputs": [],
   "source": [
    "adjusted_labels_ism_anscombe.shape\n",
    "plt.scatter(adjusted_labels_ism_anscombe[0, :, :, 0], adjusted_labels_ism_anscombe[0, :, :, 1])"
   ]
  },
  {
   "cell_type": "code",
   "execution_count": null,
   "metadata": {},
   "outputs": [],
   "source": [
    "model_means = np.load(\"GATA_TAL1_means_v3.npy\")"
   ]
  },
  {
   "cell_type": "code",
   "execution_count": null,
   "metadata": {},
   "outputs": [],
   "source": [
    "plt.scatter(model_means[2, :, :, 0], adjusted_labels_ism_anscombe[2, :, :, 0])"
   ]
  },
  {
   "cell_type": "code",
   "execution_count": null,
   "metadata": {},
   "outputs": [],
   "source": [
    "plt.scatter(np.arange(100), original_labels_scm[0, :100])"
   ]
  }
 ],
 "metadata": {
  "kernelspec": {
   "display_name": "Python 3",
   "language": "python",
   "name": "python3"
  },
  "language_info": {
   "codemirror_mode": {
    "name": "ipython",
    "version": 3
   },
   "file_extension": ".py",
   "mimetype": "text/x-python",
   "name": "python",
   "nbconvert_exporter": "python",
   "pygments_lexer": "ipython3",
   "version": "3.6.10"
  }
 },
 "nbformat": 4,
 "nbformat_minor": 4
}
