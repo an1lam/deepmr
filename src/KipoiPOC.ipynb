{
 "cells": [
  {
   "cell_type": "markdown",
   "metadata": {},
   "source": [
    "## Imports and model initialization"
   ]
  },
  {
   "cell_type": "code",
   "execution_count": null,
   "metadata": {},
   "outputs": [],
   "source": [
    "# !pip install kipoi\n",
    "# !pip install kipoiseq\n",
    "# !pip install pybedtools\n",
    "# !pip uninstall -y kipoi_veff\n",
    "# !pip install git+https://github.com/an1lam/kipoi-veff\n",
    "# !pip install pyvcf\n",
    "import kipoi\n",
    "from kipoi_interpret.importance_scores.ism import Mutation\n",
    "from kipoiseq.dataloaders import SeqIntervalDl\n",
    "import numpy as np"
   ]
  },
  {
   "cell_type": "code",
   "execution_count": null,
   "metadata": {},
   "outputs": [],
   "source": [
    "import tensorflow as tf\n",
    "print(\"TF version:\", tf.__version__)\n",
    "import torch\n",
    "print(\"torch version:\", torch.__version__)"
   ]
  },
  {
   "cell_type": "code",
   "execution_count": null,
   "metadata": {},
   "outputs": [],
   "source": [
    "# df = kipoi.list_models()\n",
    "# deepsea_models = df[df.model.str.contains(\"DeepSEA\")]\n",
    "# deepsea_models.head()"
   ]
  },
  {
   "cell_type": "code",
   "execution_count": null,
   "metadata": {},
   "outputs": [],
   "source": [
    "deepsea = kipoi.get_model(\"DeepSEA/variantEffects\", source=\"kipoi\")"
   ]
  },
  {
   "cell_type": "markdown",
   "metadata": {},
   "source": [
    "## Predictions and in-silico mutagenesis"
   ]
  },
  {
   "cell_type": "code",
   "execution_count": null,
   "metadata": {},
   "outputs": [],
   "source": [
    "dl = SeqIntervalDl(\"../dat/ChIPseq.A549.CTCF.1000.random.narrowPeak.gz\", \"../dat/hg19.fa\", auto_resize_len=1000)\n",
    "data = dl.load_all()"
   ]
  },
  {
   "cell_type": "code",
   "execution_count": null,
   "metadata": {},
   "outputs": [],
   "source": [
    "seqs = np.expand_dims(data['inputs'].transpose(0, 2, 1), 2).astype(np.float32)\n",
    "seqs.shape"
   ]
  },
  {
   "cell_type": "code",
   "execution_count": null,
   "metadata": {},
   "outputs": [],
   "source": [
    "CHROM_ACC_COL = 'A549_DNase_None'\n",
    "TF_COL = 'A549_CTCF_None'\n",
    "relevant_cols = sorted([(i, label)\n",
    "                        for i, label in enumerate(deepsea.schema.targets.column_labels)\n",
    "                        if label in [CHROM_ACC_COL, TF_COL]])\n",
    "\n",
    "def output_sel_fn(result):\n",
    "    return np.array([result[col_idx] for col_idx, _ in relevant_cols])\n",
    "\n",
    "relevant_cols"
   ]
  },
  {
   "cell_type": "code",
   "execution_count": null,
   "metadata": {},
   "outputs": [],
   "source": [
    "ism = Mutation(deepsea, \"seq\", scores=['ref', 'diff'], output_sel_fn=output_sel_fn)\n",
    "ism_score = np.array(ism.score(seqs))"
   ]
  },
  {
   "cell_type": "code",
   "execution_count": null,
   "metadata": {},
   "outputs": [],
   "source": [
    "np.squeeze(ism_score).shape"
   ]
  },
  {
   "cell_type": "code",
   "execution_count": null,
   "metadata": {},
   "outputs": [],
   "source": [
    "zeros = np.zeros((2, 3))\n",
    "def sanitize_scores(scores):\n",
    "    orig_shape = scores.shape\n",
    "    sanitized_scores = np.ndarray((*orig_shape, 2, 3), dtype=scores.dtype)\n",
    "    flattened_scores = scores.reshape(-1)\n",
    "    \n",
    "    for i, score in enumerate(flattened_scores):\n",
    "        idx = np.unravel_index(i, orig_shape)\n",
    "        if score is None: sanitized_scores[idx] = zeros\n",
    "        else: sanitized_scores[idx] = np.array(score)\n",
    "    return sanitized_scores\n",
    "\n",
    "sanitized_scores = sanitize_scores(np.squeeze(ism_score))\n",
    "ctcf_original_preds = sanitized_scores[:, :, :, 0, 1]\n",
    "ctcf_pred_diffs = sanitized_scores[:, :, :, 1, 1]\n",
    "dnase_original_preds = sanitized_scores[:, :, :, 0, 0]\n",
    "dnase_pred_diff = sanitized_scores[:, :, :, 1, 0]"
   ]
  },
  {
   "cell_type": "code",
   "execution_count": null,
   "metadata": {},
   "outputs": [],
   "source": [
    "import math\n",
    "import numpy as np\n",
    "\n",
    "log_uniform_prop = math.log(.05/(1-.05))\n",
    "def compute_normalized_prob(prob, train_prob):\n",
    "    denom = 1+np.exp(-(np.log(prob/(1-prob))+log_uniform_prop-np.log(train_prob/(1-train_prob))))\n",
    "    return 1 / denom\n",
    "\n",
    "# Ratios and normalization formula drawn from here: http://deepsea.princeton.edu/media/help/posproportion.txt\n",
    "tf_compute_normalized_prob = lambda prob: compute_normalized_prob(prob, .020029)\n",
    "# ENCODE\tA549\tDNase\tNone\t0.048136\n",
    "chrom_acc_normalized_prob = lambda prob: compute_normalized_prob(prob, 0.048136)"
   ]
  },
  {
   "cell_type": "code",
   "execution_count": null,
   "metadata": {},
   "outputs": [],
   "source": [
    "IDX_TO_NT = 'ACGT'\n",
    "\n",
    "def _convert_to_mutation(pos_nt_pair):\n",
    "    return \"%d%s\" % (pos_nt_pair[1], IDX_TO_NT[pos_nt_pair[0]])\n",
    "\n",
    "def find_best_mutation(mutation_map, sign=1):\n",
    "    seq_len = mutation_map.shape[1]\n",
    "    best_mute = None\n",
    "    best_mute_effect = 0\n",
    "    second_best_mute = None\n",
    "    second_best_mute_effect = 0\n",
    "    for seq_idx in range(seq_len):  # iterate over sequence\n",
    "        best_out_of_nts_mute = None\n",
    "        best_out_of_nts_mute_effect = 0 \n",
    "        for nt_idx in range(4):  # iterate over nucleotides\n",
    "            current_effect = mutation_map[nt_idx, seq_idx]\n",
    "            \n",
    "            if sign * current_effect > sign * best_out_of_nts_mute_effect:\n",
    "                best_out_of_nts_mute_effect = current_effect\n",
    "                best_out_of_nts_mute = (nt_idx, seq_idx)\n",
    "\n",
    "        # TODO(Stephen): the right way to do this is to have a heap, squish the 2D array into a 1D\n",
    "        # array of (effect, (seq_idx, nt_idx)) tuples and then take the top-k from the heap, but\n",
    "        # I'm too lazy to do this right now.\n",
    "        if sign * best_out_of_nts_mute_effect > (sign * best_mute_effect):\n",
    "            best_mute_effect = best_out_of_nts_mute_effect\n",
    "            best_mute = best_out_of_nts_mute\n",
    "        elif sign * best_out_of_nts_mute_effect > (sign * second_best_mute_effect):\n",
    "            second_best_mute_effect = best_out_of_nts_mute_effect\n",
    "            second_best_mute = best_out_of_nts_mute \n",
    "    print(best_mute, best_mute_effect, second_best_mute, second_best_mute_effect)\n",
    "    return [best_mute, second_best_mute]\n",
    "\n",
    "\n",
    "import csv\n",
    "\n",
    "mut_effects_fpath = \"../dat/mut_effects_1.csv\"\n",
    "with open(mut_effects_fpath, 'w', newline=\"\") as out_file:\n",
    "    fieldnames = [\n",
    "        \"initial X prediction\",\n",
    "        \"new X prediction\",\n",
    "        \"initial Y prediction\",\n",
    "        \"new Y prediction\",\n",
    "        \"mutation\",\n",
    "    ]\n",
    "    writer = csv.DictWriter(out_file, delimiter=\",\", fieldnames=fieldnames)\n",
    "    writer.writeheader()\n",
    "    \n",
    "    for i, ctcf_pred_diff in enumerate(ctcf_pred_diffs):\n",
    "        best_mut_idx, best_mut_effect = find_best_mutation(ctcf_pred_diff, sign=-1)\n",
    "        nt_idx, seq_idx = best_mut_idx\n",
    "        ctcf_original_pred = ctcf_original_preds[i][nt_idx, seq_idx]\n",
    "        ctcf_new_pred = ctcf_original_pred + ctcf_pred_diff[nt_idx, seq_idx]\n",
    "        dnase_original_pred = dnase_original_preds[i][nt_idx, seq_idx]\n",
    "        dnase_pred_diff = dnase_pred_diffs[i][nt_idx, seq_idx]\n",
    "        dnase_new_prd = dnase_original_pred + dnase_pred_diff\n",
    "        writer.writerow(\n",
    "            {\n",
    "                \"initial X prediction\": ctcf_original_pred,\n",
    "                \"new X prediction\": ctcf_new_pred,\n",
    "                \"initial Y prediction\": dnase_original_pred,\n",
    "                \"new Y prediction\": dnase_new_pred,\n",
    "                \"mutation\": _convert_to_mutation(best_mut_idx),\n",
    "            }\n",
    "        )\n",
    "        \n"
   ]
  }
 ],
 "metadata": {
  "kernelspec": {
   "display_name": "Python 3",
   "language": "python",
   "name": "python3"
  },
  "language_info": {
   "codemirror_mode": {
    "name": "ipython",
    "version": 3
   },
   "file_extension": ".py",
   "mimetype": "text/x-python",
   "name": "python",
   "nbconvert_exporter": "python",
   "pygments_lexer": "ipython3",
   "version": "3.7.4"
  }
 },
 "nbformat": 4,
 "nbformat_minor": 4
}
