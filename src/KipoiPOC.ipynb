{
 "cells": [
  {
   "cell_type": "markdown",
   "metadata": {},
   "source": [
    "## Imports and model initialization"
   ]
  },
  {
   "cell_type": "code",
   "execution_count": 1,
   "metadata": {},
   "outputs": [],
   "source": [
    "# !pip install kipoi\n",
    "# !pip install kipoiseq\n",
    "# !pip install pybedtools\n",
    "# !pip uninstall -y kipoi_veff\n",
    "# !pip install git+https://github.com/an1lam/kipoi-veff\n",
    "# !pip install pyvcf\n",
    "import kipoi\n",
    "from kipoi_interpret.importance_scores.ism import Mutation\n",
    "from kipoiseq.dataloaders import SeqIntervalDl\n",
    "import numpy as np"
   ]
  },
  {
   "cell_type": "code",
   "execution_count": 2,
   "metadata": {},
   "outputs": [
    {
     "name": "stdout",
     "output_type": "stream",
     "text": [
      "/home/stephenmalina/project/src\r\n"
     ]
    }
   ],
   "source": [
    "!pwd"
   ]
  },
  {
   "cell_type": "markdown",
   "metadata": {},
   "source": [
    "# Loading DNA sequence data"
   ]
  },
  {
   "cell_type": "code",
   "execution_count": 16,
   "metadata": {
    "scrolled": true
   },
   "outputs": [
    {
     "name": "stderr",
     "output_type": "stream",
     "text": [
      "100%|██████████| 32/32 [00:00<00:00, 32.41it/s]\n"
     ]
    }
   ],
   "source": [
    "dl = SeqIntervalDl(\"../dat/ChIPseq.A549.CTCF.1000.random.narrowPeak.gz\", \"../dat/hg19.fa\", auto_resize_len=1000)\n",
    "data = dl.load_all()"
   ]
  },
  {
   "cell_type": "code",
   "execution_count": 4,
   "metadata": {
    "scrolled": true
   },
   "outputs": [
    {
     "data": {
      "text/plain": [
       "(1001, 4, 1, 1000)"
      ]
     },
     "execution_count": 4,
     "metadata": {},
     "output_type": "execute_result"
    }
   ],
   "source": [
    "seqs = np.expand_dims(data['inputs'].transpose(0, 2, 1), 2).astype(np.float32)\n",
    "seqs.shape"
   ]
  },
  {
   "cell_type": "markdown",
   "metadata": {},
   "source": [
    "# Loading DeepSEA"
   ]
  },
  {
   "cell_type": "code",
   "execution_count": 5,
   "metadata": {
    "collapsed": true
   },
   "outputs": [
    {
     "name": "stderr",
     "output_type": "stream",
     "text": [
      "/opt/anaconda3/lib/python3.7/site-packages/tensorflow/python/framework/dtypes.py:516: FutureWarning: Passing (type, 1) or '1type' as a synonym of type is deprecated; in a future version of numpy, it will be understood as (type, (1,)) / '(1,)type'.\n",
      "  _np_qint8 = np.dtype([(\"qint8\", np.int8, 1)])\n",
      "/opt/anaconda3/lib/python3.7/site-packages/tensorflow/python/framework/dtypes.py:517: FutureWarning: Passing (type, 1) or '1type' as a synonym of type is deprecated; in a future version of numpy, it will be understood as (type, (1,)) / '(1,)type'.\n",
      "  _np_quint8 = np.dtype([(\"quint8\", np.uint8, 1)])\n",
      "/opt/anaconda3/lib/python3.7/site-packages/tensorflow/python/framework/dtypes.py:518: FutureWarning: Passing (type, 1) or '1type' as a synonym of type is deprecated; in a future version of numpy, it will be understood as (type, (1,)) / '(1,)type'.\n",
      "  _np_qint16 = np.dtype([(\"qint16\", np.int16, 1)])\n",
      "/opt/anaconda3/lib/python3.7/site-packages/tensorflow/python/framework/dtypes.py:519: FutureWarning: Passing (type, 1) or '1type' as a synonym of type is deprecated; in a future version of numpy, it will be understood as (type, (1,)) / '(1,)type'.\n",
      "  _np_quint16 = np.dtype([(\"quint16\", np.uint16, 1)])\n",
      "/opt/anaconda3/lib/python3.7/site-packages/tensorflow/python/framework/dtypes.py:520: FutureWarning: Passing (type, 1) or '1type' as a synonym of type is deprecated; in a future version of numpy, it will be understood as (type, (1,)) / '(1,)type'.\n",
      "  _np_qint32 = np.dtype([(\"qint32\", np.int32, 1)])\n",
      "/opt/anaconda3/lib/python3.7/site-packages/tensorflow/python/framework/dtypes.py:525: FutureWarning: Passing (type, 1) or '1type' as a synonym of type is deprecated; in a future version of numpy, it will be understood as (type, (1,)) / '(1,)type'.\n",
      "  np_resource = np.dtype([(\"resource\", np.ubyte, 1)])\n",
      "/opt/anaconda3/lib/python3.7/site-packages/tensorboard/compat/tensorflow_stub/dtypes.py:541: FutureWarning: Passing (type, 1) or '1type' as a synonym of type is deprecated; in a future version of numpy, it will be understood as (type, (1,)) / '(1,)type'.\n",
      "  _np_qint8 = np.dtype([(\"qint8\", np.int8, 1)])\n",
      "/opt/anaconda3/lib/python3.7/site-packages/tensorboard/compat/tensorflow_stub/dtypes.py:542: FutureWarning: Passing (type, 1) or '1type' as a synonym of type is deprecated; in a future version of numpy, it will be understood as (type, (1,)) / '(1,)type'.\n",
      "  _np_quint8 = np.dtype([(\"quint8\", np.uint8, 1)])\n",
      "/opt/anaconda3/lib/python3.7/site-packages/tensorboard/compat/tensorflow_stub/dtypes.py:543: FutureWarning: Passing (type, 1) or '1type' as a synonym of type is deprecated; in a future version of numpy, it will be understood as (type, (1,)) / '(1,)type'.\n",
      "  _np_qint16 = np.dtype([(\"qint16\", np.int16, 1)])\n",
      "/opt/anaconda3/lib/python3.7/site-packages/tensorboard/compat/tensorflow_stub/dtypes.py:544: FutureWarning: Passing (type, 1) or '1type' as a synonym of type is deprecated; in a future version of numpy, it will be understood as (type, (1,)) / '(1,)type'.\n",
      "  _np_quint16 = np.dtype([(\"quint16\", np.uint16, 1)])\n",
      "/opt/anaconda3/lib/python3.7/site-packages/tensorboard/compat/tensorflow_stub/dtypes.py:545: FutureWarning: Passing (type, 1) or '1type' as a synonym of type is deprecated; in a future version of numpy, it will be understood as (type, (1,)) / '(1,)type'.\n",
      "  _np_qint32 = np.dtype([(\"qint32\", np.int32, 1)])\n",
      "/opt/anaconda3/lib/python3.7/site-packages/tensorboard/compat/tensorflow_stub/dtypes.py:550: FutureWarning: Passing (type, 1) or '1type' as a synonym of type is deprecated; in a future version of numpy, it will be understood as (type, (1,)) / '(1,)type'.\n",
      "  np_resource = np.dtype([(\"resource\", np.ubyte, 1)])\n"
     ]
    },
    {
     "name": "stdout",
     "output_type": "stream",
     "text": [
      "TF version: 1.14.0\n",
      "torch version: 1.3.1\n"
     ]
    }
   ],
   "source": [
    "import tensorflow as tf\n",
    "print(\"TF version:\", tf.__version__)\n",
    "import torch\n",
    "print(\"torch version:\", torch.__version__)\n",
    "from torch import nn"
   ]
  },
  {
   "cell_type": "code",
   "execution_count": 6,
   "metadata": {},
   "outputs": [],
   "source": [
    "# df = kipoi.list_models()\n",
    "# deepsea_models = df[df.model.str.contains(\"DeepSEA\")]\n",
    "# deepsea_models.head()"
   ]
  },
  {
   "cell_type": "code",
   "execution_count": 6,
   "metadata": {
    "collapsed": true
   },
   "outputs": [
    {
     "name": "stdout",
     "output_type": "stream",
     "text": [
      "Using downloaded and verified file: /home/stephenmalina/.kipoi/models/DeepSEA/predict/downloaded/model_files/weights/89e640bf6bdbe1ff165f484d9796efc7\n"
     ]
    },
    {
     "data": {
      "text/plain": [
       "Sequential(\n",
       "  (0): ReCodeAlphabet()\n",
       "  (1): ConcatenateRC()\n",
       "  (2): Sequential(\n",
       "    (0): Conv2d(4, 320, kernel_size=(1, 8), stride=(1, 1))\n",
       "    (1): Threshold(threshold=0, value=1e-06)\n",
       "    (2): MaxPool2d(kernel_size=(1, 4), stride=(1, 4), padding=0, dilation=1, ceil_mode=False)\n",
       "    (3): Dropout(p=0.2, inplace=False)\n",
       "    (4): Conv2d(320, 480, kernel_size=(1, 8), stride=(1, 1))\n",
       "    (5): Threshold(threshold=0, value=1e-06)\n",
       "    (6): MaxPool2d(kernel_size=(1, 4), stride=(1, 4), padding=0, dilation=1, ceil_mode=False)\n",
       "    (7): Dropout(p=0.2, inplace=False)\n",
       "    (8): Conv2d(480, 960, kernel_size=(1, 8), stride=(1, 1))\n",
       "    (9): Threshold(threshold=0, value=1e-06)\n",
       "    (10): Dropout(p=0.5, inplace=False)\n",
       "    (11): Lambda()\n",
       "    (12): Sequential(\n",
       "      (0): Lambda()\n",
       "      (1): Linear(in_features=50880, out_features=925, bias=True)\n",
       "    )\n",
       "    (13): Threshold(threshold=0, value=1e-06)\n",
       "    (14): Sequential(\n",
       "      (0): Lambda()\n",
       "      (1): Linear(in_features=925, out_features=919, bias=True)\n",
       "    )\n",
       "    (15): Sigmoid()\n",
       "  )\n",
       "  (3): AverageRC()\n",
       ")"
      ]
     },
     "execution_count": 6,
     "metadata": {},
     "output_type": "execute_result"
    }
   ],
   "source": [
    "deepsea = kipoi.get_model(\"DeepSEA/predict\", source=\"kipoi\")\n",
    "deepsea.model"
   ]
  },
  {
   "cell_type": "code",
   "execution_count": 7,
   "metadata": {},
   "outputs": [
    {
     "name": "stderr",
     "output_type": "stream",
     "text": [
      "100%|██████████| 1/1 [00:00<00:00,  1.32it/s]\n"
     ]
    },
    {
     "data": {
      "text/plain": [
       "(10, 919)"
      ]
     },
     "execution_count": 7,
     "metadata": {},
     "output_type": "execute_result"
    }
   ],
   "source": [
    "deepsea.pipeline.predict_example().shape"
   ]
  },
  {
   "cell_type": "markdown",
   "metadata": {},
   "source": [
    "# Hacking DeepSEA's layers\n",
    "This section is focused on tweaking DeepSEA's model to use dropout when making predictions."
   ]
  },
  {
   "cell_type": "code",
   "execution_count": 8,
   "metadata": {},
   "outputs": [],
   "source": [
    "# (Legally) grabbed from:\n",
    "# https://pytorchnlp.readthedocs.io/en/latest/_modules/torchnlp/nn/lock_dropout.html.\n",
    "class LockedDropout(nn.Module):\n",
    "    \"\"\" LockedDropout applies the same dropout mask to every time step.\n",
    "\n",
    "    **Thank you** to Sales Force for their initial implementation of :class:`WeightDrop`. \n",
    "    Here is their `License\n",
    "    <https://github.com/salesforce/awd-lstm-lm/blob/master/LICENSE>`__.\n",
    "\n",
    "    Args:\n",
    "        p (float): Probability of an element in the dropout mask to be zeroed.\n",
    "    \"\"\"\n",
    "\n",
    "    def __init__(self, p=0.5, training=True):\n",
    "        self.p = p\n",
    "        self.training = training\n",
    "        super().__init__()\n",
    "\n",
    "    def train(self, training=True):\n",
    "        self.training = training\n",
    "        \n",
    "    def forward(self, x):\n",
    "        \"\"\"\n",
    "        Args:\n",
    "            x (:class:`torch.FloatTensor` [sequence length, batch size, rnn hidden size]):\n",
    "                Input to apply dropout to.\n",
    "        \"\"\"\n",
    "        if not self.training or not self.p:\n",
    "            return x\n",
    "        x = x.clone()\n",
    "        mask = x.new_empty(1, x.size(1), x.size(2), x.size(3), requires_grad=False)\n",
    "        mask = mask.bernoulli_(1 - self.p)\n",
    "        mask = mask.div_(1 - self.p) # rescaling\n",
    "        mask = mask.expand_as(x)\n",
    "        return x * mask\n",
    "\n",
    "\n",
    "    def __repr__(self):\n",
    "        return self.__class__.__name__ + '(' + 'p=' + str(self.p) + ')'"
   ]
  },
  {
   "cell_type": "code",
   "execution_count": 9,
   "metadata": {},
   "outputs": [],
   "source": [
    "def replace_dropout_layers(model):\n",
    "    for name, module in reversed(model._modules.items()):\n",
    "        if len(list(module.children())) > 0:\n",
    "            # recurse\n",
    "            model._modules[name] = replace_dropout_layers(module)\n",
    "\n",
    "        if type(module) == nn.Dropout:\n",
    "             model._modules[name] = LockedDropout(module.p, training=module.training)\n",
    "        \n",
    "    return model"
   ]
  },
  {
   "cell_type": "code",
   "execution_count": 10,
   "metadata": {},
   "outputs": [],
   "source": [
    "from torch import nn\n",
    "\n",
    "def apply_dropout(m):\n",
    "    if type(m) == nn.Dropout or type(m) == LockedDropout:\n",
    "        m.train()\n",
    "        \n",
    "def unapply_dropout(m):\n",
    "    if type(m) == nn.Dropout or type(m) == LockedDropout:\n",
    "        m.eval()"
   ]
  },
  {
   "cell_type": "code",
   "execution_count": 11,
   "metadata": {},
   "outputs": [],
   "source": [
    "deepsea.model = replace_dropout_layers(deepsea.model)"
   ]
  },
  {
   "cell_type": "markdown",
   "metadata": {},
   "source": [
    "### Verifying dropout is being applied\n",
    "We can verify or at least get reasonable certainty that dropout's being applied by running 10 predictions on the same sequence and then seeing that the predicted binding probs differ. First, we show that the predictions stay the same if dropout is off.\n",
    "\n",
    "Then, we turn on dropout and show that they start to vary."
   ]
  },
  {
   "cell_type": "code",
   "execution_count": 12,
   "metadata": {
    "scrolled": true
   },
   "outputs": [
    {
     "name": "stderr",
     "output_type": "stream",
     "text": [
      "100%|██████████| 1/1 [00:00<00:00, 25.50it/s]\n"
     ]
    },
    {
     "name": "stdout",
     "output_type": "stream",
     "text": [
      "First few preds (1/3):  [[0.08161031 0.06867661 0.10076798 ... 0.09493414 0.02133885 0.01201447]\n",
      " [0.06698208 0.01062424 0.02694638 ... 0.15490864 0.04822354 0.00770117]\n",
      " [0.04445557 0.00539728 0.018408   ... 0.14994667 0.35297143 0.02272817]\n",
      " [0.00245111 0.00048716 0.00247776 ... 0.01495204 0.04857798 0.00068955]\n",
      " [0.00076919 0.00535259 0.00189638 ... 0.01889143 0.06013346 0.02190239]]\n"
     ]
    },
    {
     "name": "stderr",
     "output_type": "stream",
     "text": [
      "100%|██████████| 1/1 [00:00<00:00, 24.53it/s]\n"
     ]
    },
    {
     "name": "stdout",
     "output_type": "stream",
     "text": [
      "First few preds (2/3):  [[0.08161031 0.06867661 0.10076798 ... 0.09493414 0.02133885 0.01201447]\n",
      " [0.06698208 0.01062424 0.02694638 ... 0.15490864 0.04822354 0.00770117]\n",
      " [0.04445557 0.00539728 0.018408   ... 0.14994667 0.35297143 0.02272817]\n",
      " [0.00245111 0.00048716 0.00247776 ... 0.01495204 0.04857798 0.00068955]\n",
      " [0.00076919 0.00535259 0.00189638 ... 0.01889143 0.06013346 0.02190239]]\n"
     ]
    },
    {
     "name": "stderr",
     "output_type": "stream",
     "text": [
      "100%|██████████| 1/1 [00:00<00:00, 24.78it/s]\n"
     ]
    },
    {
     "name": "stdout",
     "output_type": "stream",
     "text": [
      "First few preds (3/3):  [[0.08161031 0.06867661 0.10076798 ... 0.09493414 0.02133885 0.01201447]\n",
      " [0.06698208 0.01062424 0.02694638 ... 0.15490864 0.04822354 0.00770117]\n",
      " [0.04445557 0.00539728 0.018408   ... 0.14994667 0.35297143 0.02272817]\n",
      " [0.00245111 0.00048716 0.00247776 ... 0.01495204 0.04857798 0.00068955]\n",
      " [0.00076919 0.00535259 0.00189638 ... 0.01889143 0.06013346 0.02190239]]\n"
     ]
    }
   ],
   "source": [
    "deepsea.model = deepsea.model.apply(unapply_dropout)\n",
    "for i in range(3):\n",
    "    print(f\"First few preds ({i+1}/3): \", deepsea.pipeline.predict_example()[:5])"
   ]
  },
  {
   "cell_type": "code",
   "execution_count": 83,
   "metadata": {},
   "outputs": [
    {
     "name": "stderr",
     "output_type": "stream",
     "text": [
      "100%|██████████| 1/1 [00:00<00:00, 24.99it/s]\n"
     ]
    },
    {
     "name": "stdout",
     "output_type": "stream",
     "text": [
      "First few preds (1/3):  [[0.085326   0.05641562 0.11283895 ... 0.11982227 0.03573158 0.01108175]\n",
      " [0.04305982 0.00570171 0.01585021 ... 0.17990199 0.05484637 0.00603652]\n",
      " [0.04331748 0.00431895 0.01760463 ... 0.22690102 0.4112894  0.01734836]\n",
      " [0.00252994 0.00080453 0.00311015 ... 0.01599811 0.05834839 0.00077599]\n",
      " [0.0007328  0.00429536 0.00175451 ... 0.01118308 0.04940027 0.02496895]]\n"
     ]
    },
    {
     "name": "stderr",
     "output_type": "stream",
     "text": [
      "100%|██████████| 1/1 [00:00<00:00, 24.26it/s]\n"
     ]
    },
    {
     "name": "stdout",
     "output_type": "stream",
     "text": [
      "First few preds (2/3):  [[0.08482128 0.06220497 0.11079864 ... 0.06994519 0.01793544 0.01572966]\n",
      " [0.13914524 0.02202434 0.05212421 ... 0.13058668 0.03132225 0.00869848]\n",
      " [0.0547905  0.00623628 0.02396327 ... 0.11273584 0.36059317 0.02060986]\n",
      " [0.00272217 0.0006503  0.00353563 ... 0.01445146 0.06062433 0.00094317]\n",
      " [0.0007686  0.00615589 0.00218309 ... 0.02047607 0.07036559 0.01977227]]\n"
     ]
    },
    {
     "name": "stderr",
     "output_type": "stream",
     "text": [
      "100%|██████████| 1/1 [00:00<00:00, 24.86it/s]\n"
     ]
    },
    {
     "name": "stdout",
     "output_type": "stream",
     "text": [
      "First few preds (3/3):  [[0.07212831 0.07210782 0.09301986 ... 0.08116291 0.01488957 0.01096809]\n",
      " [0.0370727  0.00633404 0.01531357 ... 0.13952751 0.02696772 0.00881635]\n",
      " [0.04492162 0.00415943 0.01994923 ... 0.13416806 0.35680428 0.02365205]\n",
      " [0.00179484 0.00037621 0.00202478 ... 0.00795556 0.03551395 0.00055286]\n",
      " [0.00068958 0.0065468  0.00158577 ... 0.02407188 0.07632259 0.01153916]]\n"
     ]
    }
   ],
   "source": [
    "deepsea.model.eval()\n",
    "deepsea.model = deepsea.model.apply(apply_dropout)\n",
    "for i in range(3):\n",
    "    print(f\"First few preds ({i+1}/3): \", deepsea.pipeline.predict_example()[:5])"
   ]
  },
  {
   "cell_type": "markdown",
   "metadata": {},
   "source": [
    "## Predictions and in-silico mutagenesis"
   ]
  },
  {
   "cell_type": "code",
   "execution_count": 92,
   "metadata": {
    "scrolled": true
   },
   "outputs": [
    {
     "data": {
      "text/plain": [
       "array([[0.11774194, 0.3715214 , 0.07018849, ..., 0.01421868, 0.12518513,\n",
       "        0.00282281],\n",
       "       [0.90857434, 0.80704534, 0.6781049 , ..., 0.12128159, 0.01853376,\n",
       "        0.01135038],\n",
       "       [0.8952354 , 0.9485788 , 0.86787665, ..., 0.44534075, 0.00442886,\n",
       "        0.00494528],\n",
       "       [0.02608952, 0.09923787, 0.01417312, ..., 0.02539324, 0.02723811,\n",
       "        0.01562764],\n",
       "       [0.7042352 , 0.28858352, 0.36984932, ..., 0.01039391, 0.04459345,\n",
       "        0.01366942]], dtype=float32)"
      ]
     },
     "execution_count": 92,
     "metadata": {},
     "output_type": "execute_result"
    }
   ],
   "source": [
    "deepsea.predict_on_batch(seqs[:5, :, :, :])"
   ]
  },
  {
   "cell_type": "code",
   "execution_count": 120,
   "metadata": {},
   "outputs": [],
   "source": [
    "all_zeros = np.zeros((4,))\n",
    "def generate_wt_mut_batches(seq, batch_size=256):\n",
    "    \"\"\"\n",
    "    For a given sequence, generate all possible point-mutated versions of the sequence\n",
    "    in batches of size `param:batch_size`.\n",
    "    \n",
    "    Args:\n",
    "        seq (numpy.ndarray [batch_size, number of base pairs, 1, sequence length]): \n",
    "            wild type sequence.\n",
    "        batch_size (int): size of returned batches. Note that each batch will have the\n",
    "            wild type sequence as its first row since we need to compute wild type / mut\n",
    "            prediction diffs using predictions generated by the same dropout mask.\n",
    "    \"\"\"\n",
    "    seq_len = seq.shape[3]\n",
    "    # 3 mutations per nt and then account for ref in each batch\n",
    "    n_batches = (seq_len * 3) / (batch_size - 1) + 1\n",
    "    seq_batch = seq.repeat(batch_size, axis=0)\n",
    "    seq_batches = seq_batch[np.newaxis, :, :, :, :].repeat(n_batches, axis=0)\n",
    "    i = 0\n",
    "    for seq_idx in range(seq_len):  # iterate over sequence \n",
    "        for nt_idx in range(4):  # iterate over nucleotides\n",
    "            curr_batch, curr_idx = i // (batch_size - 1), (i % (batch_size-1) + 1)\n",
    "            curr_nt = seq_batches[curr_batch, curr_idx, nt_idx, 0, seq_idx]\n",
    "            if curr_nt == 1: continue\n",
    "            seq_batches[curr_batch, curr_idx, :, 0, seq_idx] = all_zeros\n",
    "            seq_batches[curr_batch, curr_idx, nt_idx, 0, seq_idx] = 1\n",
    "            i += 1\n",
    "    return seq_batches"
   ]
  },
  {
   "cell_type": "code",
   "execution_count": 37,
   "metadata": {},
   "outputs": [
    {
     "data": {
      "text/plain": [
       "[(52, 'A549_DNase_None'), (720, 'A549_CTCF_None'), (763, 'A549_CTCF_None')]"
      ]
     },
     "execution_count": 37,
     "metadata": {},
     "output_type": "execute_result"
    }
   ],
   "source": [
    "CHROM_ACC_COL = 'A549_DNase_None'\n",
    "TF_COL = 'A549_CTCF_None'\n",
    "relevant_cols = sorted([(i, label)\n",
    "                        for i, label in enumerate(deepsea.schema.targets.column_labels)\n",
    "                        if label in [CHROM_ACC_COL, TF_COL]])\n",
    "\n",
    "def output_sel_fn(result):\n",
    "    return np.array([result[:, col_idx] for col_idx, _ in relevant_cols]).T\n",
    "\n",
    "relevant_cols"
   ]
  },
  {
   "cell_type": "code",
   "execution_count": 152,
   "metadata": {
    "scrolled": false
   },
   "outputs": [
    {
     "name": "stderr",
     "output_type": "stream",
     "text": [
      "100%|██████████| 12/12 [03:59<00:00, 19.96s/it]\n",
      "100%|██████████| 12/12 [04:00<00:00, 20.04s/it]\n",
      "100%|██████████| 12/12 [04:00<00:00, 20.02s/it]\n",
      "100%|██████████| 12/12 [04:00<00:00, 20.02s/it]\n",
      "100%|██████████| 12/12 [04:00<00:00, 20.04s/it]\n",
      "100%|██████████| 12/12 [04:00<00:00, 20.05s/it]\n",
      "100%|██████████| 12/12 [04:00<00:00, 20.08s/it]\n",
      "100%|██████████| 12/12 [04:00<00:00, 20.06s/it]\n",
      "100%|██████████| 12/12 [04:00<00:00, 20.05s/it]\n",
      "100%|██████████| 12/12 [04:00<00:00, 20.04s/it]\n"
     ]
    }
   ],
   "source": [
    "from tqdm import tqdm\n",
    "def next_seq(it):\n",
    "    return np.expand_dims(next(it)[\"inputs\"].transpose(0, 2, 1), 2).astype(np.float32)\n",
    "    \n",
    "\n",
    "epochs = 50\n",
    "n_seqs = 10\n",
    "preds = [[[] for _ in range(n_seqs)] for _ in range(epochs)]\n",
    "it = dl.batch_iter(batch_size=1, shuffle=False, num_workers=0, drop_last=False)\n",
    "for i in range(min(n_seqs, len(it))):\n",
    "    seq = next_seq(it)\n",
    "    wt_mut_batches = generate_wt_mut_batches(seq, batch_size=256)\n",
    "    for batch in tqdm(wt_mut_batches):\n",
    "        for epoch in range(epochs):\n",
    "            preds[epoch][i].append(output_sel_fn(deepsea.predict_on_batch(batch)))\n",
    "\n",
    "\n",
    "np_preds = np.array(preds)\n",
    "assert np_preds.shape[:2] == (epochs, n_seqs), np_preds.shape"
   ]
  },
  {
   "cell_type": "code",
   "execution_count": 164,
   "metadata": {},
   "outputs": [
    {
     "data": {
      "text/plain": [
       "(50, 10, 12, 256, 3)"
      ]
     },
     "execution_count": 164,
     "metadata": {},
     "output_type": "execute_result"
    }
   ],
   "source": [
    "n_batches = np_preds.shape[2]\n",
    "batch_size = np_preds.shape[3]\n",
    "np_preds.shape"
   ]
  },
  {
   "cell_type": "code",
   "execution_count": 155,
   "metadata": {},
   "outputs": [
    {
     "data": {
      "text/plain": [
       "(10, 12, 256, 3)"
      ]
     },
     "execution_count": 155,
     "metadata": {},
     "output_type": "execute_result"
    }
   ],
   "source": [
    "np_pred_means = np.mean(np_preds, axis=0)\n",
    "np_pred_vars = np.var(np_preds, axis=0)\n",
    "np_pred_means.shape"
   ]
  },
  {
   "cell_type": "code",
   "execution_count": 160,
   "metadata": {
    "scrolled": false
   },
   "outputs": [
    {
     "data": {
      "image/png": "[encoded data removed]",
      "text/plain": [
       "<Figure size 432x288 with 1 Axes>"
      ]
     },
     "metadata": {
      "needs_background": "light"
     },
     "output_type": "display_data"
    }
   ],
   "source": [
    "import matplotlib.pyplot as plt\n",
    "\n",
    "for seq in range(np_pred_means.shape[0]):\n",
    "    plt.scatter(\n",
    "        np_pred_means[seq, :, :, :].reshape(-1), \n",
    "        np_pred_vars[seq, :, :, :].reshape(-1),\n",
    "        label=i)\n",
    "plt.xlabel(\"Predictive Mean\")\n",
    "plt.ylabel(\"Predictive Variance\");"
   ]
  },
  {
   "cell_type": "code",
   "execution_count": 201,
   "metadata": {},
   "outputs": [
    {
     "name": "stderr",
     "output_type": "stream",
     "text": [
      "/opt/anaconda3/lib/python3.7/site-packages/ipykernel_launcher.py:3: DeprecationWarning: This function is deprecated. Please call randint(0, 9 + 1) instead\n",
      "  This is separate from the ipykernel package so we can avoid doing imports until\n",
      "/opt/anaconda3/lib/python3.7/site-packages/ipykernel_launcher.py:4: DeprecationWarning: This function is deprecated. Please call randint(0, 11 + 1) instead\n",
      "  after removing the cwd from sys.path.\n",
      "/opt/anaconda3/lib/python3.7/site-packages/ipykernel_launcher.py:5: DeprecationWarning: This function is deprecated. Please call randint(0, 255 + 1) instead\n",
      "  \"\"\"\n",
      "/opt/anaconda3/lib/python3.7/site-packages/ipykernel_launcher.py:6: DeprecationWarning: This function is deprecated. Please call randint(0, 2 + 1) instead\n",
      "  \n"
     ]
    },
    {
     "data": {
      "image/png": "[encoded data removed]",
      "text/plain": [
       "<Figure size 864x576 with 4 Axes>"
      ]
     },
     "metadata": {
      "needs_background": "light"
     },
     "output_type": "display_data"
    }
   ],
   "source": [
    "plt.rcParams['figure.figsize'] = [12, 8]\n",
    "fig, axs = plt.subplots(2, 2)\n",
    "sample_seqs = np.random.random_integers(0, n_seqs-1, size=4)\n",
    "sample_batches = np.random.random_integers(0, n_batches-1, size=4)\n",
    "sample_muts = np.random.random_integers(0, batch_size-1, size=4)\n",
    "sample_col = np.random.random_integers(0, len(relevant_cols)-1)\n",
    "\n",
    "for i in range(4):\n",
    "    np_sample_ref_preds = np_preds[\n",
    "        :, sample_seqs[i], sample_batches[i], 0, sample_col\n",
    "    ]\n",
    "    np_sample_mut_preds = np_preds[\n",
    "        :, sample_seqs[i], sample_batches[i], sample_muts[i], sample_col\n",
    "    ]\n",
    "    axs[i // 2, i % 2].scatter(np_sample_ref_preds, np_sample_mut_preds)\n",
    "    axs[i // 2, i % 2].set_xlabel(f\"{relevant_cols[sample_col][1]} prob (ref)\")\n",
    "    axs[i // 2, i % 2].set_ylabel(f\"{relevant_cols[sample_col][1]} prob (mut)\")    "
   ]
  },
  {
   "cell_type": "code",
   "execution_count": 181,
   "metadata": {},
   "outputs": [],
   "source": [
    "np_pred_covs = np.zeros((n_seqs, n_batches, batch_size, len(relevant_cols)))\n",
    "for seq in range(n_seqs):\n",
    "    for batch in range(n_batches):\n",
    "        for col in range(len(relevant_cols)):\n",
    "            ref_seq_preds = np_preds[:, seq, batch, 0, col]\n",
    "            for mut in range(batch_size):\n",
    "                mut_seq_preds = np_preds[:, seq, batch, mut, col]\n",
    "                cov = np.cov(np.stack((ref_seq_preds, mut_seq_preds))) # 2x2, symmetric\n",
    "                np_pred_covs[seq, batch, mut, col] = cov[0, 1] # off diag idx"
   ]
  },
  {
   "cell_type": "code",
   "execution_count": null,
   "metadata": {},
   "outputs": [],
   "source": []
  },
  {
   "cell_type": "code",
   "execution_count": null,
   "metadata": {},
   "outputs": [],
   "source": [
    "ism = Mutation(deepsea, \"seq\", scores=['ref', 'diff'], output_sel_fn=output_sel_fn)\n",
    "ism_score = np.array(ism.score(seqs))"
   ]
  },
  {
   "cell_type": "code",
   "execution_count": null,
   "metadata": {},
   "outputs": [],
   "source": [
    "np.squeeze(ism_score).shape"
   ]
  },
  {
   "cell_type": "code",
   "execution_count": null,
   "metadata": {},
   "outputs": [],
   "source": [
    "zeros = np.zeros((2, 3))\n",
    "def sanitize_scores(scores):\n",
    "    orig_shape = scores.shape\n",
    "    sanitized_scores = np.ndarray((*orig_shape, 2, 3), dtype=scores.dtype)\n",
    "    flattened_scores = scores.reshape(-1)\n",
    "    \n",
    "    for i, score in enumerate(flattened_scores):\n",
    "        idx = np.unravel_index(i, orig_shape)\n",
    "        if score is None: sanitized_scores[idx] = zeros\n",
    "        else: sanitized_scores[idx] = np.array(score)\n",
    "    return sanitized_scores\n",
    "\n",
    "sanitized_scores = sanitize_scores(np.squeeze(ism_score))\n",
    "ctcf_original_preds = sanitized_scores[:, :, :, 0, 1]\n",
    "ctcf_pred_diffs = sanitized_scores[:, :, :, 1, 1]\n",
    "dnase_original_preds = sanitized_scores[:, :, :, 0, 0]\n",
    "dnase_pred_diff = sanitized_scores[:, :, :, 1, 0]"
   ]
  },
  {
   "cell_type": "code",
   "execution_count": null,
   "metadata": {},
   "outputs": [],
   "source": [
    "import math\n",
    "import numpy as np\n",
    "\n",
    "log_uniform_prop = math.log(.05/(1-.05))\n",
    "def compute_normalized_prob(prob, train_prob):\n",
    "    denom = 1+np.exp(-(np.log(prob/(1-prob))+log_uniform_prop-np.log(train_prob/(1-train_prob))))\n",
    "    return 1 / denom\n",
    "\n",
    "# Ratios and normalization formula drawn from here: http://deepsea.princeton.edu/media/help/posproportion.txt\n",
    "tf_compute_normalized_prob = lambda prob: compute_normalized_prob(prob, .020029)\n",
    "# ENCODE\tA549\tDNase\tNone\t0.048136\n",
    "chrom_acc_normalized_prob = lambda prob: compute_normalized_prob(prob, 0.048136)"
   ]
  },
  {
   "cell_type": "code",
   "execution_count": null,
   "metadata": {},
   "outputs": [],
   "source": [
    "IDX_TO_NT = 'ACGT'\n",
    "\n",
    "def _convert_to_mutation(pos_nt_pair):\n",
    "    return \"%d%s\" % (pos_nt_pair[1], IDX_TO_NT[pos_nt_pair[0]])\n",
    "\n",
    "def find_best_mutation(mutation_map, sign=1):\n",
    "    seq_len = mutation_map.shape[1]\n",
    "    best_mute = None\n",
    "    best_mute_effect = 0\n",
    "    second_best_mute = None\n",
    "    second_best_mute_effect = 0\n",
    "    for seq_idx in range(seq_len):  # iterate over sequence\n",
    "        best_out_of_nts_mute = None\n",
    "        best_out_of_nts_mute_effect = 0 \n",
    "        for nt_idx in range(4):  # iterate over nucleotides\n",
    "            current_effect = mutation_map[nt_idx, seq_idx]\n",
    "            \n",
    "            if sign * current_effect > sign * best_out_of_nts_mute_effect:\n",
    "                best_out_of_nts_mute_effect = current_effect\n",
    "                best_out_of_nts_mute = (nt_idx, seq_idx)\n",
    "\n",
    "        # TODO(Stephen): the right way to do this is to have a heap, squish the 2D array into a 1D\n",
    "        # array of (effect, (seq_idx, nt_idx)) tuples and then take the top-k from the heap, but\n",
    "        # I'm too lazy to do this right now.\n",
    "        if sign * best_out_of_nts_mute_effect > (sign * best_mute_effect):\n",
    "            best_mute_effect = best_out_of_nts_mute_effect\n",
    "            best_mute = best_out_of_nts_mute\n",
    "        elif sign * best_out_of_nts_mute_effect > (sign * second_best_mute_effect):\n",
    "            second_best_mute_effect = best_out_of_nts_mute_effect\n",
    "            second_best_mute = best_out_of_nts_mute \n",
    "    print(best_mute, best_mute_effect, second_best_mute, second_best_mute_effect)\n",
    "    return [best_mute, second_best_mute]\n",
    "\n",
    "\n",
    "import csv\n",
    "\n",
    "mut_effects_fpath = \"../dat/mut_effects_1.csv\"\n",
    "with open(mut_effects_fpath, 'w', newline=\"\") as out_file:\n",
    "    fieldnames = [\n",
    "        \"initial X prediction\",\n",
    "        \"new X prediction\",\n",
    "        \"initial Y prediction\",\n",
    "        \"new Y prediction\",\n",
    "        \"mutation\",\n",
    "    ]\n",
    "    writer = csv.DictWriter(out_file, delimiter=\",\", fieldnames=fieldnames)\n",
    "    writer.writeheader()\n",
    "    \n",
    "    for i, ctcf_pred_diff in enumerate(ctcf_pred_diffs):\n",
    "        best_mut_idx, best_mut_effect = find_best_mutation(ctcf_pred_diff, sign=-1)\n",
    "        nt_idx, seq_idx = best_mut_idx\n",
    "        ctcf_original_pred = ctcf_original_preds[i][nt_idx, seq_idx]\n",
    "        ctcf_new_pred = ctcf_original_pred + ctcf_pred_diff[nt_idx, seq_idx]\n",
    "        dnase_original_pred = dnase_original_preds[i][nt_idx, seq_idx]\n",
    "        dnase_pred_diff = dnase_pred_diffs[i][nt_idx, seq_idx]\n",
    "        dnase_new_prd = dnase_original_pred + dnase_pred_diff\n",
    "        writer.writerow(\n",
    "            {\n",
    "                \"initial X prediction\": ctcf_original_pred,\n",
    "                \"new X prediction\": ctcf_new_pred,\n",
    "                \"initial Y prediction\": dnase_original_pred,\n",
    "                \"new Y prediction\": dnase_new_pred,\n",
    "                \"mutation\": _convert_to_mutation(best_mut_idx),\n",
    "            }\n",
    "        )\n",
    "        \n"
   ]
  }
 ],
 "metadata": {
  "kernelspec": {
   "display_name": "Python 3",
   "language": "python",
   "name": "python3"
  },
  "language_info": {
   "codemirror_mode": {
    "name": "ipython",
    "version": 3
   },
   "file_extension": ".py",
   "mimetype": "text/x-python",
   "name": "python",
   "nbconvert_exporter": "python",
   "pygments_lexer": "ipython3",
   "version": "3.7.4"
  }
 },
 "nbformat": 4,
 "nbformat_minor": 4
}
