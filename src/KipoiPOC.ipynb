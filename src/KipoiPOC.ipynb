{
 "cells": [
  {
   "cell_type": "markdown",
   "metadata": {},
   "source": [
    "## Imports and model initialization"
   ]
  },
  {
   "cell_type": "code",
   "execution_count": 1,
   "metadata": {},
   "outputs": [],
   "source": [
    "# !pip install kipoi\n",
    "# !pip install kipoiseq\n",
    "# !pip install pybedtools\n",
    "# !pip uninstall -y kipoi_veff\n",
    "# !pip install git+https://github.com/an1lam/kipoi-veff\n",
    "# !pip install pyvcf\n",
    "import kipoi\n",
    "from kipoi_interpret.importance_scores.ism import Mutation\n",
    "from kipoiseq.dataloaders import SeqIntervalDl\n",
    "from matplotlib import pyplot as plt\n",
    "import numpy as np"
   ]
  },
  {
   "cell_type": "code",
   "execution_count": 2,
   "metadata": {},
   "outputs": [
    {
     "name": "stdout",
     "output_type": "stream",
     "text": [
      "/home/stephenmalina/project/src\r\n"
     ]
    }
   ],
   "source": [
    "!pwd"
   ]
  },
  {
   "cell_type": "markdown",
   "metadata": {},
   "source": [
    "# Loading DNA sequence data"
   ]
  },
  {
   "cell_type": "code",
   "execution_count": 3,
   "metadata": {
    "scrolled": true
   },
   "outputs": [
    {
     "name": "stderr",
     "output_type": "stream",
     "text": [
      "100%|██████████| 32/32 [00:02<00:00, 13.97it/s]\n"
     ]
    }
   ],
   "source": [
    "dl = SeqIntervalDl(\"../dat/ChIPseq.A549.CTCF.1000.random.narrowPeak.gz\", \"../dat/hg19.fa\", auto_resize_len=1000)\n",
    "data = dl.load_all()"
   ]
  },
  {
   "cell_type": "code",
   "execution_count": 4,
   "metadata": {
    "scrolled": true
   },
   "outputs": [
    {
     "data": {
      "text/plain": [
       "(1001, 4, 1, 1000)"
      ]
     },
     "execution_count": 4,
     "metadata": {},
     "output_type": "execute_result"
    }
   ],
   "source": [
    "seqs = np.expand_dims(data['inputs'].transpose(0, 2, 1), 2).astype(np.float32)\n",
    "seqs.shape"
   ]
  },
  {
   "cell_type": "markdown",
   "metadata": {},
   "source": [
    "# Loading DeepSEA"
   ]
  },
  {
   "cell_type": "code",
   "execution_count": 5,
   "metadata": {},
   "outputs": [
    {
     "name": "stderr",
     "output_type": "stream",
     "text": [
      "/opt/anaconda3/lib/python3.7/site-packages/tensorflow/python/framework/dtypes.py:516: FutureWarning: Passing (type, 1) or '1type' as a synonym of type is deprecated; in a future version of numpy, it will be understood as (type, (1,)) / '(1,)type'.\n",
      "  _np_qint8 = np.dtype([(\"qint8\", np.int8, 1)])\n",
      "/opt/anaconda3/lib/python3.7/site-packages/tensorflow/python/framework/dtypes.py:517: FutureWarning: Passing (type, 1) or '1type' as a synonym of type is deprecated; in a future version of numpy, it will be understood as (type, (1,)) / '(1,)type'.\n",
      "  _np_quint8 = np.dtype([(\"quint8\", np.uint8, 1)])\n",
      "/opt/anaconda3/lib/python3.7/site-packages/tensorflow/python/framework/dtypes.py:518: FutureWarning: Passing (type, 1) or '1type' as a synonym of type is deprecated; in a future version of numpy, it will be understood as (type, (1,)) / '(1,)type'.\n",
      "  _np_qint16 = np.dtype([(\"qint16\", np.int16, 1)])\n",
      "/opt/anaconda3/lib/python3.7/site-packages/tensorflow/python/framework/dtypes.py:519: FutureWarning: Passing (type, 1) or '1type' as a synonym of type is deprecated; in a future version of numpy, it will be understood as (type, (1,)) / '(1,)type'.\n",
      "  _np_quint16 = np.dtype([(\"quint16\", np.uint16, 1)])\n",
      "/opt/anaconda3/lib/python3.7/site-packages/tensorflow/python/framework/dtypes.py:520: FutureWarning: Passing (type, 1) or '1type' as a synonym of type is deprecated; in a future version of numpy, it will be understood as (type, (1,)) / '(1,)type'.\n",
      "  _np_qint32 = np.dtype([(\"qint32\", np.int32, 1)])\n",
      "/opt/anaconda3/lib/python3.7/site-packages/tensorflow/python/framework/dtypes.py:525: FutureWarning: Passing (type, 1) or '1type' as a synonym of type is deprecated; in a future version of numpy, it will be understood as (type, (1,)) / '(1,)type'.\n",
      "  np_resource = np.dtype([(\"resource\", np.ubyte, 1)])\n",
      "/opt/anaconda3/lib/python3.7/site-packages/tensorboard/compat/tensorflow_stub/dtypes.py:541: FutureWarning: Passing (type, 1) or '1type' as a synonym of type is deprecated; in a future version of numpy, it will be understood as (type, (1,)) / '(1,)type'.\n",
      "  _np_qint8 = np.dtype([(\"qint8\", np.int8, 1)])\n",
      "/opt/anaconda3/lib/python3.7/site-packages/tensorboard/compat/tensorflow_stub/dtypes.py:542: FutureWarning: Passing (type, 1) or '1type' as a synonym of type is deprecated; in a future version of numpy, it will be understood as (type, (1,)) / '(1,)type'.\n",
      "  _np_quint8 = np.dtype([(\"quint8\", np.uint8, 1)])\n",
      "/opt/anaconda3/lib/python3.7/site-packages/tensorboard/compat/tensorflow_stub/dtypes.py:543: FutureWarning: Passing (type, 1) or '1type' as a synonym of type is deprecated; in a future version of numpy, it will be understood as (type, (1,)) / '(1,)type'.\n",
      "  _np_qint16 = np.dtype([(\"qint16\", np.int16, 1)])\n",
      "/opt/anaconda3/lib/python3.7/site-packages/tensorboard/compat/tensorflow_stub/dtypes.py:544: FutureWarning: Passing (type, 1) or '1type' as a synonym of type is deprecated; in a future version of numpy, it will be understood as (type, (1,)) / '(1,)type'.\n",
      "  _np_quint16 = np.dtype([(\"quint16\", np.uint16, 1)])\n",
      "/opt/anaconda3/lib/python3.7/site-packages/tensorboard/compat/tensorflow_stub/dtypes.py:545: FutureWarning: Passing (type, 1) or '1type' as a synonym of type is deprecated; in a future version of numpy, it will be understood as (type, (1,)) / '(1,)type'.\n",
      "  _np_qint32 = np.dtype([(\"qint32\", np.int32, 1)])\n",
      "/opt/anaconda3/lib/python3.7/site-packages/tensorboard/compat/tensorflow_stub/dtypes.py:550: FutureWarning: Passing (type, 1) or '1type' as a synonym of type is deprecated; in a future version of numpy, it will be understood as (type, (1,)) / '(1,)type'.\n",
      "  np_resource = np.dtype([(\"resource\", np.ubyte, 1)])\n"
     ]
    },
    {
     "name": "stdout",
     "output_type": "stream",
     "text": [
      "TF version: 1.14.0\n",
      "torch version: 1.3.1\n"
     ]
    }
   ],
   "source": [
    "import tensorflow as tf\n",
    "print(\"TF version:\", tf.__version__)\n",
    "import torch\n",
    "print(\"torch version:\", torch.__version__)\n",
    "from torch import nn"
   ]
  },
  {
   "cell_type": "code",
   "execution_count": 6,
   "metadata": {},
   "outputs": [],
   "source": [
    "# df = kipoi.list_models()\n",
    "# deepsea_models = df[df.model.str.contains(\"DeepSEA\")]\n",
    "# deepsea_models.head()"
   ]
  },
  {
   "cell_type": "code",
   "execution_count": 7,
   "metadata": {},
   "outputs": [
    {
     "name": "stdout",
     "output_type": "stream",
     "text": [
      "Using downloaded and verified file: /home/stephenmalina/.kipoi/models/DeepSEA/predict/downloaded/model_files/weights/89e640bf6bdbe1ff165f484d9796efc7\n"
     ]
    },
    {
     "data": {
      "text/plain": [
       "Sequential(\n",
       "  (0): ReCodeAlphabet()\n",
       "  (1): ConcatenateRC()\n",
       "  (2): Sequential(\n",
       "    (0): Conv2d(4, 320, kernel_size=(1, 8), stride=(1, 1))\n",
       "    (1): Threshold(threshold=0, value=1e-06)\n",
       "    (2): MaxPool2d(kernel_size=(1, 4), stride=(1, 4), padding=0, dilation=1, ceil_mode=False)\n",
       "    (3): Dropout(p=0.2, inplace=False)\n",
       "    (4): Conv2d(320, 480, kernel_size=(1, 8), stride=(1, 1))\n",
       "    (5): Threshold(threshold=0, value=1e-06)\n",
       "    (6): MaxPool2d(kernel_size=(1, 4), stride=(1, 4), padding=0, dilation=1, ceil_mode=False)\n",
       "    (7): Dropout(p=0.2, inplace=False)\n",
       "    (8): Conv2d(480, 960, kernel_size=(1, 8), stride=(1, 1))\n",
       "    (9): Threshold(threshold=0, value=1e-06)\n",
       "    (10): Dropout(p=0.5, inplace=False)\n",
       "    (11): Lambda()\n",
       "    (12): Sequential(\n",
       "      (0): Lambda()\n",
       "      (1): Linear(in_features=50880, out_features=925, bias=True)\n",
       "    )\n",
       "    (13): Threshold(threshold=0, value=1e-06)\n",
       "    (14): Sequential(\n",
       "      (0): Lambda()\n",
       "      (1): Linear(in_features=925, out_features=919, bias=True)\n",
       "    )\n",
       "    (15): Sigmoid()\n",
       "  )\n",
       "  (3): AverageRC()\n",
       ")"
      ]
     },
     "execution_count": 7,
     "metadata": {},
     "output_type": "execute_result"
    }
   ],
   "source": [
    "deepsea = kipoi.get_model(\"DeepSEA/predict\", source=\"kipoi\")\n",
    "deepsea.model"
   ]
  },
  {
   "cell_type": "code",
   "execution_count": 8,
   "metadata": {},
   "outputs": [
    {
     "name": "stderr",
     "output_type": "stream",
     "text": [
      "100%|██████████| 1/1 [00:00<00:00,  1.45it/s]\n"
     ]
    },
    {
     "data": {
      "text/plain": [
       "(10, 919)"
      ]
     },
     "execution_count": 8,
     "metadata": {},
     "output_type": "execute_result"
    }
   ],
   "source": [
    "deepsea.pipeline.predict_example().shape"
   ]
  },
  {
   "cell_type": "markdown",
   "metadata": {},
   "source": [
    "# Hacking DeepSEA's layers\n",
    "This section is focused on tweaking DeepSEA's model to use dropout when making predictions."
   ]
  },
  {
   "cell_type": "code",
   "execution_count": 9,
   "metadata": {},
   "outputs": [],
   "source": [
    "# (Legally) grabbed from:\n",
    "# https://pytorchnlp.readthedocs.io/en/latest/_modules/torchnlp/nn/lock_dropout.html.\n",
    "class LockedDropout(nn.Module):\n",
    "    \"\"\" LockedDropout applies the same dropout mask to every time step.\n",
    "\n",
    "    **Thank you** to Sales Force for their initial implementation of :class:`WeightDrop`. \n",
    "    Here is their `License\n",
    "    <https://github.com/salesforce/awd-lstm-lm/blob/master/LICENSE>`__.\n",
    "\n",
    "    Args:\n",
    "        p (float): Probability of an element in the dropout mask to be zeroed.\n",
    "    \"\"\"\n",
    "\n",
    "    def __init__(self, p=0.5, training=True):\n",
    "        self.p = p\n",
    "        self.training = training\n",
    "        super().__init__()\n",
    "\n",
    "    def train(self, training=True):\n",
    "        self.training = training\n",
    "        \n",
    "    def forward(self, x):\n",
    "        \"\"\"\n",
    "        Args:\n",
    "            x (:class:`torch.FloatTensor` [sequence length, batch size, rnn hidden size]):\n",
    "                Input to apply dropout to.\n",
    "        \"\"\"\n",
    "        if not self.training or not self.p:\n",
    "            return x\n",
    "        x = x.clone()\n",
    "        mask = x.new_empty(1, x.size(1), x.size(2), x.size(3), requires_grad=False)\n",
    "        mask = mask.bernoulli_(1 - self.p)\n",
    "        mask = mask.div_(1 - self.p) # rescaling\n",
    "        mask = mask.expand_as(x)\n",
    "        return x * mask\n",
    "\n",
    "\n",
    "    def __repr__(self):\n",
    "        return self.__class__.__name__ + '(' + 'p=' + str(self.p) + ')'"
   ]
  },
  {
   "cell_type": "code",
   "execution_count": 10,
   "metadata": {},
   "outputs": [],
   "source": [
    "def replace_dropout_layers(model):\n",
    "    for name, module in reversed(model._modules.items()):\n",
    "        if len(list(module.children())) > 0:\n",
    "            # recurse\n",
    "            model._modules[name] = replace_dropout_layers(module)\n",
    "\n",
    "        if type(module) == nn.Dropout:\n",
    "             model._modules[name] = LockedDropout(module.p, training=module.training)\n",
    "        \n",
    "    return model"
   ]
  },
  {
   "cell_type": "code",
   "execution_count": 11,
   "metadata": {},
   "outputs": [],
   "source": [
    "from torch import nn\n",
    "\n",
    "def apply_dropout(m):\n",
    "    if type(m) == nn.Dropout or type(m) == LockedDropout:\n",
    "        m.train()\n",
    "        \n",
    "def unapply_dropout(m):\n",
    "    if type(m) == nn.Dropout or type(m) == LockedDropout:\n",
    "        m.eval()"
   ]
  },
  {
   "cell_type": "code",
   "execution_count": 12,
   "metadata": {},
   "outputs": [],
   "source": [
    "deepsea.model = replace_dropout_layers(deepsea.model)"
   ]
  },
  {
   "cell_type": "markdown",
   "metadata": {},
   "source": [
    "### Verifying dropout is being applied\n",
    "We can verify or at least get reasonable certainty that dropout's being applied by running 10 predictions on the same sequence and then seeing that the predicted binding probs differ. First, we show that the predictions stay the same if dropout is off.\n",
    "\n",
    "Then, we turn on dropout and show that they start to vary."
   ]
  },
  {
   "cell_type": "code",
   "execution_count": 13,
   "metadata": {},
   "outputs": [
    {
     "name": "stderr",
     "output_type": "stream",
     "text": [
      "100%|██████████| 1/1 [00:00<00:00, 25.69it/s]\n"
     ]
    },
    {
     "name": "stdout",
     "output_type": "stream",
     "text": [
      "First few preds (1/3):  [[0.08161031 0.06867661 0.10076798 ... 0.09493414 0.02133885 0.01201447]\n",
      " [0.06698208 0.01062424 0.02694638 ... 0.15490864 0.04822354 0.00770117]\n",
      " [0.04445557 0.00539728 0.018408   ... 0.14994667 0.35297143 0.02272817]\n",
      " [0.00245111 0.00048716 0.00247776 ... 0.01495204 0.04857798 0.00068955]\n",
      " [0.00076919 0.00535259 0.00189638 ... 0.01889143 0.06013346 0.02190239]]\n"
     ]
    },
    {
     "name": "stderr",
     "output_type": "stream",
     "text": [
      "100%|██████████| 1/1 [00:00<00:00, 25.99it/s]\n"
     ]
    },
    {
     "name": "stdout",
     "output_type": "stream",
     "text": [
      "First few preds (2/3):  [[0.08161031 0.06867661 0.10076798 ... 0.09493414 0.02133885 0.01201447]\n",
      " [0.06698208 0.01062424 0.02694638 ... 0.15490864 0.04822354 0.00770117]\n",
      " [0.04445557 0.00539728 0.018408   ... 0.14994667 0.35297143 0.02272817]\n",
      " [0.00245111 0.00048716 0.00247776 ... 0.01495204 0.04857798 0.00068955]\n",
      " [0.00076919 0.00535259 0.00189638 ... 0.01889143 0.06013346 0.02190239]]\n"
     ]
    },
    {
     "name": "stderr",
     "output_type": "stream",
     "text": [
      "100%|██████████| 1/1 [00:00<00:00, 27.10it/s]\n"
     ]
    },
    {
     "name": "stdout",
     "output_type": "stream",
     "text": [
      "First few preds (3/3):  [[0.08161031 0.06867661 0.10076798 ... 0.09493414 0.02133885 0.01201447]\n",
      " [0.06698208 0.01062424 0.02694638 ... 0.15490864 0.04822354 0.00770117]\n",
      " [0.04445557 0.00539728 0.018408   ... 0.14994667 0.35297143 0.02272817]\n",
      " [0.00245111 0.00048716 0.00247776 ... 0.01495204 0.04857798 0.00068955]\n",
      " [0.00076919 0.00535259 0.00189638 ... 0.01889143 0.06013346 0.02190239]]\n"
     ]
    }
   ],
   "source": [
    "deepsea.model = deepsea.model.apply(unapply_dropout)\n",
    "for i in range(3):\n",
    "    print(f\"First few preds ({i+1}/3): \", deepsea.pipeline.predict_example()[:5])"
   ]
  },
  {
   "cell_type": "code",
   "execution_count": 14,
   "metadata": {},
   "outputs": [
    {
     "name": "stderr",
     "output_type": "stream",
     "text": [
      "100%|██████████| 1/1 [00:00<00:00, 22.57it/s]\n"
     ]
    },
    {
     "name": "stdout",
     "output_type": "stream",
     "text": [
      "First few preds (1/3):  [[0.07012859 0.04555814 0.08875787 ... 0.04955365 0.02872555 0.01260313]\n",
      " [0.09016956 0.01045005 0.0360783  ... 0.14778185 0.05549461 0.00911344]\n",
      " [0.07166529 0.00615941 0.02848451 ... 0.11592747 0.33300683 0.01947393]\n",
      " [0.00481354 0.00117857 0.00642613 ... 0.01495869 0.04716871 0.00093252]\n",
      " [0.0007905  0.00692391 0.00225097 ... 0.02744318 0.05597291 0.01769939]]\n"
     ]
    },
    {
     "name": "stderr",
     "output_type": "stream",
     "text": [
      "100%|██████████| 1/1 [00:00<00:00, 26.08it/s]\n"
     ]
    },
    {
     "name": "stdout",
     "output_type": "stream",
     "text": [
      "First few preds (2/3):  [[0.05796207 0.0551564  0.08241083 ... 0.06719616 0.02360211 0.01265187]\n",
      " [0.12269413 0.02515393 0.04190097 ... 0.09875543 0.04247763 0.01214431]\n",
      " [0.05793399 0.00450409 0.01874039 ... 0.14606473 0.40624714 0.01919883]\n",
      " [0.00251616 0.00041278 0.00227854 ... 0.00914563 0.04228569 0.00083999]\n",
      " [0.00099088 0.01078777 0.00281208 ... 0.01885923 0.06024912 0.02825773]]\n"
     ]
    },
    {
     "name": "stderr",
     "output_type": "stream",
     "text": [
      "100%|██████████| 1/1 [00:00<00:00, 26.20it/s]\n"
     ]
    },
    {
     "name": "stdout",
     "output_type": "stream",
     "text": [
      "First few preds (3/3):  [[0.08159401 0.0514654  0.1214821  ... 0.04567337 0.02371522 0.01146759]\n",
      " [0.04347266 0.00724106 0.02440543 ... 0.14399427 0.06249761 0.00973568]\n",
      " [0.04099506 0.00528022 0.02043045 ... 0.12732813 0.27483127 0.02358392]\n",
      " [0.00238653 0.00068568 0.00287148 ... 0.01283075 0.04033869 0.00053388]\n",
      " [0.00069717 0.007625   0.00177565 ... 0.01479234 0.04086539 0.02796625]]\n"
     ]
    }
   ],
   "source": [
    "deepsea.model.eval()\n",
    "deepsea.model = deepsea.model.apply(apply_dropout)\n",
    "for i in range(3):\n",
    "    print(f\"First few preds ({i+1}/3): \", deepsea.pipeline.predict_example()[:5])"
   ]
  },
  {
   "cell_type": "markdown",
   "metadata": {},
   "source": [
    "## Predictions and in-silico mutagenesis"
   ]
  },
  {
   "cell_type": "code",
   "execution_count": 15,
   "metadata": {},
   "outputs": [
    {
     "data": {
      "text/plain": [
       "array([[0.15482478, 0.41419205, 0.0937921 , ..., 0.02676059, 0.12258169,\n",
       "        0.00213298],\n",
       "       [0.8937106 , 0.7648236 , 0.61178684, ..., 0.0828703 , 0.01749489,\n",
       "        0.01029355],\n",
       "       [0.9055333 , 0.9672606 , 0.89377403, ..., 0.5511447 , 0.00251829,\n",
       "        0.0066711 ],\n",
       "       [0.05988181, 0.14540948, 0.02101893, ..., 0.02496543, 0.01523173,\n",
       "        0.0196065 ],\n",
       "       [0.76585925, 0.37219208, 0.39679316, ..., 0.01454123, 0.03271204,\n",
       "        0.0176499 ]], dtype=float32)"
      ]
     },
     "execution_count": 15,
     "metadata": {},
     "output_type": "execute_result"
    }
   ],
   "source": [
    "deepsea.predict_on_batch(seqs[:5, :, :, :])"
   ]
  },
  {
   "cell_type": "code",
   "execution_count": 16,
   "metadata": {},
   "outputs": [],
   "source": [
    "all_zeros = np.zeros((4,))\n",
    "def generate_wt_mut_batches(seq, batch_size=300):\n",
    "    \"\"\"\n",
    "    For a given sequence, generate all possible point-mutated versions of the sequence\n",
    "    in batches of size `param:batch_size`.\n",
    "    \n",
    "    Args:\n",
    "        seq (numpy.ndarray [batch_size, number of base pairs, 1, sequence length]): \n",
    "            wild type sequence.\n",
    "        batch_size (int): size of returned batches. Note that each batch will have the\n",
    "            wild type sequence as its first row since we need to compute wild type / mut\n",
    "            prediction diffs using predictions generated by the same dropout mask.\n",
    "    \"\"\"\n",
    "    seq_len = seq.shape[3]\n",
    "    assert ((seq_len * 3) % batch_size) == 0, seq_len * 3\n",
    "    # 3 mutations per nt and then account for ref in each batch\n",
    "    n_batches = (seq_len * 3) / (batch_size - 1) + 1\n",
    "    seq_batch = seq.repeat(batch_size, axis=0)\n",
    "    seq_batches = seq_batch[np.newaxis, :, :, :, :].repeat(n_batches, axis=0)\n",
    "    i = 0\n",
    "    for seq_idx in range(seq_len):  # iterate over sequence \n",
    "        for nt_idx in range(4):  # iterate over nucleotides\n",
    "            curr_batch, curr_idx = i // (batch_size - 1), (i % (batch_size-1) + 1)\n",
    "            curr_nt = seq_batches[curr_batch, curr_idx, nt_idx, 0, seq_idx]\n",
    "            if curr_nt == 1: continue\n",
    "            seq_batches[curr_batch, curr_idx, :, 0, seq_idx] = all_zeros\n",
    "            seq_batches[curr_batch, curr_idx, nt_idx, 0, seq_idx] = 1\n",
    "            i += 1\n",
    "    return seq_batches"
   ]
  },
  {
   "cell_type": "code",
   "execution_count": 17,
   "metadata": {},
   "outputs": [
    {
     "data": {
      "text/plain": [
       "[(52, 'A549_DNase_None'), (720, 'A549_CTCF_None'), (763, 'A549_CTCF_None')]"
      ]
     },
     "execution_count": 17,
     "metadata": {},
     "output_type": "execute_result"
    }
   ],
   "source": [
    "CHROM_ACC_COL = 'A549_DNase_None'\n",
    "TF_COL = 'A549_CTCF_None'\n",
    "relevant_cols = sorted([(i, label)\n",
    "                        for i, label in enumerate(deepsea.schema.targets.column_labels)\n",
    "                        if label in [CHROM_ACC_COL, TF_COL]])\n",
    "\n",
    "def output_sel_fn(result):\n",
    "    return np.array([result[:, col_idx] for col_idx, _ in relevant_cols]).T\n",
    "\n",
    "relevant_cols"
   ]
  },
  {
   "cell_type": "code",
   "execution_count": 36,
   "metadata": {
    "scrolled": false
   },
   "outputs": [
    {
     "name": "stderr",
     "output_type": "stream",
     "text": [
      "100%|██████████| 11/11 [04:39<00:00, 25.42s/it]\n",
      "100%|██████████| 11/11 [04:39<00:00, 25.41s/it]\n",
      "100%|██████████| 11/11 [04:39<00:00, 25.40s/it]\n",
      "100%|██████████| 11/11 [04:39<00:00, 25.41s/it]\n",
      "100%|██████████| 11/11 [04:39<00:00, 25.40s/it]\n",
      "100%|██████████| 11/11 [04:39<00:00, 25.41s/it]\n",
      "100%|██████████| 11/11 [04:39<00:00, 25.40s/it]\n",
      "100%|██████████| 11/11 [04:39<00:00, 25.40s/it]\n",
      "100%|██████████| 11/11 [04:39<00:00, 25.40s/it]\n",
      "100%|██████████| 11/11 [04:39<00:00, 25.41s/it]\n"
     ]
    }
   ],
   "source": [
    "from tqdm import tqdm\n",
    "def next_seq(it):\n",
    "    return np.expand_dims(next(it)[\"inputs\"].transpose(0, 2, 1), 2).astype(np.float32)\n",
    "    \n",
    "\n",
    "epochs = 50\n",
    "n_seqs = 10\n",
    "preds = [[[] for _ in range(n_seqs)] for _ in range(epochs)]\n",
    "it = dl.batch_iter(batch_size=1, shuffle=True, num_workers=0, drop_last=False)\n",
    "for i in range(min(n_seqs, len(it))):\n",
    "    next_seq(it)\n",
    "    seq = next_seq(it)\n",
    "    wt_mut_batches = generate_wt_mut_batches(seq)\n",
    "    for batch in tqdm(wt_mut_batches):\n",
    "        for epoch in range(epochs):\n",
    "            preds[epoch][i].append(output_sel_fn(deepsea.predict_on_batch(batch)))\n",
    "\n",
    "\n",
    "np_preds = np.array(preds)\n",
    "assert np_preds.shape[:2] == (epochs, n_seqs), np_preds.shape"
   ]
  },
  {
   "cell_type": "code",
   "execution_count": 37,
   "metadata": {},
   "outputs": [],
   "source": [
    "import pickle\n",
    "pickle_file = \"../dat/most_recent_sat_mut_results.pickle\"\n",
    "with open(pickle_file, 'wb') as f: pickle.dump(np_preds, f)"
   ]
  },
  {
   "cell_type": "code",
   "execution_count": 39,
   "metadata": {},
   "outputs": [
    {
     "data": {
      "text/plain": [
       "(50, 10, 11, 300, 3)"
      ]
     },
     "execution_count": 39,
     "metadata": {},
     "output_type": "execute_result"
    }
   ],
   "source": [
    "with open(pickle_file, 'rb') as f: np_preds = pickle.load(f)\n",
    "np_preds.shape"
   ]
  },
  {
   "cell_type": "markdown",
   "metadata": {},
   "source": [
    "# Results & Analysis"
   ]
  },
  {
   "cell_type": "code",
   "execution_count": 24,
   "metadata": {},
   "outputs": [],
   "source": [
    "np_log_odds_preds = np.log(np_preds / (1-np_preds))"
   ]
  },
  {
   "cell_type": "code",
   "execution_count": 25,
   "metadata": {},
   "outputs": [
    {
     "data": {
      "text/plain": [
       "(50, 1, 11, 300, 3)"
      ]
     },
     "execution_count": 25,
     "metadata": {},
     "output_type": "execute_result"
    }
   ],
   "source": [
    "n_batches = np_preds.shape[2]\n",
    "batch_size = np_preds.shape[3]\n",
    "np_preds.shape"
   ]
  },
  {
   "cell_type": "code",
   "execution_count": 26,
   "metadata": {},
   "outputs": [
    {
     "data": {
      "text/plain": [
       "(1, 11, 300, 3)"
      ]
     },
     "execution_count": 26,
     "metadata": {},
     "output_type": "execute_result"
    }
   ],
   "source": [
    "np_pred_means = np.mean(np_preds[:, :batch_size-1, :, :, :], axis=0)\n",
    "np_pred_vars = np.var(np_preds, axis=0)\n",
    "np_pred_means.shape"
   ]
  },
  {
   "cell_type": "code",
   "execution_count": 27,
   "metadata": {},
   "outputs": [],
   "source": [
    "np_pred_covs = np.zeros((n_seqs, n_batches, batch_size, len(relevant_cols)))\n",
    "for seq in range(n_seqs):\n",
    "    for batch in range(n_batches):\n",
    "        for col in range(len(relevant_cols)):\n",
    "            ref_seq_preds = np_preds[:, seq, batch, 0, col]\n",
    "            for mut in range(batch_size):\n",
    "                mut_seq_preds = np_preds[:, seq, batch, mut, col]\n",
    "                cov = np.cov(np.stack((ref_seq_preds, mut_seq_preds))) # 2x2, symmetric\n",
    "                np_pred_covs[seq, batch, mut, col] = cov[0, 1] # off diag idx"
   ]
  },
  {
   "cell_type": "code",
   "execution_count": 28,
   "metadata": {},
   "outputs": [],
   "source": [
    "np_pred_uncertainties = np_pred_vars[:, :, :, :] + np_pred_vars[:, :, 0:1, :] - 2 * np_pred_covs[:, :, :, :]"
   ]
  },
  {
   "cell_type": "code",
   "execution_count": 33,
   "metadata": {},
   "outputs": [
    {
     "data": {
      "image/png": "[encoded data removed]",
      "text/plain": [
       "<Figure size 864x576 with 1 Axes>"
      ]
     },
     "metadata": {
      "needs_background": "light"
     },
     "output_type": "display_data"
    }
   ],
   "source": [
    "plt.hist((np_pred_means[:, :n_batches, 1:, 0] - np_pred_means[:, :n_batches, 0:1, 0]).reshape(-1), log=True);"
   ]
  },
  {
   "cell_type": "code",
   "execution_count": 30,
   "metadata": {
    "scrolled": false
   },
   "outputs": [
    {
     "data": {
      "image/png": "[encoded data removed]",
      "text/plain": [
       "<Figure size 432x288 with 1 Axes>"
      ]
     },
     "metadata": {
      "needs_background": "light"
     },
     "output_type": "display_data"
    }
   ],
   "source": [
    "import matplotlib.pyplot as plt\n",
    "\n",
    "for seq in range(np_pred_means.shape[0]):\n",
    "    plt.scatter(\n",
    "        np_pred_means[seq, :, :, :].reshape(-1), \n",
    "        np_pred_vars[seq, :, :, :].reshape(-1),\n",
    "        label=seq)\n",
    "plt.xlabel(\"Predictive Mean\")\n",
    "plt.ylabel(\"Predictive Variance\");"
   ]
  },
  {
   "cell_type": "code",
   "execution_count": 35,
   "metadata": {},
   "outputs": [
    {
     "data": {
      "image/png": "[encoded data removed]",
      "text/plain": [
       "<Figure size 864x576 with 1 Axes>"
      ]
     },
     "metadata": {
      "needs_background": "light"
     },
     "output_type": "display_data"
    }
   ],
   "source": [
    "import matplotlib.pyplot as plt\n",
    "\n",
    "\n",
    "TF_COL = 1\n",
    "CA_COL = 0\n",
    "\n",
    "for seq in range(np_pred_means.shape[0]):\n",
    "    plt.scatter(\n",
    "        (np_pred_means[seq, :, 1:, TF_COL] - np_pred_means[seq, :, 0:1, TF_COL]).reshape(-1), \n",
    "        (np_pred_means[seq, :, 1:, CA_COL] - np_pred_means[seq, :, 0:1, CA_COL]).reshape(-1), \n",
    "        label=seq)\n",
    "plt.xlabel(\"TF pred diff\")\n",
    "plt.ylabel(\"CA pred diff\");"
   ]
  },
  {
   "cell_type": "code",
   "execution_count": null,
   "metadata": {},
   "outputs": [],
   "source": [
    "import matplotlib.pyplot as plt\n",
    "\n",
    "for seq in range(np_pred_means.shape[0]):\n",
    "    plt.scatter(\n",
    "        (np_pred_means[seq, :, 1:, tf_c] - np_pred_means[seq, :, 0:1, :]).reshape(-1), \n",
    "        np_pred_uncertainties[seq, :, 1:, :].reshape(-1),\n",
    "        label=seq)\n",
    "plt.xlabel(\"Instrument Strength\")\n",
    "plt.ylabel(\"Predictive Uncertainty\");"
   ]
  },
  {
   "cell_type": "code",
   "execution_count": 32,
   "metadata": {
    "scrolled": true
   },
   "outputs": [
    {
     "name": "stderr",
     "output_type": "stream",
     "text": [
      "/opt/anaconda3/lib/python3.7/site-packages/ipykernel_launcher.py:3: DeprecationWarning: This function is deprecated. Please call randint(0, 0 + 1) instead\n",
      "  This is separate from the ipykernel package so we can avoid doing imports until\n",
      "/opt/anaconda3/lib/python3.7/site-packages/ipykernel_launcher.py:4: DeprecationWarning: This function is deprecated. Please call randint(0, 10 + 1) instead\n",
      "  after removing the cwd from sys.path.\n",
      "/opt/anaconda3/lib/python3.7/site-packages/ipykernel_launcher.py:5: DeprecationWarning: This function is deprecated. Please call randint(0, 299 + 1) instead\n",
      "  \"\"\"\n",
      "/opt/anaconda3/lib/python3.7/site-packages/ipykernel_launcher.py:6: DeprecationWarning: This function is deprecated. Please call randint(0, 2 + 1) instead\n",
      "  \n"
     ]
    },
    {
     "data": {
      "image/png": "[encoded data removed]",
      "text/plain": [
       "<Figure size 864x576 with 4 Axes>"
      ]
     },
     "metadata": {
      "needs_background": "light"
     },
     "output_type": "display_data"
    }
   ],
   "source": [
    "plt.rcParams['figure.figsize'] = [12, 8]\n",
    "fig, axs = plt.subplots(2, 2)\n",
    "sample_seqs = np.random.random_integers(0, n_seqs-1, size=4)\n",
    "sample_batches = np.random.random_integers(0, n_batches-1, size=4)\n",
    "sample_muts = np.random.random_integers(0, batch_size-1, size=4)\n",
    "sample_col = np.random.random_integers(0, len(relevant_cols)-1)\n",
    "\n",
    "for i in range(4):\n",
    "    np_sample_ref_preds = np_preds[\n",
    "        :, sample_seqs[i], sample_batches[i], 0, sample_col\n",
    "    ]\n",
    "    np_sample_mut_preds = np_preds[\n",
    "        :, sample_seqs[i], sample_batches[i], sample_muts[i], sample_col\n",
    "    ]\n",
    "    axs[i // 2, i % 2].scatter(np_sample_ref_preds, np_sample_mut_preds)\n",
    "    axs[i // 2, i % 2].set_xlabel(f\"{relevant_cols[sample_col][1]} prob (ref)\")\n",
    "    axs[i // 2, i % 2].set_ylabel(f\"{relevant_cols[sample_col][1]} prob (mut)\")    "
   ]
  },
  {
   "cell_type": "code",
   "execution_count": 56,
   "metadata": {},
   "outputs": [],
   "source": [
    "import csv\n",
    "\n",
    "\n",
    "IDX_TO_NT = 'ACGT'\n",
    "\n",
    "def _convert_to_mutation(pos_nt_pair):\n",
    "    return \"%d%s\" % (pos_nt_pair[0], IDX_TO_NT[pos_nt_pair[1]])\n",
    "\n",
    "\n",
    "TF_COL = 1\n",
    "CA_COL = 0\n",
    "\n",
    "def _write_row(writer, seq, batch, i):\n",
    "    seq_num = seq+1\n",
    "    mut_num = (batch * (batch_size)) + i\n",
    "    mut = _convert_to_mutation((mut_num // 3, mut_num % 3))\n",
    "    x_pred_mean = np_pred_means[seq, batch, i, TF_COL]\n",
    "    x_pred_uncertainty = np_pred_uncertainties[seq, batch, i, TF_COL]\n",
    "    y_pred_mean = np_pred_means[seq, batch, i, CA_COL]\n",
    "    y_pred_uncertainty = np_pred_uncertainties[seq, batch, i, CA_COL]\n",
    "    writer.writerow(\n",
    "        {\n",
    "            \"seq_num\": seq_num,\n",
    "            \"mut\": mut,\n",
    "            \"X_pred_mean\": x_pred_mean,\n",
    "            \"X_pred_var\": x_pred_uncertainty,\n",
    "            \"Y_pred_mean\": y_pred_mean,\n",
    "            \"Y_pred_var\": y_pred_uncertainty,\n",
    "        }\n",
    "    )\n",
    "        \n",
    "\n",
    "with open(\"means_and_uncertainties.csv\", 'w', newline=\"\") as out_file:\n",
    "    fieldnames = [\n",
    "        \"seq_num\",\n",
    "        \"mut\",\n",
    "        \"X_pred_mean\",\n",
    "        \"X_pred_var\",\n",
    "        \"Y_pred_mean\",\n",
    "        \"Y_pred_var\",\n",
    "    ]\n",
    "    writer = csv.DictWriter(out_file, delimiter=\",\", fieldnames=fieldnames)\n",
    "    writer.writeheader()\n",
    "    \n",
    "    for seq in range(n_seqs):\n",
    "        _write_row(writer, seq, batch, i)\n",
    "        for batch in range(n_batches):\n",
    "            for i in range(1, batch_size):\n",
    "                if np.allclose(np_pred_means[seq, batch, i, :], np.zeros(3)): print(i)\n",
    "                _write_row(writer, seq, batch, i)\n",
    " \n"
   ]
  },
  {
   "cell_type": "code",
   "execution_count": 55,
   "metadata": {},
   "outputs": [
    {
     "name": "stdout",
     "output_type": "stream",
     "text": [
      "61200\n",
      "12\n"
     ]
    }
   ],
   "source": [
    "print(n_seqs * n_batches * (batch_size-1))\n",
    "print(n_batches)"
   ]
  },
  {
   "cell_type": "code",
   "execution_count": null,
   "metadata": {},
   "outputs": [],
   "source": [
    "zeros = np.zeros((2, 3))\n",
    "def sanitize_scores(scores):\n",
    "    orig_shape = scores.shape\n",
    "    sanitized_scores = np.ndarray((*orig_shape, 2, 3), dtype=scores.dtype)\n",
    "    flattened_scores = scores.reshape(-1)\n",
    "    \n",
    "    for i, score in enumerate(flattened_scores):\n",
    "        idx = np.unravel_index(i, orig_shape)\n",
    "        if score is None: sanitized_scores[idx] = zeros\n",
    "        else: sanitized_scores[idx] = np.array(score)\n",
    "    return sanitized_scores\n",
    "\n",
    "sanitized_scores = sanitize_scores(np.squeeze(ism_score))\n",
    "ctcf_original_preds = sanitized_scores[:, :, :, 0, 1]\n",
    "ctcf_pred_diffs = sanitized_scores[:, :, :, 1, 1]\n",
    "dnase_original_preds = sanitized_scores[:, :, :, 0, 0]\n",
    "dnase_pred_diff = sanitized_scores[:, :, :, 1, 0]"
   ]
  },
  {
   "cell_type": "code",
   "execution_count": null,
   "metadata": {},
   "outputs": [],
   "source": [
    "import math\n",
    "import numpy as np\n",
    "\n",
    "log_uniform_prop = math.log(.05/(1-.05))\n",
    "def compute_normalized_prob(prob, train_prob):\n",
    "    denom = 1+np.exp(-(np.log(prob/(1-prob))+log_uniform_prop-np.log(train_prob/(1-train_prob))))\n",
    "    return 1 / denom\n",
    "\n",
    "# Ratios and normalization formula drawn from here: http://deepsea.princeton.edu/media/help/posproportion.txt\n",
    "tf_compute_normalized_prob = lambda prob: compute_normalized_prob(prob, .020029)\n",
    "# ENCODE\tA549\tDNase\tNone\t0.048136\n",
    "chrom_acc_normalized_prob = lambda prob: compute_normalized_prob(prob, 0.048136)"
   ]
  }
 ],
 "metadata": {
  "kernelspec": {
   "display_name": "Python 3",
   "language": "python",
   "name": "python3"
  },
  "language_info": {
   "codemirror_mode": {
    "name": "ipython",
    "version": 3
   },
   "file_extension": ".py",
   "mimetype": "text/x-python",
   "name": "python",
   "nbconvert_exporter": "python",
   "pygments_lexer": "ipython3",
   "version": "3.7.4"
  }
 },
 "nbformat": 4,
 "nbformat_minor": 4
}
