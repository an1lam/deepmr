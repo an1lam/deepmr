{
 "cells": [
  {
   "cell_type": "code",
   "execution_count": 1,
   "metadata": {},
   "outputs": [],
   "source": [
    "%load_ext autoreload\n",
    "%autoreload 2"
   ]
  },
  {
   "cell_type": "code",
   "execution_count": 12,
   "metadata": {},
   "outputs": [],
   "source": [
    "from matplotlib import pyplot as plt\n",
    "from IPython.display import clear_output\n",
    "import numpy as np\n",
    "import pandas as pd\n",
    "import seaborn as sns\n",
    "import simdna\n",
    "from simdna import synthetic\n",
    "import torch\n",
    "\n",
    "from pyx.one_hot import one_hot\n",
    "from tf_coop_model import CountsRegressor, IterablePandasDataset\n",
    "from tf_coop_model import anscombe_transform, run_one_epoch, pearson_r, spearman_rho, rsquared\n",
    "from tf_coop_simulation import background_frequency"
   ]
  },
  {
   "cell_type": "markdown",
   "metadata": {},
   "source": [
    "# Initialize Model & Load Weights\n",
    "This step assumes we've trained a counts regression model and have its weights stored in a .pt[h] file somewhere accessible."
   ]
  },
  {
   "cell_type": "code",
   "execution_count": 3,
   "metadata": {},
   "outputs": [],
   "source": [
    "n_conv_layers = 3\n",
    "n_dense_layers = 3\n",
    "n_outputs = 2\n",
    "sequence_length = 100\n",
    "filters = 15\n",
    "filter_width = 7\n",
    "dense_layer_width = 30\n",
    "\n",
    "weights_fpath = '../dat/sim/cnn_counts_predictor.pt'\n",
    "test_data_fpath = '../dat/sim/test_labels.csv'\n",
    "raw_simulation_data_fpath = '../dat/sim/test_sequences.simdata'\n",
    "\n",
    "sequences_col = \"sequences\"\n",
    "label_cols = [\"labels_exp\", \"labels_out\"]\n",
    "batch_size = 1000"
   ]
  },
  {
   "cell_type": "code",
   "execution_count": 4,
   "metadata": {},
   "outputs": [
    {
     "data": {
      "text/plain": [
       "CountsRegressor(\n",
       "  (conv_layers): Sequential(\n",
       "    (0): Conv1d(4, 15, kernel_size=(7,), stride=(1,))\n",
       "    (1): BatchNorm1d(15, eps=1e-05, momentum=0.1, affine=True, track_running_stats=True)\n",
       "    (2): ReLU()\n",
       "    (3): Conv1d(15, 15, kernel_size=(7,), stride=(1,))\n",
       "    (4): BatchNorm1d(15, eps=1e-05, momentum=0.1, affine=True, track_running_stats=True)\n",
       "    (5): ReLU()\n",
       "    (6): Conv1d(15, 15, kernel_size=(7,), stride=(1,))\n",
       "    (7): BatchNorm1d(15, eps=1e-05, momentum=0.1, affine=True, track_running_stats=True)\n",
       "    (8): ReLU()\n",
       "  )\n",
       "  (dense_layers): Sequential(\n",
       "    (0): Flatten()\n",
       "    (1): Linear(in_features=1230, out_features=30, bias=True)\n",
       "    (2): ReLU()\n",
       "    (3): Linear(in_features=30, out_features=30, bias=True)\n",
       "    (4): ReLU()\n",
       "    (5): Linear(in_features=30, out_features=30, bias=True)\n",
       "    (6): ReLU()\n",
       "  )\n",
       "  (regressor): Linear(in_features=30, out_features=2, bias=True)\n",
       ")"
      ]
     },
     "execution_count": 4,
     "metadata": {},
     "output_type": "execute_result"
    }
   ],
   "source": [
    "model = CountsRegressor(n_conv_layers,\n",
    "    n_dense_layers,\n",
    "    n_outputs,\n",
    "    sequence_length,\n",
    "    filters,\n",
    "    filter_width,\n",
    "    dense_layer_width\n",
    ")\n",
    "model.load_state_dict(torch.load(weights_fpath))\n",
    "model"
   ]
  },
  {
   "cell_type": "markdown",
   "metadata": {},
   "source": [
    "# Load Test Data & Generate Predictions\n",
    "Now we're going to load test data to get some basic metrics about how well our model performs. We'll later use these numbers to test whether the model maintains its performance when predicting counts for test set variants."
   ]
  },
  {
   "cell_type": "code",
   "execution_count": 5,
   "metadata": {},
   "outputs": [],
   "source": [
    "test_df = pd.read_csv(test_data_fpath)\n",
    "test_dataset = IterablePandasDataset(\n",
    "    test_df, x_cols=sequences_col, y_cols=label_cols, x_transform=one_hot,\n",
    ")\n",
    "test_data_loader = torch.utils.data.DataLoader(\n",
    "    test_dataset, batch_size=batch_size, num_workers=0\n",
    ")"
   ]
  },
  {
   "cell_type": "code",
   "execution_count": 6,
   "metadata": {},
   "outputs": [
    {
     "data": {
      "text/plain": [
       "{'spearman-rho': [0.8184861951629622, 0.7134025003778726],\n",
       " 'r-squared': array([-0.91862691, -0.47439728]),\n",
       " 'pearson-r': [0.9024374807864457, 0.9246118123235433]}"
      ]
     },
     "execution_count": 6,
     "metadata": {},
     "output_type": "execute_result"
    }
   ],
   "source": [
    "predictions, losses, metrics = run_one_epoch(\n",
    "    model, test_data_loader, None, training=False, metrics_config={\n",
    "        \"spearman-rho\": spearman_rho,\n",
    "        \"r-squared\": rsquared,\n",
    "        \"pearson-r\": pearson_r,\n",
    "    }\n",
    ")\n",
    "metrics"
   ]
  },
  {
   "cell_type": "code",
   "execution_count": 7,
   "metadata": {},
   "outputs": [
    {
     "data": {
      "text/plain": [
       "(10000, 2)"
      ]
     },
     "execution_count": 7,
     "metadata": {},
     "output_type": "execute_result"
    }
   ],
   "source": [
    "np.array(predictions).shape"
   ]
  },
  {
   "cell_type": "code",
   "execution_count": 8,
   "metadata": {},
   "outputs": [
    {
     "data": {
      "text/plain": [
       "Text(0, 0.5, 'Actual exposure counts')"
      ]
     },
     "execution_count": 8,
     "metadata": {},
     "output_type": "execute_result"
    },
    {
     "data": {
      "image/png": "[encoded data removed]",
      "text/plain": [
       "<Figure size 432x288 with 1 Axes>"
      ]
     },
     "metadata": {
      "needs_background": "light"
     },
     "output_type": "display_data"
    }
   ],
   "source": [
    "plt.scatter(np.array(predictions)[:, 0], anscombe_transform(test_df[label_cols[0]]))\n",
    "plt.xlabel(\"Predicted exposure counts\")\n",
    "plt.ylabel(\"Actual exposure counts\")"
   ]
  },
  {
   "cell_type": "code",
   "execution_count": 10,
   "metadata": {},
   "outputs": [
    {
     "data": {
      "text/plain": [
       "Text(0, 0.5, 'Actual outcome counts')"
      ]
     },
     "execution_count": 10,
     "metadata": {},
     "output_type": "execute_result"
    },
    {
     "data": {
      "image/png": "[encoded data removed]",
      "text/plain": [
       "<Figure size 432x288 with 1 Axes>"
      ]
     },
     "metadata": {
      "needs_background": "light"
     },
     "output_type": "display_data"
    }
   ],
   "source": [
    "plt.scatter(np.array(predictions)[:, 1], anscombe_transform(test_df[label_cols[1]]))\n",
    "plt.xlabel(\"Predicted outcome counts\")\n",
    "plt.ylabel(\"Actual outcome counts\")"
   ]
  },
  {
   "cell_type": "markdown",
   "metadata": {},
   "source": [
    "# Generating a variants test set"
   ]
  },
  {
   "cell_type": "code",
   "execution_count": 13,
   "metadata": {},
   "outputs": [],
   "source": [
    "test_sim_data = synthetic.read_simdata_file(raw_simulation_data_fpath)"
   ]
  },
  {
   "cell_type": "code",
   "execution_count": 102,
   "metadata": {},
   "outputs": [],
   "source": [
    "import editdistance\n",
    "variants_test_set = {}\n",
    "\n",
    "nts_to_ints = { 'A':0, 'C':1, 'G':2, 'T':3 } \n",
    "ints_to_nts = {i: nt for nt, i in nts_to_ints.items()} \n",
    "\n",
    "def mutate_nt(nt):\n",
    "     return ints_to_nts[(nts_to_ints[nt] + np.random.choice([1, 2, 3])) % 4]\n",
    "\n",
    "def mutate_sequence(seq, embedding):\n",
    "    start_pos = embeddings[0].startPos\n",
    "    embedded_seq = embeddings[0].what.string\n",
    "    mutation_pos = start_pos + np.random.choice(np.arange(len(embedded_seq)))\n",
    "    new_nt = mutate_nt(sequence[mutation_pos])      \n",
    "    new_sequence = sequence[:mutation_pos] + new_nt + sequence[mutation_pos+1:]\n",
    "    return new_sequence\n",
    "\n",
    "zipped_sim_data = zip(test_sim_data.sequences, test_sim_data.labels, test_sim_data.embeddings)\n",
    "for i, (sequence, labels, embeddings) in enumerate(zipped_sim_data):    # One of two motifs embedded\n",
    "    if len(embeddings) == 1:\n",
    "        new_sequence = mutate_sequence(sequence, embeddings[0])\n",
    "        assert new_sequence not in variants_test_set\n",
    "        assert editdistance.eval(sequence, new_sequence) == 1\n",
    "        variants_test_set[new_sequence] = i\n",
    "    elif len(embeddings) == 3:\n",
    "        new_sequence = mutate_sequence(mutate_sequence(sequence, embeddings[0]), embeddings[1])\n",
    "        assert new_sequence not in variants_test_set\n",
    "        assert editdistance.eval(sequence, new_sequence) == 1\n",
    "        variants_test_set[new_sequence] = i\n",
    "    else:\n",
    "        assert len(embeddings) == 0"
   ]
  },
  {
   "cell_type": "code",
   "execution_count": 108,
   "metadata": {},
   "outputs": [
    {
     "data": {
      "text/plain": [
       "sequences     CTAATACCAACTCACAGCAGATAAGAACACACCAACTGAAAATACG...\n",
       "labels_exp                                                    0\n",
       "labels_out                                                    0\n",
       "Name: 1, dtype: object"
      ]
     },
     "execution_count": 108,
     "metadata": {},
     "output_type": "execute_result"
    }
   ],
   "source": [
    "example_variant = \"CTAATACCAACTCACAGCAGATCAGAACACACCAACTGAAAATACGAGTTCCAGAGTTGGGAGAGTAATGGGTGCAGTATACTTTTCCAGATGGCACCTA\"\n",
    "test_df.iloc[1]"
   ]
  }
 ],
 "metadata": {
  "kernelspec": {
   "display_name": "Python (deepmr)",
   "language": "python",
   "name": "deepmr"
  },
  "language_info": {
   "codemirror_mode": {
    "name": "ipython",
    "version": 3
   },
   "file_extension": ".py",
   "mimetype": "text/x-python",
   "name": "python",
   "nbconvert_exporter": "python",
   "pygments_lexer": "ipython3",
   "version": "3.6.10"
  }
 },
 "nbformat": 4,
 "nbformat_minor": 4
}
