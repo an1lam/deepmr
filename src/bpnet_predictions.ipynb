{
 "cells": [
  {
   "cell_type": "code",
   "execution_count": 26,
   "metadata": {
    "tags": [
     "parameters"
    ]
   },
   "outputs": [],
   "source": [
    "# Example parameters\n",
    "model_dir = './bpnet/examples/chip-nexus/output/'\n",
    "\n",
    "gpu = 0\n",
    "memfrac_gpu = 0.45\n",
    "in_memory = False\n",
    "num_workers = 8"
   ]
  },
  {
   "cell_type": "code",
   "execution_count": 27,
   "metadata": {},
   "outputs": [],
   "source": [
    "import bpnet\n",
    "import pandas as pd\n",
    "import numpy as np\n",
    "import os\n",
    "from pathlib import Path\n",
    "\n",
    "from bpnet.dataspecs import DataSpec, TaskSpec\n",
    "from bpnet.utils import create_tf_session\n",
    "from bpnet.seqmodel import SeqModel\n",
    "from bpnet.plot.evaluate import plot_loss, regression_eval\n",
    "from IPython.display import clear_output"
   ]
  },
  {
   "cell_type": "code",
   "execution_count": 28,
   "metadata": {},
   "outputs": [],
   "source": [
    "model_dir = Path(model_dir)"
   ]
  },
  {
   "cell_type": "code",
   "execution_count": 29,
   "metadata": {},
   "outputs": [],
   "source": [
    "history_file = model_dir / \"history.csv\""
   ]
  },
  {
   "cell_type": "code",
   "execution_count": 30,
   "metadata": {},
   "outputs": [],
   "source": [
    "create_tf_session(gpu)\n",
    "clear_output()"
   ]
  },
  {
   "cell_type": "code",
   "execution_count": 32,
   "metadata": {},
   "outputs": [],
   "source": [
    "model = SeqModel.from_mdir(model_dir)\n",
    "clear_output()"
   ]
  },
  {
   "cell_type": "markdown",
   "metadata": {
    "papermill": {
     "duration": 0.024027,
     "end_time": "2019-08-01T09:53:07.957368",
     "exception": false,
     "start_time": "2019-08-01T09:53:07.933341",
     "status": "completed"
    },
    "tags": []
   },
   "source": [
    "## Evaluation\n",
    "\n",
    "Print the metrics:"
   ]
  },
  {
   "cell_type": "code",
   "execution_count": 33,
   "metadata": {
    "collapsed": true,
    "papermill": {
     "duration": 0.18378,
     "end_time": "2019-08-01T09:53:08.162361",
     "exception": false,
     "start_time": "2019-08-01T09:53:07.978581",
     "status": "completed"
    },
    "tags": []
   },
   "outputs": [
    {
     "name": "stdout",
     "output_type": "stream",
     "text": [
      "{\r\n",
      "  \"valid-peaks\": {\r\n",
      "    \"Oct4/profile/binsize=1/auprc\": 0.2988962008129486,\r\n",
      "    \"Oct4/profile/binsize=1/random_auprc\": 0.10733649347249394,\r\n",
      "    \"Oct4/profile/binsize=1/n_positives\": 17906,\r\n",
      "    \"Oct4/profile/binsize=1/frac_ambigous\": 0.2969518272425249,\r\n",
      "    \"Oct4/profile/binsize=1/imbalance\": 0.10576866279962668,\r\n",
      "    \"Oct4/profile/binsize=10/auprc\": 0.8636563781189565,\r\n",
      "    \"Oct4/profile/binsize=10/random_auprc\": 0.7731474464412409,\r\n",
      "    \"Oct4/profile/binsize=10/n_positives\": 9216,\r\n",
      "    \"Oct4/profile/binsize=10/frac_ambigous\": 0.5080564784053156,\r\n",
      "    \"Oct4/profile/binsize=10/imbalance\": 0.7779841296640216,\r\n",
      "    \"Oct4/counts/mse\": 1.327919840812683,\r\n",
      "    \"Oct4/counts/var_explained\": -0.6340404748916626,\r\n",
      "    \"Oct4/counts/pearsonr\": -0.019652674369757955,\r\n",
      "    \"Oct4/counts/spearmanr\": -0.0273016972445214,\r\n",
      "    \"Oct4/counts/mad\": 0.9159870743751526,\r\n",
      "    \"Sox2/profile/binsize=1/auprc\": 0.2922871596759037,\r\n",
      "    \"Sox2/profile/binsize=1/random_auprc\": 0.10754282518904301,\r\n",
      "    \"Sox2/profile/binsize=1/n_positives\": 3470,\r\n",
      "    \"Sox2/profile/binsize=1/frac_ambigous\": 0.2693805309734513,\r\n",
      "    \"Sox2/profile/binsize=1/imbalance\": 0.10507509689922481,\r\n",
      "    \"Sox2/profile/binsize=10/auprc\": 0.8609991793483124,\r\n",
      "    \"Sox2/profile/binsize=10/random_auprc\": 0.7458903553073748,\r\n",
      "    \"Sox2/profile/binsize=10/n_positives\": 1704,\r\n",
      "    \"Sox2/profile/binsize=10/frac_ambigous\": 0.4915929203539823,\r\n",
      "    \"Sox2/profile/binsize=10/imbalance\": 0.741514360313316,\r\n",
      "    \"Sox2/counts/mse\": 1.073368787765503,\r\n",
      "    \"Sox2/counts/var_explained\": -0.6227999925613403,\r\n",
      "    \"Sox2/counts/pearsonr\": 0.004655682386133356,\r\n",
      "    \"Sox2/counts/spearmanr\": 0.001878727183986599,\r\n",
      "    \"Sox2/counts/mad\": 0.8169804811477661,\r\n",
      "    \"Nanog/profile/binsize=1/auprc\": 0.40842991662912564,\r\n",
      "    \"Nanog/profile/binsize=1/random_auprc\": 0.09705487632404725,\r\n",
      "    \"Nanog/profile/binsize=1/n_positives\": 57465,\r\n",
      "    \"Nanog/profile/binsize=1/frac_ambigous\": 0.2758068914229053,\r\n",
      "    \"Nanog/profile/binsize=1/imbalance\": 0.09835198595191681,\r\n",
      "    \"Nanog/profile/binsize=10/auprc\": 0.8426228684494825,\r\n",
      "    \"Nanog/profile/binsize=10/random_auprc\": 0.6240571464453599,\r\n",
      "    \"Nanog/profile/binsize=10/n_positives\": 25238,\r\n",
      "    \"Nanog/profile/binsize=10/frac_ambigous\": 0.5023673772930094,\r\n",
      "    \"Nanog/profile/binsize=10/imbalance\": 0.6286084335848963,\r\n",
      "    \"Nanog/counts/mse\": 1.2564927339553833,\r\n",
      "    \"Nanog/counts/var_explained\": -0.03841090202331543,\r\n",
      "    \"Nanog/counts/pearsonr\": 0.10031312083476418,\r\n",
      "    \"Nanog/counts/spearmanr\": 0.10489126484106259,\r\n",
      "    \"Nanog/counts/mad\": 0.895474910736084,\r\n",
      "    \"avg/profile/binsize=1/auprc\": 0.3332044257059927,\r\n",
      "    \"avg/profile/binsize=1/random_auprc\": 0.10397806499519473,\r\n",
      "    \"avg/profile/binsize=1/n_positives\": 26280.333333333332,\r\n",
      "    \"avg/profile/binsize=1/frac_ambigous\": 0.2807130832129605,\r\n",
      "    \"avg/profile/binsize=1/imbalance\": 0.1030652485502561,\r\n",
      "    \"avg/profile/binsize=10/auprc\": 0.8557594753055838,\r\n",
      "    \"avg/profile/binsize=10/random_auprc\": 0.7143649827313251,\r\n",
      "    \"avg/profile/binsize=10/n_positives\": 12052.666666666666,\r\n",
      "    \"avg/profile/binsize=10/frac_ambigous\": 0.5006722586841025,\r\n",
      "    \"avg/profile/binsize=10/imbalance\": 0.7160356411874114,\r\n",
      "    \"avg/counts/mse\": 1.2192604541778564,\r\n",
      "    \"avg/counts/var_explained\": -0.43175045649210614,\r\n",
      "    \"avg/counts/pearsonr\": 0.028438709617046528,\r\n",
      "    \"avg/counts/spearmanr\": 0.026489431593509263,\r\n",
      "    \"avg/counts/mad\": 0.8761474887530009\r\n",
      "  },\r\n",
      "  \"train-peaks\": {\r\n",
      "    \"Oct4/profile/binsize=1/auprc\": 0.317486924813732,\r\n",
      "    \"Oct4/profile/binsize=1/random_auprc\": 0.10723220463455456,\r\n",
      "    \"Oct4/profile/binsize=1/n_positives\": 31016,\r\n",
      "    \"Oct4/profile/binsize=1/frac_ambigous\": 0.28878411306042884,\r\n",
      "    \"Oct4/profile/binsize=1/imbalance\": 0.10626175556644271,\r\n",
      "    \"Oct4/profile/binsize=10/auprc\": 0.8672021894110904,\r\n",
      "    \"Oct4/profile/binsize=10/random_auprc\": 0.7719042568558523,\r\n",
      "    \"Oct4/profile/binsize=10/n_positives\": 16006,\r\n",
      "    \"Oct4/profile/binsize=10/frac_ambigous\": 0.4898879142300195,\r\n",
      "    \"Oct4/profile/binsize=10/imbalance\": 0.7645569620253164,\r\n",
      "    \"Oct4/counts/mse\": 1.314080834388733,\r\n",
      "    \"Oct4/counts/var_explained\": -0.6092433929443359,\r\n",
      "    \"Oct4/counts/pearsonr\": 0.0009174701026116456,\r\n",
      "    \"Oct4/counts/spearmanr\": -0.0046411530288760754,\r\n",
      "    \"Oct4/counts/mad\": 0.9099333882331848,\r\n",
      "    \"Sox2/profile/binsize=1/auprc\": 0.2751197809980203,\r\n",
      "    \"Sox2/profile/binsize=1/random_auprc\": 0.10600288412584767,\r\n",
      "    \"Sox2/profile/binsize=1/n_positives\": 5925,\r\n",
      "    \"Sox2/profile/binsize=1/frac_ambigous\": 0.26772368421052634,\r\n",
      "    \"Sox2/profile/binsize=1/imbalance\": 0.10646326343593338,\r\n",
      "    \"Sox2/profile/binsize=10/auprc\": 0.8311966310552168,\r\n",
      "    \"Sox2/profile/binsize=10/random_auprc\": 0.7122890444167542,\r\n",
      "    \"Sox2/profile/binsize=10/n_positives\": 2720,\r\n",
      "    \"Sox2/profile/binsize=10/frac_ambigous\": 0.4994736842105263,\r\n",
      "    \"Sox2/profile/binsize=10/imbalance\": 0.7150368033648791,\r\n",
      "    \"Sox2/counts/mse\": 1.1604554653167725,\r\n",
      "    \"Sox2/counts/var_explained\": -0.662764310836792,\r\n",
      "    \"Sox2/counts/pearsonr\": -0.01594041476474285,\r\n",
      "    \"Sox2/counts/spearmanr\": -0.022924872982581702,\r\n",
      "    \"Sox2/counts/mad\": 0.8489383459091187,\r\n",
      "    \"Nanog/profile/binsize=1/auprc\": 0.4194768337574059,\r\n",
      "    \"Nanog/profile/binsize=1/random_auprc\": 0.0986660005271532,\r\n",
      "    \"Nanog/profile/binsize=1/n_positives\": 101172,\r\n",
      "    \"Nanog/profile/binsize=1/frac_ambigous\": 0.27236382978723406,\r\n",
      "    \"Nanog/profile/binsize=1/imbalance\": 0.09861135884487512,\r\n",
      "    \"Nanog/profile/binsize=10/auprc\": 0.8417315638714877,\r\n",
      "    \"Nanog/profile/binsize=10/random_auprc\": 0.622100867687084,\r\n",
      "    \"Nanog/profile/binsize=10/n_positives\": 44115,\r\n",
      "    \"Nanog/profile/binsize=10/frac_ambigous\": 0.49650354609929076,\r\n",
      "    \"Nanog/profile/binsize=10/imbalance\": 0.6213992928880312,\r\n",
      "    \"Nanog/counts/mse\": 1.2833539247512817,\r\n",
      "    \"Nanog/counts/var_explained\": -0.03694581985473633,\r\n",
      "    \"Nanog/counts/pearsonr\": 0.11953721256631548,\r\n",
      "    \"Nanog/counts/spearmanr\": 0.1255047587174529,\r\n",
      "    \"Nanog/counts/mad\": 0.9111825823783875,\r\n",
      "    \"avg/profile/binsize=1/auprc\": 0.3373611798563861,\r\n",
      "    \"avg/profile/binsize=1/random_auprc\": 0.10396702976251848,\r\n",
      "    \"avg/profile/binsize=1/n_positives\": 46037.666666666664,\r\n",
      "    \"avg/profile/binsize=1/frac_ambigous\": 0.2762905423527297,\r\n",
      "    \"avg/profile/binsize=1/imbalance\": 0.1037787926157504,\r\n",
      "    \"avg/profile/binsize=10/auprc\": 0.8467101281125983,\r\n",
      "    \"avg/profile/binsize=10/random_auprc\": 0.7020980563198967,\r\n",
      "    \"avg/profile/binsize=10/n_positives\": 20947.0,\r\n",
      "    \"avg/profile/binsize=10/frac_ambigous\": 0.49528838151327886,\r\n",
      "    \"avg/profile/binsize=10/imbalance\": 0.7003310194260756,\r\n",
      "    \"avg/counts/mse\": 1.252630074818929,\r\n",
      "    \"avg/counts/var_explained\": -0.43631784121195477,\r\n",
      "    \"avg/counts/pearsonr\": 0.03483808930139476,\r\n",
      "    \"avg/counts/spearmanr\": 0.03264624423533171,\r\n",
      "    \"avg/counts/mad\": 0.890018105506897\r\n",
      "  }\r\n",
      "}"
     ]
    }
   ],
   "source": [
    "!cat {model_dir}/evaluation.valid.json"
   ]
  },
  {
   "cell_type": "code",
   "execution_count": 34,
   "metadata": {
    "papermill": {
     "duration": 0.028215,
     "end_time": "2019-08-01T09:53:08.235373",
     "exception": false,
     "start_time": "2019-08-01T09:53:08.207158",
     "status": "completed"
    },
    "tags": []
   },
   "outputs": [],
   "source": [
    "from bpnet.utils import read_json\n",
    "gin_config = read_json(model_dir / 'config.gin.json')"
   ]
  },
  {
   "cell_type": "code",
   "execution_count": 14,
   "metadata": {
    "papermill": {
     "duration": 0.029828,
     "end_time": "2019-08-01T09:53:08.286127",
     "exception": false,
     "start_time": "2019-08-01T09:53:08.256299",
     "status": "completed"
    },
    "tags": []
   },
   "outputs": [],
   "source": [
    "from bpnet.datasets import StrandedProfile"
   ]
  },
  {
   "cell_type": "code",
   "execution_count": 1,
   "metadata": {},
   "outputs": [
    {
     "ename": "NameError",
     "evalue": "name 'DataSpec' is not defined",
     "output_type": "error",
     "traceback": [
      "\u001b[0;31m---------------------------------------------------------------------------\u001b[0m",
      "\u001b[0;31mNameError\u001b[0m                                 Traceback (most recent call last)",
      "\u001b[0;32m<ipython-input-1-0882fbe8a311>\u001b[0m in \u001b[0;36m<module>\u001b[0;34m\u001b[0m\n\u001b[0;32m----> 1\u001b[0;31m \u001b[0mds\u001b[0m \u001b[0;34m=\u001b[0m \u001b[0mDataSpec\u001b[0m\u001b[0;34m.\u001b[0m\u001b[0mload\u001b[0m\u001b[0;34m(\u001b[0m\u001b[0mmodel_dir\u001b[0m \u001b[0;34m/\u001b[0m \u001b[0;34m'dataspec.yml'\u001b[0m\u001b[0;34m)\u001b[0m\u001b[0;34m\u001b[0m\u001b[0;34m\u001b[0m\u001b[0m\n\u001b[0m\u001b[1;32m      2\u001b[0m \u001b[0mtasks\u001b[0m \u001b[0;34m=\u001b[0m \u001b[0mlist\u001b[0m\u001b[0;34m(\u001b[0m\u001b[0mds\u001b[0m\u001b[0;34m.\u001b[0m\u001b[0mtask_specs\u001b[0m\u001b[0;34m)\u001b[0m\u001b[0;34m\u001b[0m\u001b[0;34m\u001b[0m\u001b[0m\n",
      "\u001b[0;31mNameError\u001b[0m: name 'DataSpec' is not defined"
     ]
    }
   ],
   "source": [
    "ds = DataSpec.load(model_dir / 'dataspec.yml')\n",
    "tasks = list(ds.task_specs)"
   ]
  },
  {
   "cell_type": "code",
   "execution_count": 15,
   "metadata": {
    "papermill": {
     "duration": 0.047284,
     "end_time": "2019-08-01T09:53:08.352758",
     "exception": false,
     "start_time": "2019-08-01T09:53:08.305474",
     "status": "completed"
    },
    "tags": []
   },
   "outputs": [],
   "source": [
    "dl_valid = StrandedProfile(ds, \n",
    "                           incl_chromosomes=gin_config['bpnet_data.valid_chr'], \n",
    "                           peak_width=gin_config['bpnet_data.peak_width'],\n",
    "                           seq_width=gin_config['bpnet_data.seq_width'],\n",
    "                           shuffle=False)"
   ]
  },
  {
   "cell_type": "code",
   "execution_count": 16,
   "metadata": {
    "papermill": {
     "duration": 0.107385,
     "end_time": "2019-08-01T09:53:08.501413",
     "exception": false,
     "start_time": "2019-08-01T09:53:08.394028",
     "status": "completed"
    },
    "scrolled": true,
    "tags": []
   },
   "outputs": [
    {
     "name": "stderr",
     "output_type": "stream",
     "text": [
      "100%|██████████| 1/1 [00:00<00:00, 60.78it/s]\n"
     ]
    }
   ],
   "source": [
    "valid = dl_valid.load_all(num_workers=num_workers)"
   ]
  },
  {
   "cell_type": "code",
   "execution_count": 19,
   "metadata": {
    "papermill": {
     "duration": 0.155611,
     "end_time": "2019-08-01T09:53:08.687786",
     "exception": true,
     "start_time": "2019-08-01T09:53:08.532175",
     "status": "failed"
    },
    "tags": []
   },
   "outputs": [],
   "source": [
    "y_pred = model.predict(valid['inputs']['seq'])"
   ]
  },
  {
   "cell_type": "code",
   "execution_count": 20,
   "metadata": {
    "papermill": {
     "duration": null,
     "end_time": null,
     "exception": null,
     "start_time": null,
     "status": "pending"
    },
    "tags": []
   },
   "outputs": [],
   "source": [
    "y_true = valid['targets']"
   ]
  },
  {
   "cell_type": "code",
   "execution_count": 21,
   "metadata": {
    "papermill": {
     "duration": null,
     "end_time": null,
     "exception": null,
     "start_time": null,
     "status": "pending"
    },
    "tags": []
   },
   "outputs": [],
   "source": [
    "import matplotlib.pyplot as plt"
   ]
  },
  {
   "cell_type": "code",
   "execution_count": 22,
   "metadata": {
    "papermill": {
     "duration": null,
     "end_time": null,
     "exception": null,
     "start_time": null,
     "status": "pending"
    },
    "tags": []
   },
   "outputs": [
    {
     "name": "stderr",
     "output_type": "stream",
     "text": [
      "/data/ouga/home/ag_gagneur/avsec/.conda/envs/bpnet/lib/python3.6/site-packages/scipy/stats/stats.py:3399: PearsonRConstantInputWarning: An input array is constant; the correlation coefficent is not defined.\n",
      "  warnings.warn(PearsonRConstantInputWarning())\n",
      "/data/ouga/home/ag_gagneur/avsec/.conda/envs/bpnet/lib/python3.6/site-packages/numpy/lib/function_base.py:2530: RuntimeWarning: invalid value encountered in true_divide\n",
      "  c /= stddev[:, None]\n",
      "/data/ouga/home/ag_gagneur/avsec/.conda/envs/bpnet/lib/python3.6/site-packages/scipy/stats/_distn_infrastructure.py:901: RuntimeWarning: invalid value encountered in greater\n",
      "  return (a < x) & (x < b)\n",
      "/data/ouga/home/ag_gagneur/avsec/.conda/envs/bpnet/lib/python3.6/site-packages/scipy/stats/_distn_infrastructure.py:901: RuntimeWarning: invalid value encountered in less\n",
      "  return (a < x) & (x < b)\n",
      "/data/ouga/home/ag_gagneur/avsec/.conda/envs/bpnet/lib/python3.6/site-packages/scipy/stats/_distn_infrastructure.py:1892: RuntimeWarning: invalid value encountered in less_equal\n",
      "  cond2 = cond0 & (x <= _a)\n"
     ]
    },
    {
     "data": {
      "text/plain": [
       "<Figure size 432x288 with 0 Axes>"
      ]
     },
     "metadata": {},
     "output_type": "display_data"
    },
    {
     "data": {
      "image/png": "[encoded data removed]",
      "text/plain": [
       "<Figure size 432x288 with 1 Axes>"
      ]
     },
     "metadata": {
      "needs_background": "light"
     },
     "output_type": "display_data"
    }
   ],
   "source": [
    "for task in tasks:\n",
    "    plt.figure()\n",
    "    yt = y_true[f'{task}/counts'].mean(-1)\n",
    "    yp = y_pred[f'{task}/counts'].mean(-1)\n",
    "    regression_eval(yt, \n",
    "                    yp, alpha=0.1, task=task)"
   ]
  }
 ],
 "metadata": {
  "kernelspec": {
   "display_name": "Python 3",
   "language": "python",
   "name": "python3"
  },
  "language_info": {
   "codemirror_mode": {
    "name": "ipython",
    "version": 3
   },
   "file_extension": ".py",
   "mimetype": "text/x-python",
   "name": "python",
   "nbconvert_exporter": "python",
   "pygments_lexer": "ipython3",
   "version": "3.7.6"
  }
 },
 "nbformat": 4,
 "nbformat_minor": 4
}
